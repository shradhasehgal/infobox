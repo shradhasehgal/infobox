{
 "cells": [
  {
   "cell_type": "code",
   "execution_count": 2,
   "metadata": {},
   "outputs": [],
   "source": [
    "import json\n",
    "from tqdm import tqdm"
   ]
  },
  {
   "cell_type": "code",
   "execution_count": 3,
   "metadata": {},
   "outputs": [],
   "source": [
    "with open('data_processed.json') as f:\n",
    "    data = json.loads(f.read())\n",
    "with open('data_processed_full-list.json') as f:\n",
    "    data_list = json.loads(f.read())\n",
    "with open('data_processed_full-list-ids.json') as f:\n",
    "    data_list_id = json.loads(f.read())"
   ]
  },
  {
   "cell_type": "code",
   "execution_count": 4,
   "metadata": {},
   "outputs": [],
   "source": [
    "with open('category_dependency.jsonl') as f:\n",
    "    categories = [ json.loads(line) for line in f.readlines() ] "
   ]
  },
  {
   "cell_type": "code",
   "execution_count": 5,
   "metadata": {},
   "outputs": [],
   "source": [
    "with open('child_to_index.json') as f:\n",
    "    child_to_index = json.loads(f.read())"
   ]
  },
  {
   "cell_type": "code",
   "execution_count": 6,
   "metadata": {},
   "outputs": [],
   "source": [
    "def merge(a , b):\n",
    "    return list(set(a)|set(b))"
   ]
  },
  {
   "cell_type": "code",
   "execution_count": 7,
   "metadata": {},
   "outputs": [],
   "source": [
    "parents = {}\n",
    "def recurse(node , vis):\n",
    "#     change to bfs - reeeeeeeeeeeeeeeeeeeeeeeee\n",
    "#     print(node)\n",
    "#     if node in child_to_index:\n",
    "#         _pars = categories[child_to_index[node]]['parents']\n",
    "#     else : return []\n",
    "#     for par in _pars:\n",
    "#         if par in vis :\n",
    "#             print(node,par)\n",
    "#             continue\n",
    "#         vis|= set([par])\n",
    "#         if par not in parents:\n",
    "#             _child = recurse(par , vis)\n",
    "#         else : _child = parents[par]\n",
    "#         parents[par] = _child\n",
    "#         ret = merge(ret , _child)\n",
    "    queue = [(node,0)]\n",
    "    ret = []\n",
    "    vis = set()\n",
    "    while len(queue):\n",
    "        node = queue.pop(0)\n",
    "        node , dep = node[0] , node[1] + 1\n",
    "        if node in vis : continue\n",
    "        vis |= set([node])\n",
    "        if node in child_to_index:\n",
    "            _pars = categories[child_to_index[node]]['parents']\n",
    "        else : continue\n",
    "        ret.append((node,dep))\n",
    "        if dep > 7 : break\n",
    "        for par in _pars:\n",
    "            queue.append((par , dep))\n",
    "    return list(ret)"
   ]
  },
  {
   "cell_type": "code",
   "execution_count": 8,
   "metadata": {},
   "outputs": [],
   "source": [
    "from p_tqdm import p_map\n",
    "from multiprocess import Pool"
   ]
  },
  {
   "cell_type": "code",
   "execution_count": 10,
   "metadata": {},
   "outputs": [
    {
     "name": "stderr",
     "output_type": "stream",
     "text": [
      "100%|██████████| 34519/34519 [00:02<00:00, 16138.19it/s]"
     ]
    },
    {
     "name": "stdout",
     "output_type": "stream",
     "text": [
      "21651\n"
     ]
    },
    {
     "name": "stderr",
     "output_type": "stream",
     "text": [
      "\n"
     ]
    }
   ],
   "source": [
    "\n",
    "done = set()\n",
    "\n",
    "def process_node(cat):\n",
    "    cat = cat.replace(\" \",\"_\")\n",
    "    if cat not in child_to_index : return\n",
    "    if cat in done: return\n",
    "    parents[cat] = recurse(cat , set())\n",
    "\n",
    "for cat in tqdm(data):\n",
    "    process_node(cat)\n",
    "#     break\n",
    "print(len(parents))"
   ]
  },
  {
   "cell_type": "code",
   "execution_count": 11,
   "metadata": {},
   "outputs": [],
   "source": [
    "# for key , val in list(parents.items())[:10]:\n",
    "#     print(key , val , \"\\n\"*5)"
   ]
  },
  {
   "cell_type": "code",
   "execution_count": 17,
   "metadata": {},
   "outputs": [
    {
     "name": "stdout",
     "output_type": "stream",
     "text": [
      "yeet\n",
      "3\n"
     ]
    }
   ],
   "source": [
    "from collections import defaultdict\n",
    "cat_count = defaultdict(set)\n",
    "cnt = 0\n",
    "for key , val in parents.items():\n",
    "    key = key.replace(\"_\" , \" \")\n",
    "    if key not in data_list_id : \n",
    "        cnt +=1\n",
    "        continue\n",
    "    sub_list = data_list_id[key]\n",
    "    if key == 'वर्ष':\n",
    "        print('yeet')\n",
    "    for _val in val:\n",
    "#         if _val[0] == 'वर्ष':\n",
    "#             print(key)\n",
    "#         print(_val[0])\n",
    "        cat_count[_val[0]]|=set(sub_list)\n",
    "#     print(data[key])\n",
    "#     break\n",
    "print(cnt)"
   ]
  },
  {
   "cell_type": "code",
   "execution_count": 18,
   "metadata": {},
   "outputs": [],
   "source": [
    "cat_count = {key : val for key , val in sorted(cat_count.items() , key = lambda item : len(item[1]) , reverse = True)}"
   ]
  },
  {
   "cell_type": "code",
   "execution_count": 19,
   "metadata": {},
   "outputs": [
    {
     "name": "stdout",
     "output_type": "stream",
     "text": [
      "घटनाएँ 2091\n",
      "देशानुसार_एशियाई_समाज 2079\n",
      "ऐतिहासिक_युग 2076\n",
      "डाटा 2065\n",
      "भारतीय_शासन_व्यवस्था 2056\n",
      "लिखाई_माध्यम 2050\n",
      "महाद्वीप_के_अनुसार_स्थलाकृतियाँ 2043\n",
      "भौतिक_तंत्र 2039\n",
      "वास्तुशास्त्र 2026\n",
      "हिन्दी_साहित्य 2024\n"
     ]
    }
   ],
   "source": [
    "for key , val in list(cat_count.items())[690:700]:\n",
    "    print(key , len(val))"
   ]
  },
  {
   "cell_type": "code",
   "execution_count": 25,
   "metadata": {},
   "outputs": [],
   "source": [
    "log = 'लोग'"
   ]
  },
  {
   "cell_type": "code",
   "execution_count": 26,
   "metadata": {},
   "outputs": [
    {
     "data": {
      "text/plain": [
       "8481"
      ]
     },
     "execution_count": 26,
     "metadata": {},
     "output_type": "execute_result"
    }
   ],
   "source": [
    "len(cat_count['लोग'])"
   ]
  },
  {
   "cell_type": "code",
   "execution_count": 27,
   "metadata": {},
   "outputs": [],
   "source": [
    "with open('data_processed_singlechar.json') as f:\n",
    "    data_single = json.loads(f.read())"
   ]
  },
  {
   "cell_type": "code",
   "execution_count": 29,
   "metadata": {},
   "outputs": [
    {
     "data": {
      "text/plain": [
       "6603"
      ]
     },
     "execution_count": 29,
     "metadata": {},
     "output_type": "execute_result"
    }
   ],
   "source": [
    "len(data_single[log])"
   ]
  },
  {
   "cell_type": "code",
   "execution_count": 30,
   "metadata": {},
   "outputs": [
    {
     "data": {
      "text/plain": [
       "9839"
      ]
     },
     "execution_count": 30,
     "metadata": {},
     "output_type": "execute_result"
    }
   ],
   "source": [
    "len(set(cat_count[log])|set(data_single[log]))"
   ]
  },
  {
   "cell_type": "code",
   "execution_count": 31,
   "metadata": {},
   "outputs": [],
   "source": [
    "import pandas as pd"
   ]
  },
  {
   "cell_type": "code",
   "execution_count": 32,
   "metadata": {},
   "outputs": [],
   "source": [
    "df_log = pd.read_csv('people.csv')"
   ]
  },
  {
   "cell_type": "code",
   "execution_count": 36,
   "metadata": {},
   "outputs": [
    {
     "data": {
      "text/plain": [
       "16350"
      ]
     },
     "execution_count": 36,
     "metadata": {},
     "output_type": "execute_result"
    }
   ],
   "source": []
  },
  {
   "cell_type": "code",
   "execution_count": 39,
   "metadata": {},
   "outputs": [],
   "source": [
    "petscan_log = df_log['pageid']"
   ]
  },
  {
   "cell_type": "code",
   "execution_count": 43,
   "metadata": {},
   "outputs": [],
   "source": [
    "petscan_log = [ str(i) for i in petscan_log]"
   ]
  },
  {
   "cell_type": "code",
   "execution_count": 45,
   "metadata": {},
   "outputs": [
    {
     "data": {
      "text/plain": [
       "10467"
      ]
     },
     "execution_count": 45,
     "metadata": {},
     "output_type": "execute_result"
    }
   ],
   "source": [
    "len(set(cat_count[log])|set(data_single[log])|set(petscan_log))"
   ]
  },
  {
   "cell_type": "code",
   "execution_count": null,
   "metadata": {},
   "outputs": [],
   "source": []
  }
 ],
 "metadata": {
  "kernelspec": {
   "display_name": "Python 3",
   "language": "python",
   "name": "python3"
  },
  "language_info": {
   "codemirror_mode": {
    "name": "ipython",
    "version": 3
   },
   "file_extension": ".py",
   "mimetype": "text/x-python",
   "name": "python",
   "nbconvert_exporter": "python",
   "pygments_lexer": "ipython3",
   "version": "3.8.2"
  }
 },
 "nbformat": 4,
 "nbformat_minor": 4
}
