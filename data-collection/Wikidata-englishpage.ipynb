{
 "cells": [
  {
   "cell_type": "code",
   "execution_count": null,
   "metadata": {},
   "outputs": [],
   "source": [
    "import json"
   ]
  },
  {
   "cell_type": "code",
   "execution_count": null,
   "metadata": {},
   "outputs": [],
   "source": [
    "with open('primary_dataset_new.json') as f:\n",
    "    data = json.loads(f.read())"
   ]
  },
  {
   "cell_type": "code",
   "execution_count": null,
   "metadata": {},
   "outputs": [],
   "source": [
    "data = data['data']"
   ]
  },
  {
   "cell_type": "code",
   "execution_count": null,
   "metadata": {},
   "outputs": [],
   "source": [
    "def get_wikipedia_url_from_wikidata_id(wikidata_id, lang='en', debug=False):\n",
    "    import requests\n",
    "    from requests import utils\n",
    "\n",
    "    url = (\n",
    "        'https://www.wikidata.org/w/api.php'\n",
    "        '?action=wbgetentities'\n",
    "        '&props=sitelinks/urls'\n",
    "        f'&ids={wikidata_id}'\n",
    "        '&format=json')\n",
    "    json_response = requests.get(url).json()\n",
    "    if debug: print(wikidata_id, url, json_response) \n",
    "\n",
    "    entities = json_response.get('entities')    \n",
    "    if entities:\n",
    "        entity = entities.get(wikidata_id)\n",
    "        if entity:\n",
    "            sitelinks = entity.get('sitelinks')\n",
    "            if sitelinks:\n",
    "                if lang:\n",
    "                    # filter only the specified language\n",
    "                    sitelink = sitelinks.get(f'{lang}wiki')\n",
    "                    if sitelink:\n",
    "                        wiki_url = sitelink.get('url')\n",
    "                        if wiki_url:\n",
    "                            return requests.utils.unquote(wiki_url)\n",
    "                else:\n",
    "                    # return all of the urls\n",
    "                    wiki_urls = {}\n",
    "                    for key, sitelink in sitelinks.items():\n",
    "                        wiki_url = sitelink.get('url')\n",
    "                        if wiki_url:\n",
    "                            wiki_urls[key] = requests.utils.unquote(wiki_url)\n",
    "                    return wiki_urls\n",
    "    return None  "
   ]
  },
  {
   "cell_type": "code",
   "execution_count": null,
   "metadata": {},
   "outputs": [],
   "source": [
    "data_new = []\n",
    "done = 0\n",
    "for ent in tqdm(data):\n",
    "    ent['en_link'] = get_wikipedia_url_from_wikidata_id(ent['wd_id'])\n",
    "    data_new.append(ent)\n",
    "    done+=1"
   ]
  },
  {
   "cell_type": "code",
   "execution_count": null,
   "metadata": {},
   "outputs": [],
   "source": [
    "print(done)\n",
    "print(data_new[:5])"
   ]
  },
  {
   "cell_type": "code",
   "execution_count": null,
   "metadata": {},
   "outputs": [],
   "source": [
    "with open('primary_dataset_new_withlinks.json',\"w+\") as f:\n",
    "    json.dump(data_new , f)"
   ]
  }
 ],
 "metadata": {
  "kernelspec": {
   "display_name": "Python 3",
   "language": "python",
   "name": "python3"
  },
  "language_info": {
   "codemirror_mode": {
    "name": "ipython",
    "version": 3
   },
   "file_extension": ".py",
   "mimetype": "text/x-python",
   "name": "python",
   "nbconvert_exporter": "python",
   "pygments_lexer": "ipython3",
   "version": "3.8.2"
  }
 },
 "nbformat": 4,
 "nbformat_minor": 4
}
