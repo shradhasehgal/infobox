{
 "cells": [
  {
   "cell_type": "code",
   "execution_count": 1,
   "metadata": {},
   "outputs": [],
   "source": [
    "import json\n",
    "from tqdm import tqdm"
   ]
  },
  {
   "cell_type": "code",
   "execution_count": 2,
   "metadata": {},
   "outputs": [],
   "source": [
    "with open('data_processed.json') as f:\n",
    "    data = json.loads(f.read())\n",
    "with open('data_processed_full-list.json') as f:\n",
    "    data_list = json.loads(f.read())\n",
    "with open('data_processed_full-list-ids.json') as f:\n",
    "    data_list_id = json.loads(f.read())"
   ]
  },
  {
   "cell_type": "code",
   "execution_count": 3,
   "metadata": {},
   "outputs": [],
   "source": [
    "with open('category_dependency.jsonl') as f:\n",
    "    categories = [ json.loads(line) for line in f.readlines() ] "
   ]
  },
  {
   "cell_type": "code",
   "execution_count": 4,
   "metadata": {},
   "outputs": [],
   "source": [
    "with open('child_to_index.json') as f:\n",
    "    child_to_index = json.loads(f.read())"
   ]
  },
  {
   "cell_type": "code",
   "execution_count": 5,
   "metadata": {},
   "outputs": [],
   "source": [
    "parents = {}\n",
    "def recurse(node , vis):\n",
    "    queue = [(node,0)]\n",
    "    ret = []\n",
    "    vis = set()\n",
    "    while len(queue):\n",
    "        node = queue.pop(0)\n",
    "        node , dep = node[0] , node[1] + 1\n",
    "        if node in vis : continue\n",
    "        vis |= set([node])\n",
    "        if node in child_to_index:\n",
    "            _pars = categories[child_to_index[node]]['parents']\n",
    "        else : continue\n",
    "        ret.append((node,dep))\n",
    "        if dep > 7 : break\n",
    "        for par in _pars:\n",
    "            queue.append((par , dep))\n",
    "    return list(ret)"
   ]
  },
  {
   "cell_type": "code",
   "execution_count": 6,
   "metadata": {},
   "outputs": [
    {
     "name": "stderr",
     "output_type": "stream",
     "text": [
      "100%|██████████| 34519/34519 [00:02<00:00, 16224.38it/s]"
     ]
    },
    {
     "name": "stdout",
     "output_type": "stream",
     "text": [
      "21651\n"
     ]
    },
    {
     "name": "stderr",
     "output_type": "stream",
     "text": [
      "\n"
     ]
    }
   ],
   "source": [
    "\n",
    "def process_node(cat):\n",
    "    cat = cat.replace(\" \",\"_\")\n",
    "    if cat not in child_to_index : return\n",
    "    parents[cat] = recurse(cat , set())\n",
    "\n",
    "for cat in tqdm(data):\n",
    "    process_node(cat)\n",
    "print(len(parents))"
   ]
  },
  {
   "cell_type": "code",
   "execution_count": 8,
   "metadata": {},
   "outputs": [],
   "source": [
    "from collections import defaultdict\n",
    "cat_count = defaultdict(set)\n",
    "for key , val in parents.items():\n",
    "    key = key.replace(\"_\" , \" \")\n",
    "    if key not in data_list_id : \n",
    "        continue\n",
    "    sub_list = data_list_id[key]\n",
    "    for _val in val:\n",
    "        cat_count[_val[0]]|=set(sub_list)"
   ]
  },
  {
   "cell_type": "code",
   "execution_count": 9,
   "metadata": {},
   "outputs": [],
   "source": [
    "cat_count = {key : val for key , val in sorted(cat_count.items() , key = lambda item : len(item[1]) , reverse = True)}"
   ]
  },
  {
   "cell_type": "code",
   "execution_count": 10,
   "metadata": {},
   "outputs": [
    {
     "name": "stdout",
     "output_type": "stream",
     "text": [
      "प्रमुख_विषय 78639\n",
      "विज्ञान 69378\n",
      "श्रेणियाँ 69004\n",
      "समग्र_विषय 68568\n",
      "विद्यार्जन_विषय 66196\n",
      "प्रकृति 66050\n",
      "लेख 65655\n",
      "लक्षण_अनुसार_श्रेणियाँ 61798\n",
      "सामाजिक_विज्ञान 61287\n",
      "कॉमंस_श्रेणी_कड़ी_स्थानीय_तौर_पर_परिभाषित 61233\n"
     ]
    }
   ],
   "source": [
    "for key , val in list(cat_count.items())[:10]:\n",
    "    print(key , len(val))"
   ]
  },
  {
   "cell_type": "code",
   "execution_count": 11,
   "metadata": {},
   "outputs": [],
   "source": [
    "log = 'लोग'"
   ]
  },
  {
   "cell_type": "code",
   "execution_count": 12,
   "metadata": {},
   "outputs": [],
   "source": [
    "with open('data_processed_singlechar.json') as f:\n",
    "    data_single = json.loads(f.read())"
   ]
  },
  {
   "cell_type": "code",
   "execution_count": 13,
   "metadata": {},
   "outputs": [],
   "source": [
    "import pandas as pd"
   ]
  },
  {
   "cell_type": "code",
   "execution_count": 14,
   "metadata": {},
   "outputs": [],
   "source": [
    "df_log = pd.read_csv('people.csv')"
   ]
  },
  {
   "cell_type": "code",
   "execution_count": 15,
   "metadata": {},
   "outputs": [],
   "source": [
    "petscan_log = df_log['pageid']"
   ]
  },
  {
   "cell_type": "code",
   "execution_count": 16,
   "metadata": {},
   "outputs": [],
   "source": [
    "petscan_log = [ str(i) for i in petscan_log]"
   ]
  },
  {
   "cell_type": "code",
   "execution_count": 19,
   "metadata": {},
   "outputs": [
    {
     "data": {
      "text/plain": [
       "10467"
      ]
     },
     "execution_count": 19,
     "metadata": {},
     "output_type": "execute_result"
    }
   ],
   "source": [
    "len(set(cat_count[log])|set(data_single[log])|set(petscan_log))"
   ]
  }
 ],
 "metadata": {
  "kernelspec": {
   "display_name": "Python 3",
   "language": "python",
   "name": "python3"
  },
  "language_info": {
   "codemirror_mode": {
    "name": "ipython",
    "version": 3
   },
   "file_extension": ".py",
   "mimetype": "text/x-python",
   "name": "python",
   "nbconvert_exporter": "python",
   "pygments_lexer": "ipython3",
   "version": "3.8.2"
  }
 },
 "nbformat": 4,
 "nbformat_minor": 4
}
