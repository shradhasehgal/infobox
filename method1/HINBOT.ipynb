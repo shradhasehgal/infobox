{
 "cells": [
  {
   "cell_type": "markdown",
   "metadata": {},
   "source": [
    "# Hindi Wiki Article Generation Bot\n"
   ]
  },
  {
   "cell_type": "markdown",
   "metadata": {},
   "source": [
    "\n",
    "### Problem Definition\n",
    "We want to write a script that generate a wikipedia page in our native language. In my case this corresponds to generating information in Hindi. The page should have relevant information on the selected topic with all or most of its content in hindi. \n",
    "Use the wikidata knowledge graph for this purpose. \n",
    "\n",
    "### Tools and libraries\n",
    "Wikidata is a knowledge graph with entities linked together by properties. These can be retrieved using the SPARQL queries using the qwikidata api on python. Wikidata can be freely accessed and each entitiy has a label, description and a set of properties(known as claims) associated with it. The good thing with these entities and poperties is that the label and sometimes the description information is present in hindi and can be easily accessed through the api. This makes is possible to accumlate and club together new information in our native language even though that information may not be present in any explicit context such as a wikipedia page.\n",
    "\n",
    "### Solution Approach\n",
    "The idea is to aggregate the various information for an entity and its realtionship with other entities in the native language. The entities and links can already be queried in english and then the corresponding label in hindi can be taken, if present, to textually represent the aggregated information. To demonstrate this we choose to create biographies of people. For simplicity I have kept the results in simple key and value pairs both in hindi. Converting the retrieved aggreged information into a more wikipedia like form usin statements is trivial. For example its easy enough to convert 'place_of_birth':'name' to He/She was born at 'name'. "
   ]
  },
  {
   "cell_type": "code",
   "execution_count": 35,
   "metadata": {},
   "outputs": [],
   "source": [
    "from qwikidata.sparql import return_sparql_query_results\n",
    "from qwikidata.entity import WikidataItem, WikidataLexeme, WikidataProperty\n",
    "from qwikidata.linked_data_interface import get_entity_dict_from_api"
   ]
  },
  {
   "cell_type": "markdown",
   "metadata": {},
   "source": [
    "In wikidata each property is represented using P[NUMBER] identifier and each entity is represented using a Q[NUMBER] identifier. Properties are essentially descriptive words such as the ones present in the keys of the dictionary below. The information retrieval part is divided into two sections. For the first part we are retrieving the most notable inforamtion about someones biography explicitly using SPARQL queries. In the second part all the claims(properties) in the entity response, retrieved from the entity, is queried again to generate additional property value pair. The separation is done so that the user can query the SPARQL explicitly for property values, which is not possible in the second case as the set of claims are fixed. Accordingly the set of property values which are explicitly queried are given below in the biography dict. The remaining values are generated from the entity structure itself."
   ]
  },
  {
   "cell_type": "markdown",
   "metadata": {},
   "source": [
    "### Program"
   ]
  },
  {
   "cell_type": "code",
   "execution_count": 65,
   "metadata": {},
   "outputs": [],
   "source": [
    "biography = {\n",
    "    \n",
    "    \"name\": \"P251\",\n",
    "    \"image\": \"P18\",\n",
    "    \"gender\":\"P21\",\n",
    "    \"residence\":\"P551\",\n",
    "    \"place_of_birth\":\"P19\",\n",
    "    \"date_of_birth\":\"P569\",\n",
    "    \"profession\": \"P106\",\n",
    "    \"notable_works\": \"P800\",\n",
    "    \"education\": \"P69\",\n",
    "    \"positions\":\"P39\",\n",
    "    \"awards\": \"P166\",\n",
    "    \"spouse\": \"P26\",\n",
    "    \"nationality\": \"P27\",\n",
    "}\n",
    "\n",
    "translation = {\n",
    "    \"name\":\"नाम\",\n",
    "    \"description\":\"विवरण\",\n",
    "    \"image\": \"चित्र\",\n",
    "    \"gender\":\"लिंग\",\n",
    "    \"residence\":\"निवास\",\n",
    "    \"place_of_birth\":\"जन्म स्थान\",\n",
    "    \"date_of_birth\":\"जन्मतारीख\",\n",
    "    \"profession\": \"व्यवसाय\",\n",
    "    \"notable_works\": \"उल्लेखनीय कार्य\",\n",
    "    \"education\": \"शिक्षा\",\n",
    "    \"positions\": \"पद\",\n",
    "    \"awards\": \"पुरस्कार\",\n",
    "    \"spouse\": \"पति या पत्नी\",\n",
    "    \"other_available_information\":\"अन्य उपलब्ध जानकारी\",\n",
    "    \"main_info\": \"मुख्य जानकारी\",\n",
    "    \"nationality\": \"राष्ट्रीयता\"\n",
    "}"
   ]
  },
  {
   "cell_type": "code",
   "execution_count": 66,
   "metadata": {},
   "outputs": [],
   "source": [
    "from SPARQLWrapper import SPARQLWrapper, JSON\n",
    "import sys\n",
    "def get_results(endpoint_url, query):\n",
    "    user_agent = \"WDQS-example Python/%s.%s\" % (sys.version_info[0], sys.version_info[1])\n",
    "    sparql = SPARQLWrapper(endpoint_url, agent=user_agent)\n",
    "    sparql.setQuery(query)\n",
    "    sparql.setReturnFormat(JSON)\n",
    "    return sparql.query().convert()\n",
    "\n",
    "endpoint_url = \"https://query.wikidata.org/sparql\""
   ]
  },
  {
   "cell_type": "code",
   "execution_count": 79,
   "metadata": {},
   "outputs": [],
   "source": [
    "#calls qwikidata get entity function for an entity id\n",
    "def getEntityInfo(eid):\n",
    "    return get_entity_dict_from_api(eid)\n",
    "\n",
    "#extract the name of the entity or the property value in native language\n",
    "def extractName(info):\n",
    "    return info.get('labels', {}).get('hi', {}).get('value', \"\")\n",
    "\n",
    "#extract the description of the entity or the property value in native language\n",
    "def extractDescription(info):\n",
    "    return info.get('descriptions', {}).get('hi', {}).get('value', \"\")\n",
    "\n",
    "#print the name and the description\n",
    "def printNameAndDescription(info, trans):\n",
    "    name = extractName(info)\n",
    "    if name != \"\":\n",
    "        print(trans['name'] + \":\", name)\n",
    "    desc = extractDescription(info)\n",
    "    if desc != \"\":\n",
    "        print(trans['description'] + \":\", desc)\n",
    "        \n",
    "#print the information present in the entity itself\n",
    "def printOtherInfo(entity, bio):\n",
    "    #get the claims subdict\n",
    "    for p in entity['claims'].keys():\n",
    "        if p not in bio.values():\n",
    "            # Get information on the property in Hindi\n",
    "            ent_info = getEntityInfo(p)\n",
    "            name, desc = extractName(ent_info), extractDescription(ent_info)\n",
    "            if name == \"\":\n",
    "                continue\n",
    "            value = \"\"\n",
    "            #for every property in the claims subdict get inforamtion on the correspoding values\n",
    "            for data in entity.get('claims', {}).get(p, []):\n",
    "                res = data.get('mainsnak',{}).get('datavalue', {}).get('value', {})\n",
    "                if type(res) == dict:\n",
    "                    info_id = res.get('id', \"\")\n",
    "                    if info_id == \"\":\n",
    "                        continue\n",
    "                    info = getEntityInfo(info_id)\n",
    "                    pname, pdesc = extractName(info), extractDescription(info)\n",
    "                    if pname == \"\":\n",
    "                        continue\n",
    "                    if pdesc != \"\":\n",
    "                        pname += str(f'({pdesc})')\n",
    "                    value += pname + \",\"\n",
    "            # Print the property name and value only if the value is present in native language\n",
    "            if value != \"\":\n",
    "                print(name + \": \" + value)\n",
    "    \n",
    "def getBiography(wd, bio, trans):\n",
    "    #get entity from api\n",
    "    entity_info = getEntityInfo(wd)\n",
    "    #print name and description\n",
    "    printNameAndDescription(entity_info, trans)\n",
    "    #explicitly query using sparql to get main biography data\n",
    "    print(\"----------------------\",trans['main_info'],\"----------------------\")\n",
    "    for entity, wdt in bio.items():\n",
    "        spqrqlq = f\"SELECT ?entity ?entityLabel ?entityDescription WHERE {{ wd:{wd} wdt:{wdt} ?entity; SERVICE wikibase:label {{ bd:serviceParam wikibase:language \\\"hi\\\". }} }}\"\n",
    "        s, v = trans[entity] + \": \", \"\"\n",
    "        res = get_results(endpoint_url,str(spqrqlq))\n",
    "        for entity in res['results']['bindings']:\n",
    "            value = entity.get('entityLabel').get('value', \"\")\n",
    "            if value != '' and 'Q' not in value:\n",
    "                v += value\n",
    "        if v != \"\":\n",
    "            print(s + v)\n",
    "    #euqry and print the rest of the data already present in the entity \n",
    "    print(\"----------------------\",trans['other_available_information'],\"----------------------\")\n",
    "    printOtherInfo(entity_info, bio)"
   ]
  },
  {
   "cell_type": "markdown",
   "metadata": {},
   "source": [
    "### Examples\n",
    "\n",
    "The input requires the user to the give the id of the person to make a biography of in their language. The entity id is the string Q[NUMBERS]. This unique id can be obtained from the wikidata search page. Following are some example of biography of people that do not exist in bengali."
   ]
  },
  {
   "cell_type": "code",
   "execution_count": 80,
   "metadata": {
    "scrolled": false
   },
   "outputs": [
    {
     "name": "stdout",
     "output_type": "stream",
     "text": [
      "नाम: शेन वॉर्न\n",
      "विवरण: ऑस्ट्रेलियाई क्रिकेट खिलाड़ी\n",
      "---------------------- मुख्य जानकारी ----------------------\n",
      "चित्र: http://commons.wikimedia.org/wiki/Special:FilePath/Shane%20Warne%202011%20cropped.jpg\n",
      "लिंग: पुरुष\n",
      "जन्मतारीख: 1969-09-13T00:00:00Z\n",
      "व्यवसाय: क्रिकेटर\n",
      "राष्ट्रीयता: ऑस्ट्रेलिया\n",
      "---------------------- अन्य उपलब्ध जानकारी ----------------------\n"
     ]
    },
    {
     "ename": "NameError",
     "evalue": "name 'name' is not defined",
     "output_type": "error",
     "traceback": [
      "\u001b[0;31m---------------------------------------------------------------------------\u001b[0m",
      "\u001b[0;31mNameError\u001b[0m                                 Traceback (most recent call last)",
      "\u001b[0;32m<ipython-input-80-3d5fff6e99c7>\u001b[0m in \u001b[0;36m<module>\u001b[0;34m\u001b[0m\n\u001b[1;32m      1\u001b[0m \u001b[0;31m#information about cricketer Shane Warne\u001b[0m\u001b[0;34m\u001b[0m\u001b[0;34m\u001b[0m\u001b[0;34m\u001b[0m\u001b[0m\n\u001b[0;32m----> 2\u001b[0;31m \u001b[0mgetBiography\u001b[0m\u001b[0;34m(\u001b[0m\u001b[0;34m'Q555240'\u001b[0m\u001b[0;34m,\u001b[0m \u001b[0mbiography\u001b[0m\u001b[0;34m,\u001b[0m \u001b[0mtranslation\u001b[0m\u001b[0;34m)\u001b[0m\u001b[0;34m\u001b[0m\u001b[0;34m\u001b[0m\u001b[0m\n\u001b[0m",
      "\u001b[0;32m<ipython-input-79-c9b151ed762e>\u001b[0m in \u001b[0;36mgetBiography\u001b[0;34m(wd, bio, trans)\u001b[0m\n\u001b[1;32m     68\u001b[0m     \u001b[0;31m#euqry and print the rest of the data already present in the entity\u001b[0m\u001b[0;34m\u001b[0m\u001b[0;34m\u001b[0m\u001b[0;34m\u001b[0m\u001b[0m\n\u001b[1;32m     69\u001b[0m     \u001b[0mprint\u001b[0m\u001b[0;34m(\u001b[0m\u001b[0;34m\"----------------------\"\u001b[0m\u001b[0;34m,\u001b[0m\u001b[0mtrans\u001b[0m\u001b[0;34m[\u001b[0m\u001b[0;34m'other_available_information'\u001b[0m\u001b[0;34m]\u001b[0m\u001b[0;34m,\u001b[0m\u001b[0;34m\"----------------------\"\u001b[0m\u001b[0;34m)\u001b[0m\u001b[0;34m\u001b[0m\u001b[0;34m\u001b[0m\u001b[0m\n\u001b[0;32m---> 70\u001b[0;31m     \u001b[0mprintOtherInfo\u001b[0m\u001b[0;34m(\u001b[0m\u001b[0mentity_info\u001b[0m\u001b[0;34m,\u001b[0m \u001b[0mbio\u001b[0m\u001b[0;34m)\u001b[0m\u001b[0;34m\u001b[0m\u001b[0;34m\u001b[0m\u001b[0m\n\u001b[0m",
      "\u001b[0;32m<ipython-input-79-c9b151ed762e>\u001b[0m in \u001b[0;36mprintOtherInfo\u001b[0;34m(entity, bio)\u001b[0m\n\u001b[1;32m     47\u001b[0m             \u001b[0;31m#only print property name and value if the value is present in native language\u001b[0m\u001b[0;34m\u001b[0m\u001b[0;34m\u001b[0m\u001b[0;34m\u001b[0m\u001b[0m\n\u001b[1;32m     48\u001b[0m             \u001b[0;32mif\u001b[0m \u001b[0mvalue\u001b[0m \u001b[0;34m!=\u001b[0m \u001b[0;34m\"\"\u001b[0m\u001b[0;34m:\u001b[0m\u001b[0;34m\u001b[0m\u001b[0;34m\u001b[0m\u001b[0m\n\u001b[0;32m---> 49\u001b[0;31m                 \u001b[0mprint\u001b[0m\u001b[0;34m(\u001b[0m\u001b[0mname\u001b[0m \u001b[0;34m+\u001b[0m \u001b[0;34m\": \"\u001b[0m \u001b[0;34m+\u001b[0m \u001b[0mvalue\u001b[0m\u001b[0;34m)\u001b[0m\u001b[0;34m\u001b[0m\u001b[0;34m\u001b[0m\u001b[0m\n\u001b[0m\u001b[1;32m     50\u001b[0m \u001b[0;34m\u001b[0m\u001b[0m\n\u001b[1;32m     51\u001b[0m \u001b[0;32mdef\u001b[0m \u001b[0mgetBiography\u001b[0m\u001b[0;34m(\u001b[0m\u001b[0mwd\u001b[0m\u001b[0;34m,\u001b[0m \u001b[0mbio\u001b[0m\u001b[0;34m,\u001b[0m \u001b[0mtrans\u001b[0m\u001b[0;34m)\u001b[0m\u001b[0;34m:\u001b[0m\u001b[0;34m\u001b[0m\u001b[0;34m\u001b[0m\u001b[0m\n",
      "\u001b[0;31mNameError\u001b[0m: name 'name' is not defined"
     ]
    }
   ],
   "source": [
    "#information about cricketer Shane Warne\n",
    "getBiography('Q555240', biography, translation)"
   ]
  },
  {
   "cell_type": "markdown",
   "metadata": {},
   "source": [
    "## Wiki_biography"
   ]
  },
  {
   "cell_type": "code",
   "execution_count": 70,
   "metadata": {},
   "outputs": [
    {
     "name": "stdout",
     "output_type": "stream",
     "text": [
      "नाम: नरेन्द्र मोदी\n",
      "विवरण: भारत के प्रधानमंत्री\n",
      "---------------------- मुख्य जानकारी ----------------------\n",
      "चित्र: http://commons.wikimedia.org/wiki/Special:FilePath/PM%20Modi%202015.jpg,\n",
      "लिंग: पुरुष,\n",
      "निवास: ७, लोक कल्याण मार्ग,\n",
      "जन्म स्थान: वड़नगर,\n",
      "जन्मतारीख: 1950-09-17T00:00:00Z,\n",
      "व्यवसाय: राजनीतिज्ञ,\n",
      "शिक्षा: गुजरात विश्वविद्यालय,दिल्ली विश्वविद्यालय,\n",
      "पद: भारत का प्रधानमन्त्री,विधानसभा सदस्य (भारत),जनशिकायत मंत्रालय, भारत सरकार,गुजरात विधान सभा के सदस्य,\n",
      "पुरस्कार: सीएनएन-आईबीएन इंडियन ऑफ़ द इयर,\n",
      "पति या पत्नी: जशोदाबेन नरेन्द्रभाई मोदी,\n",
      "राष्ट्रीयता: भारत,\n",
      "---------------------- अन्य उपलब्ध जानकारी ----------------------\n",
      "राजनीतिक दल के सदस्य: भारतीय जनता पार्टी(भारत का प्रमुख राजनीतिक दल),\n",
      "धर्म: हिन्दू धर्म(धार्मिक धर्म),\n",
      "का उदहारण है: मनुष्य(होमो-सैपीयंज़ स्तनपायी जो दो पैर पर चलता है),\n",
      "विषय की मुख्य श्रेणी: श्रेणी:नरेन्द्र मोदी(विकिमीडिया श्रेणी),\n",
      "दिया गया नाम: नरेन्द्र,\n",
      "मातृ भाषा: गुजराती(भारतीय भाषा),\n",
      "बोली या लेखी भाषा: हिन्दी(भारतीय भाषा),अंग्रेज़ी भाषा(भाषा),गुजराती(भारतीय भाषा),\n",
      "जातीय समूह: गुजराती,\n",
      "महत्वपूर्ण घटना: नरेन्द्र मोदी का शपथ ग्रहण समारोह(शपथ ग्रहण 30 मई 2019 को दूसरी बार ली),\n",
      "परिवार का नाम: मोदी(उपनाम),\n",
      "का सदस्य: भारतीय जनता पार्टी(भारत का प्रमुख राजनीतिक दल),\n",
      "पिता: दामोदरदास मूलचन्द मोदी,\n"
     ]
    }
   ],
   "source": [
    "#information about  Narendra modi from the godfather\n",
    "getBiography('Q1058', biography, translation)"
   ]
  },
  {
   "cell_type": "code",
   "execution_count": 45,
   "metadata": {},
   "outputs": [
    {
     "name": "stdout",
     "output_type": "stream",
     "text": [
      "---------------------- मुख्य जानकारी ----------------------\n",
      "राष्ट्रीयता: संयुक्त राज्य अमेरिका,\n",
      "लिंग: पुरुष,\n",
      "जन्म स्थान: सीऐटल,\n",
      "जन्म की तारीख: 1942-05-19T00:00:00Z,\n",
      "व्यवसाय: व्यापारी,कंप्यूटर वैज्ञानिक,विश्वविद्यालय शिक्षक,प्रोग्रामर,\n",
      "---------------------- अन्य उपलब्ध जानकारी ----------------------\n"
     ]
    }
   ],
   "source": [
    "#information about Gary Kildall inventor of CP/M Operating system\n",
    "getBiography('Q92627', biography, translation)"
   ]
  },
  {
   "cell_type": "code",
   "execution_count": 7,
   "metadata": {},
   "outputs": [
    {
     "name": "stdout",
     "output_type": "stream",
     "text": [
      "नाम: ज़ुज़ाना कैपुटोवा\n",
      "---------------------- मुख्य जानकारी ----------------------\n",
      "लिंग: महिला,\n",
      "जन्म स्थान: ब्रातिस्लावा,\n",
      "जन्म की तारीख: 1973-06-21T00:00:00Z,\n",
      "व्यवसाय: वक़ील,राजनीतिज्ञ,विधिवेत्ता,पर्यावरणविद्,\n",
      "पद: स्लोवाकिया के राष्ट्रपति,\n",
      "---------------------- अन्य उपलब्ध जानकारी ----------------------\n",
      "उदहारण है: मनुष्य(होमो-सैपीयंज़ स्तनपायी जो दो पैर पर चलता है),\n",
      "नागरिकता: स्लोवाकिया,चेकोस्लोवाकिया,\n",
      "बोली या लेखी भाषा: स्लोवाक भाषा,रूसी भाषा,अंग्रेज़ी भाषा(भाषा),\n"
     ]
    }
   ],
   "source": [
    "#information about Zuzana Čaputová president of slovakia\n",
    "getBiography('Q26273268', biography, translation)"
   ]
  },
  {
   "cell_type": "markdown",
   "metadata": {},
   "source": [
    "Even though the information retrieved may seem small it is quite exhaustive as much of the linked property information is not present for these people in hindi. This mostly down to the fact that neither of the three are household names in the India and hence not much information about their works are not translated in hindi. As a comparison lets look at the information retrieved for famed hindi novelist 'Munshi Premchand'."
   ]
  },
  {
   "cell_type": "code",
   "execution_count": 8,
   "metadata": {},
   "outputs": [
    {
     "name": "stdout",
     "output_type": "stream",
     "text": [
      "नाम: प्रेमचंद\n",
      "विवरण: भारतीय हिंदी के लेखक\n",
      "---------------------- मुख्य जानकारी ----------------------\n",
      "लिंग: पुरुष,\n",
      "जन्म स्थान: वाराणसी,\n",
      "जन्म की तारीख: 1880-07-31T00:00:00Z,\n",
      "व्यवसाय: पटकथा लेखक,लेखक,उपन्यासकार,\n",
      "उल्लेखनीय कार्य: गोदान,सेवासदन,कर्मभूमि,शतरंज के खिलाड़ी,\n",
      "---------------------- अन्य उपलब्ध जानकारी ----------------------\n",
      "मृत्यु का स्थान: वाराणसी(विश्व के सर्वाधिक पौराणिक नगरों में से एक जिसे बनारस नाम से भी जाना जाता है),\n",
      "नागरिकता: ब्रिटिश राज,\n",
      "उदहारण है: मनुष्य(होमो-सैपीयंज़ स्तनपायी जो दो पैर पर चलता है),\n",
      "संतान: अमृत राय(हिन्दी लेखक),\n",
      "बोली या लेखी भाषा: हिन्दुस्तानी भाषा,हिन्दी(भारतीय भाषा),\n",
      "धर्म: हिन्दू धर्म(धार्मिक धर्म),\n"
     ]
    }
   ],
   "source": [
    "getBiography('Q174152', biography, translation)"
   ]
  },
  {
   "cell_type": "code",
   "execution_count": 9,
   "metadata": {
    "scrolled": true
   },
   "outputs": [
    {
     "name": "stdout",
     "output_type": "stream",
     "text": [
      "नाम: नैनीताल जिला\n",
      "विवरण: उत्तराखण्ड का जिला\n",
      "---------------------- मुख्य जानकारी ----------------------\n",
      "---------------------- अन्य उपलब्ध जानकारी ----------------------\n",
      "उदहारण है: भारत के ज़िला,\n",
      "प्रशासनिक इकाई में है: कुमाऊँ मण्डल,उत्तर प्रदेश(भारत का सर्वाधिक जनसंख्या वाला  राज्य),संयुक्त प्रांत(उत्तर प्रदेश का भूतपूर्व नाम),संयुक्त प्रान्त आगरा व अवध,\n",
      "देश: भारत(विश्व का सबसे बड़ा संघीय गणतन्त्र),\n",
      "विषय की मुख्य श्रेणी: श्रेणी:नैनीताल जिला(विकिमीडिया श्रेणी),\n",
      "सीमा लगती है: पौड़ी गढ़वाल ज़िला(उत्तराखण्ड का जिला),उधम सिंह नगर जिला(उत्तराखण्ड का जिला),\n",
      "राजधानी: नैनीताल,\n"
     ]
    }
   ],
   "source": [
    "getBiography('Q1797306', biography, translation)"
   ]
  }
 ],
 "metadata": {
  "kernelspec": {
   "display_name": "Python 3",
   "language": "python",
   "name": "python3"
  },
  "language_info": {
   "codemirror_mode": {
    "name": "ipython",
    "version": 3
   },
   "file_extension": ".py",
   "mimetype": "text/x-python",
   "name": "python",
   "nbconvert_exporter": "python",
   "pygments_lexer": "ipython3",
   "version": "3.8.5"
  }
 },
 "nbformat": 4,
 "nbformat_minor": 2
}
