{
 "cells": [
  {
   "cell_type": "markdown",
   "metadata": {},
   "source": [
    "# Hindi Wiki Article Generation Bot\n"
   ]
  },
  {
   "cell_type": "markdown",
   "metadata": {},
   "source": [
    "\n",
    "### Problem Definition\n",
    "We want to write a script that generate a wikipedia page in our native language. In my case this corresponds to generating information in Hindi. The page should have relevant information on the selected topic with all or most of its content in hindi. \n",
    "Use the wikidata knowledge graph for this purpose. \n",
    "\n",
    "### Tools and libraries\n",
    "Wikidata is a knowledge graph with entities linked together by properties. These can be retrieved using the SPARQL queries using the qwikidata api on python. Wikidata can be freely accessed and each entitiy has a label, description and a set of properties(known as claims) associated with it. The good thing with these entities and poperties is that the label and sometimes the description information is present in hindi and can be easily accessed through the api. This makes is possible to accumlate and club together new information in our native language even though that information may not be present in any explicit context such as a wikipedia page.\n",
    "\n",
    "### Solution Approach\n",
    "The idea is to aggregate the various information for an entity and its realtionship with other entities in the native language. The entities and links can already be queried in english and then the corresponding label in hindi can be taken, if present, to textually represent the aggregated information. To demonstrate this we choose to create biographies of people. For simplicity I have kept the results in simple key and value pairs both in hindi. Converting the retrieved aggreged information into a more wikipedia like form usin statements is trivial. For example its easy enough to convert 'place_of_birth':'name' to He/She was born at 'name'. "
   ]
  },
  {
   "cell_type": "code",
   "execution_count": 5,
   "metadata": {},
   "outputs": [],
   "source": [
    "from qwikidata.sparql import return_sparql_query_results\n",
    "from qwikidata.entity import WikidataItem, WikidataLexeme, WikidataProperty\n",
    "from qwikidata.linked_data_interface import get_entity_dict_from_api"
   ]
  },
  {
   "cell_type": "markdown",
   "metadata": {},
   "source": [
    "In wikidata each property is represented using P[NUMBER] identifier and each entity is represented using a Q[NUMBER] identifier. Properties are essentially descriptive words such as the ones present in the keys of the dictionary below. The information retrieval part is divided into two sections. For the first part we are retrieving the most notable inforamtion about someones biography explicitly using SPARQL queries. In the second part all the claims(properties) in the entity response, retrieved from the entity, is queried again to generate additional property value pair. The separation is done so that the user can query the SPARQL explicitly for property values, which is not possible in the second case as the set of claims are fixed. Accordingly the set of property values which are explicitly queried are given below in the biography dict. The remaining values are generated from the entity structure itself."
   ]
  },
  {
   "cell_type": "markdown",
   "metadata": {},
   "source": [
    "### Program"
   ]
  },
  {
   "cell_type": "code",
   "execution_count": 6,
   "metadata": {},
   "outputs": [],
   "source": [
    "biography = {\n",
    "    \"gender\":\"P21\",\n",
    "    \"residence\":\"P551\",\n",
    "    \"place_of_birth\":\"P19\",\n",
    "    \"date_of_birth\":\"P569\",\n",
    "    \"profession\": \"P106\",\n",
    "    \"notable_works\": \"P800\",\n",
    "    \"education\": \"P69\",\n",
    "    \"positions\":\"P39\",\n",
    "    \"awards\": \"P166\",\n",
    "    \"spouse\": \"P26\"\n",
    "}\n",
    "\n",
    "translation = {\n",
    "    \"name\":\"नाम\",\n",
    "    \"description\":\"विवरण\",\n",
    "    \"gender\":\"लिंग\",\n",
    "    \"residence\":\"निवास\",\n",
    "    \"place_of_birth\":\"जन्म स्थान\",\n",
    "    \"date_of_birth\":\"जन्म की तारीख\",\n",
    "    \"profession\": \"व्यवसाय\",\n",
    "    \"notable_works\": \"उल्लेखनीय कार्य\",\n",
    "    \"education\": \"शिक्षा\",\n",
    "    \"positions\": \"पद\",\n",
    "    \"awards\": \"पुरस्कार\",\n",
    "    \"spouse\": \"पति या पत्नी\",\n",
    "    \"other_available_information\":\"अन्य उपलब्ध जानकारी\",\n",
    "    \"main_info\": \"मुख्य जानकारी\"\n",
    "}"
   ]
  },
  {
   "cell_type": "code",
   "execution_count": 7,
   "metadata": {},
   "outputs": [],
   "source": [
    "#calls qwikidata get entity function for an entity id\n",
    "def getEntityInfo(eid):\n",
    "    return get_entity_dict_from_api(eid)\n",
    "\n",
    "#extract the name of the entity or the property value in native language\n",
    "def extractName(info):\n",
    "    return info.get('labels', {}).get('hi', {}).get('value', \"\")\n",
    "\n",
    "#extract the description of the entity or the property value in native language\n",
    "def extractDescription(info):\n",
    "    return info.get('descriptions', {}).get('hi', {}).get('value', \"\")\n",
    "\n",
    "#print the name and the description\n",
    "def printNameAndDescription(info, trans):\n",
    "    name = extractName(info)\n",
    "    if name != \"\":\n",
    "        print(trans['name'] + \":\", name)\n",
    "    desc = extractDescription(info)\n",
    "    if desc != \"\":\n",
    "        print(trans['description'] + \":\", desc)\n",
    "        \n",
    "#print the information present in the entity itself\n",
    "def printOtherInfo(entity, bio):\n",
    "    #get the claims subdict\n",
    "#     print(entity['claims'])\n",
    "    for p in entity['claims'].keys():\n",
    "        if p not in bio.values():\n",
    "            #get information on the property in bengali\n",
    "            ent_info = getEntityInfo(p)\n",
    "            name, desc = extractName(ent_info), extractDescription(ent_info)\n",
    "            if name == \"\":\n",
    "                continue\n",
    "            value = \"\"\n",
    "            #for every property in the claims subdict get inforamtion on the correspoding values\n",
    "            for data in entity.get('claims', {}).get(p, []):\n",
    "                res = data.get('mainsnak',{}).get('datavalue', {}).get('value', {})\n",
    "                if type(res) == dict:\n",
    "                    info_id = res.get('id', \"\")\n",
    "                    if info_id == \"\":\n",
    "                        continue\n",
    "                    info = getEntityInfo(info_id)\n",
    "                    pname, pdesc = extractName(info), extractDescription(info)\n",
    "                    if pname == \"\":\n",
    "                        continue\n",
    "                    if pdesc != \"\":\n",
    "                        pname += str(f'({pdesc})')\n",
    "                    value += pname + \",\"\n",
    "            #only print property name and value if the value is present in native language\n",
    "            if value != \"\":\n",
    "                print(name + \": \" + value)\n",
    "    \n",
    "def getBiography(wd, bio, trans):\n",
    "    #get entity from api\n",
    "    entity_info = getEntityInfo(wd)\n",
    "    #print name and description\n",
    "#     printNameAndDescription(entity_info, trans)\n",
    "    #explicitly query using sparql to get main biography data\n",
    "    print(\"----------------------\",trans['main_info'],\"----------------------\")\n",
    "    for entity, wdt in bio.items():\n",
    "        spqrqlq = f\"SELECT ?entity ?entityLabel ?entityDescription WHERE {{ wd:{wd} wdt:{wdt} ?entity; SERVICE wikibase:label {{ bd:serviceParam wikibase:language \\\"hi\\\". }} }}\"\n",
    "        s, v = trans[entity] + \": \", \"\"\n",
    "        res = return_sparql_query_results(str(spqrqlq))\n",
    "        for entity in res['results']['bindings']:\n",
    "            value = entity.get('entityLabel').get('value', \"\")\n",
    "            if value != '' and 'Q' not in value:\n",
    "                v += value + \",\"\n",
    "        if v != \"\":\n",
    "            print(s + v)\n",
    "    #euqry and print the rest of the data already present in the entity \n",
    "    print(\"----------------------\",trans['other_available_information'],\"----------------------\")\n",
    "    printOtherInfo(entity_info, bio)"
   ]
  },
  {
   "cell_type": "markdown",
   "metadata": {},
   "source": [
    "### Examples\n",
    "\n",
    "The input requires the user to the give the id of the person to make a biography of in their language. The entity id is the string Q[NUMBERS]. This unique id can be obtained from the wikidata search page. Following are some example of biography of people that do not exist in bengali."
   ]
  },
  {
   "cell_type": "code",
   "execution_count": 8,
   "metadata": {
    "scrolled": false
   },
   "outputs": [
    {
     "name": "stdout",
     "output_type": "stream",
     "text": [
      "{'pageid': 303345, 'ns': 0, 'title': 'Q315577', 'lastrevid': 1282581372, 'modified': '2020-09-26T12:26:00Z', 'type': 'item', 'id': 'Q315577', 'labels': {'zh-hans': {'language': 'zh-hans', 'value': '小岛秀夫'}, 'zh-hant': {'language': 'zh-hant', 'value': '小島秀夫'}, 'zh-hk': {'language': 'zh-hk', 'value': '小島秀夫'}, 'zh-cn': {'language': 'zh-cn', 'value': '小岛秀夫'}, 'zh-sg': {'language': 'zh-sg', 'value': '小岛秀夫'}, 'zh-tw': {'language': 'zh-tw', 'value': '小島秀夫'}, 'pt': {'language': 'pt', 'value': 'Hideo Kojima'}, 'eo': {'language': 'eo', 'value': 'Kojima Hideo'}, 'pl': {'language': 'pl', 'value': 'Hideo Kojima'}, 'su': {'language': 'su', 'value': 'Hideo Kojima'}, 'ru': {'language': 'ru', 'value': 'Хидэо Кодзима'}, 'fr': {'language': 'fr', 'value': 'Hideo Kojima'}, 'ko': {'language': 'ko', 'value': '고지마 히데오'}, 'es': {'language': 'es', 'value': 'Hideo Kojima'}, 'en': {'language': 'en', 'value': 'Hideo Kojima'}, 'ca': {'language': 'ca', 'value': 'Hideo Kojima'}, 'ms': {'language': 'ms', 'value': 'Hideo Kojima'}, 'fi': {'language': 'fi', 'value': 'Hideo Kojima'}, 'uk': {'language': 'uk', 'value': 'Хідео Коджіма'}, 'it': {'language': 'it', 'value': 'Hideo Kojima'}, 'gl': {'language': 'gl', 'value': 'Hideo Kojima'}, 'de': {'language': 'de', 'value': 'Hideo Kojima'}, 'id': {'language': 'id', 'value': 'Hideo Kojima'}, 'ja': {'language': 'ja', 'value': '小島秀夫'}, 'fa': {'language': 'fa', 'value': 'هیدئو کوجیما'}, 'lt': {'language': 'lt', 'value': 'Hideo Kojima'}, 'ar': {'language': 'ar', 'value': 'هيديو كوجيما'}, 'nl': {'language': 'nl', 'value': 'Hideo Kojima'}, 'sv': {'language': 'sv', 'value': 'Hideo Kojima'}, 'zh': {'language': 'zh', 'value': '小岛秀夫'}, 'hu': {'language': 'hu', 'value': 'Kodzsima Hideo'}, 'nb': {'language': 'nb', 'value': 'Hideo Kojima'}, 'yue': {'language': 'yue', 'value': '小島秀夫'}, 'zh-mo': {'language': 'zh-mo', 'value': '小島秀夫'}, 'zh-my': {'language': 'zh-my', 'value': '小岛秀夫'}, 'cs': {'language': 'cs', 'value': 'Hideo Kodžima'}, 'sk': {'language': 'sk', 'value': 'Hideo Kodžima'}, 'he': {'language': 'he', 'value': \"הידאו קוג'ימה\"}, 'th': {'language': 'th', 'value': 'ฮิเดะโอะ โคะจิมะ'}, 'arz': {'language': 'arz', 'value': 'هيديو كوچيما'}, 'sr': {'language': 'sr', 'value': 'Хидео Коџима'}, 'sco': {'language': 'sco', 'value': 'Hideo Kojima'}, 'wuu': {'language': 'wuu', 'value': '小岛秀夫'}, 'sl': {'language': 'sl', 'value': 'Hideo Kojima'}, 'pt-br': {'language': 'pt-br', 'value': 'Hideo Kojima'}, 'ast': {'language': 'ast', 'value': 'Hideo Kojima'}, 'ckb': {'language': 'ckb', 'value': 'ھیدێیۆ کۆجیما'}, 'el': {'language': 'el', 'value': 'Χιντέο Κοτζίμα'}, 'ik': {'language': 'ik', 'value': 'Hideo Kojima'}, 'tr': {'language': 'tr', 'value': 'Hideo Kojima'}, 'hy': {'language': 'hy', 'value': 'Հիդեո Կոձիմա'}, 'ka': {'language': 'ka', 'value': 'ჰიდეო კოჯიმა'}}, 'descriptions': {'it': {'language': 'it', 'value': 'autore di videogiochi giapponese'}, 'de': {'language': 'de', 'value': 'Japanischer Computerspielentwickler'}, 'en': {'language': 'en', 'value': 'Japanese video game designer'}, 'pl': {'language': 'pl', 'value': 'japoński projektant gier komputerowych'}, 'cs': {'language': 'cs', 'value': 'japonský videoherní designer'}, 'sv': {'language': 'sv', 'value': 'japansk datorspelsdesigner'}, 'fr': {'language': 'fr', 'value': 'auteur de jeux vidéo'}, 'nl': {'language': 'nl', 'value': 'japans ontwerper'}, 'es': {'language': 'es', 'value': 'diseñador y director de videojuegos japonés'}, 'ar': {'language': 'ar', 'value': 'مصمم ألعاب فيديو ياباني'}, 'ru': {'language': 'ru', 'value': 'японский геймдизайнер'}, 'hu': {'language': 'hu', 'value': 'japán videojáték rendező'}, 'uk': {'language': 'uk', 'value': 'японский ігродизайнер'}, 'ga': {'language': 'ga', 'value': 'dearthóir físchluichí Seapánach'}, 'nb': {'language': 'nb', 'value': 'Japansk videospillutvikler'}, 'el': {'language': 'el', 'value': 'Ιάπωνας σχεδιαστής βιντεοπαιχνιδιών'}, 'he': {'language': 'he', 'value': 'מעצב משחקי וידאו יפני'}, 'ik': {'language': 'ik', 'value': 'asain'}, 'fi': {'language': 'fi', 'value': 'japanilainen videopelisuunnittelija'}, 'pt': {'language': 'pt', 'value': 'designer japonês'}}, 'aliases': {'zh': [{'language': 'zh', 'value': '小島秀夫'}], 'pt': [{'language': 'pt', 'value': 'Kojima Productions'}, {'language': 'pt', 'value': 'Hideo Kojima Produtions'}], 'ru': [{'language': 'ru', 'value': 'Hideo Kojima'}, {'language': 'ru', 'value': 'Хидео Кодзима'}, {'language': 'ru', 'value': 'Кодзима, Хидэо'}], 'ko': [{'language': 'ko', 'value': '코지마 히데오'}], 'es': [{'language': 'es', 'value': 'Kojima Hideo'}, {'language': 'es', 'value': 'Kojima Productions'}, {'language': 'es', 'value': 'Hideo'}], 'fi': [{'language': 'fi', 'value': 'Kojima Productions'}], 'uk': [{'language': 'uk', 'value': 'Hideo Kojima'}, {'language': 'uk', 'value': 'Хідео Кодзіма'}], 'id': [{'language': 'id', 'value': '小島 秀夫'}, {'language': 'id', 'value': 'Kojima Hideo'}], 'fa': [{'language': 'fa', 'value': 'هیدو کوجیما'}, {'language': 'fa', 'value': 'هیدیو کوجیما'}], 'ar': [{'language': 'ar', 'value': 'هيدوكوجيما'}], 'sv': [{'language': 'sv', 'value': 'Kojima, Hideo'}]}, 'claims': {'P27': [{'mainsnak': {'snaktype': 'value', 'property': 'P27', 'datavalue': {'value': {'entity-type': 'item', 'numeric-id': 17, 'id': 'Q17'}, 'type': 'wikibase-entityid'}, 'datatype': 'wikibase-item'}, 'type': 'statement', 'id': 'q315577$2F599562-77D9-4F3C-8085-FC4B21AB0D04', 'rank': 'normal'}], 'P101': [{'mainsnak': {'snaktype': 'value', 'property': 'P101', 'datavalue': {'value': {'entity-type': 'item', 'numeric-id': 12336660, 'id': 'Q12336660'}, 'type': 'wikibase-entityid'}, 'datatype': 'wikibase-item'}, 'type': 'statement', 'id': 'q315577$F2E62685-AF8E-4BAB-9D39-C5C7D077093C', 'rank': 'normal'}], 'P373': [{'mainsnak': {'snaktype': 'value', 'property': 'P373', 'datavalue': {'value': 'Hideo Kojima', 'type': 'string'}, 'datatype': 'string'}, 'type': 'statement', 'id': 'q315577$D256CF4A-772D-41A9-83A3-9F0510E71525', 'rank': 'normal', 'references': [{'hash': 'fa278ebfc458360e5aed63d5058cca83c46134f1', 'snaks': {'P143': [{'snaktype': 'value', 'property': 'P143', 'datavalue': {'value': {'entity-type': 'item', 'numeric-id': 328, 'id': 'Q328'}, 'type': 'wikibase-entityid'}, 'datatype': 'wikibase-item'}]}, 'snaks-order': ['P143']}]}], 'P214': [{'mainsnak': {'snaktype': 'value', 'property': 'P214', 'datavalue': {'value': '66671040', 'type': 'string'}, 'datatype': 'external-id'}, 'type': 'statement', 'id': 'q315577$AD2FE552-79FF-432F-B743-AFF44916D60B', 'rank': 'normal', 'references': [{'hash': 'fa278ebfc458360e5aed63d5058cca83c46134f1', 'snaks': {'P143': [{'snaktype': 'value', 'property': 'P143', 'datavalue': {'value': {'entity-type': 'item', 'numeric-id': 328, 'id': 'Q328'}, 'type': 'wikibase-entityid'}, 'datatype': 'wikibase-item'}]}, 'snaks-order': ['P143']}, {'hash': '9a24f7c0208b05d6be97077d855671d1dfdbc0dd', 'snaks': {'P143': [{'snaktype': 'value', 'property': 'P143', 'datavalue': {'value': {'entity-type': 'item', 'numeric-id': 48183, 'id': 'Q48183'}, 'type': 'wikibase-entityid'}, 'datatype': 'wikibase-item'}]}, 'snaks-order': ['P143']}]}], 'P434': [{'mainsnak': {'snaktype': 'value', 'property': 'P434', 'datavalue': {'value': '964ead90-629f-402f-9051-45ae2076d264', 'type': 'string'}, 'datatype': 'external-id'}, 'type': 'statement', 'id': 'q315577$560BBE79-69DF-4993-A693-506A92050EC6', 'rank': 'normal', 'references': [{'hash': '706208b3024200fd0a39ad499808dd0d98d74065', 'snaks': {'P248': [{'snaktype': 'value', 'property': 'P248', 'datavalue': {'value': {'entity-type': 'item', 'numeric-id': 14005, 'id': 'Q14005'}, 'type': 'wikibase-entityid'}, 'datatype': 'wikibase-item'}]}, 'snaks-order': ['P248']}]}], 'P244': [{'mainsnak': {'snaktype': 'value', 'property': 'P244', 'datavalue': {'value': 'nb2008026982', 'type': 'string'}, 'datatype': 'external-id'}, 'type': 'statement', 'id': 'q315577$63DD528F-A063-47A3-BC96-62A0B5C596F7', 'rank': 'normal', 'references': [{'hash': '9a24f7c0208b05d6be97077d855671d1dfdbc0dd', 'snaks': {'P143': [{'snaktype': 'value', 'property': 'P143', 'datavalue': {'value': {'entity-type': 'item', 'numeric-id': 48183, 'id': 'Q48183'}, 'type': 'wikibase-entityid'}, 'datatype': 'wikibase-item'}]}, 'snaks-order': ['P143']}]}], 'P345': [{'mainsnak': {'snaktype': 'value', 'property': 'P345', 'datavalue': {'value': 'nm0463620', 'type': 'string'}, 'datatype': 'external-id'}, 'type': 'statement', 'id': 'q315577$EB990D33-572E-44D7-BE5A-6EE6835C4AD3', 'rank': 'normal', 'references': [{'hash': 'fa278ebfc458360e5aed63d5058cca83c46134f1', 'snaks': {'P143': [{'snaktype': 'value', 'property': 'P143', 'datavalue': {'value': {'entity-type': 'item', 'numeric-id': 328, 'id': 'Q328'}, 'type': 'wikibase-entityid'}, 'datatype': 'wikibase-item'}]}, 'snaks-order': ['P143']}]}], 'P18': [{'mainsnak': {'snaktype': 'value', 'property': 'P18', 'datavalue': {'value': 'Hideo Kojima 20100702 Japan Expo 1.jpg', 'type': 'string'}, 'datatype': 'commonsMedia'}, 'type': 'statement', 'id': 'q315577$F250E1B2-3001-49C4-8EE6-C489BBA9AAEA', 'rank': 'normal', 'references': [{'hash': 'fa278ebfc458360e5aed63d5058cca83c46134f1', 'snaks': {'P143': [{'snaktype': 'value', 'property': 'P143', 'datavalue': {'value': {'entity-type': 'item', 'numeric-id': 328, 'id': 'Q328'}, 'type': 'wikibase-entityid'}, 'datatype': 'wikibase-item'}]}, 'snaks-order': ['P143']}]}, {'mainsnak': {'snaktype': 'value', 'property': 'P18', 'datavalue': {'value': 'Kojima Hideo.jpg', 'type': 'string'}, 'datatype': 'commonsMedia'}, 'type': 'statement', 'qualifiers': {'P2096': [{'snaktype': 'value', 'property': 'P2096', 'hash': '47cad2a4cd6ed4d7be049983430722c28bebf831', 'datavalue': {'value': {'text': 'Kojima Hideo ved GO3 i [[Perth (Australia)|Perth]].', 'language': 'nb'}, 'type': 'monolingualtext'}, 'datatype': 'monolingualtext'}, {'snaktype': 'value', 'property': 'P2096', 'hash': '7f60c6edb0a2632af9c365b6ac3c1f359f98e0ca', 'datavalue': {'value': {'text': 'Kojima Hideo ved GO3 i [[Perth (Australia)|Perth]].', 'language': 'nn'}, 'type': 'monolingualtext'}, 'datatype': 'monolingualtext'}]}, 'qualifiers-order': ['P2096'], 'id': 'q315577$4D5B7AB5-741E-4BFA-895F-327CE3D80779', 'rank': 'preferred', 'references': [{'hash': 'd5847b9b6032aa8b13dae3c2dfd9ed5d114d21b3', 'snaks': {'P143': [{'snaktype': 'value', 'property': 'P143', 'datavalue': {'value': {'entity-type': 'item', 'numeric-id': 11920, 'id': 'Q11920'}, 'type': 'wikibase-entityid'}, 'datatype': 'wikibase-item'}]}, 'snaks-order': ['P143']}]}], 'P569': [{'mainsnak': {'snaktype': 'value', 'property': 'P569', 'datavalue': {'value': {'time': '+1963-08-24T00:00:00Z', 'timezone': 0, 'before': 0, 'after': 0, 'precision': 11, 'calendarmodel': 'http://www.wikidata.org/entity/Q1985727'}, 'type': 'time'}, 'datatype': 'time'}, 'type': 'statement', 'id': 'q315577$5617826C-9AE6-4602-836C-CD57503DB393', 'rank': 'normal', 'references': [{'hash': 'fa278ebfc458360e5aed63d5058cca83c46134f1', 'snaks': {'P143': [{'snaktype': 'value', 'property': 'P143', 'datavalue': {'value': {'entity-type': 'item', 'numeric-id': 328, 'id': 'Q328'}, 'type': 'wikibase-entityid'}, 'datatype': 'wikibase-item'}]}, 'snaks-order': ['P143']}, {'hash': 'ca7aeb9f2c5821191ca942bd72c2248bebbd5aec', 'snaks': {'P248': [{'snaktype': 'value', 'property': 'P248', 'datavalue': {'value': {'entity-type': 'item', 'numeric-id': 746368, 'id': 'Q746368'}, 'type': 'wikibase-entityid'}, 'datatype': 'wikibase-item'}], 'P4342': [{'snaktype': 'value', 'property': 'P4342', 'datavalue': {'value': 'Hideo_Kojima', 'type': 'string'}, 'datatype': 'external-id'}], 'P1810': [{'snaktype': 'value', 'property': 'P1810', 'datavalue': {'value': 'Hideo Kojima', 'type': 'string'}, 'datatype': 'string'}]}, 'snaks-order': ['P248', 'P4342', 'P1810']}]}], 'P31': [{'mainsnak': {'snaktype': 'value', 'property': 'P31', 'datavalue': {'value': {'entity-type': 'item', 'numeric-id': 5, 'id': 'Q5'}, 'type': 'wikibase-entityid'}, 'datatype': 'wikibase-item'}, 'type': 'statement', 'id': 'q315577$C3894563-5289-4392-ACFA-A69B0B846388', 'rank': 'normal', 'references': [{'hash': 'fa278ebfc458360e5aed63d5058cca83c46134f1', 'snaks': {'P143': [{'snaktype': 'value', 'property': 'P143', 'datavalue': {'value': {'entity-type': 'item', 'numeric-id': 328, 'id': 'Q328'}, 'type': 'wikibase-entityid'}, 'datatype': 'wikibase-item'}]}, 'snaks-order': ['P143']}, {'hash': '0097031f958d7ea0446e7b4242f6a26060a548d4', 'snaks': {'P248': [{'snaktype': 'value', 'property': 'P248', 'datavalue': {'value': {'entity-type': 'item', 'numeric-id': 19938912, 'id': 'Q19938912'}, 'type': 'wikibase-entityid'}, 'datatype': 'wikibase-item'}], 'P813': [{'snaktype': 'value', 'property': 'P813', 'datavalue': {'value': {'time': '+2015-10-10T00:00:00Z', 'timezone': 0, 'before': 0, 'after': 0, 'precision': 11, 'calendarmodel': 'http://www.wikidata.org/entity/Q1985727'}, 'type': 'time'}, 'datatype': 'time'}], 'P854': [{'snaktype': 'value', 'property': 'P854', 'datavalue': {'value': 'http://data.bnf.fr/ark:/12148/cb140662019', 'type': 'string'}, 'datatype': 'url'}]}, 'snaks-order': ['P248', 'P813', 'P854']}]}], 'P19': [{'mainsnak': {'snaktype': 'value', 'property': 'P19', 'datavalue': {'value': {'entity-type': 'item', 'numeric-id': 231645, 'id': 'Q231645'}, 'type': 'wikibase-entityid'}, 'datatype': 'wikibase-item'}, 'type': 'statement', 'id': 'q315577$447C5E79-0B58-4E87-8216-5EAACC6700E6', 'rank': 'normal', 'references': [{'hash': 'fa278ebfc458360e5aed63d5058cca83c46134f1', 'snaks': {'P143': [{'snaktype': 'value', 'property': 'P143', 'datavalue': {'value': {'entity-type': 'item', 'numeric-id': 328, 'id': 'Q328'}, 'type': 'wikibase-entityid'}, 'datatype': 'wikibase-item'}]}, 'snaks-order': ['P143']}]}], 'P910': [{'mainsnak': {'snaktype': 'value', 'property': 'P910', 'datavalue': {'value': {'entity-type': 'item', 'numeric-id': 8509421, 'id': 'Q8509421'}, 'type': 'wikibase-entityid'}, 'datatype': 'wikibase-item'}, 'type': 'statement', 'id': 'Q315577$432E0C3A-2526-4225-A80E-A7D70D29A80F', 'rank': 'normal'}], 'P646': [{'mainsnak': {'snaktype': 'value', 'property': 'P646', 'datavalue': {'value': '/m/01xn37', 'type': 'string'}, 'datatype': 'external-id'}, 'type': 'statement', 'id': 'Q315577$F1616814-E050-42EB-93AF-CC166F0BA158', 'rank': 'normal', 'references': [{'hash': '2b00cb481cddcac7623114367489b5c194901c4a', 'snaks': {'P248': [{'snaktype': 'value', 'property': 'P248', 'datavalue': {'value': {'entity-type': 'item', 'numeric-id': 15241312, 'id': 'Q15241312'}, 'type': 'wikibase-entityid'}, 'datatype': 'wikibase-item'}], 'P577': [{'snaktype': 'value', 'property': 'P577', 'datavalue': {'value': {'time': '+2013-10-28T00:00:00Z', 'timezone': 0, 'before': 0, 'after': 0, 'precision': 11, 'calendarmodel': 'http://www.wikidata.org/entity/Q1985727'}, 'type': 'time'}, 'datatype': 'time'}]}, 'snaks-order': ['P248', 'P577']}]}], 'P1273': [{'mainsnak': {'snaktype': 'value', 'property': 'P1273', 'datavalue': {'value': 'a11268700', 'type': 'string'}, 'datatype': 'external-id'}, 'type': 'statement', 'id': 'Q315577$6001211C-26B4-4DF4-A64F-C7121E75CFDA', 'rank': 'normal', 'references': [{'hash': '392972f77d26f9acab52e7f51fa15635b33296e9', 'snaks': {'P854': [{'snaktype': 'value', 'property': 'P854', 'datavalue': {'value': 'https://viaf.org/viaf/66671040/', 'type': 'string'}, 'datatype': 'url'}]}, 'snaks-order': ['P854']}]}], 'P1343': [{'mainsnak': {'snaktype': 'value', 'property': 'P1343', 'datavalue': {'value': {'entity-type': 'item', 'numeric-id': 17290934, 'id': 'Q17290934'}, 'type': 'wikibase-entityid'}, 'datatype': 'wikibase-item'}, 'type': 'statement', 'qualifiers': {'P805': [{'snaktype': 'value', 'property': 'P805', 'hash': '60d54d531fa90c211b481aa4571b022ceeaec817', 'datavalue': {'value': {'entity-type': 'item', 'numeric-id': 17316563, 'id': 'Q17316563'}, 'type': 'wikibase-entityid'}, 'datatype': 'wikibase-item'}], 'P1476': [{'snaktype': 'value', 'property': 'P1476', 'hash': 'b2774cac7c63ac991ebb77017171112e7ea8e19d', 'datavalue': {'value': {'text': 'Кодзима, Хидео', 'language': 'ru'}, 'type': 'monolingualtext'}, 'datatype': 'monolingualtext'}]}, 'qualifiers-order': ['P805', 'P1476'], 'id': 'Q315577$35D8DAF7-0257-4DF3-A7E0-6C09D325C949', 'rank': 'normal'}, {'mainsnak': {'snaktype': 'value', 'property': 'P1343', 'datavalue': {'value': {'entity-type': 'item', 'numeric-id': 67311526, 'id': 'Q67311526'}, 'type': 'wikibase-entityid'}, 'datatype': 'wikibase-item'}, 'type': 'statement', 'qualifiers': {'P2699': [{'snaktype': 'value', 'property': 'P2699', 'hash': 'c89402206d95c983ff9d5e08fd6b49c6b54e5966', 'datavalue': {'value': 'https://www.obalkyknih.cz/view_auth?auth_id=xx0153740', 'type': 'string'}, 'datatype': 'url'}]}, 'qualifiers-order': ['P2699'], 'id': 'Q315577$07ED5460-A591-4B2B-80A4-6A27F6CADA2A', 'rank': 'normal'}], 'P106': [{'mainsnak': {'snaktype': 'value', 'property': 'P106', 'datavalue': {'value': {'entity-type': 'item', 'numeric-id': 18882335, 'id': 'Q18882335'}, 'type': 'wikibase-entityid'}, 'datatype': 'wikibase-item'}, 'type': 'statement', 'id': 'Q315577$08E46635-0CCD-400B-9AB1-5F5E4D711C24', 'rank': 'normal', 'references': [{'hash': 'd5847b9b6032aa8b13dae3c2dfd9ed5d114d21b3', 'snaks': {'P143': [{'snaktype': 'value', 'property': 'P143', 'datavalue': {'value': {'entity-type': 'item', 'numeric-id': 11920, 'id': 'Q11920'}, 'type': 'wikibase-entityid'}, 'datatype': 'wikibase-item'}]}, 'snaks-order': ['P143']}]}, {'mainsnak': {'snaktype': 'value', 'property': 'P106', 'datavalue': {'value': {'entity-type': 'item', 'numeric-id': 82594, 'id': 'Q82594'}, 'type': 'wikibase-entityid'}, 'datatype': 'wikibase-item'}, 'type': 'statement', 'id': 'Q315577$f03bbc71-7bb6-4dff-ba0e-f7bdb10c8336', 'rank': 'normal', 'references': [{'hash': 'dbc378ca38aa06d2ac2a1b790ffe3a5ee9d0bd17', 'snaks': {'P143': [{'snaktype': 'value', 'property': 'P143', 'datavalue': {'value': {'entity-type': 'item', 'numeric-id': 53464, 'id': 'Q53464'}, 'type': 'wikibase-entityid'}, 'datatype': 'wikibase-item'}]}, 'snaks-order': ['P143']}]}, {'mainsnak': {'snaktype': 'value', 'property': 'P106', 'datavalue': {'value': {'entity-type': 'item', 'numeric-id': 2702296, 'id': 'Q2702296'}, 'type': 'wikibase-entityid'}, 'datatype': 'wikibase-item'}, 'type': 'statement', 'id': 'Q315577$9400a258-480c-20ff-a90f-72e39df65906', 'rank': 'normal'}, {'mainsnak': {'snaktype': 'value', 'property': 'P106', 'datavalue': {'value': {'entity-type': 'item', 'numeric-id': 28389, 'id': 'Q28389'}, 'type': 'wikibase-entityid'}, 'datatype': 'wikibase-item'}, 'type': 'statement', 'id': 'Q315577$c20b69c1-4ef7-ea2a-5ada-99add5a3d028', 'rank': 'normal'}], 'P735': [{'mainsnak': {'snaktype': 'value', 'property': 'P735', 'datavalue': {'value': {'entity-type': 'item', 'numeric-id': 5752568, 'id': 'Q5752568'}, 'type': 'wikibase-entityid'}, 'datatype': 'wikibase-item'}, 'type': 'statement', 'id': 'Q315577$7F955732-0B38-4146-9E6B-4A6538A5E0BA', 'rank': 'normal', 'references': [{'hash': 'a29a646602abf65105ed0f39a44231c962ece9ee', 'snaks': {'P143': [{'snaktype': 'value', 'property': 'P143', 'datavalue': {'value': {'entity-type': 'item', 'numeric-id': 177837, 'id': 'Q177837'}, 'type': 'wikibase-entityid'}, 'datatype': 'wikibase-item'}]}, 'snaks-order': ['P143']}]}], 'P2002': [{'mainsnak': {'snaktype': 'value', 'property': 'P2002', 'datavalue': {'value': 'HIDEO_KOJIMA_EN', 'type': 'string'}, 'datatype': 'external-id'}, 'type': 'statement', 'qualifiers': {'P3744': [{'snaktype': 'value', 'property': 'P3744', 'hash': '13805c7762e71b80e96b688061a535f3b3586d8e', 'datavalue': {'value': {'amount': '+2426182', 'unit': '1'}, 'type': 'quantity'}, 'datatype': 'quantity'}], 'P407': [{'snaktype': 'value', 'property': 'P407', 'hash': 'daf1c4fcb58181b02dff9cc89deb084004ddae4b', 'datavalue': {'value': {'entity-type': 'item', 'numeric-id': 1860, 'id': 'Q1860'}, 'type': 'wikibase-entityid'}, 'datatype': 'wikibase-item'}], 'P6552': [{'snaktype': 'value', 'property': 'P6552', 'hash': '474b1c51872c5adeaeed293a6b393b952d1b3d40', 'datavalue': {'value': '117652722', 'type': 'string'}, 'datatype': 'external-id'}], 'P585': [{'snaktype': 'value', 'property': 'P585', 'hash': '5db48cf4d011c3882931889ed5e2d04f10f3c76f', 'datavalue': {'value': {'time': '+2018-05-10T00:00:00Z', 'timezone': 0, 'before': 0, 'after': 0, 'precision': 11, 'calendarmodel': 'http://www.wikidata.org/entity/Q1985727'}, 'type': 'time'}, 'datatype': 'time'}], 'P1552': [{'snaktype': 'value', 'property': 'P1552', 'hash': '62f0039d240f7eeba6c6908a0d8807a6188324a1', 'datavalue': {'value': {'entity-type': 'item', 'numeric-id': 28378282, 'id': 'Q28378282'}, 'type': 'wikibase-entityid'}, 'datatype': 'wikibase-item'}], 'P580': [{'snaktype': 'value', 'property': 'P580', 'hash': '3dc8a2e233a0b984edcd4def32414d1b8608fde6', 'datavalue': {'value': {'time': '+2010-02-26T00:00:00Z', 'timezone': 0, 'before': 0, 'after': 0, 'precision': 11, 'calendarmodel': 'http://www.wikidata.org/entity/Q1985727'}, 'type': 'time'}, 'datatype': 'time'}]}, 'qualifiers-order': ['P3744', 'P407', 'P6552', 'P585', 'P1552', 'P580'], 'id': 'Q315577$4B8776BC-AEEE-4813-BC07-ACB7E447AF2A', 'rank': 'normal', 'references': [{'hash': 'fa278ebfc458360e5aed63d5058cca83c46134f1', 'snaks': {'P143': [{'snaktype': 'value', 'property': 'P143', 'datavalue': {'value': {'entity-type': 'item', 'numeric-id': 328, 'id': 'Q328'}, 'type': 'wikibase-entityid'}, 'datatype': 'wikibase-item'}]}, 'snaks-order': ['P143']}]}, {'mainsnak': {'snaktype': 'value', 'property': 'P2002', 'datavalue': {'value': 'kojima_hideo', 'type': 'string'}, 'datatype': 'external-id'}, 'type': 'statement', 'qualifiers': {'P407': [{'snaktype': 'value', 'property': 'P407', 'hash': 'd858d1b9f6e6e383f38dfbe706d102f056c07312', 'datavalue': {'value': {'entity-type': 'item', 'numeric-id': 5287, 'id': 'Q5287'}, 'type': 'wikibase-entityid'}, 'datatype': 'wikibase-item'}], 'P6552': [{'snaktype': 'value', 'property': 'P6552', 'hash': '948fd696da735c72a76733ea54acfc1913ce8b35', 'datavalue': {'value': '116942168', 'type': 'string'}, 'datatype': 'external-id'}], 'P1552': [{'snaktype': 'value', 'property': 'P1552', 'hash': '62f0039d240f7eeba6c6908a0d8807a6188324a1', 'datavalue': {'value': {'entity-type': 'item', 'numeric-id': 28378282, 'id': 'Q28378282'}, 'type': 'wikibase-entityid'}, 'datatype': 'wikibase-item'}], 'P3744': [{'snaktype': 'value', 'property': 'P3744', 'hash': '40106d0f5a6e42982d4fd347cc966b8ccecfd879', 'datavalue': {'value': {'amount': '+864626', 'unit': '1'}, 'type': 'quantity'}, 'datatype': 'quantity'}], 'P585': [{'snaktype': 'value', 'property': 'P585', 'hash': '08d43e6d134946ccc1643f9b8079aa0253324e8d', 'datavalue': {'value': {'time': '+2020-02-27T00:00:00Z', 'timezone': 0, 'before': 0, 'after': 0, 'precision': 11, 'calendarmodel': 'http://www.wikidata.org/entity/Q1985727'}, 'type': 'time'}, 'datatype': 'time'}], 'P580': [{'snaktype': 'value', 'property': 'P580', 'hash': '507a4c12bf0c27bb3e5203e13616435f43999d24', 'datavalue': {'value': {'time': '+2010-02-24T00:00:00Z', 'timezone': 0, 'before': 0, 'after': 0, 'precision': 11, 'calendarmodel': 'http://www.wikidata.org/entity/Q1985727'}, 'type': 'time'}, 'datatype': 'time'}]}, 'qualifiers-order': ['P407', 'P6552', 'P1552', 'P3744', 'P585', 'P580'], 'id': 'Q315577$115e138e-4a6e-a7ba-ca7c-07e101b6233f', 'rank': 'normal'}], 'P1814': [{'mainsnak': {'snaktype': 'value', 'property': 'P1814', 'datavalue': {'value': 'こじま ひでお', 'type': 'string'}, 'datatype': 'string'}, 'type': 'statement', 'id': 'Q315577$1BE719A7-64FB-45F1-A35E-97858FD2CCE4', 'rank': 'normal', 'references': [{'hash': 'a29a646602abf65105ed0f39a44231c962ece9ee', 'snaks': {'P143': [{'snaktype': 'value', 'property': 'P143', 'datavalue': {'value': {'entity-type': 'item', 'numeric-id': 177837, 'id': 'Q177837'}, 'type': 'wikibase-entityid'}, 'datatype': 'wikibase-item'}]}, 'snaks-order': ['P143']}]}], 'P1559': [{'mainsnak': {'snaktype': 'value', 'property': 'P1559', 'datavalue': {'value': {'text': '小島秀夫', 'language': 'ja'}, 'type': 'monolingualtext'}, 'datatype': 'monolingualtext'}, 'type': 'statement', 'id': 'Q315577$B0FB60CB-E0BD-4BD5-9C38-6F628BBEF87F', 'rank': 'normal'}], 'P3913': [{'mainsnak': {'snaktype': 'value', 'property': 'P3913', 'datavalue': {'value': '50433', 'type': 'string'}, 'datatype': 'external-id'}, 'type': 'statement', 'id': 'Q315577$A53891D5-0A7B-401F-B271-BD070091DB64', 'rank': 'normal', 'references': [{'hash': '08be9f116c5c541d7fa461ad59ad559a42ffd6ed', 'snaks': {'P143': [{'snaktype': 'value', 'property': 'P143', 'datavalue': {'value': {'entity-type': 'item', 'numeric-id': 17985, 'id': 'Q17985'}, 'type': 'wikibase-entityid'}, 'datatype': 'wikibase-item'}]}, 'snaks-order': ['P143']}]}], 'P2397': [{'mainsnak': {'snaktype': 'value', 'property': 'P2397', 'datavalue': {'value': 'UC6lUqvh42Oc3XL19Edgd9QA', 'type': 'string'}, 'datatype': 'external-id'}, 'type': 'statement', 'qualifiers': {'P1810': [{'snaktype': 'value', 'property': 'P1810', 'hash': '0f3cf8a56c9214e1e4c84489e55af49dabd322c0', 'datavalue': {'value': 'KOJIMA PRODUCTIONS', 'type': 'string'}, 'datatype': 'string'}], 'P580': [{'snaktype': 'value', 'property': 'P580', 'hash': 'cea60ff6189554a302944fa750cbfab78c1e0bf8', 'datavalue': {'value': {'time': '+2016-01-06T00:00:00Z', 'timezone': 0, 'before': 0, 'after': 0, 'precision': 11, 'calendarmodel': 'http://www.wikidata.org/entity/Q1985727'}, 'type': 'time'}, 'datatype': 'time'}]}, 'qualifiers-order': ['P1810', 'P580'], 'id': 'Q315577$329fca01-461a-be8a-2a0e-2ac73768f0d5', 'rank': 'normal'}], 'P3435': [{'mainsnak': {'snaktype': 'value', 'property': 'P3435', 'datavalue': {'value': '10071', 'type': 'string'}, 'datatype': 'external-id'}, 'type': 'statement', 'id': 'Q315577$7D556A36-99BA-403F-A096-F9BE9018861D', 'rank': 'normal'}], 'P856': [{'mainsnak': {'snaktype': 'value', 'property': 'P856', 'datavalue': {'value': 'http://www.kojimaproductions.jp/', 'type': 'string'}, 'datatype': 'url'}, 'type': 'statement', 'id': 'Q315577$CB93BD9B-A029-4E67-AB78-27FB493CAFFF', 'rank': 'normal', 'references': [{'hash': '9424852ca7d9d48269148c57acbefacca1899882', 'snaks': {'P143': [{'snaktype': 'value', 'property': 'P143', 'datavalue': {'value': {'entity-type': 'item', 'numeric-id': 11921, 'id': 'Q11921'}, 'type': 'wikibase-entityid'}, 'datatype': 'wikibase-item'}]}, 'snaks-order': ['P143']}]}], 'P109': [{'mainsnak': {'snaktype': 'value', 'property': 'P109', 'datavalue': {'value': 'Hideo Kojima Signature.svg', 'type': 'string'}, 'datatype': 'commonsMedia'}, 'type': 'statement', 'id': 'Q315577$CDCA935E-AF9D-4217-8702-017A46940AB3', 'rank': 'normal', 'references': [{'hash': 'a29a646602abf65105ed0f39a44231c962ece9ee', 'snaks': {'P143': [{'snaktype': 'value', 'property': 'P143', 'datavalue': {'value': {'entity-type': 'item', 'numeric-id': 177837, 'id': 'Q177837'}, 'type': 'wikibase-entityid'}, 'datatype': 'wikibase-item'}]}, 'snaks-order': ['P143']}]}], 'P734': [{'mainsnak': {'snaktype': 'value', 'property': 'P734', 'datavalue': {'value': {'entity-type': 'item', 'numeric-id': 24090439, 'id': 'Q24090439'}, 'type': 'wikibase-entityid'}, 'datatype': 'wikibase-item'}, 'type': 'statement', 'qualifiers': {'P1013': [{'snaktype': 'value', 'property': 'P1013', 'hash': '697e07449aedefd3a2dfa9efea556e67a367ce35', 'datavalue': {'value': {'entity-type': 'item', 'numeric-id': 82772, 'id': 'Q82772'}, 'type': 'wikibase-entityid'}, 'datatype': 'wikibase-item'}]}, 'qualifiers-order': ['P1013'], 'id': 'Q315577$ff089298-4481-6942-d9c5-90c750d6cd58', 'rank': 'normal'}, {'mainsnak': {'snaktype': 'value', 'property': 'P734', 'datavalue': {'value': {'entity-type': 'item', 'numeric-id': 79605093, 'id': 'Q79605093'}, 'type': 'wikibase-entityid'}, 'datatype': 'wikibase-item'}, 'type': 'statement', 'qualifiers': {'P1013': [{'snaktype': 'value', 'property': 'P1013', 'hash': '3a140c0e42bf31068ae265bd0e13f81a2ae8493a', 'datavalue': {'value': {'entity-type': 'item', 'numeric-id': 1148965, 'id': 'Q1148965'}, 'type': 'wikibase-entityid'}, 'datatype': 'wikibase-item'}]}, 'qualifiers-order': ['P1013'], 'id': 'Q315577$694d276b-409f-ef32-a3d1-1b7794ba73fe', 'rank': 'normal'}], 'P1581': [{'mainsnak': {'snaktype': 'value', 'property': 'P1581', 'datavalue': {'value': 'http://www.kjp.konami.jp/gs/hideoblog/', 'type': 'string'}, 'datatype': 'url'}, 'type': 'statement', 'qualifiers': {'P407': [{'snaktype': 'value', 'property': 'P407', 'hash': 'd858d1b9f6e6e383f38dfbe706d102f056c07312', 'datavalue': {'value': {'entity-type': 'item', 'numeric-id': 5287, 'id': 'Q5287'}, 'type': 'wikibase-entityid'}, 'datatype': 'wikibase-item'}]}, 'qualifiers-order': ['P407'], 'id': 'Q315577$598c003a-4149-afd4-9238-76aa5d4a14f6', 'rank': 'normal'}, {'mainsnak': {'snaktype': 'value', 'property': 'P1581', 'datavalue': {'value': 'http://www.kjp.konami.jp/gs/hideoblog_e/', 'type': 'string'}, 'datatype': 'url'}, 'type': 'statement', 'qualifiers': {'P407': [{'snaktype': 'value', 'property': 'P407', 'hash': 'daf1c4fcb58181b02dff9cc89deb084004ddae4b', 'datavalue': {'value': {'entity-type': 'item', 'numeric-id': 1860, 'id': 'Q1860'}, 'type': 'wikibase-entityid'}, 'datatype': 'wikibase-item'}]}, 'qualifiers-order': ['P407'], 'id': 'Q315577$1ba5cdb1-40aa-6e67-9b91-6061e125db15', 'rank': 'normal'}], 'P213': [{'mainsnak': {'snaktype': 'value', 'property': 'P213', 'datavalue': {'value': '0000 0000 5188 031X', 'type': 'string'}, 'datatype': 'external-id'}, 'type': 'statement', 'id': 'Q315577$F3DCE623-03A7-480D-A9E7-123AF0EFB840', 'rank': 'normal', 'references': [{'hash': 'e159b8548fdca420eb9aef93f7251d2eebfb0abe', 'snaks': {'P248': [{'snaktype': 'value', 'property': 'P248', 'datavalue': {'value': {'entity-type': 'item', 'numeric-id': 19938912, 'id': 'Q19938912'}, 'type': 'wikibase-entityid'}, 'datatype': 'wikibase-item'}], 'P813': [{'snaktype': 'value', 'property': 'P813', 'datavalue': {'value': {'time': '+2015-07-13T00:00:00Z', 'timezone': 0, 'before': 0, 'after': 0, 'precision': 11, 'calendarmodel': 'http://www.wikidata.org/entity/Q1985727'}, 'type': 'time'}, 'datatype': 'time'}]}, 'snaks-order': ['P248', 'P813']}]}], 'P5796': [{'mainsnak': {'snaktype': 'value', 'property': 'P5796', 'datavalue': {'value': 'hideo-kojima', 'type': 'string'}, 'datatype': 'external-id'}, 'type': 'statement', 'id': 'Q315577$56BF4555-E36C-4034-9C55-C2CE0D3C2FC1', 'rank': 'normal'}], 'P5357': [{'mainsnak': {'snaktype': 'value', 'property': 'P5357', 'datavalue': {'value': 'kojima_hideo', 'type': 'string'}, 'datatype': 'external-id'}, 'type': 'statement', 'id': 'Q315577$AE8AF0AC-0296-40ED-B562-7586FE209045', 'rank': 'normal'}], 'P5361': [{'mainsnak': {'snaktype': 'value', 'property': 'P5361', 'datavalue': {'value': 'KojimaHideo1963-', 'type': 'string'}, 'datatype': 'external-id'}, 'type': 'statement', 'id': 'Q315577$AF0F47A7-7D45-4B66-B19E-C9A5D4216BC1', 'rank': 'normal'}], 'P268': [{'mainsnak': {'snaktype': 'value', 'property': 'P268', 'datavalue': {'value': '140662019', 'type': 'string'}, 'datatype': 'external-id'}, 'type': 'statement', 'id': 'Q315577$7BDF31F8-4DA8-403B-9B17-9DFC57BF09BD', 'rank': 'normal', 'references': [{'hash': 'd55e5a60c3a5ec3385c2731c8547bf82cb212381', 'snaks': {'P248': [{'snaktype': 'value', 'property': 'P248', 'datavalue': {'value': {'entity-type': 'item', 'numeric-id': 54919, 'id': 'Q54919'}, 'type': 'wikibase-entityid'}, 'datatype': 'wikibase-item'}], 'P214': [{'snaktype': 'value', 'property': 'P214', 'datavalue': {'value': '66671040', 'type': 'string'}, 'datatype': 'external-id'}], 'P813': [{'snaktype': 'value', 'property': 'P813', 'datavalue': {'value': {'time': '+2018-10-07T00:00:00Z', 'timezone': 0, 'before': 0, 'after': 0, 'precision': 11, 'calendarmodel': 'http://www.wikidata.org/entity/Q1985727'}, 'type': 'time'}, 'datatype': 'time'}]}, 'snaks-order': ['P248', 'P214', 'P813']}]}], 'P349': [{'mainsnak': {'snaktype': 'value', 'property': 'P349', 'datavalue': {'value': '00949597', 'type': 'string'}, 'datatype': 'external-id'}, 'type': 'statement', 'id': 'Q315577$AECA780F-4483-41CE-85DB-F9B37536A58F', 'rank': 'normal', 'references': [{'hash': 'd55e5a60c3a5ec3385c2731c8547bf82cb212381', 'snaks': {'P248': [{'snaktype': 'value', 'property': 'P248', 'datavalue': {'value': {'entity-type': 'item', 'numeric-id': 54919, 'id': 'Q54919'}, 'type': 'wikibase-entityid'}, 'datatype': 'wikibase-item'}], 'P214': [{'snaktype': 'value', 'property': 'P214', 'datavalue': {'value': '66671040', 'type': 'string'}, 'datatype': 'external-id'}], 'P813': [{'snaktype': 'value', 'property': 'P813', 'datavalue': {'value': {'time': '+2018-10-07T00:00:00Z', 'timezone': 0, 'before': 0, 'after': 0, 'precision': 11, 'calendarmodel': 'http://www.wikidata.org/entity/Q1985727'}, 'type': 'time'}, 'datatype': 'time'}]}, 'snaks-order': ['P248', 'P214', 'P813']}]}], 'P691': [{'mainsnak': {'snaktype': 'value', 'property': 'P691', 'datavalue': {'value': 'xx0153740', 'type': 'string'}, 'datatype': 'external-id'}, 'type': 'statement', 'id': 'Q315577$2E7C3260-7E99-48F4-82CD-751A5729D4B4', 'rank': 'normal', 'references': [{'hash': 'd55e5a60c3a5ec3385c2731c8547bf82cb212381', 'snaks': {'P248': [{'snaktype': 'value', 'property': 'P248', 'datavalue': {'value': {'entity-type': 'item', 'numeric-id': 54919, 'id': 'Q54919'}, 'type': 'wikibase-entityid'}, 'datatype': 'wikibase-item'}], 'P214': [{'snaktype': 'value', 'property': 'P214', 'datavalue': {'value': '66671040', 'type': 'string'}, 'datatype': 'external-id'}], 'P813': [{'snaktype': 'value', 'property': 'P813', 'datavalue': {'value': {'time': '+2018-10-07T00:00:00Z', 'timezone': 0, 'before': 0, 'after': 0, 'precision': 11, 'calendarmodel': 'http://www.wikidata.org/entity/Q1985727'}, 'type': 'time'}, 'datatype': 'time'}]}, 'snaks-order': ['P248', 'P214', 'P813']}]}], 'P21': [{'mainsnak': {'snaktype': 'value', 'property': 'P21', 'datavalue': {'value': {'entity-type': 'item', 'numeric-id': 6581097, 'id': 'Q6581097'}, 'type': 'wikibase-entityid'}, 'datatype': 'wikibase-item'}, 'type': 'statement', 'id': 'Q315577$5461D575-276D-4994-8378-FEC195ACB904', 'rank': 'normal', 'references': [{'hash': 'bd49d3e4f67bc460ce7a06b6ac3027347cf5ee55', 'snaks': {'P143': [{'snaktype': 'value', 'property': 'P143', 'datavalue': {'value': {'entity-type': 'item', 'numeric-id': 169514, 'id': 'Q169514'}, 'type': 'wikibase-entityid'}, 'datatype': 'wikibase-item'}]}, 'snaks-order': ['P143']}, {'hash': 'a6f4ba9213047827068f44a20b97fdf35f1d5551', 'snaks': {'P248': [{'snaktype': 'value', 'property': 'P248', 'datavalue': {'value': {'entity-type': 'item', 'numeric-id': 54919, 'id': 'Q54919'}, 'type': 'wikibase-entityid'}, 'datatype': 'wikibase-item'}], 'P214': [{'snaktype': 'value', 'property': 'P214', 'datavalue': {'value': '66671040', 'type': 'string'}, 'datatype': 'external-id'}], 'P813': [{'snaktype': 'value', 'property': 'P813', 'datavalue': {'value': {'time': '+2018-11-04T00:00:00Z', 'timezone': 0, 'before': 0, 'after': 0, 'precision': 11, 'calendarmodel': 'http://www.wikidata.org/entity/Q1985727'}, 'type': 'time'}, 'datatype': 'time'}]}, 'snaks-order': ['P248', 'P214', 'P813']}, {'hash': 'd5847b9b6032aa8b13dae3c2dfd9ed5d114d21b3', 'snaks': {'P143': [{'snaktype': 'value', 'property': 'P143', 'datavalue': {'value': {'entity-type': 'item', 'numeric-id': 11920, 'id': 'Q11920'}, 'type': 'wikibase-entityid'}, 'datatype': 'wikibase-item'}]}, 'snaks-order': ['P143']}, {'hash': '0097031f958d7ea0446e7b4242f6a26060a548d4', 'snaks': {'P248': [{'snaktype': 'value', 'property': 'P248', 'datavalue': {'value': {'entity-type': 'item', 'numeric-id': 19938912, 'id': 'Q19938912'}, 'type': 'wikibase-entityid'}, 'datatype': 'wikibase-item'}], 'P813': [{'snaktype': 'value', 'property': 'P813', 'datavalue': {'value': {'time': '+2015-10-10T00:00:00Z', 'timezone': 0, 'before': 0, 'after': 0, 'precision': 11, 'calendarmodel': 'http://www.wikidata.org/entity/Q1985727'}, 'type': 'time'}, 'datatype': 'time'}], 'P854': [{'snaktype': 'value', 'property': 'P854', 'datavalue': {'value': 'http://data.bnf.fr/ark:/12148/cb140662019', 'type': 'string'}, 'datatype': 'url'}]}, 'snaks-order': ['P248', 'P813', 'P854']}]}], 'P3417': [{'mainsnak': {'snaktype': 'value', 'property': 'P3417', 'datavalue': {'value': 'Hideo-Kojima-video-game-designer', 'type': 'string'}, 'datatype': 'external-id'}, 'type': 'statement', 'id': 'Q315577$A8755F1A-1EE2-4E70-B22B-CA49BB010B03', 'rank': 'normal'}], 'P5247': [{'mainsnak': {'snaktype': 'value', 'property': 'P5247', 'datavalue': {'value': '3040-63395', 'type': 'string'}, 'datatype': 'external-id'}, 'type': 'statement', 'id': 'Q315577$82ea02ae-4fb7-0d7a-9d2b-8194e85faae3', 'rank': 'normal'}], 'P6760': [{'mainsnak': {'snaktype': 'value', 'property': 'P6760', 'datavalue': {'value': '5308', 'type': 'string'}, 'datatype': 'external-id'}, 'type': 'statement', 'id': 'Q315577$F2E2BEEA-A6BD-4677-8677-E994209AE184', 'rank': 'normal'}], 'P2003': [{'mainsnak': {'snaktype': 'value', 'property': 'P2003', 'datavalue': {'value': 'hideo_kojima', 'type': 'string'}, 'datatype': 'external-id'}, 'type': 'statement', 'id': 'Q315577$fba762ba-4c5a-286c-293c-603b8500398e', 'rank': 'normal'}], 'P4342': [{'mainsnak': {'snaktype': 'value', 'property': 'P4342', 'datavalue': {'value': 'Hideo_Kojima', 'type': 'string'}, 'datatype': 'external-id'}, 'type': 'statement', 'id': 'Q315577$20C702C3-855A-4C3C-8414-44D89AB61A3A', 'rank': 'normal'}], 'P2031': [{'mainsnak': {'snaktype': 'value', 'property': 'P2031', 'datavalue': {'value': {'time': '+1986-00-00T00:00:00Z', 'timezone': 0, 'before': 0, 'after': 0, 'precision': 9, 'calendarmodel': 'http://www.wikidata.org/entity/Q1985727'}, 'type': 'time'}, 'datatype': 'time'}, 'type': 'statement', 'id': 'Q315577$C8D4468B-B067-4828-8E67-68A33557374F', 'rank': 'normal', 'references': [{'hash': '996ae18be6a735fbe9fafda2a02f189993217446', 'snaks': {'P143': [{'snaktype': 'value', 'property': 'P143', 'datavalue': {'value': {'entity-type': 'item', 'numeric-id': 328, 'id': 'Q328'}, 'type': 'wikibase-entityid'}, 'datatype': 'wikibase-item'}], 'P4656': [{'snaktype': 'value', 'property': 'P4656', 'datavalue': {'value': 'https://en.wikipedia.org/w/index.php?title=Hideo_Kojima&oldid=916844531', 'type': 'string'}, 'datatype': 'url'}]}, 'snaks-order': ['P143', 'P4656']}]}], 'P5034': [{'mainsnak': {'snaktype': 'value', 'property': 'P5034', 'datavalue': {'value': 'KAC200203308', 'type': 'string'}, 'datatype': 'external-id'}, 'type': 'statement', 'id': 'Q315577$3fddfe1a-8f8b-45c9-b016-619c66b422c5', 'rank': 'normal'}], 'P108': [{'mainsnak': {'snaktype': 'value', 'property': 'P108', 'datavalue': {'value': {'entity-type': 'item', 'numeric-id': 2531521, 'id': 'Q2531521'}, 'type': 'wikibase-entityid'}, 'datatype': 'wikibase-item'}, 'type': 'statement', 'id': 'Q315577$fbf5d14f-4d6f-9301-711f-6384d81976d8', 'rank': 'normal'}], 'P2163': [{'mainsnak': {'snaktype': 'value', 'property': 'P2163', 'datavalue': {'value': '1462947', 'type': 'string'}, 'datatype': 'external-id'}, 'type': 'statement', 'id': 'Q315577$6A75D7E3-E4BA-4EF3-ACD4-510B87F78997', 'rank': 'normal'}], 'P950': [{'mainsnak': {'snaktype': 'value', 'property': 'P950', 'datavalue': {'value': 'XX4970990', 'type': 'string'}, 'datatype': 'external-id'}, 'type': 'statement', 'id': 'Q315577$CBCE32B5-2FE4-4B8F-AAAE-027D58BBD582', 'rank': 'normal'}], 'P4666': [{'mainsnak': {'snaktype': 'value', 'property': 'P4666', 'datavalue': {'value': '1619173', 'type': 'string'}, 'datatype': 'external-id'}, 'type': 'statement', 'id': 'Q315577$D7543157-76D1-4E18-8D73-FFEEAF0E2263', 'rank': 'normal'}], 'P1953': [{'mainsnak': {'snaktype': 'value', 'property': 'P1953', 'datavalue': {'value': '1077897', 'type': 'string'}, 'datatype': 'external-id'}, 'type': 'statement', 'id': 'Q315577$88DC939A-ED31-4A9B-B6A1-09B8DFFC62C6', 'rank': 'normal'}], 'P7661': [{'mainsnak': {'snaktype': 'value', 'property': 'P7661', 'datavalue': {'value': '2189', 'type': 'string'}, 'datatype': 'external-id'}, 'type': 'statement', 'id': 'Q315577$DEFF657B-0FD0-4D17-B3C5-1E57D63B21FE', 'rank': 'normal', 'references': [{'hash': '4da97198b36d44ba473d0417833dbcb8940fa45c', 'snaks': {'P4656': [{'snaktype': 'value', 'property': 'P4656', 'datavalue': {'value': 'https://www.wikidata.org/w/index.php?title=Wikidata:Property_proposal/GameFAQs_credit_ID&oldid=1068045711', 'type': 'string'}, 'datatype': 'url'}]}, 'snaks-order': ['P4656']}]}], 'P7859': [{'mainsnak': {'snaktype': 'value', 'property': 'P7859', 'datavalue': {'value': 'lccn-nb2008026982', 'type': 'string'}, 'datatype': 'external-id'}, 'type': 'statement', 'id': 'Q315577$3D607167-C0AF-4D12-A021-9F67F30C51C4', 'rank': 'normal', 'references': [{'hash': 'f0e6ac5e0233077f46358ef372384fb4b23e7d35', 'snaks': {'P214': [{'snaktype': 'value', 'property': 'P214', 'datavalue': {'value': '66671040', 'type': 'string'}, 'datatype': 'external-id'}]}, 'snaks-order': ['P214']}]}], 'P4084': [{'mainsnak': {'snaktype': 'value', 'property': 'P4084', 'datavalue': {'value': '5732', 'type': 'string'}, 'datatype': 'external-id'}, 'type': 'statement', 'id': 'Q315577$ED20DA84-809C-45D2-974F-F8B10A8B8DCD', 'rank': 'normal'}], 'P8179': [{'mainsnak': {'snaktype': 'value', 'property': 'P8179', 'datavalue': {'value': 'ncf11051195', 'type': 'string'}, 'datatype': 'external-id'}, 'type': 'statement', 'id': 'Q315577$625d500c-4f06-3694-d4a3-2c85aa48dafb', 'rank': 'normal'}]}, 'sitelinks': {'arwiki': {'site': 'arwiki', 'title': 'هيديو كوجيما', 'badges': [], 'url': 'https://ar.wikipedia.org/wiki/%D9%87%D9%8A%D8%AF%D9%8A%D9%88_%D9%83%D9%88%D8%AC%D9%8A%D9%85%D8%A7'}, 'arzwiki': {'site': 'arzwiki', 'title': 'هيديو كوچيما', 'badges': [], 'url': 'https://arz.wikipedia.org/wiki/%D9%87%D9%8A%D8%AF%D9%8A%D9%88_%D9%83%D9%88%DA%86%D9%8A%D9%85%D8%A7'}, 'cawiki': {'site': 'cawiki', 'title': 'Hideo Kojima', 'badges': [], 'url': 'https://ca.wikipedia.org/wiki/Hideo_Kojima'}, 'ckbwiki': {'site': 'ckbwiki', 'title': 'ھیدێیۆ کۆجیما', 'badges': [], 'url': 'https://ckb.wikipedia.org/wiki/%DA%BE%DB%8C%D8%AF%DB%8E%DB%8C%DB%86_%DA%A9%DB%86%D8%AC%DB%8C%D9%85%D8%A7'}, 'cswiki': {'site': 'cswiki', 'title': 'Hideo Kodžima', 'badges': [], 'url': 'https://cs.wikipedia.org/wiki/Hideo_Kod%C5%BEima'}, 'dewiki': {'site': 'dewiki', 'title': 'Hideo Kojima', 'badges': [], 'url': 'https://de.wikipedia.org/wiki/Hideo_Kojima'}, 'elwiki': {'site': 'elwiki', 'title': 'Χιντέο Κοτζίμα', 'badges': [], 'url': 'https://el.wikipedia.org/wiki/%CE%A7%CE%B9%CE%BD%CF%84%CE%AD%CE%BF_%CE%9A%CE%BF%CF%84%CE%B6%CE%AF%CE%BC%CE%B1'}, 'enwiki': {'site': 'enwiki', 'title': 'Hideo Kojima', 'badges': [], 'url': 'https://en.wikipedia.org/wiki/Hideo_Kojima'}, 'enwikiquote': {'site': 'enwikiquote', 'title': 'Hideo Kojima', 'badges': [], 'url': 'https://en.wikiquote.org/wiki/Hideo_Kojima'}, 'eowiki': {'site': 'eowiki', 'title': 'Kojima Hideo', 'badges': [], 'url': 'https://eo.wikipedia.org/wiki/Kojima_Hideo'}, 'eswiki': {'site': 'eswiki', 'title': 'Hideo Kojima', 'badges': [], 'url': 'https://es.wikipedia.org/wiki/Hideo_Kojima'}, 'eswikiquote': {'site': 'eswikiquote', 'title': 'Hideo Kojima', 'badges': [], 'url': 'https://es.wikiquote.org/wiki/Hideo_Kojima'}, 'fawiki': {'site': 'fawiki', 'title': 'هیدئو کوجیما', 'badges': [], 'url': 'https://fa.wikipedia.org/wiki/%D9%87%DB%8C%D8%AF%D8%A6%D9%88_%DA%A9%D9%88%D8%AC%DB%8C%D9%85%D8%A7'}, 'fiwiki': {'site': 'fiwiki', 'title': 'Hideo Kojima', 'badges': [], 'url': 'https://fi.wikipedia.org/wiki/Hideo_Kojima'}, 'frwiki': {'site': 'frwiki', 'title': 'Hideo Kojima', 'badges': [], 'url': 'https://fr.wikipedia.org/wiki/Hideo_Kojima'}, 'glwiki': {'site': 'glwiki', 'title': 'Hideo Kojima', 'badges': [], 'url': 'https://gl.wikipedia.org/wiki/Hideo_Kojima'}, 'hewiki': {'site': 'hewiki', 'title': \"הידאו קוג'ימה\", 'badges': [], 'url': 'https://he.wikipedia.org/wiki/%D7%94%D7%99%D7%93%D7%90%D7%95_%D7%A7%D7%95%D7%92%27%D7%99%D7%9E%D7%94'}, 'huwiki': {'site': 'huwiki', 'title': 'Kodzsima Hideo', 'badges': [], 'url': 'https://hu.wikipedia.org/wiki/Kodzsima_Hideo'}, 'hywiki': {'site': 'hywiki', 'title': 'Հիդեո Կոձիմա', 'badges': [], 'url': 'https://hy.wikipedia.org/wiki/%D5%80%D5%AB%D5%A4%D5%A5%D5%B8_%D4%BF%D5%B8%D5%B1%D5%AB%D5%B4%D5%A1'}, 'idwiki': {'site': 'idwiki', 'title': 'Hideo Kojima', 'badges': [], 'url': 'https://id.wikipedia.org/wiki/Hideo_Kojima'}, 'ikwiki': {'site': 'ikwiki', 'title': 'Hideo Kojima', 'badges': [], 'url': 'https://ik.wikipedia.org/wiki/Hideo_Kojima'}, 'itwiki': {'site': 'itwiki', 'title': 'Hideo Kojima', 'badges': [], 'url': 'https://it.wikipedia.org/wiki/Hideo_Kojima'}, 'itwikiquote': {'site': 'itwikiquote', 'title': 'Hideo Kojima', 'badges': [], 'url': 'https://it.wikiquote.org/wiki/Hideo_Kojima'}, 'jawiki': {'site': 'jawiki', 'title': '小島秀夫 (ゲームデザイナー)', 'badges': [], 'url': 'https://ja.wikipedia.org/wiki/%E5%B0%8F%E5%B3%B6%E7%A7%80%E5%A4%AB_(%E3%82%B2%E3%83%BC%E3%83%A0%E3%83%87%E3%82%B6%E3%82%A4%E3%83%8A%E3%83%BC)'}, 'kawiki': {'site': 'kawiki', 'title': 'ჰიდეო კოჯიმა', 'badges': [], 'url': 'https://ka.wikipedia.org/wiki/%E1%83%B0%E1%83%98%E1%83%93%E1%83%94%E1%83%9D_%E1%83%99%E1%83%9D%E1%83%AF%E1%83%98%E1%83%9B%E1%83%90'}, 'kowiki': {'site': 'kowiki', 'title': '고지마 히데오', 'badges': [], 'url': 'https://ko.wikipedia.org/wiki/%EA%B3%A0%EC%A7%80%EB%A7%88_%ED%9E%88%EB%8D%B0%EC%98%A4'}, 'ltwiki': {'site': 'ltwiki', 'title': 'Hideo Kojima', 'badges': [], 'url': 'https://lt.wikipedia.org/wiki/Hideo_Kojima'}, 'mswiki': {'site': 'mswiki', 'title': 'Hideo Kojima', 'badges': [], 'url': 'https://ms.wikipedia.org/wiki/Hideo_Kojima'}, 'nlwiki': {'site': 'nlwiki', 'title': 'Hideo Kojima', 'badges': [], 'url': 'https://nl.wikipedia.org/wiki/Hideo_Kojima'}, 'nowiki': {'site': 'nowiki', 'title': 'Hideo Kojima', 'badges': [], 'url': 'https://no.wikipedia.org/wiki/Hideo_Kojima'}, 'plwiki': {'site': 'plwiki', 'title': 'Hideo Kojima', 'badges': [], 'url': 'https://pl.wikipedia.org/wiki/Hideo_Kojima'}, 'ptwiki': {'site': 'ptwiki', 'title': 'Hideo Kojima', 'badges': [], 'url': 'https://pt.wikipedia.org/wiki/Hideo_Kojima'}, 'ruwiki': {'site': 'ruwiki', 'title': 'Кодзима, Хидэо', 'badges': [], 'url': 'https://ru.wikipedia.org/wiki/%D0%9A%D0%BE%D0%B4%D0%B7%D0%B8%D0%BC%D0%B0,_%D0%A5%D0%B8%D0%B4%D1%8D%D0%BE'}, 'ruwikinews': {'site': 'ruwikinews', 'title': 'Категория:Хидэо Кодзима', 'badges': [], 'url': 'https://ru.wikinews.org/wiki/%D0%9A%D0%B0%D1%82%D0%B5%D0%B3%D0%BE%D1%80%D0%B8%D1%8F:%D0%A5%D0%B8%D0%B4%D1%8D%D0%BE_%D0%9A%D0%BE%D0%B4%D0%B7%D0%B8%D0%BC%D0%B0'}, 'ruwikiquote': {'site': 'ruwikiquote', 'title': 'Хидэо Кодзима', 'badges': [], 'url': 'https://ru.wikiquote.org/wiki/%D0%A5%D0%B8%D0%B4%D1%8D%D0%BE_%D0%9A%D0%BE%D0%B4%D0%B7%D0%B8%D0%BC%D0%B0'}, 'scowiki': {'site': 'scowiki', 'title': 'Hideo Kojima', 'badges': [], 'url': 'https://sco.wikipedia.org/wiki/Hideo_Kojima'}, 'skwiki': {'site': 'skwiki', 'title': 'Hideo Kodžima', 'badges': [], 'url': 'https://sk.wikipedia.org/wiki/Hideo_Kod%C5%BEima'}, 'srwiki': {'site': 'srwiki', 'title': 'Хидео Коџима', 'badges': [], 'url': 'https://sr.wikipedia.org/wiki/%D0%A5%D0%B8%D0%B4%D0%B5%D0%BE_%D0%9A%D0%BE%D1%9F%D0%B8%D0%BC%D0%B0'}, 'suwiki': {'site': 'suwiki', 'title': 'Hideo Kojima', 'badges': [], 'url': 'https://su.wikipedia.org/wiki/Hideo_Kojima'}, 'svwiki': {'site': 'svwiki', 'title': 'Hideo Kojima', 'badges': [], 'url': 'https://sv.wikipedia.org/wiki/Hideo_Kojima'}, 'thwiki': {'site': 'thwiki', 'title': 'ฮิเดโอะ โคจิมะ', 'badges': [], 'url': 'https://th.wikipedia.org/wiki/%E0%B8%AE%E0%B8%B4%E0%B9%80%E0%B8%94%E0%B9%82%E0%B8%AD%E0%B8%B0_%E0%B9%82%E0%B8%84%E0%B8%88%E0%B8%B4%E0%B8%A1%E0%B8%B0'}, 'trwiki': {'site': 'trwiki', 'title': 'Hideo Kojima', 'badges': [], 'url': 'https://tr.wikipedia.org/wiki/Hideo_Kojima'}, 'ukwiki': {'site': 'ukwiki', 'title': 'Хідео Коджіма', 'badges': [], 'url': 'https://uk.wikipedia.org/wiki/%D0%A5%D1%96%D0%B4%D0%B5%D0%BE_%D0%9A%D0%BE%D0%B4%D0%B6%D1%96%D0%BC%D0%B0'}, 'wuuwiki': {'site': 'wuuwiki', 'title': '小岛秀夫', 'badges': [], 'url': 'https://wuu.wikipedia.org/wiki/%E5%B0%8F%E5%B2%9B%E7%A7%80%E5%A4%AB'}, 'zhwiki': {'site': 'zhwiki', 'title': '小岛秀夫', 'badges': [], 'url': 'https://zh.wikipedia.org/wiki/%E5%B0%8F%E5%B2%9B%E7%A7%80%E5%A4%AB'}}}\n",
      "---------------------- मुख्य जानकारी ----------------------\n"
     ]
    },
    {
     "name": "stdout",
     "output_type": "stream",
     "text": [
      "लिंग: पुरुष,\n",
      "जन्म स्थान: सेतागया-कू,\n",
      "जन्म की तारीख: 1963-08-24T00:00:00Z,\n",
      "व्यवसाय: पटकथा लेखक,कंप्यूटर वैज्ञानिक,\n",
      "---------------------- अन्य उपलब्ध जानकारी ----------------------\n",
      "नागरिकता: जापान(एशिया महाद्वीप में स्थित देश),\n",
      "का उदहारण है: मनुष्य(होमो-सैपीयंज़ स्तनपायी जो दो पैर पर चलता है),\n"
     ]
    }
   ],
   "source": [
    "#information about japanese game designer Hideo Kojima\n",
    "getBiography('Q315577', biography, translation)"
   ]
  },
  {
   "cell_type": "markdown",
   "metadata": {},
   "source": [
    "## Wiki_biography"
   ]
  },
  {
   "cell_type": "code",
   "execution_count": 5,
   "metadata": {},
   "outputs": [
    {
     "name": "stdout",
     "output_type": "stream",
     "text": [
      "नाम: नरेन्द्र मोदी\n",
      "विवरण: भारत के प्रधानमंत्री\n",
      "---------------------- मुख्य जानकारी ----------------------\n",
      "लिंग: पुरुष,\n",
      "निवास: ७, लोक कल्याण मार्ग,\n",
      "जन्म स्थान: वड़नगर,\n",
      "जन्म की तारीख: 1950-09-17T00:00:00Z,\n",
      "व्यवसाय: राजनीतिज्ञ,\n",
      "शिक्षा: गुजरात विश्वविद्यालय,दिल्ली विश्वविद्यालय,\n",
      "पद: भारत का प्रधानमन्त्री,जनशिकायत मंत्रालय, भारत सरकार,गुजरात विधान सभा के सदस्य,\n",
      "पुरस्कार: सीएनएन-आईबीएन इंडियन ऑफ़ द इयर,\n",
      "पति या पत्नी: जशोदाबेन नरेन्द्रभाई मोदी,\n",
      "---------------------- अन्य उपलब्ध जानकारी ----------------------\n",
      "राजनीतिक दल के सदस्य: भारतीय जनता पार्टी(भारत का प्रमुख राजनीतिक दल),\n",
      "धर्म: हिन्दू धर्म(धार्मिक धर्म),\n",
      "नागरिकता: भारत(विश्व का सबसे बड़ा संघीय गणतन्त्र),\n",
      "उदहारण है: मनुष्य(होमो-सैपीयंज़ स्तनपायी जो दो पैर पर चलता है),\n",
      "विषय की मुख्य श्रेणी: श्रेणी:नरेन्द्र मोदी(विकिमीडिया श्रेणी),\n",
      "दिया गया नाम: नरेन्द्र,\n",
      "मातृ भाषा: गुजराती(भारतीय भाषा),\n",
      "बोली या लेखी भाषा: हिन्दी(भारतीय भाषा),अंग्रेज़ी भाषा(भाषा),गुजराती(भारतीय भाषा),\n",
      "जातीय समूह: गुजराती,\n",
      "महत्वपूर्ण घटना: नरेन्द्र मोदी का शपथ ग्रहण समारोह(शपथ ग्रहण 30 मई 2019 को दूसरी बार ली),\n",
      "परिवार का नाम: मोदी(उपनाम),\n",
      "का सदस्य: भारतीय जनता पार्टी(भारत का प्रमुख राजनीतिक दल),\n"
     ]
    }
   ],
   "source": [
    "#information about  Narendra modi from the godfather\n",
    "getBiography('Q1058', biography, translation)"
   ]
  },
  {
   "cell_type": "code",
   "execution_count": 6,
   "metadata": {},
   "outputs": [
    {
     "name": "stdout",
     "output_type": "stream",
     "text": [
      "---------------------- मुख्य जानकारी ----------------------\n",
      "लिंग: पुरुष,\n",
      "जन्म स्थान: सीऐटल,\n",
      "जन्म की तारीख: 1942-05-19T00:00:00Z,\n",
      "व्यवसाय: व्यापारी,कंप्यूटर वैज्ञानिक,प्रोग्रामर,\n",
      "---------------------- अन्य उपलब्ध जानकारी ----------------------\n",
      "नागरिकता: संयुक्त राज्य अमेरिका(उत्तर अमेरिका में एक संघीय गणतन्त्र),\n",
      "उदहारण है: मनुष्य(होमो-सैपीयंज़ स्तनपायी जो दो पैर पर चलता है),\n",
      "मृत्यु का स्थान: मॉन्टेरी,\n",
      "मौत का कारण: दुर्घटना,\n",
      "कार्य क्षेत्र: संगणक विज्ञान,\n",
      "बोली या लेखी भाषा: अंग्रेज़ी भाषा(भाषा),\n"
     ]
    }
   ],
   "source": [
    "#information about Gary Kildall inventor of CP/M Operating system\n",
    "getBiography('Q92627', biography, translation)"
   ]
  },
  {
   "cell_type": "code",
   "execution_count": 7,
   "metadata": {},
   "outputs": [
    {
     "name": "stdout",
     "output_type": "stream",
     "text": [
      "नाम: ज़ुज़ाना कैपुटोवा\n",
      "---------------------- मुख्य जानकारी ----------------------\n",
      "लिंग: महिला,\n",
      "जन्म स्थान: ब्रातिस्लावा,\n",
      "जन्म की तारीख: 1973-06-21T00:00:00Z,\n",
      "व्यवसाय: वक़ील,राजनीतिज्ञ,विधिवेत्ता,पर्यावरणविद्,\n",
      "पद: स्लोवाकिया के राष्ट्रपति,\n",
      "---------------------- अन्य उपलब्ध जानकारी ----------------------\n",
      "उदहारण है: मनुष्य(होमो-सैपीयंज़ स्तनपायी जो दो पैर पर चलता है),\n",
      "नागरिकता: स्लोवाकिया,चेकोस्लोवाकिया,\n",
      "बोली या लेखी भाषा: स्लोवाक भाषा,रूसी भाषा,अंग्रेज़ी भाषा(भाषा),\n"
     ]
    }
   ],
   "source": [
    "#information about Zuzana Čaputová president of slovakia\n",
    "getBiography('Q26273268', biography, translation)"
   ]
  },
  {
   "cell_type": "markdown",
   "metadata": {},
   "source": [
    "Even though the information retrieved may seem small it is quite exhaustive as much of the linked property information is not present for these people in hindi. This mostly down to the fact that neither of the three are household names in the India and hence not much information about their works are not translated in hindi. As a comparison lets look at the information retrieved for famed hindi novelist 'Munshi Premchand'."
   ]
  },
  {
   "cell_type": "code",
   "execution_count": 8,
   "metadata": {},
   "outputs": [
    {
     "name": "stdout",
     "output_type": "stream",
     "text": [
      "नाम: प्रेमचंद\n",
      "विवरण: भारतीय हिंदी के लेखक\n",
      "---------------------- मुख्य जानकारी ----------------------\n",
      "लिंग: पुरुष,\n",
      "जन्म स्थान: वाराणसी,\n",
      "जन्म की तारीख: 1880-07-31T00:00:00Z,\n",
      "व्यवसाय: पटकथा लेखक,लेखक,उपन्यासकार,\n",
      "उल्लेखनीय कार्य: गोदान,सेवासदन,कर्मभूमि,शतरंज के खिलाड़ी,\n",
      "---------------------- अन्य उपलब्ध जानकारी ----------------------\n",
      "मृत्यु का स्थान: वाराणसी(विश्व के सर्वाधिक पौराणिक नगरों में से एक जिसे बनारस नाम से भी जाना जाता है),\n",
      "नागरिकता: ब्रिटिश राज,\n",
      "उदहारण है: मनुष्य(होमो-सैपीयंज़ स्तनपायी जो दो पैर पर चलता है),\n",
      "संतान: अमृत राय(हिन्दी लेखक),\n",
      "बोली या लेखी भाषा: हिन्दुस्तानी भाषा,हिन्दी(भारतीय भाषा),\n",
      "धर्म: हिन्दू धर्म(धार्मिक धर्म),\n"
     ]
    }
   ],
   "source": [
    "getBiography('Q174152', biography, translation)"
   ]
  },
  {
   "cell_type": "code",
   "execution_count": 9,
   "metadata": {},
   "outputs": [
    {
     "name": "stdout",
     "output_type": "stream",
     "text": [
      "नाम: नैनीताल जिला\n",
      "विवरण: उत्तराखण्ड का जिला\n",
      "---------------------- मुख्य जानकारी ----------------------\n",
      "---------------------- अन्य उपलब्ध जानकारी ----------------------\n",
      "उदहारण है: भारत के ज़िला,\n",
      "प्रशासनिक इकाई में है: कुमाऊँ मण्डल,उत्तर प्रदेश(भारत का सर्वाधिक जनसंख्या वाला  राज्य),संयुक्त प्रांत(उत्तर प्रदेश का भूतपूर्व नाम),संयुक्त प्रान्त आगरा व अवध,\n",
      "देश: भारत(विश्व का सबसे बड़ा संघीय गणतन्त्र),\n",
      "विषय की मुख्य श्रेणी: श्रेणी:नैनीताल जिला(विकिमीडिया श्रेणी),\n",
      "सीमा लगती है: पौड़ी गढ़वाल ज़िला(उत्तराखण्ड का जिला),उधम सिंह नगर जिला(उत्तराखण्ड का जिला),\n",
      "राजधानी: नैनीताल,\n"
     ]
    }
   ],
   "source": [
    "getBiography('Q1797306', biography, translation)"
   ]
  },
  {
   "cell_type": "markdown",
   "metadata": {},
   "source": [
    "## Wiki_species"
   ]
  },
  {
   "cell_type": "code",
   "execution_count": 12,
   "metadata": {},
   "outputs": [
    {
     "name": "stdout",
     "output_type": "stream",
     "text": [
      "---------------------- मुख्य जानकारी ----------------------\n",
      "---------------------- अन्य उपलब्ध जानकारी ----------------------\n",
      "वर्गीकरण स्तर: जाति,\n",
      "IUCN संरक्षण की स्थिति: गंभीर रूप से विलुप्तप्राय,\n",
      "उदहारण है: टैक्सोन,\n"
     ]
    }
   ],
   "source": [
    "getSpecies('Q279307', biography, translation)"
   ]
  },
  {
   "cell_type": "code",
   "execution_count": 15,
   "metadata": {},
   "outputs": [
    {
     "name": "stdout",
     "output_type": "stream",
     "text": [
      "नाम: नीलकंठ पक्षी\n",
      "विवरण: दशहरा पर्व पर इस पक्षी के दर्शन को शुभ और भाग्य को जगाने वाला माना जाता है।\n",
      "---------------------- मुख्य जानकारी ----------------------\n",
      "---------------------- अन्य उपलब्ध जानकारी ----------------------\n",
      "वर्गीकरण स्तर: जाति,\n",
      "IUCN संरक्षण की स्थिति: खतरे से बाहर,\n",
      "उदहारण है: टैक्सोन,\n"
     ]
    }
   ],
   "source": [
    "getSpecies('Q477133', biography, translation)"
   ]
  },
  {
   "cell_type": "markdown",
   "metadata": {},
   "source": [
    "## Wiki_places"
   ]
  },
  {
   "cell_type": "code",
   "execution_count": 14,
   "metadata": {},
   "outputs": [
    {
     "name": "stdout",
     "output_type": "stream",
     "text": [
      "नाम: नैनीताल जिला\n",
      "विवरण: उत्तराखण्ड का जिला\n",
      "---------------------- मुख्य जानकारी ----------------------\n",
      "---------------------- अन्य उपलब्ध जानकारी ----------------------\n",
      "उदहारण है: भारत के ज़िला,\n",
      "प्रशासनिक इकाई में है: कुमाऊँ मण्डल,उत्तर प्रदेश(भारत का सर्वाधिक जनसंख्या वाला  राज्य),संयुक्त प्रांत(उत्तर प्रदेश का भूतपूर्व नाम),संयुक्त प्रान्त आगरा व अवध,\n",
      "देश: भारत(विश्व का सबसे बड़ा संघीय गणतन्त्र),\n",
      "विषय की मुख्य श्रेणी: श्रेणी:नैनीताल जिला(विकिमीडिया श्रेणी),\n",
      "सीमा लगती है: पौड़ी गढ़वाल ज़िला(उत्तराखण्ड का जिला),उधम सिंह नगर जिला(उत्तराखण्ड का जिला),\n",
      "राजधानी: नैनीताल,\n"
     ]
    }
   ],
   "source": [
    "getPlaces('Q1797306', biography, translation)"
   ]
  },
  {
   "cell_type": "code",
   "execution_count": 16,
   "metadata": {},
   "outputs": [
    {
     "name": "stdout",
     "output_type": "stream",
     "text": [
      "नाम: नई दिल्ली\n",
      "विवरण: दिल्ली का जिला और भारत की राजधानी\n",
      "---------------------- मुख्य जानकारी ----------------------\n",
      "---------------------- अन्य उपलब्ध जानकारी ----------------------\n",
      "देश: भारत(विश्व का सबसे बड़ा संघीय गणतन्त्र),ब्रिटिश राज,\n",
      "उदहारण है: राजधानी,विशाल शहर(1,000,000 से अधिक की आबादी वाले शहर),भारत के ज़िला,\n",
      "प्रशासनिक इकाई में है: दिल्ली(दिल्ली की राजधानी क्या है),\n",
      "विषय की मुख्य श्रेणी: श्रेणी:नई दिल्ली(विकिमीडिया श्रेणी),\n",
      "बन्धु शहर: सिडनी(न्यू साउथ वेल्स राज्यकी राजधानी),लंदन(इंग्लैंड और यूनाइटेड किंगडम की राजधानी),कुआ लालम्पुर(मालयेचियाके राजधानी),उलान बतोर,फुकुओका प्रान्त,येरवान,मनीला(फिलीपींस की राजधानी),बॅलग्रेड,शिकागो,वॉशिंगटन डी॰ सी॰,टोक्यो,सियोल,मास्को(रूस देश की राजधानी),समरक़न्द,\n",
      "सीमा लगती है: मध्य दिल्ली(दिल्ली का जिला),\n",
      "शासनाध्यक्ष: अरविंद केजरीवाल(भारतीय राजनेता),\n",
      "राज्याध्यक्ष: अनिल बैजल,\n"
     ]
    }
   ],
   "source": [
    "getBiography('Q987', biography, translation)"
   ]
  },
  {
   "cell_type": "code",
   "execution_count": null,
   "metadata": {},
   "outputs": [],
   "source": []
  }
 ],
 "metadata": {
  "kernelspec": {
   "display_name": "Python 3",
   "language": "python",
   "name": "python3"
  },
  "language_info": {
   "codemirror_mode": {
    "name": "ipython",
    "version": 3
   },
   "file_extension": ".py",
   "mimetype": "text/x-python",
   "name": "python",
   "nbconvert_exporter": "python",
   "pygments_lexer": "ipython3",
   "version": "3.8.5"
  }
 },
 "nbformat": 4,
 "nbformat_minor": 2
}
