{
 "cells": [
  {
   "cell_type": "code",
   "execution_count": 337,
   "metadata": {},
   "outputs": [],
   "source": [
    "import sys\n",
    "import json\n",
    "from tqdm import tqdm\n",
    "import re\n",
    "import pandas as pd\n",
    "from collections import defaultdict\n",
    "from libindic import inexactsearch\n",
    "import pandas as pd\n",
    "import pickle as pkl\n",
    "from editdistance import eval as ed\n",
    "from fuzzywuzzy import fuzz\n",
    "import numpy as np\n",
    "from random import shuffle"
   ]
  },
  {
   "cell_type": "code",
   "execution_count": 384,
   "metadata": {},
   "outputs": [],
   "source": [
    "def get_score(translated_infobox , actual_infobox , debug = False):\n",
    "    inst = inexactsearch.InexactSearch()\n",
    "    markings = defaultdict(list)\n",
    "    all_keys = list(translated_infobox.keys()) + list(actual_infobox.keys())\n",
    "    translated_infobox = { key.strip() : val for key , val in translated_infobox.items()}\n",
    "    actual_infobox = { key.strip() : val for key , val in actual_infobox.items()}\n",
    "\n",
    "    for key in translated_infobox.keys():\n",
    "        for key2 in actual_infobox.keys():\n",
    "            if debug and fuzz.token_sort_ratio(key , key2) > 80:\n",
    "                print(key , key2)\n",
    "                print(fuzz.token_sort_ratio(key , key2))\n",
    "            \n",
    "            if fuzz.token_sort_ratio(key , key2) > 80:\n",
    "                if not translated_infobox[key]:\n",
    "                    markings['S'].append(key)\n",
    "                    continue \n",
    "                elif not actual_infobox[key2]:\n",
    "                    continue\n",
    "                try :\n",
    "                    val = inst.compare(translated_infobox[key] , actual_infobox[key2])\n",
    "                except :\n",
    "                    val = 0\n",
    "                if val > 0.6 :\n",
    "                    markings['C'].append(key)\n",
    "                else :\n",
    "                    markings['S'].append(key)\n",
    "                break\n",
    "    for key2 in actual_infobox.keys():\n",
    "        for key in translated_infobox.keys():\n",
    "            if fuzz.token_sort_ratio(key , key2) > 80:\n",
    "                break\n",
    "        else : \n",
    "            markings['D'].append(key2)\n",
    "    if debug :\n",
    "        print(translated_infobox)\n",
    "        print(actual_infobox)\n",
    "    if len(markings['C']) + len(markings['S']) != 0:\n",
    "        precision = len(markings['C']) / (len(markings['C']) + len(markings['S']))\n",
    "    else : precision = 0\n",
    "    if (len(markings['C']) + len(markings['S']) + len(markings['D'])) != 0:\n",
    "        recall = len(markings['C']) / (len(markings['C']) + len(markings['S']) + len(markings['D']))\n",
    "    else : recall = 0\n",
    "    return [precision , recall]"
   ]
  },
  {
   "cell_type": "code",
   "execution_count": 448,
   "metadata": {},
   "outputs": [],
   "source": [
    "def get_results(data):\n",
    "    overall_score = []\n",
    "    for ind , entry in enumerate(data) :\n",
    "        cur_score = []\n",
    "        for key , val in entry.items():\n",
    "            for i in range(3):\n",
    "                if not val[-1] : continue\n",
    "                cur_score.append(get_score(val[2 - i] , val[-1] , debug = False))\n",
    "        if not cur_score : continue\n",
    "        overall_score.append(np.array(sum(cur_score , [])))\n",
    "    df = pd.DataFrame(overall_score , columns=['M1-Precision','M1-Recall','M2-Precision','M2-Recall','Baseline-Precision','Baseline-Recall'])\n",
    "    return df"
   ]
  },
  {
   "cell_type": "code",
   "execution_count": 477,
   "metadata": {},
   "outputs": [
    {
     "name": "stdout",
     "output_type": "stream",
     "text": [
      "Number of records for people : 700\n"
     ]
    },
    {
     "data": {
      "text/plain": [
       "M1-Precision          0.324483\n",
       "M1-Recall             0.064490\n",
       "M2-Precision          0.422719\n",
       "M2-Recall             0.213753\n",
       "Baseline-Precision    0.264609\n",
       "Baseline-Recall       0.056198\n",
       "dtype: float64"
      ]
     },
     "metadata": {},
     "output_type": "display_data"
    }
   ],
   "source": [
    "data = []\n",
    "with open('people_eval_records.jsonl') as f:\n",
    "    data = [ json.loads(i) for i in f.readlines()]\n",
    "print(\"Number of records for people :\" , len(data))\n",
    "df = get_results(data)\n",
    "display(df.mean())"
   ]
  },
  {
   "cell_type": "code",
   "execution_count": 478,
   "metadata": {},
   "outputs": [
    {
     "name": "stdout",
     "output_type": "stream",
     "text": [
      "Number of records for places : 400\n"
     ]
    },
    {
     "data": {
      "text/plain": [
       "M1-Precision          0.480417\n",
       "M1-Recall             0.019363\n",
       "M2-Precision          0.169016\n",
       "M2-Recall             0.044931\n",
       "Baseline-Precision    0.356667\n",
       "Baseline-Recall       0.013532\n",
       "dtype: float64"
      ]
     },
     "metadata": {},
     "output_type": "display_data"
    }
   ],
   "source": [
    "data = []\n",
    "with open('places_eval_records.jsonl') as f:\n",
    "    data = [ json.loads(i) for i in f.readlines()]\n",
    "print(\"Number of records for places :\" , len(data))\n",
    "df = get_results(data)\n",
    "display(df.mean())"
   ]
  }
 ],
 "metadata": {
  "kernelspec": {
   "display_name": "Python 3",
   "language": "python",
   "name": "python3"
  },
  "language_info": {
   "codemirror_mode": {
    "name": "ipython",
    "version": 3
   },
   "file_extension": ".py",
   "mimetype": "text/x-python",
   "name": "python",
   "nbconvert_exporter": "python",
   "pygments_lexer": "ipython3",
   "version": "3.8.2"
  }
 },
 "nbformat": 4,
 "nbformat_minor": 4
}
