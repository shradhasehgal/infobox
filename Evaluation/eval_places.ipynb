{
 "cells": [
  {
   "cell_type": "markdown",
   "metadata": {},
   "source": [
    "### Method 1"
   ]
  },
  {
   "cell_type": "code",
   "execution_count": 3,
   "metadata": {},
   "outputs": [],
   "source": [
    "import sys\n",
    "from qwikidata.sparql import return_sparql_query_results\n",
    "from qwikidata.entity import WikidataItem, WikidataLexeme, WikidataProperty\n",
    "from qwikidata.linked_data_interface import get_entity_dict_from_api\n",
    "from SPARQLWrapper import SPARQLWrapper, JSON\n",
    "import json\n",
    "from tqdm import tqdm\n",
    "import re\n",
    "import requests as r\n",
    "import pandas as pd\n",
    "from collections import defaultdict\n",
    "from libindic import inexactsearch\n",
    "sys.path.append('../method2')\n",
    "from People_translator import Translation_Api\n",
    "translator = Translation_Api()"
   ]
  },
  {
   "cell_type": "code",
   "execution_count": 4,
   "metadata": {},
   "outputs": [],
   "source": [
    "properties = {\n",
    "    \"name\": \"P2561\",\n",
    "    \"native_name\": \"P1559\",\n",
    "    \"image\": \"P18\",\n",
    "    \"flag\": \"P163\",\n",
    "    \"map\": \"P242\",\n",
    "    \"motto\":\"P1546\",\n",
    "    \"timezone\": \"P2907\",\n",
    "    \"country\": \"P17\",\n",
    "    \"location\": \"P276\",\n",
    "    \"area / area_km2\": \"P2046\",\n",
    "    \"length / length_km\": \"P2043\",\n",
    "    \"width / width_km\": \"P2049\",\n",
    "    \"population\": \"P1082\",\n",
    "    \"elevation / elevation_m\":\"P2044\" ,\n",
    "    \"geology\" : \"P2695\",\n",
    "}\n",
    "\n",
    "to_transliteration = ['motto']"
   ]
  },
  {
   "cell_type": "code",
   "execution_count": 5,
   "metadata": {},
   "outputs": [],
   "source": [
    "def get_results(endpoint_url, query):\n",
    "    user_agent = \"WDQS-example Python/%s.%s\" % (sys.version_info[0], sys.version_info[1])\n",
    "    sparql = SPARQLWrapper(endpoint_url, agent=user_agent)\n",
    "    sparql.setQuery(query)\n",
    "    sparql.setReturnFormat(JSON)\n",
    "    return sparql.query().convert()\n",
    "\n",
    "endpoint_url = \"https://query.wikidata.org/sparql\""
   ]
  },
  {
   "cell_type": "code",
   "execution_count": 15,
   "metadata": {},
   "outputs": [],
   "source": [
    "#calls qwikidata get entity function for an entity id\n",
    "def getEntityInfo(eid):\n",
    "    return get_entity_dict_from_api(eid)\n",
    "\n",
    "#extract the name of the entity or the property value in native language\n",
    "def extractName(info):\n",
    "    return info.get('labels', {}).get('en', {}).get('value', \"\")\n",
    "\n",
    "#extract the description of the entity or the property value in native language\n",
    "def extractDescription(info):\n",
    "    return info.get('descriptions', {}).get('en', {}).get('value', \"\")\n",
    "    \n",
    "def method1_infobox(wd, bio):\n",
    "    result = {}\n",
    "    #get entity from api\n",
    "    entity_info = getEntityInfo(wd)\n",
    "    result['name'] = translator.get_transliteration(extractName(entity_info))\n",
    "    result['description'] = translator.get_translation(extractDescription(entity_info))\n",
    "    #explicitly query using sparql to get main biography data\n",
    "    for entity, wdt in bio.items():\n",
    "        spqrqlq = f\"SELECT ?entity ?entityLabel ?entityDescription WHERE {{ wd:{wd} wdt:{wdt} ?entity; SERVICE wikibase:label {{ bd:serviceParam wikibase:language \\\"en\\\". }} }}\"\n",
    "        v =  \"\"\n",
    "        res = get_results(endpoint_url, str(spqrqlq))\n",
    "        for entities in res['results']['bindings']:\n",
    "            value = entities.get('entityLabel').get('value', \"\")\n",
    "            if value != '' and 'Q' not in value:\n",
    "                v += value + ','\n",
    "        if v != \"\":\n",
    "            if entity in to_transliteration:\n",
    "                result[entity] = translator.get_transliteration(v)\n",
    "            else:\n",
    "                result[entity] = translator.get_translation(v)\n",
    "    return result"
   ]
  },
  {
   "cell_type": "markdown",
   "metadata": {},
   "source": [
    "### Method2"
   ]
  },
  {
   "cell_type": "code",
   "execution_count": 16,
   "metadata": {},
   "outputs": [],
   "source": [
    "import wptools\n",
    "import json\n",
    "from tqdm import tqdm\n",
    "import re\n",
    "import requests as r\n",
    "from collections import defaultdict"
   ]
  },
  {
   "cell_type": "code",
   "execution_count": 17,
   "metadata": {},
   "outputs": [],
   "source": [
    "def update(infobox , translator):\n",
    "    infobox = defaultdict(str , infobox)\n",
    "    updated_infobox = {}\n",
    "    updated_infobox['name'] = translator.get_transliteration(infobox['name'])\n",
    "    updated_infobox['native_name'] = infobox['native_name']\n",
    "    updated_infobox['category'] = translator.get_translation(infobox['settlement_type'])\n",
    "    \n",
    "    updated_infobox['image'] = infobox['image_skyline']\n",
    "    if updated_infobox['image'] == '' : \n",
    "        updated_infobox['image'] = infobox['image']\n",
    "    updated_infobox['image_caption'] = translator.get_translation(infobox['image_caption'])\n",
    "    updated_infobox['flag'] = infobox['flag']\n",
    "    updated_infobox['map'] = infobox['map']\n",
    "    updated_infobox['map_caption'] = translator.get_translation(infobox['map_caption'])\n",
    "    updated_infobox['motto'] = translator.get_transliteration(infobox['motto'])\n",
    "    updated_infobox['timezone'] = infobox['timezone']\n",
    "    \n",
    "    updated_infobox['country'] = translator.get_translation(infobox['country'])\n",
    "    updated_infobox['state'] = translator.get_translation(infobox['state'])\n",
    "    updated_infobox['region'] = translator.get_translation(infobox['region'])\n",
    "    updated_infobox['district'] = translator.get_translation(infobox['district'])\n",
    "    updated_infobox['municipality'] = translator.get_translation(infobox['municipality'])\n",
    "    updated_infobox['location'] = translator.get_translation(infobox['location'])\n",
    "    updated_infobox['area'] = infobox['area_km2']\n",
    "    updated_infobox['length'] = infobox['length_km']\n",
    "    updated_infobox['width'] = infobox['width_km']\n",
    "    \n",
    "    updated_infobox['population'] = translator.get_translation(infobox['population'])\n",
    "    updated_infobox['elevation'] = infobox['elevation_m']\n",
    "    \n",
    "    updated_infobox['animal'] = translator.get_translation(infobox['animal'])\n",
    "    updated_infobox['plant'] = translator.get_translation(infobox['plant'])\n",
    "    updated_infobox['geology'] = translator.get_translation(infobox['geology'])\n",
    "    updated_infobox = { key : val for key , val in updated_infobox.items() if val!=''}\n",
    "    cur_len = len(updated_infobox)\n",
    "    if len(updated_infobox) < 15:\n",
    "        for key , val in infobox.items():\n",
    "            if key in updated_infobox : continue\n",
    "            updated_infobox[key] = translator.get_transliteration(val)\n",
    "            if len(updated_infobox) == 15: break\n",
    "    updated_infobox = { key : val for key , val in updated_infobox.items() if val!=''}\n",
    "    return updated_infobox"
   ]
  },
  {
   "cell_type": "code",
   "execution_count": 18,
   "metadata": {},
   "outputs": [],
   "source": [
    "def method2_infobox(name):\n",
    "    page = wptools.page(name).get_parse()\n",
    "    result = update(page.data['infobox'] , translator)\n",
    "    return result"
   ]
  },
  {
   "cell_type": "markdown",
   "metadata": {},
   "source": [
    "### Baseline"
   ]
  },
  {
   "cell_type": "code",
   "execution_count": 23,
   "metadata": {},
   "outputs": [],
   "source": [
    "def getEntityInfo(eid):\n",
    "    return get_entity_dict_from_api(eid)\n",
    "\n",
    "#extract the name of the entity or the property value in native language\n",
    "def extractNameBaseline(info):\n",
    "    return info.get('labels', {}).get('hi', {}).get('value', \"\")\n",
    "\n",
    "#extract the description of the entity or the property value in native language\n",
    "def extractDescriptionBaseline(info):\n",
    "    return info.get('descriptions', {}).get('hi', {}).get('value', \"\")\n",
    "\n",
    "#print the name and the description\n",
    "def printNameAndDescriptionBaseline(info, trans):\n",
    "    name = extractName(info)\n",
    "    if name != \"\":\n",
    "        print(trans['name'] + \":\", name)\n",
    "    desc = extractDescription(info)\n",
    "    if desc != \"\":\n",
    "        print(trans['description'] + \":\", desc)\n",
    "    \n",
    "def baseline_infobox(wd, bio):\n",
    "    result = {}\n",
    "    #get entity from api\n",
    "    entity_info = getEntityInfo(wd)\n",
    "    #print name and description\n",
    "#     printNameAndDescription(entity_info, trans)\n",
    "    result['name'] = extractNameBaseline(entity_info)\n",
    "    result['description'] = extractDescriptionBaseline(entity_info)\n",
    "    #explicitly query using sparql to get main biography data\n",
    "#     print(\"----------------------\",trans['main_info'],\"----------------------\")\n",
    "    for entity, wdt in bio.items():\n",
    "        spqrqlq = f\"SELECT ?entity ?entityLabel ?entityDescription WHERE {{ wd:{wd} wdt:{wdt} ?entity; SERVICE wikibase:label {{ bd:serviceParam wikibase:language \\\"hi\\\". }} }}\"\n",
    "        v = \"\"\n",
    "        res = get_results(endpoint_url, str(spqrqlq))\n",
    "        for entities in res['results']['bindings']:\n",
    "            value = entities.get('entityLabel').get('value', \"\")\n",
    "            if value != '' and 'Q' not in value:\n",
    "                v += value + ','\n",
    "        if v != \"\":\n",
    "            result[entity] = v\n",
    "    return result\n",
    "#             print(s + v)\n",
    "            "
   ]
  },
  {
   "cell_type": "code",
   "execution_count": 24,
   "metadata": {},
   "outputs": [],
   "source": [
    "def get_score(translated_infobox , actual_infobox):\n",
    "    inst = inexactsearch.InexactSearch()\n",
    "    markings = defaultdict(list)\n",
    "    for key in translated_infobox.keys():\n",
    "        if key in actual_infobox.keys() and key!='image':\n",
    "#             print(key)\n",
    "#             print(translated_infobox[key] , actual_infobox[key]) \n",
    "            val = inst.compare(translated_infobox[key] , actual_infobox[key])\n",
    "            if val > 0.70 :\n",
    "                markings['C'].append(key)\n",
    "            else : markings['S'].append(key)\n",
    "    for key in actual_infobox.keys():\n",
    "        if key not in translated_infobox.keys():\n",
    "            markings['D'].append(key)\n",
    "    if len(markings['C']) + len(markings['S']) != 0:\n",
    "        precision = len(markings['C']) / (len(markings['C']) + len(markings['S']))\n",
    "    else : precision = 0\n",
    "    recall = len(markings['C']) / (len(markings['C']) + len(markings['S']) + len(markings['D']))\n",
    "    print('Precisions :',precision)\n",
    "    print('Recall :',recall)\n",
    "    return precision , recall"
   ]
  },
  {
   "cell_type": "code",
   "execution_count": 25,
   "metadata": {},
   "outputs": [],
   "source": [
    "places_list = [\n",
    "    ['Narendra Modi', 'नरेन्द्र मोदी', 'Q1058'],\n",
    "    ['Indira Gandhi', 'इन्दिरा गांधी', 'Q1149'],\n",
    "    ['Leonard Cohen', 'लिओनार्ड कोहेन', 'Q1276'],\n",
    "    ['Donald Trump' , 'डॉनल्ड ट्रम्प' , 'Q22686'],\n",
    "    ['Amitabh Bachchan','अमिताभ बच्चन','Q9570'],\n",
    "    ['Sachin Tendulkar','सचिन तेंदुलकर','Q9488'],\n",
    "    ['Virat Kohli','विराट कोहली','Q213854'],\n",
    "    ['Joe Biden','जो बाइडेन','Q6279'],\n",
    "    ['Malala Yousafzai' ,'मलाला युसुफ़ज़ई','Q32732']\n",
    "]"
   ]
  },
  {
   "cell_type": "code",
   "execution_count": 26,
   "metadata": {},
   "outputs": [
    {
     "name": "stdout",
     "output_type": "stream",
     "text": [
      "Narendra Modi नरेन्द्र मोदी Q1058\n"
     ]
    },
    {
     "name": "stderr",
     "output_type": "stream",
     "text": [
      "hi.wikipedia.org (parse) नरेन्द्र मोदी\n",
      "hi.wikipedia.org (imageinfo) File:PM Modi Portrait(cropped).jpg\n",
      "नरेन्द्र मोदी (hi) data\n",
      "{\n",
      "  image: <list(1)> {'kind': 'parse-image', 'file': 'File:PM Modi P...\n",
      "  infobox: <dict(26)> image, office, president, term_start, predec...\n",
      "  iwlinks: <list(3)> https://commons.wikimedia.org/wiki/Category:N...\n",
      "  pageid: 26262\n",
      "  parsetree: <str(111383)> <root><template><title>Infobox officeho...\n",
      "  requests: <list(2)> parse, imageinfo\n",
      "  title: नरेन्द्र मोदी\n",
      "  wikibase: Q1058\n",
      "  wikidata_url: https://www.wikidata.org/wiki/Q1058\n",
      "  wikitext: <str(90526)> {{Infobox officeholder|image    = PM Modi...\n",
      "}\n",
      "en.wikipedia.org (parse) Narendra Modi\n",
      "en.wikipedia.org (imageinfo) File:Prime Minister, Shri Narendra M...\n",
      "Narendra Modi (en) data\n",
      "{\n",
      "  image: <list(1)> {'kind': 'parse-image', 'file': 'File:Prime Min...\n",
      "  infobox: <dict(46)> image, image_size, order, office, president,...\n",
      "  iwlinks: <list(3)> https://commons.wikimedia.org/wiki/Category:N...\n",
      "  pageid: 444222\n",
      "  parsetree: <str(272386)> <root><template><title>short descriptio...\n",
      "  requests: <list(2)> parse, imageinfo\n",
      "  title: Narendra Modi\n",
      "  wikibase: Q1058\n",
      "  wikidata_url: https://www.wikidata.org/wiki/Q1058\n",
      "  wikitext: <str(217547)> {{short description|14th and current Pri...\n",
      "}\n"
     ]
    },
    {
     "name": "stdout",
     "output_type": "stream",
     "text": [
      "For  Narendra Modi\n",
      "For method1\n",
      "Precisions : 0\n",
      "Recall : 0.0\n",
      "For method2\n",
      "Precisions : 0.5\n",
      "Recall : 0.08\n",
      "For baseline\n",
      "Precisions : 0\n",
      "Recall : 0.0\n",
      "Indira Gandhi इन्दिरा गांधी Q1149\n"
     ]
    },
    {
     "name": "stderr",
     "output_type": "stream",
     "text": [
      "hi.wikipedia.org (parse) इन्दिरा गांधी\n",
      "hi.wikipedia.org (imageinfo) File:Indira Gandhi in 1967.jpg\n",
      "इन्दिरा गांधी (hi) data\n",
      "{\n",
      "  image: <list(1)> {'kind': 'parse-image', 'file': 'File:Indira Ga...\n",
      "  infobox: <dict(54)> name, image, imagesize, office, president, t...\n",
      "  pageid: 10189\n",
      "  parsetree: <str(42896)> <root><template><title>Infobox officehol...\n",
      "  requests: <list(2)> parse, imageinfo\n",
      "  title: इन्दिरा गांधी\n",
      "  wikibase: Q1149\n",
      "  wikidata_url: https://www.wikidata.org/wiki/Q1149\n",
      "  wikitext: <str(36301)> {{Infobox officeholder|name     = इन्दिरा...\n",
      "}\n",
      "en.wikipedia.org (parse) Indira Gandhi\n",
      "en.wikipedia.org (imageinfo) File:Indira Gandhi in 1967.jpg\n",
      "Indira Gandhi (en) data\n",
      "{\n",
      "  image: <list(1)> {'kind': 'parse-image', 'file': 'File:Indira Ga...\n",
      "  infobox: <dict(63)> name, image, party, order, office, term_star...\n",
      "  iwlinks: <list(5)> https://commons.wikimedia.org/wiki/Category:I...\n",
      "  pageid: 15179\n",
      "  parsetree: <str(221003)> <root><template><title>short descriptio...\n",
      "  requests: <list(2)> parse, imageinfo\n",
      "  title: Indira Gandhi\n",
      "  wikibase: Q1149\n",
      "  wikidata_url: https://www.wikidata.org/wiki/Q1149\n",
      "  wikitext: <str(172815)> {{short description|3rd and first female...\n",
      "}\n"
     ]
    },
    {
     "name": "stdout",
     "output_type": "stream",
     "text": [
      "For  Indira Gandhi\n",
      "For method1\n",
      "Precisions : 1.0\n",
      "Recall : 0.018867924528301886\n",
      "For method2\n",
      "Precisions : 0.375\n",
      "Recall : 0.05660377358490566\n",
      "For baseline\n",
      "Precisions : 1.0\n",
      "Recall : 0.018867924528301886\n",
      "['Indira Gandhi', 'इन्दिरा गांधी', 'Q1149']\n",
      "Leonard Cohen लिओनार्ड कोहेन Q1276\n"
     ]
    },
    {
     "name": "stderr",
     "output_type": "stream",
     "text": [
      "hi.wikipedia.org (parse) लिओनार्ड कोहेन\n",
      "hi.wikipedia.org (imageinfo) File:Leonard Cohen, 1988 01.jpg\n",
      "लिओनार्ड कोहेन (hi) data\n",
      "{\n",
      "  image: <list(1)> {'kind': 'parse-image', 'file': 'File:Leonard C...\n",
      "  infobox: <dict(15)> name, background, image, caption, birth_name...\n",
      "  pageid: 826493\n",
      "  parsetree: <str(8483)> <root><template><title>Infobox musical ar...\n",
      "  requests: <list(2)> parse, imageinfo\n",
      "  title: लिओनार्ड कोहेन\n",
      "  wikibase: Q1276\n",
      "  wikidata_url: https://www.wikidata.org/wiki/Q1276\n",
      "  wikitext: <str(6134)> {{Infobox musical artist| name            ...\n",
      "}\n",
      "en.wikipedia.org (parse) Leonard Cohen\n",
      "en.wikipedia.org (imageinfo) File:Leonard Cohen, 1988 01.jpg\n",
      "Leonard Cohen (en) data\n",
      "{\n",
      "  image: <list(1)> {'kind': 'parse-image', 'file': 'File:Leonard C...\n",
      "  infobox: <dict(17)> name, honorific_suffix, background, image, c...\n",
      "  iwlinks: <list(4)> https://commons.wikimedia.org/wiki/Category:L...\n",
      "  pageid: 19965375\n",
      "  parsetree: <str(194708)> <root><template><title>pp-move</title><...\n",
      "  requests: <list(2)> parse, imageinfo\n",
      "  title: Leonard Cohen\n",
      "  wikibase: Q1276\n",
      "  wikidata_url: https://www.wikidata.org/wiki/Q1276\n",
      "  wikitext: <str(157288)> {{pp-move|small=yes}}{{short description...\n",
      "}\n"
     ]
    },
    {
     "name": "stdout",
     "output_type": "stream",
     "text": [
      "For  Leonard Cohen\n",
      "For method1\n",
      "Precisions : 1.0\n",
      "Recall : 0.07142857142857142\n",
      "For method2\n",
      "Precisions : 0.5\n",
      "Recall : 0.42857142857142855\n",
      "For baseline\n",
      "Precisions : 1.0\n",
      "Recall : 0.07142857142857142\n",
      "['Leonard Cohen', 'लिओनार्ड कोहेन', 'Q1276']\n",
      "Donald Trump डॉनल्ड ट्रम्प Q22686\n"
     ]
    },
    {
     "name": "stderr",
     "output_type": "stream",
     "text": [
      "hi.wikipedia.org (parse) डॉनल्ड ट्रम्प\n",
      "hi.wikipedia.org (imageinfo) File:Donald Trump speaking with supp...\n",
      "डॉनल्ड ट्रम्प (hi) data\n",
      "{\n",
      "  image: <list(1)> {'kind': 'parse-image', 'file': 'File:Donald Tr...\n",
      "  infobox: <dict(19)> name, image, imagesize, caption, order, offi...\n",
      "  iwlinks: <list(1)> https://en.wikipedia.org/wiki/wikt:proprietor\n",
      "  pageid: 470945\n",
      "  parsetree: <str(20107)> <root><template><title>Infobox Officehol...\n",
      "  requests: <list(2)> parse, imageinfo\n",
      "  title: डॉनल्ड ट्रम्प\n",
      "  wikibase: Q22686\n",
      "  wikidata_url: https://www.wikidata.org/wiki/Q22686\n",
      "  wikitext: <str(14620)> {{Infobox Officeholder|name = डॉनल्ड ट्रम...\n",
      "}\n",
      "en.wikipedia.org (parse) Donald Trump\n",
      "en.wikipedia.org (imageinfo) File:Donald Trump official portrait.jpg\n",
      "Donald Trump (en) data\n",
      "{\n",
      "  image: <list(1)> {'kind': 'parse-image', 'file': 'File:Donald Tr...\n",
      "  infobox: <dict(22)> image, alt, order, office, vicepresident, te...\n",
      "  iwlinks: <list(6)> https://commons.wikimedia.org/wiki/Special:Se...\n",
      "  pageid: 4848272\n",
      "  parsetree: <str(598894)> <root><template><title>short descriptio...\n",
      "  requests: <list(2)> parse, imageinfo\n",
      "  title: Donald Trump\n",
      "  wikibase: Q22686\n",
      "  wikidata_url: https://www.wikidata.org/wiki/Q22686\n",
      "  wikitext: <str(494721)> {{short description|45th president of th...\n",
      "}\n"
     ]
    },
    {
     "name": "stdout",
     "output_type": "stream",
     "text": [
      "For  Donald Trump\n",
      "For method1\n",
      "Precisions : 0.0\n",
      "Recall : 0.0\n",
      "For method2\n",
      "Precisions : 0.3\n",
      "Recall : 0.16666666666666666\n",
      "For baseline\n",
      "Precisions : 0.0\n",
      "Recall : 0.0\n",
      "Amitabh Bachchan अमिताभ बच्चन Q9570\n"
     ]
    },
    {
     "name": "stderr",
     "output_type": "stream",
     "text": [
      "hi.wikipedia.org (parse) अमिताभ बच्चन\n",
      "अमिताभ बच्चन (hi) data\n",
      "{\n",
      "  iwlinks: <list(1)> https://en.wikipedia.org/wiki/WP:Dead_externa...\n",
      "  pageid: 1838\n",
      "  parsetree: <str(85335)> <root><template><title>ज्ञानसन्दूक व्यक्...\n",
      "  requests: <list(1)> parse\n",
      "  title: अमिताभ बच्चन\n",
      "  wikibase: Q9570\n",
      "  wikidata_url: https://www.wikidata.org/wiki/Q9570\n",
      "  wikitext: <str(73058)> {{ज्ञानसन्दूक व्यक्ति|name = अमिताभ बच्चन...\n",
      "}\n",
      "hi.wikipedia.org (parse) सचिन तेंदुलकर\n"
     ]
    },
    {
     "name": "stdout",
     "output_type": "stream",
     "text": [
      "Sachin Tendulkar सचिन तेंदुलकर Q9488\n"
     ]
    },
    {
     "name": "stderr",
     "output_type": "stream",
     "text": [
      "hi.wikipedia.org (imageinfo) File:Sachin Tendulkar at MRF Promoti...\n",
      "सचिन तेंदुलकर (hi) data\n",
      "{\n",
      "  image: <list(1)> {'kind': 'parse-image', 'file': 'File:Sachin Te...\n",
      "  infobox: <dict(99)> playername, birth_date, image, caption, imag...\n",
      "  iwlinks: <list(3)> https://en.wikipedia.org/wiki/WP:Dead_externa...\n",
      "  pageid: 2319\n",
      "  parsetree: <str(44148)> <root><template><title>Infobox cricketer...\n",
      "  requests: <list(2)> parse, imageinfo\n",
      "  title: सचिन तेंदुलकर\n",
      "  wikibase: Q9488\n",
      "  wikidata_url: https://www.wikidata.org/wiki/Q9488\n",
      "  wikitext: <str(33379)> {{Infobox cricketer| playername = सचिन ते...\n",
      "}\n",
      "en.wikipedia.org (parse) Sachin Tendulkar\n",
      "en.wikipedia.org (imageinfo) File:The cricket legend Sachin Tendu...\n",
      "Sachin Tendulkar (en) data\n",
      "{\n",
      "  image: <list(1)> {'kind': 'parse-image', 'file': 'File:The crick...\n",
      "  infobox: <dict(101)> name, image, caption, country, fullname, ni...\n",
      "  iwlinks: <list(2)> https://commons.wikimedia.org/wiki/Category:S...\n",
      "  pageid: 57570\n",
      "  parsetree: <str(317325)> <root><template><title>Short descriptio...\n",
      "  requests: <list(2)> parse, imageinfo\n",
      "  title: Sachin Tendulkar\n",
      "  wikibase: Q9488\n",
      "  wikidata_url: https://www.wikidata.org/wiki/Q9488\n",
      "  wikitext: <str(265741)> {{Short description|Indian former intern...\n",
      "}\n"
     ]
    },
    {
     "name": "stdout",
     "output_type": "stream",
     "text": [
      "For  Sachin Tendulkar\n",
      "For method1\n",
      "Precisions : 0\n",
      "Recall : 0.0\n",
      "For method2\n",
      "Precisions : 0.2727272727272727\n",
      "Recall : 0.030612244897959183\n",
      "For baseline\n",
      "Precisions : 0\n",
      "Recall : 0.0\n",
      "Virat Kohli विराट कोहली Q213854\n"
     ]
    },
    {
     "name": "stderr",
     "output_type": "stream",
     "text": [
      "hi.wikipedia.org (parse) विराट कोहली\n",
      "hi.wikipedia.org (imageinfo) File:The President, Shri Pranab Mukh...\n",
      "विराट कोहली (hi) data\n",
      "{\n",
      "  image: <list(1)> {'kind': 'parse-image', 'file': 'File:The Presi...\n",
      "  infobox: <dict(99)> name, image, image_size, caption, birth_date...\n",
      "  pageid: 163049\n",
      "  parsetree: <str(65020)> <root><template><title>Infobox cricketer...\n",
      "  requests: <list(2)> parse, imageinfo\n",
      "  title: विराट कोहली\n",
      "  wikibase: Q213854\n",
      "  wikidata_url: https://www.wikidata.org/wiki/Q213854\n",
      "  wikitext: <str(51905)> {{Infobox cricketer| name = विराट कोहली| ...\n",
      "}\n",
      "en.wikipedia.org (parse) Virat Kohli\n",
      "en.wikipedia.org (imageinfo) File:The President, Shri Pranab Mukh...\n",
      "Virat Kohli (en) data\n",
      "{\n",
      "  image: <list(1)> {'kind': 'parse-image', 'file': 'File:The Presi...\n",
      "  infobox: <dict(97)> name, image, caption, birth_date, birth_plac...\n",
      "  iwlinks: <list(2)> https://commons.wikimedia.org/wiki/Category:V...\n",
      "  pageid: 16017429\n",
      "  parsetree: <str(264280)> <root><template><title>short descriptio...\n",
      "  requests: <list(2)> parse, imageinfo\n",
      "  title: Virat Kohli\n",
      "  wikibase: Q213854\n",
      "  wikidata_url: https://www.wikidata.org/wiki/Q213854\n",
      "  wikitext: <str(222290)> {{short description|Indian international...\n",
      "}\n"
     ]
    },
    {
     "name": "stdout",
     "output_type": "stream",
     "text": [
      "For  Virat Kohli\n",
      "For method1\n",
      "Precisions : 1.0\n",
      "Recall : 0.01020408163265306\n",
      "For method2\n",
      "Precisions : 0.35714285714285715\n",
      "Recall : 0.05102040816326531\n",
      "For baseline\n",
      "Precisions : 1.0\n",
      "Recall : 0.01020408163265306\n",
      "['Virat Kohli', 'विराट कोहली', 'Q213854']\n",
      "Joe Biden जो बाइडेन Q6279\n"
     ]
    },
    {
     "name": "stderr",
     "output_type": "stream",
     "text": [
      "hi.wikipedia.org (parse) जो बाइडेन\n",
      "hi.wikipedia.org (imageinfo) File:Joe Biden official portrait 2013.jpg\n",
      "जो बाइडेन (hi) data\n",
      "{\n",
      "  image: <list(1)> {'kind': 'parse-image', 'file': 'File:Joe Biden...\n",
      "  infobox: <dict(60)> name, image, caption, office, vicepresident,...\n",
      "  pageid: 777228\n",
      "  parsetree: <str(11977)> <root><template><title>Current person</t...\n",
      "  requests: <list(2)> parse, imageinfo\n",
      "  title: जो बाइडेन\n",
      "  wikibase: Q6279\n",
      "  wikidata_url: https://www.wikidata.org/wiki/Q6279\n",
      "  wikitext: <str(6640)> {{Current person|date=November 2020}}{{Inf...\n",
      "}\n",
      "en.wikipedia.org (parse) Joe Biden\n",
      "en.wikipedia.org (imageinfo) File:Joe Biden official portrait 2013.jpg\n",
      "Joe Biden (en) data\n",
      "{\n",
      "  image: <list(1)> {'kind': 'parse-image', 'file': 'File:Joe Biden...\n",
      "  infobox: <dict(60)> image, caption, office, vicepresident, term_...\n",
      "  iwlinks: <list(5)> https://commons.wikimedia.org/wiki/Category:J...\n",
      "  pageid: 145422\n",
      "  parsetree: <str(332975)> <root><template><title>short descriptio...\n",
      "  requests: <list(2)> parse, imageinfo\n",
      "  title: Joe Biden\n",
      "  wikibase: Q6279\n",
      "  wikidata_url: https://www.wikidata.org/wiki/Q6279\n",
      "  wikitext: <str(254158)> {{short description|President-elect of t...\n",
      "}\n"
     ]
    },
    {
     "name": "stdout",
     "output_type": "stream",
     "text": [
      "For  Joe Biden\n",
      "For method1\n",
      "Precisions : 0.0\n",
      "Recall : 0.0\n",
      "For method2\n",
      "Precisions : 0.46153846153846156\n",
      "Recall : 0.1016949152542373\n",
      "For baseline\n",
      "Precisions : 1.0\n",
      "Recall : 0.01694915254237288\n",
      "['Joe Biden', 'जो बाइडेन', 'Q6279']\n",
      "Malala Yousafzai मलाला युसुफ़ज़ई Q32732\n"
     ]
    },
    {
     "name": "stderr",
     "output_type": "stream",
     "text": [
      "hi.wikipedia.org (parse) मलाला युसुफ़ज़ई\n"
     ]
    },
    {
     "name": "stdout",
     "output_type": "stream",
     "text": [
      "\n"
     ]
    },
    {
     "name": "stderr",
     "output_type": "stream",
     "text": [
      "मलाला युसुफ़ज़ई (hi) data\n",
      "{\n",
      "  pageid: 497010\n",
      "  parsetree: <str(21362)> <root><template><title>ज्ञानसन्दूक व्यक्...\n",
      "  requests: <list(1)> parse\n",
      "  title: मलाला युसुफ़ज़ई\n",
      "  wikibase: Q32732\n",
      "  wikidata_url: https://www.wikidata.org/wiki/Q32732\n",
      "  wikitext: <str(17798)> {{ज्ञानसन्दूक व्यक्ति|name     = मलाला यु...\n",
      "}\n"
     ]
    }
   ],
   "source": [
    "scores_m1 = []\n",
    "scores_m2 = []\n",
    "scores_base = []\n",
    "final_people = []\n",
    "for en_name , hi_name , qid in places_list:\n",
    "    print(en_name , hi_name , qid)\n",
    "    actual_infobox = translator.get_page(hi_name , language = 'hi').data['infobox']\n",
    "    if actual_infobox == None: continue\n",
    "    method1 = method1_infobox(qid, properties)\n",
    "    method2 = method2_infobox(en_name)\n",
    "    baseline = baseline_infobox(qid,properties)\n",
    "#     break\n",
    "    print(\"For \", en_name)\n",
    "    print(\"For method1\")\n",
    "    scores_m1.append(get_score(method1 , actual_infobox))\n",
    "    print(\"For method2\")\n",
    "    scores_m2.append(get_score(method2 , actual_infobox))\n",
    "    print(\"For baseline\")\n",
    "    scores_base.append(get_score(baseline , actual_infobox))\n",
    "    if (scores_base[-1][0] > 0.5 or scores_m1[-1][0] > 0.5 or scores_m2[-1][0] > 0.5):\n",
    "        final_people.append([en_name,hi_name,qid])\n",
    "        print(final_people[-1])\n",
    "        #     break\n",
    "\n",
    "    if len(final_people) == 15: break\n",
    "print()"
   ]
  },
  {
   "cell_type": "code",
   "execution_count": 109,
   "metadata": {
    "collapsed": true,
    "jupyter": {
     "outputs_hidden": true
    }
   },
   "outputs": [
    {
     "name": "stderr",
     "output_type": "stream",
     "text": [
      "hi.wikipedia.org (parse) डेविड बोवी\n"
     ]
    },
    {
     "name": "stdout",
     "output_type": "stream",
     "text": [
      "{'Name': 'David Bowie', 'Img': 'Heathen Tour Bowie.jpg', 'Img_capt': 'Bowie during the [[Heathen Tour]] in 2002.', 'Background': 'solo_singer', 'Birth_name': 'David Robert Jones (1947-2016)', 'Born': '{{Birth date |1947|1|8|df|=|yes}} <br />[[Brixton]], London, England - 10 january [[2016]].', 'Years_active': '1964–[[2016]]', 'Occupation': 'Musician, actor, record producer, arranger', 'Voice_type': 'Baritone', 'Instrument': 'Guitar, saxophone, piano, keyboards, synthesizers, [[Mellotron]], [[harmonica]], [[Stylophone]], [[xylophone]], [[vibraphone]], [[Koto (musical instrument)|koto]], drums, percussion', 'Genre': 'Rock, [[glam rock]], [[pop rock]], [[art rock]], [[blue-eyed soul]], [[psychedelic rock]], [[protopunk]]', 'Associated_acts': '[[The Riot Squad]], [[Tin Machine]]', 'Label': '[[Deram Records|Deram]], [[RCA Records|RCA]], [[Rykodisc]], [[Virgin Records|Virgin]], [[EMI Records|EMI]], [[ISO Records|ISO]], [[Columbia Records|Columbia]], [[Bertelsmann Music Group|BMG]], [[Parlophone Records|Parlophone]], [[Pye Records|Pye]], [[Hansa Records|Hanso]]', 'URL': '[http://www.davidbowie.com Official Website]'}\n"
     ]
    },
    {
     "name": "stderr",
     "output_type": "stream",
     "text": [
      "डेविड बोवी (hi) data\n",
      "{\n",
      "  infobox: <dict(14)> Name, Img, Img_capt, Background, Birth_name,...\n",
      "  iwlinks: <list(4)> https://commons.wikimedia.org/wiki/Category:D...\n",
      "  pageid: 219951\n",
      "  parsetree: <str(126632)> <root><template><title>Use British Engl...\n",
      "  requests: <list(1)> parse\n",
      "  title: डेविड बोवी\n",
      "  wikibase: Q5383\n",
      "  wikidata_url: https://www.wikidata.org/wiki/Q5383\n",
      "  wikitext: <str(103037)> {{Use British English|date=अगस्त 2010}}{...\n",
      "}\n"
     ]
    }
   ],
   "source": [
    "actual_infobox = translator.get_page('डेविड बोवी' , language = 'hi').data['infobox']\n",
    "print(actual_infobox)"
   ]
  },
  {
   "cell_type": "code",
   "execution_count": 101,
   "metadata": {},
   "outputs": [
    {
     "name": "stdout",
     "output_type": "stream",
     "text": [
      "[(0.0, 0.0), (0.25, 0.04), (0.25, 0.018867924528301886), (0.3333333333333333, 0.04), (0.5, 0.07142857142857142)]\n"
     ]
    }
   ],
   "source": [
    "print(scores_base)"
   ]
  },
  {
   "cell_type": "code",
   "execution_count": 121,
   "metadata": {},
   "outputs": [],
   "source": [
    "final_people2 = final_people.copy()\n",
    "scores_base2 = scores_base.copy()\n",
    "scores_m1 = scores_m1.copy()\n",
    "scores_m2 = scores_m2.copy()"
   ]
  },
  {
   "cell_type": "code",
   "execution_count": 120,
   "metadata": {},
   "outputs": [
    {
     "data": {
      "text/plain": [
       "[(0.38461538461538464, 0.08620689655172414),\n",
       " (0.625, 0.2),\n",
       " (0.5454545454545454, 0.11320754716981132),\n",
       " (0.3333333333333333, 0.12),\n",
       " (0.5, 0.42857142857142855),\n",
       " (0, 0.0),\n",
       " (0.1111111111111111, 0.1111111111111111),\n",
       " (0.1111111111111111, 0.09090909090909091),\n",
       " (0, 0.0),\n",
       " (0.36363636363636365, 0.26666666666666666),\n",
       " (0.3333333333333333, 0.21428571428571427),\n",
       " (0.36363636363636365, 0.08333333333333333),\n",
       " (0.2857142857142857, 0.18181818181818182),\n",
       " (0, 0.0),\n",
       " (0.25, 0.08333333333333333)]"
      ]
     },
     "execution_count": 120,
     "metadata": {},
     "output_type": "execute_result"
    }
   ],
   "source": [
    "scores_m2"
   ]
  },
  {
   "cell_type": "code",
   "execution_count": null,
   "metadata": {},
   "outputs": [],
   "source": [
    "🐦🐦🐦🐦🐦🐦🐦🐦🐦🐦🐦🐦🐦🐦🐦🐦🐦🐦🐦"
   ]
  }
 ],
 "metadata": {
  "kernelspec": {
   "display_name": "Python 3",
   "language": "python",
   "name": "python3"
  },
  "language_info": {
   "codemirror_mode": {
    "name": "ipython",
    "version": 3
   },
   "file_extension": ".py",
   "mimetype": "text/x-python",
   "name": "python",
   "nbconvert_exporter": "python",
   "pygments_lexer": "ipython3",
   "version": "3.8.2"
  }
 },
 "nbformat": 4,
 "nbformat_minor": 4
}
