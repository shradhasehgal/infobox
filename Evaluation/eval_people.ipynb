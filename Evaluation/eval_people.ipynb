{
 "cells": [
  {
   "cell_type": "markdown",
   "metadata": {},
   "source": [
    "### Method 1"
   ]
  },
  {
   "cell_type": "code",
   "execution_count": 1,
   "metadata": {},
   "outputs": [],
   "source": [
    "import sys\n",
    "from qwikidata.sparql import return_sparql_query_results\n",
    "from qwikidata.entity import WikidataItem, WikidataLexeme, WikidataProperty\n",
    "from qwikidata.linked_data_interface import get_entity_dict_from_api\n",
    "from SPARQLWrapper import SPARQLWrapper, JSON\n",
    "import json\n",
    "from tqdm import tqdm\n",
    "import re\n",
    "import requests as r\n",
    "import pandas as pd\n",
    "from collections import defaultdict\n",
    "from libindic import inexactsearch\n",
    "import pandas as pd\n",
    "import pickle as pkl\n",
    "sys.path.append('../method2')\n",
    "from People_translator import Translation_Api\n",
    "translator = Translation_Api()"
   ]
  },
  {
   "cell_type": "code",
   "execution_count": 2,
   "metadata": {},
   "outputs": [],
   "source": [
    "biography = {\n",
    "    \"image\": \"P18\",\n",
    "    \"gender\":\"P21\",\n",
    "    \"residence\":\"P551\",\n",
    "    \"birth_place\":\"P19\",\n",
    "    \"birth_date\":\"P569\",\n",
    "    \"profession\": \"P106\",\n",
    "    \"notable_works\": \"P800\",\n",
    "    \"education\": \"P69\",\n",
    "    \"positions\":\"P39\",\n",
    "    \"awards\": \"P166\",\n",
    "    \"spouse\": \"P26\",\n",
    "    \"nationality\": \"P27\",\n",
    "}\n",
    "\n",
    "translation = {\n",
    "    \"name\":\"नाम\",\n",
    "    \"description\":\"विवरण\",\n",
    "    \"image\": \"चित्र\",\n",
    "    \"gender\":\"लिंग\",\n",
    "    \"residence\":\"निवास\",\n",
    "    \"birth_place\":\"जन्म स्थान\",\n",
    "    \"birth_date\":\"जन्मतारीख\",\n",
    "    \"profession\": \"व्यवसाय\",\n",
    "    \"notable_works\": \"उल्लेखनीय कार्य\",\n",
    "    \"education\": \"शिक्षा\",\n",
    "    \"positions\": \"पद\",\n",
    "    \"awards\": \"पुरस्कार\",\n",
    "    \"spouse\": \"पति या पत्नी\",\n",
    "    \"other_available_information\":\"अन्य उपलब्ध जानकारी\",\n",
    "    \"main_info\": \"मुख्य जानकारी\",\n",
    "    \"nationality\": \"राष्ट्रीयता\"\n",
    "}\n",
    "\n",
    "to_transliteration = ['name','birth_place','spouse','notable_works']"
   ]
  },
  {
   "cell_type": "code",
   "execution_count": 3,
   "metadata": {},
   "outputs": [],
   "source": [
    "def get_results(endpoint_url, query):\n",
    "    user_agent = \"WDQS-example Python/%s.%s\" % (sys.version_info[0], sys.version_info[1])\n",
    "    sparql = SPARQLWrapper(endpoint_url, agent=user_agent)\n",
    "    sparql.setQuery(query)\n",
    "    sparql.setReturnFormat(JSON)\n",
    "    return sparql.query().convert()\n",
    "\n",
    "endpoint_url = \"https://query.wikidata.org/sparql\""
   ]
  },
  {
   "cell_type": "code",
   "execution_count": 4,
   "metadata": {},
   "outputs": [],
   "source": [
    "#calls qwikidata get entity function for an entity id\n",
    "def getEntityInfo(eid):\n",
    "    return get_entity_dict_from_api(eid)\n",
    "\n",
    "#extract the name of the entity or the property value in native language\n",
    "def extractName(info):\n",
    "    return info.get('labels', {}).get('en', {}).get('value', \"\")\n",
    "\n",
    "#extract the description of the entity or the property value in native language\n",
    "def extractDescription(info):\n",
    "    return info.get('descriptions', {}).get('en', {}).get('value', \"\")\n",
    "    \n",
    "def method1_infobox(wd, bio, trans):\n",
    "    result = {}\n",
    "    #get entity from api\n",
    "    entity_info = getEntityInfo(wd)\n",
    "    result['name'] = translator.get_transliteration(extractName(entity_info))\n",
    "    result['description'] = translator.get_translation(extractDescription(entity_info))\n",
    "    #explicitly query using sparql to get main biography data\n",
    "    for entity, wdt in bio.items():\n",
    "        spqrqlq = f\"SELECT ?entity ?entityLabel ?entityDescription WHERE {{ wd:{wd} wdt:{wdt} ?entity; SERVICE wikibase:label {{ bd:serviceParam wikibase:language \\\"en\\\". }} }}\"\n",
    "        s, v = trans[entity] + \": \", \"\"\n",
    "        res = get_results(endpoint_url, str(spqrqlq))\n",
    "        for entities in res['results']['bindings']:\n",
    "            value = entities.get('entityLabel').get('value', \"\")\n",
    "            if value != '' and 'Q' not in value:\n",
    "                v += value + ','\n",
    "        if v != \"\":\n",
    "            if entity in to_transliteration:\n",
    "                result[entity] = translator.get_transliteration(v)\n",
    "            else:\n",
    "                result[entity] = translator.get_translation(v)\n",
    "    return result"
   ]
  },
  {
   "cell_type": "markdown",
   "metadata": {},
   "source": [
    "### Method2"
   ]
  },
  {
   "cell_type": "code",
   "execution_count": 5,
   "metadata": {},
   "outputs": [],
   "source": [
    "import wptools\n",
    "import json\n",
    "from tqdm import tqdm\n",
    "import re\n",
    "import requests as r\n",
    "from collections import defaultdict"
   ]
  },
  {
   "cell_type": "code",
   "execution_count": 6,
   "metadata": {},
   "outputs": [],
   "source": [
    "def update(infobox , translator):\n",
    "    infobox = defaultdict(str , infobox)\n",
    "    updated_infobox = {}\n",
    "    updated_infobox['name'] = translator.get_transliteration(infobox['name'])\n",
    "    \n",
    "    updated_infobox['image'] = infobox['image']\n",
    "    \n",
    "    updated_infobox['caption'] = translator.get_translation(infobox['caption'])\n",
    "    \n",
    "    updated_infobox['fullname'] = translator.get_transliteration(infobox['fullname'])\n",
    "    updated_infobox['nickname'] = translator.get_transliteration(infobox['nickname'])\n",
    "    \n",
    "    infobox['birth_date'] = infobox['birth_date'].replace(\"df|\",\"df\").replace(\"|yes\",\"yes\")\n",
    "    updated_infobox['residence'] = translator.get_transliteration(infobox['residence'])\n",
    "    updated_infobox['birth_date'] = translator.get_translation(infobox['birth_date'])\n",
    "    updated_infobox['birth_place'] = translator.get_transliteration(infobox['birth_place'])\n",
    "    \n",
    "    updated_infobox['death_date'] = translator.get_translation(infobox['death_date'])\n",
    "    updated_infobox['death_place'] = translator.get_transliteration(infobox['death_place'])\n",
    "    \n",
    "    updated_infobox['country'] = translator.get_transliteration(infobox['country'])\n",
    "    updated_infobox['nationality'] = translator.get_translation(infobox['nationality'])\n",
    "    updated_infobox['occupation'] = translator.get_translation(infobox['occupation'])\n",
    "    updated_infobox['profession'] = translator.get_translation(infobox['profession'])\n",
    "    updated_infobox['positions'] = translator.get_translation(infobox['positions'])\n",
    "    updated_infobox['heightm'] = infobox['heightm']\n",
    "    updated_infobox['gender'] = translator.get_translation(infobox['gender'])\n",
    "    \n",
    "    updated_infobox['spouse'] = translator.get_transliteration(infobox['spouse'])\n",
    "    updated_infobox['children'] = translator.get_transliteration(infobox['children'])\n",
    "    updated_infobox['parents'] = translator.get_transliteration(infobox['parents'])\n",
    "    updated_infobox['father'] = translator.get_transliteration(infobox['father'])\n",
    "    updated_infobox['mother'] = translator.get_transliteration(infobox['mother'])\n",
    "    \n",
    "    updated_infobox['party'] = translator.get_translation(infobox['party'])\n",
    "    updated_infobox['awards'] = translator.get_transliteration(infobox['awards'])\n",
    "    updated_infobox['relations'] = translator.get_translation(infobox['relations'])\n",
    "    updated_infobox['known_for'] = translator.get_translation(infobox['known_for'])\n",
    "    updated_infobox['notable_works'] = translator.get_transliteration(infobox['notable_works'])\n",
    "    \n",
    "    updated_infobox['alma_mater'] = translator.get_translation(infobox['alma_mater'])\n",
    "    updated_infobox['education'] = translator.get_translation(infobox['education'])\n",
    "    updated_infobox = { key : val for key , val in updated_infobox.items() if val!=''}\n",
    "    cur_len = len(updated_infobox)\n",
    "    if len(updated_infobox) < 15:\n",
    "        for key , val in infobox.items():\n",
    "            if key in updated_infobox : continue\n",
    "            updated_infobox[key] = translator.get_transliteration(val)\n",
    "            if len(updated_infobox) == 15: break\n",
    "    updated_infobox = { key : val for key , val in updated_infobox.items() if val!=''}\n",
    "    return updated_infobox"
   ]
  },
  {
   "cell_type": "code",
   "execution_count": 7,
   "metadata": {},
   "outputs": [],
   "source": [
    "def method2_infobox(name):\n",
    "    page = wptools.page(name).get_parse()\n",
    "    result = update(page.data['infobox'] , translator)\n",
    "    return result"
   ]
  },
  {
   "cell_type": "markdown",
   "metadata": {},
   "source": [
    "### Baseline"
   ]
  },
  {
   "cell_type": "code",
   "execution_count": 8,
   "metadata": {},
   "outputs": [],
   "source": [
    "def getEntityInfo(eid):\n",
    "    return get_entity_dict_from_api(eid)\n",
    "\n",
    "#extract the name of the entity or the property value in native language\n",
    "def extractNameBaseline(info):\n",
    "    return info.get('labels', {}).get('hi', {}).get('value', \"\")\n",
    "\n",
    "#extract the description of the entity or the property value in native language\n",
    "def extractDescriptionBaseline(info):\n",
    "    return info.get('descriptions', {}).get('hi', {}).get('value', \"\")\n",
    "    \n",
    "def baseline_infobox(wd, bio, trans):\n",
    "    result = {}\n",
    "    #get entity from api\n",
    "    entity_info = getEntityInfo(wd)\n",
    "    #print name and description\n",
    "    result['name'] = extractNameBaseline(entity_info)\n",
    "    result['description'] = extractDescriptionBaseline(entity_info)\n",
    "    #explicitly query using sparql to get main biography data\n",
    "    for entity, wdt in bio.items():\n",
    "        spqrqlq = f\"SELECT ?entity ?entityLabel ?entityDescription WHERE {{ wd:{wd} wdt:{wdt} ?entity; SERVICE wikibase:label {{ bd:serviceParam wikibase:language \\\"hi\\\". }} }}\"\n",
    "        s, v = trans[entity] + \": \", \"\"\n",
    "        res = get_results(endpoint_url, str(spqrqlq))\n",
    "        for entities in res['results']['bindings']:\n",
    "            value = entities.get('entityLabel').get('value', \"\")\n",
    "            if value != '' and 'Q' not in value:\n",
    "                v += value + ','\n",
    "        if v != \"\":\n",
    "            result[entity] = v\n",
    "    return result\n",
    "            "
   ]
  },
  {
   "cell_type": "code",
   "execution_count": 11,
   "metadata": {},
   "outputs": [],
   "source": [
    "with open('done.pkl' , 'rb') as f:\n",
    "    done_data = pkl.load(f)\n",
    "\n",
    "with open('../data-collection/hindi_person_data.jsonl') as f:\n",
    "    data = f.readlines()\n",
    "    data = [ json.loads(ent) for ent in data]\n",
    "wiki_people = []\n",
    "for entry in data:\n",
    "    try :\n",
    "        if entry['en_wikipedia_title'] in done_data: continue\n",
    "        wiki_people.append([entry['en_wikipedia_title'] , entry['hi_wikipedia_title'] , entry['wd_id']])\n",
    "    except :\n",
    "        pass"
   ]
  },
  {
   "cell_type": "code",
   "execution_count": 53,
   "metadata": {},
   "outputs": [],
   "source": [
    "def get_score(translated_infobox , actual_infobox):\n",
    "    inst = inexactsearch.InexactSearch()\n",
    "    markings = defaultdict(list)\n",
    "    for key in translated_infobox.keys():\n",
    "        if key in actual_infobox.keys() and key!='image':\n",
    "            val = inst.compare(translated_infobox[key] , actual_infobox[key])\n",
    "            if val > 0.70 :\n",
    "                markings['C'].append(key)\n",
    "            else : markings['S'].append(key)\n",
    "    for key in actual_infobox.keys():\n",
    "        if key not in translated_infobox.keys():\n",
    "            markings['D'].append(key)\n",
    "    if len(markings['C']) + len(markings['S']) != 0:\n",
    "        precision = len(markings['C']) / (len(markings['C']) + len(markings['S']))\n",
    "    else : precision = 0\n",
    "    recall = len(markings['C']) / (len(markings['C']) + len(markings['S']) + len(markings['D']))\n",
    "    print('Precisions :',precision)\n",
    "    print('Recall :',recall)\n",
    "    return precision , recall"
   ]
  },
  {
   "cell_type": "code",
   "execution_count": 54,
   "metadata": {},
   "outputs": [],
   "source": [
    "def parse_infobox(text):\n",
    "    for key in  [\"{{Infobox\",\"{{ज्ञानसन्दूक\",\"{{Geobox\",\"{{ज्ञानसंदूक\"]:\n",
    "        if key in text :\n",
    "            text =  text.split(key)[1]\n",
    "            break\n",
    "    else: \n",
    "        return None\n",
    "    text = text.split(\"\\n\")[1:]\n",
    "    ret = {}\n",
    "    for line in text:\n",
    "        if line == \"}}\" : break\n",
    "        if line[0] != '|' : continue\n",
    "        line = line[2:].split(\" = \")\n",
    "        if len(line) == 1:\n",
    "            x , y = line[0] , \"\"\n",
    "        else:\n",
    "            x , y = line[0] , line[1]\n",
    "        ret[x] = y\n",
    "    else :\n",
    "        print(\"Parsing Error\")\n",
    "        assert(False)\n",
    "    return ret"
   ]
  },
  {
   "cell_type": "code",
   "execution_count": null,
   "metadata": {},
   "outputs": [
    {
     "name": "stdout",
     "output_type": "stream",
     "text": [
      "George Washington जॉर्ज वॉशिंगटन Q23\n"
     ]
    },
    {
     "name": "stderr",
     "output_type": "stream",
     "text": [
      "hi.wikipedia.org (parse) जॉर्ज वॉशिंगटन\n",
      "hi.wikipedia.org (imageinfo) File:Gilbert Stuart Williamstown Por...\n",
      "जॉर्ज वॉशिंगटन (hi) data\n",
      "{\n",
      "  image: <list(1)> {'kind': 'parse-image', 'file': 'File:Gilbert S...\n",
      "  infobox: <dict(59)> image, office, vicepresident, term_start, te...\n",
      "  pageid: 19762\n",
      "  parsetree: <str(10080)> <root><template><title>Infobox officehol...\n",
      "  requests: <list(2)> parse, imageinfo\n",
      "  title: जॉर्ज वॉशिंगटन\n",
      "  wikibase: Q23\n",
      "  wikidata_url: https://www.wikidata.org/wiki/Q23\n",
      "  wikitext: <str(5056)> {{Infobox officeholder| image = Gilbert St...\n",
      "}\n",
      "en.wikipedia.org (parse) George Washington\n",
      "en.wikipedia.org (imageinfo) File:Gilbert Stuart Williamstown Por...\n",
      "George Washington (en) data\n",
      "{\n",
      "  image: <list(1)> {'kind': 'parse-image', 'file': 'File:Gilbert S...\n",
      "  infobox: <dict(52)> image, caption, office, vicepresident, term_...\n",
      "  iwlinks: <list(9)> https://commons.wikimedia.org/wiki/Category:W...\n",
      "  pageid: 11968\n",
      "  parsetree: <str(434048)> <root><template><title>short descriptio...\n",
      "  requests: <list(2)> parse, imageinfo\n",
      "  title: George Washington\n",
      "  wikibase: Q23\n",
      "  wikidata_url: https://www.wikidata.org/wiki/Q23\n",
      "  wikitext: <str(207179)> {{short description|1st president of the...\n",
      "}\n"
     ]
    },
    {
     "name": "stdout",
     "output_type": "stream",
     "text": [
      "George W. Bush जॉर्ज वॉकर बुश Q207\n"
     ]
    },
    {
     "name": "stderr",
     "output_type": "stream",
     "text": [
      "hi.wikipedia.org (parse) जॉर्ज वॉकर बुश\n",
      "जॉर्ज वॉकर बुश (hi) data\n",
      "{\n",
      "  pageid: 1841\n",
      "  parsetree: <str(2262)> <root><template><title>जीवनचरित-आधार</tit...\n",
      "  requests: <list(1)> parse\n",
      "  title: जॉर्ज वॉकर बुश\n",
      "  wikibase: Q207\n",
      "  wikidata_url: https://www.wikidata.org/wiki/Q207\n",
      "  wikitext: <str(2072)> {{जीवनचरित-आधार}}{| border=\"1\" cellpadding...\n",
      "}\n",
      "hi.wikipedia.org (parse) निकोलस कोपरनिकस\n"
     ]
    },
    {
     "name": "stdout",
     "output_type": "stream",
     "text": [
      "Nicolaus Copernicus निकोलस कोपरनिकस Q619\n"
     ]
    },
    {
     "name": "stderr",
     "output_type": "stream",
     "text": [
      "निकोलस कोपरनिकस (hi) data\n",
      "{\n",
      "  pageid: 12483\n",
      "  parsetree: <str(7776)> <root><template><title>स्रोतहीन</title><p...\n",
      "  requests: <list(1)> parse\n",
      "  title: निकोलस कोपरनिकस\n",
      "  wikibase: Q619\n",
      "  wikidata_url: https://www.wikidata.org/wiki/Q619\n",
      "  wikitext: <str(7489)> {{स्रोतहीन|date=सितंबर 2014}}[[चित्र:Nikol...\n",
      "}\n",
      "hi.wikipedia.org (parse) आन्द्रेइ तार्कोव्स्की\n"
     ]
    },
    {
     "name": "stdout",
     "output_type": "stream",
     "text": [
      "Andrei Tarkovsky आन्द्रेइ तार्कोव्स्की Q853\n"
     ]
    },
    {
     "name": "stderr",
     "output_type": "stream",
     "text": [
      "आन्द्रेइ तार्कोव्स्की (hi) data\n",
      "{\n",
      "  pageid: 763470\n",
      "  parsetree: <str(3555)> <root><template><title>ज्ञानसन्दूक व्यक्त...\n",
      "  requests: <list(1)> parse\n",
      "  title: आन्द्रेइ तार्कोव्स्की\n",
      "  wikibase: Q853\n",
      "  wikidata_url: https://www.wikidata.org/wiki/Q853\n",
      "  wikitext: <str(1867)> {{ज्ञानसन्दूक व्यक्ति| name = आन्द्रेइ तार...\n",
      "}\n",
      "en.wikipedia.org (parse) Andrei Tarkovsky\n",
      "en.wikipedia.org (imageinfo) File:Andrei tarkovsky stamp russia 2...\n",
      "Andrei Tarkovsky (en) data\n",
      "{\n",
      "  image: <list(1)> {'kind': 'parse-image', 'file': 'File:Andrei ta...\n",
      "  infobox: <dict(14)> name, image, birth_name, birth_date, birth_p...\n",
      "  iwlinks: <list(3)> https://commons.wikimedia.org/wiki/Category:A...\n",
      "  pageid: 676\n",
      "  parsetree: <str(74199)> <root><template><title>Redirect</title><...\n",
      "  requests: <list(2)> parse, imageinfo\n",
      "  title: Andrei Tarkovsky\n",
      "  wikibase: Q853\n",
      "  wikidata_url: https://www.wikidata.org/wiki/Q853\n",
      "  wikitext: <str(58087)> {{Redirect|Tarkovsky|the surname, as well...\n",
      "}\n"
     ]
    },
    {
     "name": "stdout",
     "output_type": "stream",
     "text": [
      "Meryl Streep मेरिल स्ट्रीप Q873\n"
     ]
    },
    {
     "name": "stderr",
     "output_type": "stream",
     "text": [
      "hi.wikipedia.org (parse) मेरिल स्ट्रीप\n",
      "मेरिल स्ट्रीप (hi) data\n",
      "{\n",
      "  iwlinks: <list(1)> https://en.wikipedia.org/wiki/WP:Dead_externa...\n",
      "  pageid: 501643\n",
      "  parsetree: <str(15690)> <root><template><title>ज्ञानसन्दूक व्यक्...\n",
      "  requests: <list(1)> parse\n",
      "  title: मेरिल स्ट्रीप\n",
      "  wikibase: Q873\n",
      "  wikidata_url: https://www.wikidata.org/wiki/Q873\n",
      "  wikitext: <str(12698)> {{ज्ञानसन्दूक व्यक्ति| image     = Streep...\n",
      "}\n",
      "en.wikipedia.org (parse) Meryl Streep\n",
      "en.wikipedia.org (imageinfo) File:Meryl Streep December 2018.jpg\n",
      "Meryl Streep (en) data\n",
      "{\n",
      "  image: <list(1)> {'kind': 'parse-image', 'file': 'File:Meryl Str...\n",
      "  infobox: <dict(16)> name, image, caption, birth_name, birth_date...\n",
      "  iwlinks: <list(3)> https://commons.wikimedia.org/wiki/category:M...\n",
      "  pageid: 63390\n",
      "  parsetree: <str(238525)> <root><template><title>short descriptio...\n",
      "  requests: <list(2)> parse, imageinfo\n",
      "  title: Meryl Streep\n",
      "  wikibase: Q873\n",
      "  wikidata_url: https://www.wikidata.org/wiki/Q873\n",
      "  wikitext: <str(177616)> {{short description|American actress}}{{...\n",
      "}\n"
     ]
    },
    {
     "name": "stdout",
     "output_type": "stream",
     "text": [
      "Narendra Modi नरेन्द्र मोदी Q1058\n"
     ]
    },
    {
     "name": "stderr",
     "output_type": "stream",
     "text": [
      "hi.wikipedia.org (parse) नरेन्द्र मोदी\n",
      "hi.wikipedia.org (imageinfo) File:PM Modi Portrait(cropped).jpg\n",
      "नरेन्द्र मोदी (hi) data\n",
      "{\n",
      "  image: <list(1)> {'kind': 'parse-image', 'file': 'File:PM Modi P...\n",
      "  infobox: <dict(26)> image, office, president, term_start, predec...\n",
      "  iwlinks: <list(3)> https://commons.wikimedia.org/wiki/Category:N...\n",
      "  pageid: 26262\n",
      "  parsetree: <str(111383)> <root><template><title>Infobox officeho...\n",
      "  requests: <list(2)> parse, imageinfo\n",
      "  title: नरेन्द्र मोदी\n",
      "  wikibase: Q1058\n",
      "  wikidata_url: https://www.wikidata.org/wiki/Q1058\n",
      "  wikitext: <str(90526)> {{Infobox officeholder|image    = PM Modi...\n",
      "}\n",
      "en.wikipedia.org (parse) Narendra Modi\n",
      "en.wikipedia.org (imageinfo) File:Prime Minister, Shri Narendra M...\n",
      "Narendra Modi (en) data\n",
      "{\n",
      "  image: <list(1)> {'kind': 'parse-image', 'file': 'File:Prime Min...\n",
      "  infobox: <dict(46)> image, image_size, order, office, president,...\n",
      "  iwlinks: <list(3)> https://commons.wikimedia.org/wiki/Category:N...\n",
      "  pageid: 444222\n",
      "  parsetree: <str(272696)> <root><template><title>short descriptio...\n",
      "  requests: <list(2)> parse, imageinfo\n",
      "  title: Narendra Modi\n",
      "  wikibase: Q1058\n",
      "  wikidata_url: https://www.wikidata.org/wiki/Q1058\n",
      "  wikitext: <str(217857)> {{short description|14th and current Pri...\n",
      "}\n"
     ]
    },
    {
     "name": "stdout",
     "output_type": "stream",
     "text": [
      "Indira Gandhi इन्दिरा गांधी Q1149\n"
     ]
    },
    {
     "name": "stderr",
     "output_type": "stream",
     "text": [
      "hi.wikipedia.org (parse) इन्दिरा गांधी\n",
      "hi.wikipedia.org (imageinfo) File:Indira Gandhi in 1967.jpg\n",
      "इन्दिरा गांधी (hi) data\n",
      "{\n",
      "  image: <list(1)> {'kind': 'parse-image', 'file': 'File:Indira Ga...\n",
      "  infobox: <dict(54)> name, image, imagesize, office, president, t...\n",
      "  pageid: 10189\n",
      "  parsetree: <str(42896)> <root><template><title>Infobox officehol...\n",
      "  requests: <list(2)> parse, imageinfo\n",
      "  title: इन्दिरा गांधी\n",
      "  wikibase: Q1149\n",
      "  wikidata_url: https://www.wikidata.org/wiki/Q1149\n",
      "  wikitext: <str(36301)> {{Infobox officeholder|name     = इन्दिरा...\n",
      "}\n",
      "en.wikipedia.org (parse) Indira Gandhi\n",
      "en.wikipedia.org (imageinfo) File:Indira Gandhi in 1967.jpg\n",
      "Indira Gandhi (en) data\n",
      "{\n",
      "  image: <list(1)> {'kind': 'parse-image', 'file': 'File:Indira Ga...\n",
      "  infobox: <dict(63)> name, image, party, order, office, term_star...\n",
      "  iwlinks: <list(5)> https://commons.wikimedia.org/wiki/Category:I...\n",
      "  pageid: 15179\n",
      "  parsetree: <str(221003)> <root><template><title>short descriptio...\n",
      "  requests: <list(2)> parse, imageinfo\n",
      "  title: Indira Gandhi\n",
      "  wikibase: Q1149\n",
      "  wikidata_url: https://www.wikidata.org/wiki/Q1149\n",
      "  wikitext: <str(172815)> {{short description|3rd and first female...\n",
      "}\n"
     ]
    },
    {
     "name": "stdout",
     "output_type": "stream",
     "text": [
      "Kofi Annan कोफ़ी अन्नान Q1254\n"
     ]
    },
    {
     "name": "stderr",
     "output_type": "stream",
     "text": [
      "hi.wikipedia.org (parse) कोफ़ी अन्नान\n",
      "hi.wikipedia.org (imageinfo) File:Kofi Annan.jpg\n",
      "कोफ़ी अन्नान (hi) data\n",
      "{\n",
      "  image: <list(1)> {'kind': 'parse-image', 'file': 'File:Kofi Anna...\n",
      "  infobox: <dict(26)> name, image, image size, birth_date, death_d...\n",
      "  pageid: 931\n",
      "  parsetree: <str(18261)> <root><template><title>Infobox Secretary...\n",
      "  requests: <list(2)> parse, imageinfo\n",
      "  title: कोफ़ी अन्नान\n",
      "  wikibase: Q1254\n",
      "  wikidata_url: https://www.wikidata.org/wiki/Q1254\n",
      "  wikitext: <str(10156)> {{Infobox Secretary-General| name = कोफ़ी...\n",
      "}\n",
      "en.wikipedia.org (parse) Kofi Annan\n",
      "en.wikipedia.org (imageinfo) File:Kofi Annan 2012 (cropped).jpg\n",
      "Kofi Annan (en) data\n",
      "{\n",
      "  image: <list(1)> {'kind': 'parse-image', 'file': 'File:Kofi Anna...\n",
      "  infobox: <dict(32)> image, caption, order, office, deputy, term_...\n",
      "  iwlinks: <list(9)> https://commons.wikimedia.org/wiki/Kofi_Annan...\n",
      "  pageid: 16844\n",
      "  parsetree: <str(139406)> <root><template><title>short descriptio...\n",
      "  requests: <list(2)> parse, imageinfo\n",
      "  title: Kofi Annan\n",
      "  wikibase: Q1254\n",
      "  wikidata_url: https://www.wikidata.org/wiki/Q1254\n",
      "  wikitext: <str(117498)> {{short description|7th Secretary-Genera...\n",
      "}\n"
     ]
    },
    {
     "name": "stdout",
     "output_type": "stream",
     "text": [
      "Leonard Cohen लिओनार्ड कोहेन Q1276\n"
     ]
    },
    {
     "name": "stderr",
     "output_type": "stream",
     "text": [
      "hi.wikipedia.org (parse) लिओनार्ड कोहेन\n",
      "hi.wikipedia.org (imageinfo) File:Leonard Cohen, 1988 01.jpg\n",
      "लिओनार्ड कोहेन (hi) data\n",
      "{\n",
      "  image: <list(1)> {'kind': 'parse-image', 'file': 'File:Leonard C...\n",
      "  infobox: <dict(15)> name, background, image, caption, birth_name...\n",
      "  pageid: 826493\n",
      "  parsetree: <str(8483)> <root><template><title>Infobox musical ar...\n",
      "  requests: <list(2)> parse, imageinfo\n",
      "  title: लिओनार्ड कोहेन\n",
      "  wikibase: Q1276\n",
      "  wikidata_url: https://www.wikidata.org/wiki/Q1276\n",
      "  wikitext: <str(6134)> {{Infobox musical artist| name            ...\n",
      "}\n",
      "en.wikipedia.org (parse) Leonard Cohen\n",
      "en.wikipedia.org (imageinfo) File:Leonard Cohen, 1988 01.jpg\n",
      "Leonard Cohen (en) data\n",
      "{\n",
      "  image: <list(1)> {'kind': 'parse-image', 'file': 'File:Leonard C...\n",
      "  infobox: <dict(17)> name, honorific_suffix, background, image, c...\n",
      "  iwlinks: <list(4)> https://commons.wikimedia.org/wiki/Category:L...\n",
      "  pageid: 19965375\n",
      "  parsetree: <str(194590)> <root><template><title>pp-move</title><...\n",
      "  requests: <list(2)> parse, imageinfo\n",
      "  title: Leonard Cohen\n",
      "  wikibase: Q1276\n",
      "  wikidata_url: https://www.wikidata.org/wiki/Q1276\n",
      "  wikitext: <str(157190)> {{pp-move|small=yes}}{{short description...\n",
      "}\n"
     ]
    },
    {
     "name": "stdout",
     "output_type": "stream",
     "text": [
      "Friedrich Hayek फ़्रीड्रिक हायक Q1325\n"
     ]
    },
    {
     "name": "stderr",
     "output_type": "stream",
     "text": [
      "hi.wikipedia.org (parse) फ़्रीड्रिक हायक\n",
      "फ़्रीड्रिक हायक (hi) data\n",
      "{\n",
      "  pageid: 1054382\n",
      "  parsetree: <str(3169)> <root><template lineStart=\"1\"><title>ज्ञा...\n",
      "  requests: <list(1)> parse\n",
      "  title: फ़्रीड्रिक हायक\n",
      "  wikibase: Q1325\n",
      "  wikidata_url: https://www.wikidata.org/wiki/Q1325\n",
      "  wikitext: <str(1190)> {{ज्ञानसन्दूक व्यक्ति|name=फ़्रीड्रिक हायक...\n",
      "}\n",
      "hi.wikipedia.org (parse) रिशार्द वाग्नर\n"
     ]
    },
    {
     "name": "stdout",
     "output_type": "stream",
     "text": [
      "string index out of range\n",
      "Friedrich Hayek\n",
      "Richard Wagner रिशार्द वाग्नर Q1511\n"
     ]
    },
    {
     "name": "stderr",
     "output_type": "stream",
     "text": [
      "रिशार्द वाग्नर (hi) data\n",
      "{\n",
      "  pageid: 514889\n",
      "  parsetree: <str(1319)> <root>[[File:RichardWagner.jpg|thumb|200p...\n",
      "  requests: <list(1)> parse\n",
      "  title: रिशार्द वाग्नर\n",
      "  wikibase: Q1511\n",
      "  wikidata_url: https://www.wikidata.org/wiki/Q1511\n",
      "  wikitext: <str(1006)> [[File:RichardWagner.jpg|thumb|200px|<cent...\n",
      "}\n",
      "hi.wikipedia.org (parse) हेल्मुट कोल\n"
     ]
    },
    {
     "name": "stdout",
     "output_type": "stream",
     "text": [
      "Helmut Kohl हेल्मुट कोल Q2518\n"
     ]
    },
    {
     "name": "stderr",
     "output_type": "stream",
     "text": [
      "हेल्मुट कोल (hi) data\n",
      "{\n",
      "  pageid: 106147\n",
      "  parsetree: <str(2530)> <root>[[चित्र:Bundesarchiv B 145 Bild-F07...\n",
      "  requests: <list(1)> parse\n",
      "  title: हेल्मुट कोल\n",
      "  wikibase: Q2518\n",
      "  wikidata_url: https://www.wikidata.org/wiki/Q2518\n",
      "  wikitext: <str(2410)> [[चित्र:Bundesarchiv B 145 Bild-F074398-00...\n",
      "}\n",
      "en.wikipedia.org (parse) Helmut Kohl\n",
      "en.wikipedia.org (imageinfo) File:Helmut Kohl (1996) cropped (2).jpg\n",
      "Helmut Kohl (en) data\n",
      "{\n",
      "  image: <list(1)> {'kind': 'parse-image', 'file': 'File:Helmut Ko...\n",
      "  infobox: <dict(52)> image, alt, caption, office, term_start, ter...\n",
      "  iwlinks: <list(5)> https://commons.wikimedia.org/wiki/Category:C...\n",
      "  pageid: 41896\n",
      "  parsetree: <str(136302)> <root><template><title>About</title><pa...\n",
      "  requests: <list(2)> parse, imageinfo\n",
      "  title: Helmut Kohl\n",
      "  wikibase: Q2518\n",
      "  wikidata_url: https://www.wikidata.org/wiki/Q2518\n",
      "  wikitext: <str(97674)> {{About|the former German chancellor|the ...\n",
      "}\n"
     ]
    },
    {
     "name": "stdout",
     "output_type": "stream",
     "text": [
      "David Bowie डेविड बोवी Q5383\n"
     ]
    },
    {
     "name": "stderr",
     "output_type": "stream",
     "text": [
      "hi.wikipedia.org (parse) डेविड बोवी\n",
      "डेविड बोवी (hi) data\n",
      "{\n",
      "  infobox: <dict(14)> Name, Img, Img_capt, Background, Birth_name,...\n",
      "  iwlinks: <list(4)> https://commons.wikimedia.org/wiki/Category:D...\n",
      "  pageid: 219951\n",
      "  parsetree: <str(126632)> <root><template><title>Use British Engl...\n",
      "  requests: <list(1)> parse\n",
      "  title: डेविड बोवी\n",
      "  wikibase: Q5383\n",
      "  wikidata_url: https://www.wikidata.org/wiki/Q5383\n",
      "  wikitext: <str(103037)> {{Use British English|date=अगस्त 2010}}{...\n",
      "}\n",
      "en.wikipedia.org (parse) David Bowie\n",
      "en.wikipedia.org (imageinfo) File:David-Bowie Chicago 2002-08-08 ...\n",
      "David Bowie (en) data\n",
      "{\n",
      "  image: <list(1)> {'kind': 'parse-image', 'file': 'File:David-Bow...\n",
      "  infobox: <dict(14)> honorific_suffix, image, alt, caption, birth...\n",
      "  iwlinks: <list(4)> https://commons.wikimedia.org/wiki/Category:D...\n",
      "  pageid: 8786\n",
      "  parsetree: <str(265463)> <root><template><title>Other uses</titl...\n",
      "  requests: <list(2)> parse, imageinfo\n",
      "  title: David Bowie\n",
      "  wikibase: Q5383\n",
      "  wikidata_url: https://www.wikidata.org/wiki/Q5383\n",
      "  wikitext: <str(204264)> {{Other uses}}{{short description|Englis...\n",
      "}\n"
     ]
    },
    {
     "name": "stdout",
     "output_type": "stream",
     "text": [
      "Albrecht Dürer अल्बर्शत डोरर Q5580\n"
     ]
    },
    {
     "name": "stderr",
     "output_type": "stream",
     "text": [
      "hi.wikipedia.org (parse) अल्बर्शत डोरर\n",
      "अल्बर्शत डोरर (hi) data\n",
      "{\n",
      "  pageid: 639264\n",
      "  parsetree: <str(4009)> <root>[[चित्र:Durer selfporitrait.jpg|thu...\n",
      "  requests: <list(1)> parse\n",
      "  title: अल्बर्शत डोरर\n",
      "  wikibase: Q5580\n",
      "  wikidata_url: https://www.wikidata.org/wiki/Q5580\n",
      "  wikitext: <str(3034)> [[चित्र:Durer selfporitrait.jpg|thumb|अल्ब...\n",
      "}\n",
      "hi.wikipedia.org (parse) होकुसाई\n"
     ]
    },
    {
     "name": "stdout",
     "output_type": "stream",
     "text": [
      "Hokusai होकुसाई Q5586\n"
     ]
    },
    {
     "name": "stderr",
     "output_type": "stream",
     "text": [
      "hi.wikipedia.org (imageinfo) File:Hokusai portrait.png\n",
      "होकुसाई (hi) data\n",
      "{\n",
      "  image: <list(1)> {'kind': 'parse-image', 'file': 'File:Hokusai p...\n",
      "  infobox: <dict(10)> name, image, caption, birth_name, birth_date...\n",
      "  iwlinks: <list(1)> https://commons.wikimedia.org/wiki/Category:1...\n",
      "  pageid: 1094957\n",
      "  parsetree: <str(23507)> <root><template lineStart=\"1\"><title>Inf...\n",
      "  requests: <list(2)> parse, imageinfo\n",
      "  title: होकुसाई\n",
      "  wikibase: Q5586\n",
      "  wikidata_url: https://www.wikidata.org/wiki/Q5586\n",
      "  wikitext: <str(18499)> {{Infobox artist|name=होकुसाई|native_name...\n",
      "}\n",
      "hi.wikipedia.org (parse) अबू नुवास\n"
     ]
    },
    {
     "name": "stdout",
     "output_type": "stream",
     "text": [
      "string index out of range\n",
      "Hokusai\n",
      "Abu Nuwas अबू नुवास Q5670\n"
     ]
    },
    {
     "name": "stderr",
     "output_type": "stream",
     "text": [
      "hi.wikipedia.org (imageinfo) File:Abu Nuwas.jpg\n",
      "अबू नुवास (hi) data\n",
      "{\n",
      "  image: <list(1)> {'kind': 'parse-image', 'file': 'File:Abu Nuwas...\n",
      "  infobox: <dict(12)> name, image, image_size, caption, birth_name...\n",
      "  pageid: 466584\n",
      "  parsetree: <str(8902)> <root><template><title>स्रोतहीन</title><p...\n",
      "  requests: <list(2)> parse, imageinfo\n",
      "  title: अबू नुवास\n",
      "  wikibase: Q5670\n",
      "  wikidata_url: https://www.wikidata.org/wiki/Q5670\n",
      "  wikitext: <str(6378)> {{स्रोतहीन|date=जून 2015}}{{Infobox writer...\n",
      "}\n",
      "hi.wikipedia.org (parse) मासाच्चो\n"
     ]
    },
    {
     "name": "stdout",
     "output_type": "stream",
     "text": [
      "string index out of range\n",
      "Abu Nuwas\n",
      "Masaccio मासाच्चो Q5811\n"
     ]
    },
    {
     "name": "stderr",
     "output_type": "stream",
     "text": [
      "मासाच्चो (hi) data\n",
      "{\n",
      "  pageid: 550665\n",
      "  parsetree: <str(722)> <root>[[चित्र:Masaccio-TheExpulsionOfAdamA...\n",
      "  requests: <list(1)> parse\n",
      "  title: मासाच्चो\n",
      "  wikibase: Q5811\n",
      "  wikidata_url: https://www.wikidata.org/wiki/Q5811\n",
      "  wikitext: <str(709)> [[चित्र:Masaccio-TheExpulsionOfAdamAndEveFr...\n",
      "}\n",
      "hi.wikipedia.org (parse) माओ से-तुंग\n"
     ]
    },
    {
     "name": "stdout",
     "output_type": "stream",
     "text": [
      "Mao Zedong माओ से-तुंग Q5816\n"
     ]
    }
   ],
   "source": [
    "final_score = []\n",
    "for en_name , hi_name , qid in wiki_people[:1000]:\n",
    "    try:\n",
    "        print(en_name , hi_name , qid)\n",
    "        actual_infobox = parse_infobox(translator.get_page(hi_name , language = 'hi').data['wikitext'])\n",
    "        if actual_infobox == None: continue\n",
    "        method1 = method1_infobox(qid, biography,translation)\n",
    "        method2 = method2_infobox(en_name)\n",
    "        baseline = baseline_infobox(qid,biography,translation)\n",
    "        final_score.append({en_name : [method1 , method2 , baseline , actual_infobox]})\n",
    "        with open('people_eval.jsonl' , 'a+') as f:\n",
    "            f.write(json.dumps(final_score[-1] , ensure_ascii = False))\n",
    "            f.write(\"\\n\")\n",
    "    except Exception as e:\n",
    "        print(e)\n",
    "        print(en_name)\n",
    "print()"
   ]
  },
  {
   "cell_type": "code",
   "execution_count": 42,
   "metadata": {},
   "outputs": [],
   "source": [
    "with open(\"final_people.pkl\" , \"wb\") as f:\n",
    "    pkl.dump(final_score , f)"
   ]
  },
  {
   "cell_type": "code",
   "execution_count": null,
   "metadata": {},
   "outputs": [],
   "source": []
  }
 ],
 "metadata": {
  "kernelspec": {
   "display_name": "Python 3",
   "language": "python",
   "name": "python3"
  },
  "language_info": {
   "codemirror_mode": {
    "name": "ipython",
    "version": 3
   },
   "file_extension": ".py",
   "mimetype": "text/x-python",
   "name": "python",
   "nbconvert_exporter": "python",
   "pygments_lexer": "ipython3",
   "version": "3.8.2"
  }
 },
 "nbformat": 4,
 "nbformat_minor": 4
}
