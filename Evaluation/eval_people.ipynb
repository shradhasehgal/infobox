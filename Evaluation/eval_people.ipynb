{
 "cells": [
  {
   "cell_type": "markdown",
   "metadata": {},
   "source": [
    "### Method 1"
   ]
  },
  {
   "cell_type": "code",
   "execution_count": 156,
   "metadata": {},
   "outputs": [],
   "source": [
    "import sys\n",
    "from qwikidata.sparql import return_sparql_query_results\n",
    "from qwikidata.entity import WikidataItem, WikidataLexeme, WikidataProperty\n",
    "from qwikidata.linked_data_interface import get_entity_dict_from_api\n",
    "from SPARQLWrapper import SPARQLWrapper, JSON\n",
    "import json\n",
    "from tqdm import tqdm\n",
    "import re\n",
    "import requests as r\n",
    "import pandas as pd\n",
    "from collections import defaultdict\n",
    "from libindic import inexactsearch\n",
    "import pandas as pd\n",
    "sys.path.append('../method2')\n",
    "from People_translator import Translation_Api\n",
    "translator = Translation_Api()"
   ]
  },
  {
   "cell_type": "code",
   "execution_count": 2,
   "metadata": {},
   "outputs": [],
   "source": [
    "biography = {\n",
    "    \"image\": \"P18\",\n",
    "    \"gender\":\"P21\",\n",
    "    \"residence\":\"P551\",\n",
    "    \"birth_place\":\"P19\",\n",
    "    \"birth_date\":\"P569\",\n",
    "    \"profession\": \"P106\",\n",
    "    \"notable_works\": \"P800\",\n",
    "    \"education\": \"P69\",\n",
    "    \"positions\":\"P39\",\n",
    "    \"awards\": \"P166\",\n",
    "    \"spouse\": \"P26\",\n",
    "    \"nationality\": \"P27\",\n",
    "}\n",
    "\n",
    "translation = {\n",
    "    \"name\":\"नाम\",\n",
    "    \"description\":\"विवरण\",\n",
    "    \"image\": \"चित्र\",\n",
    "    \"gender\":\"लिंग\",\n",
    "    \"residence\":\"निवास\",\n",
    "    \"birth_place\":\"जन्म स्थान\",\n",
    "    \"birth_date\":\"जन्मतारीख\",\n",
    "    \"profession\": \"व्यवसाय\",\n",
    "    \"notable_works\": \"उल्लेखनीय कार्य\",\n",
    "    \"education\": \"शिक्षा\",\n",
    "    \"positions\": \"पद\",\n",
    "    \"awards\": \"पुरस्कार\",\n",
    "    \"spouse\": \"पति या पत्नी\",\n",
    "    \"other_available_information\":\"अन्य उपलब्ध जानकारी\",\n",
    "    \"main_info\": \"मुख्य जानकारी\",\n",
    "    \"nationality\": \"राष्ट्रीयता\"\n",
    "}\n",
    "\n",
    "to_transliteration = ['name','birth_place','spouse','notable_works']"
   ]
  },
  {
   "cell_type": "code",
   "execution_count": 3,
   "metadata": {},
   "outputs": [],
   "source": [
    "def get_results(endpoint_url, query):\n",
    "    user_agent = \"WDQS-example Python/%s.%s\" % (sys.version_info[0], sys.version_info[1])\n",
    "    sparql = SPARQLWrapper(endpoint_url, agent=user_agent)\n",
    "    sparql.setQuery(query)\n",
    "    sparql.setReturnFormat(JSON)\n",
    "    return sparql.query().convert()\n",
    "\n",
    "endpoint_url = \"https://query.wikidata.org/sparql\""
   ]
  },
  {
   "cell_type": "code",
   "execution_count": 4,
   "metadata": {},
   "outputs": [],
   "source": [
    "#calls qwikidata get entity function for an entity id\n",
    "def getEntityInfo(eid):\n",
    "    return get_entity_dict_from_api(eid)\n",
    "\n",
    "#extract the name of the entity or the property value in native language\n",
    "def extractName(info):\n",
    "    return info.get('labels', {}).get('en', {}).get('value', \"\")\n",
    "\n",
    "#extract the description of the entity or the property value in native language\n",
    "def extractDescription(info):\n",
    "    return info.get('descriptions', {}).get('en', {}).get('value', \"\")\n",
    "    \n",
    "def method1_infobox(wd, bio, trans):\n",
    "    result = {}\n",
    "    #get entity from api\n",
    "    entity_info = getEntityInfo(wd)\n",
    "    result['name'] = translator.get_transliteration(extractName(entity_info))\n",
    "    result['description'] = translator.get_translation(extractDescription(entity_info))\n",
    "    #explicitly query using sparql to get main biography data\n",
    "    for entity, wdt in bio.items():\n",
    "        spqrqlq = f\"SELECT ?entity ?entityLabel ?entityDescription WHERE {{ wd:{wd} wdt:{wdt} ?entity; SERVICE wikibase:label {{ bd:serviceParam wikibase:language \\\"en\\\". }} }}\"\n",
    "        s, v = trans[entity] + \": \", \"\"\n",
    "        res = get_results(endpoint_url, str(spqrqlq))\n",
    "        for entities in res['results']['bindings']:\n",
    "            value = entities.get('entityLabel').get('value', \"\")\n",
    "            if value != '' and 'Q' not in value:\n",
    "                v += value + ','\n",
    "        if v != \"\":\n",
    "            if entity in to_transliteration:\n",
    "                result[entity] = translator.get_transliteration(v)\n",
    "            else:\n",
    "                result[entity] = translator.get_translation(v)\n",
    "    return result"
   ]
  },
  {
   "cell_type": "markdown",
   "metadata": {},
   "source": [
    "### Method2"
   ]
  },
  {
   "cell_type": "code",
   "execution_count": 5,
   "metadata": {},
   "outputs": [],
   "source": [
    "import wptools\n",
    "import json\n",
    "from tqdm import tqdm\n",
    "import re\n",
    "import requests as r\n",
    "from collections import defaultdict"
   ]
  },
  {
   "cell_type": "code",
   "execution_count": 6,
   "metadata": {},
   "outputs": [],
   "source": [
    "def update(infobox , translator):\n",
    "    infobox = defaultdict(str , infobox)\n",
    "    updated_infobox = {}\n",
    "    updated_infobox['name'] = translator.get_transliteration(infobox['name'])\n",
    "    \n",
    "    updated_infobox['image'] = infobox['image']\n",
    "    \n",
    "    updated_infobox['caption'] = translator.get_translation(infobox['caption'])\n",
    "    \n",
    "    updated_infobox['fullname'] = translator.get_transliteration(infobox['fullname'])\n",
    "    updated_infobox['nickname'] = translator.get_transliteration(infobox['nickname'])\n",
    "    \n",
    "    infobox['birth_date'] = infobox['birth_date'].replace(\"df|\",\"df\").replace(\"|yes\",\"yes\")\n",
    "    updated_infobox['residence'] = translator.get_transliteration(infobox['residence'])\n",
    "    updated_infobox['birth_date'] = translator.get_translation(infobox['birth_date'])\n",
    "    updated_infobox['birth_place'] = translator.get_transliteration(infobox['birth_place'])\n",
    "    \n",
    "    updated_infobox['death_date'] = translator.get_translation(infobox['death_date'])\n",
    "    updated_infobox['death_place'] = translator.get_transliteration(infobox['death_place'])\n",
    "    \n",
    "    updated_infobox['country'] = translator.get_transliteration(infobox['country'])\n",
    "    updated_infobox['nationality'] = translator.get_translation(infobox['nationality'])\n",
    "    updated_infobox['occupation'] = translator.get_translation(infobox['occupation'])\n",
    "    updated_infobox['profession'] = translator.get_translation(infobox['profession'])\n",
    "    updated_infobox['positions'] = translator.get_translation(infobox['positions'])\n",
    "    updated_infobox['heightm'] = infobox['heightm']\n",
    "    updated_infobox['gender'] = translator.get_translation(infobox['gender'])\n",
    "    \n",
    "    updated_infobox['spouse'] = translator.get_transliteration(infobox['spouse'])\n",
    "    updated_infobox['children'] = translator.get_transliteration(infobox['children'])\n",
    "    updated_infobox['parents'] = translator.get_transliteration(infobox['parents'])\n",
    "    updated_infobox['father'] = translator.get_transliteration(infobox['father'])\n",
    "    updated_infobox['mother'] = translator.get_transliteration(infobox['mother'])\n",
    "    \n",
    "    updated_infobox['party'] = translator.get_translation(infobox['party'])\n",
    "    updated_infobox['awards'] = translator.get_transliteration(infobox['awards'])\n",
    "    updated_infobox['relations'] = translator.get_translation(infobox['relations'])\n",
    "    updated_infobox['known_for'] = translator.get_translation(infobox['known_for'])\n",
    "    updated_infobox['notable_works'] = translator.get_transliteration(infobox['notable_works'])\n",
    "    \n",
    "    updated_infobox['alma_mater'] = translator.get_translation(infobox['alma_mater'])\n",
    "    updated_infobox['education'] = translator.get_translation(infobox['education'])\n",
    "    updated_infobox = { key : val for key , val in updated_infobox.items() if val!=''}\n",
    "    cur_len = len(updated_infobox)\n",
    "    if len(updated_infobox) < 15:\n",
    "        for key , val in infobox.items():\n",
    "            if key in updated_infobox : continue\n",
    "            updated_infobox[key] = translator.get_transliteration(val)\n",
    "            if len(updated_infobox) == 15: break\n",
    "    updated_infobox = { key : val for key , val in updated_infobox.items() if val!=''}\n",
    "    return updated_infobox"
   ]
  },
  {
   "cell_type": "code",
   "execution_count": 7,
   "metadata": {},
   "outputs": [],
   "source": [
    "def method2_infobox(name):\n",
    "    page = wptools.page(name).get_parse()\n",
    "    result = update(page.data['infobox'] , translator)\n",
    "    return result"
   ]
  },
  {
   "cell_type": "markdown",
   "metadata": {},
   "source": [
    "### Baseline"
   ]
  },
  {
   "cell_type": "code",
   "execution_count": 8,
   "metadata": {},
   "outputs": [],
   "source": [
    "def getEntityInfo(eid):\n",
    "    return get_entity_dict_from_api(eid)\n",
    "\n",
    "#extract the name of the entity or the property value in native language\n",
    "def extractNameBaseline(info):\n",
    "    return info.get('labels', {}).get('hi', {}).get('value', \"\")\n",
    "\n",
    "#extract the description of the entity or the property value in native language\n",
    "def extractDescriptionBaseline(info):\n",
    "    return info.get('descriptions', {}).get('hi', {}).get('value', \"\")\n",
    "    \n",
    "def baseline_infobox(wd, bio, trans):\n",
    "    result = {}\n",
    "    #get entity from api\n",
    "    entity_info = getEntityInfo(wd)\n",
    "    #print name and description\n",
    "    result['name'] = extractNameBaseline(entity_info)\n",
    "    result['description'] = extractDescriptionBaseline(entity_info)\n",
    "    #explicitly query using sparql to get main biography data\n",
    "    for entity, wdt in bio.items():\n",
    "        spqrqlq = f\"SELECT ?entity ?entityLabel ?entityDescription WHERE {{ wd:{wd} wdt:{wdt} ?entity; SERVICE wikibase:label {{ bd:serviceParam wikibase:language \\\"hi\\\". }} }}\"\n",
    "        s, v = trans[entity] + \": \", \"\"\n",
    "        res = get_results(endpoint_url, str(spqrqlq))\n",
    "        for entities in res['results']['bindings']:\n",
    "            value = entities.get('entityLabel').get('value', \"\")\n",
    "            if value != '' and 'Q' not in value:\n",
    "                v += value + ','\n",
    "        if v != \"\":\n",
    "            result[entity] = v\n",
    "    return result\n",
    "            "
   ]
  },
  {
   "cell_type": "code",
   "execution_count": 78,
   "metadata": {},
   "outputs": [],
   "source": [
    "with open('../data-collection/hindi_person_data.jsonl') as f:\n",
    "    data = f.readlines()\n",
    "    data = [ json.loads(ent) for ent in data]\n",
    "wiki_people = []\n",
    "for entry in data:\n",
    "    try :\n",
    "        wiki_people.append([entry['en_wikipedia_title'] , entry['hi_wikipedia_title'] , entry['wd_id']])\n",
    "    except :\n",
    "        pass"
   ]
  },
  {
   "cell_type": "code",
   "execution_count": 117,
   "metadata": {},
   "outputs": [],
   "source": [
    "def get_score(translated_infobox , actual_infobox):\n",
    "    inst = inexactsearch.InexactSearch()\n",
    "    markings = defaultdict(list)\n",
    "    for key in translated_infobox.keys():\n",
    "        if key in actual_infobox.keys() and key!='image':\n",
    "#             print(key)\n",
    "#             print(translated_infobox[key] , actual_infobox[key]) \n",
    "            val = inst.compare(translated_infobox[key] , actual_infobox[key])\n",
    "            if val > 0.70 :\n",
    "                markings['C'].append(key)\n",
    "            else : markings['S'].append(key)\n",
    "    for key in actual_infobox.keys():\n",
    "        if key not in translated_infobox.keys():\n",
    "            markings['D'].append(key)\n",
    "    if len(markings['C']) + len(markings['S']) != 0:\n",
    "        precision = len(markings['C']) / (len(markings['C']) + len(markings['S']))\n",
    "    else : precision = 0\n",
    "    recall = len(markings['C']) / (len(markings['C']) + len(markings['S']) + len(markings['D']))\n",
    "    print('Precisions :',precision)\n",
    "    print('Recall :',recall)\n",
    "    return precision , recall"
   ]
  },
  {
   "cell_type": "code",
   "execution_count": 172,
   "metadata": {},
   "outputs": [],
   "source": [
    "people_good = [\n",
    "    ['Narendra Modi', 'नरेन्द्र मोदी', 'Q1058'],\n",
    "    ['Indira Gandhi', 'इन्दिरा गांधी', 'Q1149'],\n",
    "    ['Leonard Cohen', 'लिओनार्ड कोहेन', 'Q1276'],\n",
    "    ['Donald Trump' , 'डॉनल्ड ट्रम्प' , 'Q22686'],\n",
    "    ['Amitabh Bachchan','अमिताभ बच्चन','Q9570'],\n",
    "    ['Sachin Tendulkar','सचिन तेंदुलकर','Q9488'],\n",
    "    ['Virat Kohli','विराट कोहली','Q213854'],\n",
    "    ['Joe Biden','जो बाइडेन','Q6279'],\n",
    "    ['Malala Yousafzai' ,'मलाला युसुफ़ज़ई','Q32732']\n",
    "]"
   ]
  },
  {
   "cell_type": "code",
   "execution_count": 189,
   "metadata": {},
   "outputs": [
    {
     "name": "stdout",
     "output_type": "stream",
     "text": [
      "Narendra Modi नरेन्द्र मोदी Q1058\n"
     ]
    },
    {
     "name": "stderr",
     "output_type": "stream",
     "text": [
      "hi.wikipedia.org (parse) नरेन्द्र मोदी\n",
      "hi.wikipedia.org (imageinfo) File:PM Modi Portrait(cropped).jpg\n",
      "नरेन्द्र मोदी (hi) data\n",
      "{\n",
      "  image: <list(1)> {'kind': 'parse-image', 'file': 'File:PM Modi P...\n",
      "  infobox: <dict(26)> image, office, president, term_start, predec...\n",
      "  iwlinks: <list(3)> https://commons.wikimedia.org/wiki/Category:N...\n",
      "  pageid: 26262\n",
      "  parsetree: <str(111383)> <root><template><title>Infobox officeho...\n",
      "  requests: <list(2)> parse, imageinfo\n",
      "  title: नरेन्द्र मोदी\n",
      "  wikibase: Q1058\n",
      "  wikidata_url: https://www.wikidata.org/wiki/Q1058\n",
      "  wikitext: <str(90526)> {{Infobox officeholder|image    = PM Modi...\n",
      "}\n",
      "en.wikipedia.org (parse) Narendra Modi\n",
      "en.wikipedia.org (imageinfo) File:Prime Minister, Shri Narendra M...\n",
      "Narendra Modi (en) data\n",
      "{\n",
      "  image: <list(1)> {'kind': 'parse-image', 'file': 'File:Prime Min...\n",
      "  infobox: <dict(46)> image, image_size, order, office, president,...\n",
      "  iwlinks: <list(3)> https://commons.wikimedia.org/wiki/Category:N...\n",
      "  pageid: 444222\n",
      "  parsetree: <str(272386)> <root><template><title>short descriptio...\n",
      "  requests: <list(2)> parse, imageinfo\n",
      "  title: Narendra Modi\n",
      "  wikibase: Q1058\n",
      "  wikidata_url: https://www.wikidata.org/wiki/Q1058\n",
      "  wikitext: <str(217547)> {{short description|14th and current Pri...\n",
      "}\n"
     ]
    },
    {
     "name": "stdout",
     "output_type": "stream",
     "text": [
      "For  Narendra Modi\n",
      "For method1\n",
      "Precisions : 0.0\n",
      "Recall : 0.0\n",
      "For method2\n",
      "Precisions : 0.625\n",
      "Recall : 0.2\n",
      "For baseline\n",
      "Precisions : 0.25\n",
      "Recall : 0.04\n",
      "['Narendra Modi', 'नरेन्द्र मोदी', 'Q1058']\n",
      "\n"
     ]
    }
   ],
   "source": [
    "scores_m1 = []\n",
    "scores_m2 = []\n",
    "scores_base = []\n",
    "final_people = []\n",
    "names = []\n",
    "for en_name , hi_name , qid in people_good[:1]:\n",
    "    print(en_name , hi_name , qid)\n",
    "    actual_infobox = translator.get_page(hi_name , language = 'hi').data['infobox']\n",
    "    if actual_infobox == None: continue\n",
    "    method1 = method1_infobox(qid, biography,translation)\n",
    "    method2 = method2_infobox(en_name)\n",
    "    baseline = baseline_infobox(qid,biography,translation)\n",
    "#     break\n",
    "    print(\"For \", en_name)\n",
    "    print(\"For method1\")\n",
    "    scores_m1.append(get_score(method1 , actual_infobox))\n",
    "    print(\"For method2\")\n",
    "    scores_m2.append(get_score(method2 , actual_infobox))\n",
    "    print(\"For baseline\")\n",
    "    scores_base.append(get_score(baseline , actual_infobox))\n",
    "    names.append(en_name)\n",
    "    if (scores_base[-1][0] > 0.5 or scores_m1[-1][0] > 0.5 or scores_m2[-1][0] > 0.5):\n",
    "        final_people.append([en_name,hi_name,qid])\n",
    "        print(final_people[-1])\n",
    "        #     break\n",
    "\n",
    "    if len(final_people) == 15: break\n",
    "print()"
   ]
  },
  {
   "cell_type": "code",
   "execution_count": 190,
   "metadata": {},
   "outputs": [
    {
     "data": {
      "text/plain": [
       "{'name': 'नरेन्द्र मोदी',\n",
       " 'description': 'भारत के प्रधानमंत्री',\n",
       " 'image': 'http://commons.wikimedia.org/wiki/Special:FilePath/PM%20Modi%202015.jpg,',\n",
       " 'gender': 'पुरुष',\n",
       " 'residence': '7, लोक कल्याण मार्ग,',\n",
       " 'birth_place': 'वडनगर,',\n",
       " 'birth_date': '1950-09-17T00:00:00Z,',\n",
       " 'profession': 'राजनेता',\n",
       " 'education': 'गुजरात विश्वविद्यालय, दिल्ली विश्वविद्यालय,',\n",
       " 'positions': 'भारत के प्रधानमंत्री, भारत की एक विधान सभा के सदस्य, कार्मिक, लोक शिकायत और पेंशन मंत्रालय, गुजरात विधान सभा के सदस्य, गुजरात के मुख्यमंत्री, 16वीं लोकसभा के सदस्य, 17वीं लोकसभा के सदस्य,',\n",
       " 'awards': 'अब्दुलअजीज अल सऊद का आदेश, सेंट एंड्रयू का आदेश, जायद का आदेश, सीएनएन-न्यूज18 इंडियन ऑफ द ईयर, अमीर अमानुल्लाह खान पुरस्कार, फिलिस्तीन राज्य के ग्रैंड कॉलर, निशन इज्जुद्दीन के प्रतिष्ठित शासन का आदेश,',\n",
       " 'spouse': 'जशोदबेन नरेंद्रभाई मोदी,',\n",
       " 'nationality': 'भारत'}"
      ]
     },
     "execution_count": 190,
     "metadata": {},
     "output_type": "execute_result"
    }
   ],
   "source": [
    "method1"
   ]
  },
  {
   "cell_type": "code",
   "execution_count": 191,
   "metadata": {},
   "outputs": [
    {
     "data": {
      "text/plain": [
       "{'image': 'Prime Minister, Shri Narendra Modi, in New Delhi on August 08, 2019 (cropped).jpg',\n",
       " 'residence': '[[7, लोक कल्याण मार्ग]], [[न्यू डेल्ही]], [[डेल्ही]], इंडिया',\n",
       " 'birth_date': '{{birth date and age|1950|9|17|df=|y}}',\n",
       " 'birth_place': '[[वडनगर]], [[बॉम्बे स्टेट]], [[इंडिया]] <br />(प्रेज़ेंट-डे [[गुजरात]])',\n",
       " 'spouse': '[[Jashodaben|Jashodaben Modi]] ( {{abbr|m.|married}} &nbsp;1968; estranged)',\n",
       " 'party': '[[भारतीय जनता पार्टी]]',\n",
       " 'awards': '[[नरेन्द्र मोदी#स्टेट होनोर|लिस्ट ऑफ स्टेट होनोर]]',\n",
       " 'alma_mater': '[[दिल्ली विश्वविद्यालय]] ([[बैचलर ऑफ आर्ट्स। बीए]]) <बीआर/> [[गुजरात विश्वविद्यालय]] ([[मास्टर ऑफ आर्ट्स]] । एमए]])',\n",
       " 'image_size': '250पक्स',\n",
       " 'order': '14थ',\n",
       " 'office': 'प्राइम मिनिस्टर ऑफ इंडिया',\n",
       " 'president': '[[प्रणब मुख़र्जी]]<br/>[[राम नाथ कोविंद]]',\n",
       " '1blankname': 'विस प्रेसिडेंट',\n",
       " '1namedata': '[[मोहम्मद हामिद अंसारी]]<br/>[[वेंकैया नायडू]]',\n",
       " 'term_start': '26 मे 2014'}"
      ]
     },
     "execution_count": 191,
     "metadata": {},
     "output_type": "execute_result"
    }
   ],
   "source": [
    "method2"
   ]
  },
  {
   "cell_type": "code",
   "execution_count": 194,
   "metadata": {},
   "outputs": [
    {
     "data": {
      "text/plain": [
       "{'name': 'नरेन्द्र मोदी',\n",
       " 'description': 'भारत के प्रधानमंत्री',\n",
       " 'image': 'http://commons.wikimedia.org/wiki/Special:FilePath/PM%20Modi%202015.jpg,',\n",
       " 'gender': 'पुरुष,',\n",
       " 'residence': '७, लोक कल्याण मार्ग,',\n",
       " 'birth_place': 'वड़नगर,',\n",
       " 'birth_date': '1950-09-17T00:00:00Z,',\n",
       " 'profession': 'राजनीतिज्ञ,',\n",
       " 'education': 'गुजरात विश्वविद्यालय,दिल्ली विश्वविद्यालय,',\n",
       " 'positions': 'भारत का प्रधानमन्त्री,विधानसभा सदस्य (भारत),जनशिकायत मंत्रालय, भारत सरकार,गुजरात विधान सभा के सदस्य,',\n",
       " 'awards': 'सीएनएन-आईबीएन इंडियन ऑफ़ द इयर,',\n",
       " 'spouse': 'जशोदाबेन नरेन्द्रभाई मोदी,',\n",
       " 'nationality': 'भारत,'}"
      ]
     },
     "execution_count": 194,
     "metadata": {},
     "output_type": "execute_result"
    }
   ],
   "source": [
    "baseline"
   ]
  },
  {
   "cell_type": "code",
   "execution_count": 109,
   "metadata": {
    "collapsed": true,
    "jupyter": {
     "outputs_hidden": true
    }
   },
   "outputs": [
    {
     "name": "stderr",
     "output_type": "stream",
     "text": [
      "hi.wikipedia.org (parse) डेविड बोवी\n"
     ]
    },
    {
     "name": "stdout",
     "output_type": "stream",
     "text": [
      "{'Name': 'David Bowie', 'Img': 'Heathen Tour Bowie.jpg', 'Img_capt': 'Bowie during the [[Heathen Tour]] in 2002.', 'Background': 'solo_singer', 'Birth_name': 'David Robert Jones (1947-2016)', 'Born': '{{Birth date |1947|1|8|df|=|yes}} <br />[[Brixton]], London, England - 10 january [[2016]].', 'Years_active': '1964–[[2016]]', 'Occupation': 'Musician, actor, record producer, arranger', 'Voice_type': 'Baritone', 'Instrument': 'Guitar, saxophone, piano, keyboards, synthesizers, [[Mellotron]], [[harmonica]], [[Stylophone]], [[xylophone]], [[vibraphone]], [[Koto (musical instrument)|koto]], drums, percussion', 'Genre': 'Rock, [[glam rock]], [[pop rock]], [[art rock]], [[blue-eyed soul]], [[psychedelic rock]], [[protopunk]]', 'Associated_acts': '[[The Riot Squad]], [[Tin Machine]]', 'Label': '[[Deram Records|Deram]], [[RCA Records|RCA]], [[Rykodisc]], [[Virgin Records|Virgin]], [[EMI Records|EMI]], [[ISO Records|ISO]], [[Columbia Records|Columbia]], [[Bertelsmann Music Group|BMG]], [[Parlophone Records|Parlophone]], [[Pye Records|Pye]], [[Hansa Records|Hanso]]', 'URL': '[http://www.davidbowie.com Official Website]'}\n"
     ]
    },
    {
     "name": "stderr",
     "output_type": "stream",
     "text": [
      "डेविड बोवी (hi) data\n",
      "{\n",
      "  infobox: <dict(14)> Name, Img, Img_capt, Background, Birth_name,...\n",
      "  iwlinks: <list(4)> https://commons.wikimedia.org/wiki/Category:D...\n",
      "  pageid: 219951\n",
      "  parsetree: <str(126632)> <root><template><title>Use British Engl...\n",
      "  requests: <list(1)> parse\n",
      "  title: डेविड बोवी\n",
      "  wikibase: Q5383\n",
      "  wikidata_url: https://www.wikidata.org/wiki/Q5383\n",
      "  wikitext: <str(103037)> {{Use British English|date=अगस्त 2010}}{...\n",
      "}\n"
     ]
    }
   ],
   "source": [
    "actual_infobox = translator.get_page('डेविड बोवी' , language = 'hi').data['infobox']\n",
    "print(actual_infobox)"
   ]
  },
  {
   "cell_type": "code",
   "execution_count": 101,
   "metadata": {},
   "outputs": [
    {
     "name": "stdout",
     "output_type": "stream",
     "text": [
      "[(0.0, 0.0), (0.25, 0.04), (0.25, 0.018867924528301886), (0.3333333333333333, 0.04), (0.5, 0.07142857142857142)]\n"
     ]
    }
   ],
   "source": [
    "print(scores_base)"
   ]
  },
  {
   "cell_type": "code",
   "execution_count": 121,
   "metadata": {},
   "outputs": [],
   "source": [
    "final_people2 = final_people.copy()\n",
    "scores_base2 = scores_base.copy()\n",
    "scores_m1 = scores_m1.copy()\n",
    "scores_m2 = scores_m2.copy()"
   ]
  },
  {
   "cell_type": "code",
   "execution_count": 139,
   "metadata": {},
   "outputs": [
    {
     "data": {
      "text/plain": [
       "[['Narendra Modi', 'नरेन्द्र मोदी', 'Q1058'],\n",
       " ['Indira Gandhi', 'इन्दिरा गांधी', 'Q1149'],\n",
       " ['Edgar Allan Poe', 'एडगर ऍलन पो', 'Q16867'],\n",
       " ['Avril Lavigne', 'एव्रिल लावीन', 'Q30449']]"
      ]
     },
     "execution_count": 139,
     "metadata": {},
     "output_type": "execute_result"
    }
   ],
   "source": [
    "final_people"
   ]
  },
  {
   "cell_type": "code",
   "execution_count": 146,
   "metadata": {},
   "outputs": [
    {
     "data": {
      "text/plain": [
       "[(0.38461538461538464, 0.08620689655172414),\n",
       " (0.625, 0.2),\n",
       " (0.5454545454545454, 0.11320754716981132),\n",
       " (0.3333333333333333, 0.12),\n",
       " (0.5, 0.42857142857142855),\n",
       " (0, 0.0),\n",
       " (0.1111111111111111, 0.1111111111111111),\n",
       " (0.1111111111111111, 0.09090909090909091),\n",
       " (0, 0.0),\n",
       " (0.36363636363636365, 0.26666666666666666),\n",
       " (0.3333333333333333, 0.21428571428571427),\n",
       " (0.36363636363636365, 0.08333333333333333),\n",
       " (0.2857142857142857, 0.18181818181818182),\n",
       " (0, 0.0),\n",
       " (0.25, 0.08333333333333333),\n",
       " (0.5, 0.1),\n",
       " (0.3333333333333333, 0.09090909090909091),\n",
       " (0.4, 0.4),\n",
       " (0.4166666666666667, 0.25),\n",
       " (0.5, 0.21428571428571427),\n",
       " (0.1111111111111111, 0.025)]"
      ]
     },
     "execution_count": 146,
     "metadata": {},
     "output_type": "execute_result"
    }
   ],
   "source": [
    "scores_m2"
   ]
  },
  {
   "cell_type": "code",
   "execution_count": 174,
   "metadata": {},
   "outputs": [
    {
     "data": {
      "text/plain": [
       "18"
      ]
     },
     "execution_count": 174,
     "metadata": {},
     "output_type": "execute_result"
    }
   ],
   "source": [
    "len(scores_base)"
   ]
  },
  {
   "cell_type": "code",
   "execution_count": 175,
   "metadata": {},
   "outputs": [
    {
     "data": {
      "text/plain": [
       "['George Washington',\n",
       " 'Narendra Modi',\n",
       " 'Indira Gandhi',\n",
       " 'Kofi Annan',\n",
       " 'Leonard Cohen',\n",
       " 'David Bowie',\n",
       " 'Hokusai',\n",
       " 'Abu Nuwas',\n",
       " 'Muhammad',\n",
       " 'A. P. J. Abdul Kalam',\n",
       " 'Salman Khan',\n",
       " 'Richard Nixon',\n",
       " 'Charles K. Kao',\n",
       " 'Bruce Lee',\n",
       " 'Edgar Allan Poe',\n",
       " 'Xavi',\n",
       " 'Bo Xilai',\n",
       " 'Hermann Hesse']"
      ]
     },
     "execution_count": 175,
     "metadata": {},
     "output_type": "execute_result"
    }
   ],
   "source": [
    "names"
   ]
  },
  {
   "cell_type": "code",
   "execution_count": 176,
   "metadata": {},
   "outputs": [],
   "source": [
    "scores_m2_prec = [ i[0] for i in scores_m2]\n",
    "scores_m1_prec = [ i[0] for i in scores_m1]\n",
    "scores_base_prec = [ i[0] for i in scores_base]\n",
    "# names = [ i[0] for i in names]"
   ]
  },
  {
   "cell_type": "code",
   "execution_count": 179,
   "metadata": {},
   "outputs": [],
   "source": [
    "data = list(zip(names[:21] , scores_m1_prec , scores_m2_prec , scores_base_prec))\n",
    "data = [ i for i in data if sum(i[1:])]"
   ]
  },
  {
   "cell_type": "code",
   "execution_count": 185,
   "metadata": {},
   "outputs": [],
   "source": [
    "def highlight_max(s): \n",
    "    is_max = s == s.max() \n",
    "    return ['background: lightgreen' if cell else '' for cell in is_max] "
   ]
  },
  {
   "cell_type": "code",
   "execution_count": 188,
   "metadata": {},
   "outputs": [
    {
     "data": {
      "text/html": [
       "<div>\n",
       "<style scoped>\n",
       "    .dataframe tbody tr th:only-of-type {\n",
       "        vertical-align: middle;\n",
       "    }\n",
       "\n",
       "    .dataframe tbody tr th {\n",
       "        vertical-align: top;\n",
       "    }\n",
       "\n",
       "    .dataframe thead th {\n",
       "        text-align: right;\n",
       "    }\n",
       "</style>\n",
       "<table border=\"1\" class=\"dataframe\">\n",
       "  <thead>\n",
       "    <tr style=\"text-align: right;\">\n",
       "      <th></th>\n",
       "      <th>Method-1 Score</th>\n",
       "      <th>Method-2 Score</th>\n",
       "      <th>Baseline Score</th>\n",
       "    </tr>\n",
       "    <tr>\n",
       "      <th>Person</th>\n",
       "      <th></th>\n",
       "      <th></th>\n",
       "      <th></th>\n",
       "    </tr>\n",
       "  </thead>\n",
       "  <tbody>\n",
       "    <tr>\n",
       "      <th>George Washington</th>\n",
       "      <td>0.000000</td>\n",
       "      <td>0.384615</td>\n",
       "      <td>0.000000</td>\n",
       "    </tr>\n",
       "    <tr>\n",
       "      <th>Narendra Modi</th>\n",
       "      <td>0.000000</td>\n",
       "      <td>0.625000</td>\n",
       "      <td>0.250000</td>\n",
       "    </tr>\n",
       "    <tr>\n",
       "      <th>Indira Gandhi</th>\n",
       "      <td>0.250000</td>\n",
       "      <td>0.545455</td>\n",
       "      <td>0.250000</td>\n",
       "    </tr>\n",
       "    <tr>\n",
       "      <th>Kofi Annan</th>\n",
       "      <td>0.250000</td>\n",
       "      <td>0.333333</td>\n",
       "      <td>0.333333</td>\n",
       "    </tr>\n",
       "    <tr>\n",
       "      <th>Leonard Cohen</th>\n",
       "      <td>0.333333</td>\n",
       "      <td>0.500000</td>\n",
       "      <td>0.500000</td>\n",
       "    </tr>\n",
       "    <tr>\n",
       "      <th>Hokusai</th>\n",
       "      <td>0.000000</td>\n",
       "      <td>0.111111</td>\n",
       "      <td>0.333333</td>\n",
       "    </tr>\n",
       "    <tr>\n",
       "      <th>Abu Nuwas</th>\n",
       "      <td>0.333333</td>\n",
       "      <td>0.111111</td>\n",
       "      <td>0.333333</td>\n",
       "    </tr>\n",
       "    <tr>\n",
       "      <th>A. P. J. Abdul Kalam</th>\n",
       "      <td>0.000000</td>\n",
       "      <td>0.363636</td>\n",
       "      <td>0.250000</td>\n",
       "    </tr>\n",
       "    <tr>\n",
       "      <th>Salman Khan</th>\n",
       "      <td>0.200000</td>\n",
       "      <td>0.333333</td>\n",
       "      <td>0.200000</td>\n",
       "    </tr>\n",
       "    <tr>\n",
       "      <th>Richard Nixon</th>\n",
       "      <td>0.200000</td>\n",
       "      <td>0.363636</td>\n",
       "      <td>0.000000</td>\n",
       "    </tr>\n",
       "    <tr>\n",
       "      <th>Charles K. Kao</th>\n",
       "      <td>0.000000</td>\n",
       "      <td>0.285714</td>\n",
       "      <td>0.250000</td>\n",
       "    </tr>\n",
       "    <tr>\n",
       "      <th>Edgar Allan Poe</th>\n",
       "      <td>0.500000</td>\n",
       "      <td>0.250000</td>\n",
       "      <td>1.000000</td>\n",
       "    </tr>\n",
       "    <tr>\n",
       "      <th>Xavi</th>\n",
       "      <td>0.000000</td>\n",
       "      <td>0.500000</td>\n",
       "      <td>0.000000</td>\n",
       "    </tr>\n",
       "    <tr>\n",
       "      <th>Bo Xilai</th>\n",
       "      <td>0.200000</td>\n",
       "      <td>0.333333</td>\n",
       "      <td>0.250000</td>\n",
       "    </tr>\n",
       "    <tr>\n",
       "      <th>Hermann Hesse</th>\n",
       "      <td>0.000000</td>\n",
       "      <td>0.400000</td>\n",
       "      <td>0.000000</td>\n",
       "    </tr>\n",
       "  </tbody>\n",
       "</table>\n",
       "</div>"
      ],
      "text/plain": [
       "                      Method-1 Score  Method-2 Score  Baseline Score\n",
       "Person                                                              \n",
       "George Washington           0.000000        0.384615        0.000000\n",
       "Narendra Modi               0.000000        0.625000        0.250000\n",
       "Indira Gandhi               0.250000        0.545455        0.250000\n",
       "Kofi Annan                  0.250000        0.333333        0.333333\n",
       "Leonard Cohen               0.333333        0.500000        0.500000\n",
       "Hokusai                     0.000000        0.111111        0.333333\n",
       "Abu Nuwas                   0.333333        0.111111        0.333333\n",
       "A. P. J. Abdul Kalam        0.000000        0.363636        0.250000\n",
       "Salman Khan                 0.200000        0.333333        0.200000\n",
       "Richard Nixon               0.200000        0.363636        0.000000\n",
       "Charles K. Kao              0.000000        0.285714        0.250000\n",
       "Edgar Allan Poe             0.500000        0.250000        1.000000\n",
       "Xavi                        0.000000        0.500000        0.000000\n",
       "Bo Xilai                    0.200000        0.333333        0.250000\n",
       "Hermann Hesse               0.000000        0.400000        0.000000"
      ]
     },
     "execution_count": 188,
     "metadata": {},
     "output_type": "execute_result"
    }
   ],
   "source": [
    "df = pd.DataFrame(data , columns=['Person' , \"Method-1 Score\", \"Method-2 Score\",\"Baseline Score\"]).set_index(\"Person\")\n",
    "# df.style.highlight_max(color = 'lightgreen', axis = 0)\n",
    "# df.style.apply(highlight_max)\n",
    "df"
   ]
  },
  {
   "cell_type": "code",
   "execution_count": null,
   "metadata": {},
   "outputs": [],
   "source": []
  },
  {
   "cell_type": "code",
   "execution_count": null,
   "metadata": {},
   "outputs": [],
   "source": []
  },
  {
   "cell_type": "code",
   "execution_count": null,
   "metadata": {},
   "outputs": [],
   "source": []
  },
  {
   "cell_type": "code",
   "execution_count": null,
   "metadata": {},
   "outputs": [],
   "source": []
  },
  {
   "cell_type": "code",
   "execution_count": null,
   "metadata": {},
   "outputs": [],
   "source": []
  },
  {
   "cell_type": "code",
   "execution_count": null,
   "metadata": {},
   "outputs": [],
   "source": []
  },
  {
   "cell_type": "code",
   "execution_count": null,
   "metadata": {},
   "outputs": [],
   "source": []
  },
  {
   "cell_type": "code",
   "execution_count": null,
   "metadata": {},
   "outputs": [],
   "source": []
  },
  {
   "cell_type": "code",
   "execution_count": null,
   "metadata": {},
   "outputs": [],
   "source": []
  },
  {
   "cell_type": "code",
   "execution_count": null,
   "metadata": {},
   "outputs": [],
   "source": []
  },
  {
   "cell_type": "code",
   "execution_count": null,
   "metadata": {},
   "outputs": [],
   "source": []
  },
  {
   "cell_type": "code",
   "execution_count": null,
   "metadata": {},
   "outputs": [],
   "source": []
  },
  {
   "cell_type": "code",
   "execution_count": null,
   "metadata": {},
   "outputs": [],
   "source": []
  },
  {
   "cell_type": "code",
   "execution_count": null,
   "metadata": {},
   "outputs": [],
   "source": []
  },
  {
   "cell_type": "code",
   "execution_count": null,
   "metadata": {},
   "outputs": [],
   "source": []
  },
  {
   "cell_type": "code",
   "execution_count": null,
   "metadata": {},
   "outputs": [],
   "source": []
  },
  {
   "cell_type": "code",
   "execution_count": null,
   "metadata": {},
   "outputs": [],
   "source": []
  },
  {
   "cell_type": "code",
   "execution_count": null,
   "metadata": {},
   "outputs": [],
   "source": []
  },
  {
   "cell_type": "code",
   "execution_count": null,
   "metadata": {},
   "outputs": [],
   "source": []
  },
  {
   "cell_type": "code",
   "execution_count": 163,
   "metadata": {},
   "outputs": [
    {
     "data": {
      "text/html": [
       "<div>\n",
       "<style scoped>\n",
       "    .dataframe tbody tr th:only-of-type {\n",
       "        vertical-align: middle;\n",
       "    }\n",
       "\n",
       "    .dataframe tbody tr th {\n",
       "        vertical-align: top;\n",
       "    }\n",
       "\n",
       "    .dataframe thead th {\n",
       "        text-align: right;\n",
       "    }\n",
       "</style>\n",
       "<table border=\"1\" class=\"dataframe\">\n",
       "  <thead>\n",
       "    <tr style=\"text-align: right;\">\n",
       "      <th></th>\n",
       "      <th>Method-1 Score</th>\n",
       "      <th>Method-2 Score</th>\n",
       "      <th>Baseline Score</th>\n",
       "    </tr>\n",
       "    <tr>\n",
       "      <th>Person</th>\n",
       "      <th></th>\n",
       "      <th></th>\n",
       "      <th></th>\n",
       "    </tr>\n",
       "  </thead>\n",
       "  <tbody>\n",
       "    <tr>\n",
       "      <th>George Washington</th>\n",
       "      <td>0.000000</td>\n",
       "      <td>0.384615</td>\n",
       "      <td>0.000000</td>\n",
       "    </tr>\n",
       "    <tr>\n",
       "      <th>George W. Bush</th>\n",
       "      <td>0.000000</td>\n",
       "      <td>0.625000</td>\n",
       "      <td>0.250000</td>\n",
       "    </tr>\n",
       "    <tr>\n",
       "      <th>Nicolaus Copernicus</th>\n",
       "      <td>0.250000</td>\n",
       "      <td>0.545455</td>\n",
       "      <td>0.250000</td>\n",
       "    </tr>\n",
       "    <tr>\n",
       "      <th>Andrei Tarkovsky</th>\n",
       "      <td>0.250000</td>\n",
       "      <td>0.333333</td>\n",
       "      <td>0.333333</td>\n",
       "    </tr>\n",
       "    <tr>\n",
       "      <th>Meryl Streep</th>\n",
       "      <td>0.333333</td>\n",
       "      <td>0.500000</td>\n",
       "      <td>0.500000</td>\n",
       "    </tr>\n",
       "    <tr>\n",
       "      <th>Narendra Modi</th>\n",
       "      <td>0.000000</td>\n",
       "      <td>0.000000</td>\n",
       "      <td>0.000000</td>\n",
       "    </tr>\n",
       "    <tr>\n",
       "      <th>Indira Gandhi</th>\n",
       "      <td>0.000000</td>\n",
       "      <td>0.111111</td>\n",
       "      <td>0.333333</td>\n",
       "    </tr>\n",
       "    <tr>\n",
       "      <th>Kofi Annan</th>\n",
       "      <td>0.333333</td>\n",
       "      <td>0.111111</td>\n",
       "      <td>0.333333</td>\n",
       "    </tr>\n",
       "    <tr>\n",
       "      <th>Leonard Cohen</th>\n",
       "      <td>0.000000</td>\n",
       "      <td>0.000000</td>\n",
       "      <td>0.000000</td>\n",
       "    </tr>\n",
       "    <tr>\n",
       "      <th>Friedrich Hayek</th>\n",
       "      <td>0.000000</td>\n",
       "      <td>0.363636</td>\n",
       "      <td>0.250000</td>\n",
       "    </tr>\n",
       "    <tr>\n",
       "      <th>Richard Wagner</th>\n",
       "      <td>0.200000</td>\n",
       "      <td>0.333333</td>\n",
       "      <td>0.200000</td>\n",
       "    </tr>\n",
       "    <tr>\n",
       "      <th>Helmut Kohl</th>\n",
       "      <td>0.200000</td>\n",
       "      <td>0.363636</td>\n",
       "      <td>0.000000</td>\n",
       "    </tr>\n",
       "    <tr>\n",
       "      <th>David Bowie</th>\n",
       "      <td>0.000000</td>\n",
       "      <td>0.285714</td>\n",
       "      <td>0.250000</td>\n",
       "    </tr>\n",
       "    <tr>\n",
       "      <th>Albrecht Dürer</th>\n",
       "      <td>0.000000</td>\n",
       "      <td>0.000000</td>\n",
       "      <td>0.000000</td>\n",
       "    </tr>\n",
       "    <tr>\n",
       "      <th>Hokusai</th>\n",
       "      <td>0.500000</td>\n",
       "      <td>0.250000</td>\n",
       "      <td>1.000000</td>\n",
       "    </tr>\n",
       "    <tr>\n",
       "      <th>Abu Nuwas</th>\n",
       "      <td>0.000000</td>\n",
       "      <td>0.500000</td>\n",
       "      <td>0.000000</td>\n",
       "    </tr>\n",
       "    <tr>\n",
       "      <th>Masaccio</th>\n",
       "      <td>0.200000</td>\n",
       "      <td>0.333333</td>\n",
       "      <td>0.250000</td>\n",
       "    </tr>\n",
       "    <tr>\n",
       "      <th>Mao Zedong</th>\n",
       "      <td>0.000000</td>\n",
       "      <td>0.400000</td>\n",
       "      <td>0.000000</td>\n",
       "    </tr>\n",
       "    <tr>\n",
       "      <th>Ingmar Bergman</th>\n",
       "      <td>0.250000</td>\n",
       "      <td>0.416667</td>\n",
       "      <td>0.000000</td>\n",
       "    </tr>\n",
       "    <tr>\n",
       "      <th>Augustin-Louis Cauchy</th>\n",
       "      <td>1.000000</td>\n",
       "      <td>0.500000</td>\n",
       "      <td>1.000000</td>\n",
       "    </tr>\n",
       "    <tr>\n",
       "      <th>Sima Qian</th>\n",
       "      <td>0.000000</td>\n",
       "      <td>0.111111</td>\n",
       "      <td>0.000000</td>\n",
       "    </tr>\n",
       "  </tbody>\n",
       "</table>\n",
       "</div>"
      ],
      "text/plain": [
       "                       Method-1 Score  Method-2 Score  Baseline Score\n",
       "Person                                                               \n",
       "George Washington            0.000000        0.384615        0.000000\n",
       "George W. Bush               0.000000        0.625000        0.250000\n",
       "Nicolaus Copernicus          0.250000        0.545455        0.250000\n",
       "Andrei Tarkovsky             0.250000        0.333333        0.333333\n",
       "Meryl Streep                 0.333333        0.500000        0.500000\n",
       "Narendra Modi                0.000000        0.000000        0.000000\n",
       "Indira Gandhi                0.000000        0.111111        0.333333\n",
       "Kofi Annan                   0.333333        0.111111        0.333333\n",
       "Leonard Cohen                0.000000        0.000000        0.000000\n",
       "Friedrich Hayek              0.000000        0.363636        0.250000\n",
       "Richard Wagner               0.200000        0.333333        0.200000\n",
       "Helmut Kohl                  0.200000        0.363636        0.000000\n",
       "David Bowie                  0.000000        0.285714        0.250000\n",
       "Albrecht Dürer               0.000000        0.000000        0.000000\n",
       "Hokusai                      0.500000        0.250000        1.000000\n",
       "Abu Nuwas                    0.000000        0.500000        0.000000\n",
       "Masaccio                     0.200000        0.333333        0.250000\n",
       "Mao Zedong                   0.000000        0.400000        0.000000\n",
       "Ingmar Bergman               0.250000        0.416667        0.000000\n",
       "Augustin-Louis Cauchy        1.000000        0.500000        1.000000\n",
       "Sima Qian                    0.000000        0.111111        0.000000"
      ]
     },
     "execution_count": 163,
     "metadata": {},
     "output_type": "execute_result"
    }
   ],
   "source": [
    "pd.DataFrame(data , columns=['Person' , \"Method-1 Score\", \"Method-2 Score\",\"Baseline Score\"]).set_index(\"Person\")"
   ]
  },
  {
   "cell_type": "code",
   "execution_count": null,
   "metadata": {},
   "outputs": [],
   "source": []
  }
 ],
 "metadata": {
  "kernelspec": {
   "display_name": "Python 3",
   "language": "python",
   "name": "python3"
  },
  "language_info": {
   "codemirror_mode": {
    "name": "ipython",
    "version": 3
   },
   "file_extension": ".py",
   "mimetype": "text/x-python",
   "name": "python",
   "nbconvert_exporter": "python",
   "pygments_lexer": "ipython3",
   "version": "3.8.2"
  }
 },
 "nbformat": 4,
 "nbformat_minor": 4
}
