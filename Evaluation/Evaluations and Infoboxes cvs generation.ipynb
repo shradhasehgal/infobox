{
 "cells": [
  {
   "cell_type": "markdown",
   "metadata": {},
   "source": [
    "### Method 1"
   ]
  },
  {
   "cell_type": "code",
   "execution_count": 81,
   "metadata": {},
   "outputs": [],
   "source": [
    "import sys\n",
    "from qwikidata.sparql import return_sparql_query_results\n",
    "from qwikidata.entity import WikidataItem, WikidataLexeme, WikidataProperty\n",
    "from qwikidata.linked_data_interface import get_entity_dict_from_api\n",
    "from SPARQLWrapper import SPARQLWrapper, JSON\n",
    "import json\n",
    "from tqdm import tqdm\n",
    "import re\n",
    "import requests as r\n",
    "import pandas as pd\n",
    "from collections import defaultdict"
   ]
  },
  {
   "cell_type": "code",
   "execution_count": 3,
   "metadata": {},
   "outputs": [],
   "source": [
    "class Translation_Api():\n",
    "    # https://docs.microsoft.com/en-us/azure/cognitive-services/translator/reference/v3-0-reference\n",
    "    def __init__(self):\n",
    "        self.headers = {\n",
    "                \"Ocp-Apim-Subscription-Key\":\"e669322a133044489e6dc4e9cde3edee\",\n",
    "                \"Content-Type\":\"application/json\",\n",
    "                \"Ocp-Apim-Subscription-Region\":\"centralus\"\n",
    "            }\n",
    "        self.transliterate_url = \"https://api.cognitive.microsofttranslator.com/transliterate?api-version=3.0&language=hi&fromScript=Latn&toScript=Deva\"\n",
    "        self.translate_url = \"https://api.cognitive.microsofttranslator.com/translate?api-version=3.0&to=hi&from=en&toScript=Deva\"\n",
    "    \n",
    "    def get_translation(self,data):\n",
    "        if \"{{\" in data : return data\n",
    "        data = data.split(\"<ref>\")[0]\n",
    "        if data == \"\" : return data\n",
    "        data = [{\"Text\":data}]\n",
    "        res = r.post( self.translate_url , json = data , headers = self.headers).text\n",
    "        res = json.loads(res)\n",
    "        res = [ ret['translations'][0]['text'] for ret in res ]\n",
    "        return res[0].replace(\"[[\",\"[\").replace(\"]]\",\"]\").replace(\"[\",\"[[\").replace(\"]\",\"]]\")\n",
    "        \n",
    "    def get_transliteration(self,data):\n",
    "        if \"{{\" in data : return data\n",
    "        data = data.split(\"<ref>\")[0]\n",
    "        if data == \"\" : return data\n",
    "        data = [{\"Text\":data}]\n",
    "        res = r.post( self.transliterate_url , json = data , headers = self.headers).text\n",
    "        res = json.loads(res)\n",
    "        res = [ret['text'] for ret in res]\n",
    "        return res[0].replace(\"[[\",\"[\").replace(\"]]\",\"]\").replace(\"[\",\"[[\").replace(\"]\",\"]]\")\n",
    "translator = Translation_Api()"
   ]
  },
  {
   "cell_type": "code",
   "execution_count": 4,
   "metadata": {},
   "outputs": [],
   "source": [
    "biography = {\n",
    "    \"image\": \"P18\",\n",
    "    \"gender\":\"P21\",\n",
    "    \"residence\":\"P551\",\n",
    "    \"birth_place\":\"P19\",\n",
    "    \"birth_date\":\"P569\",\n",
    "    \"profession\": \"P106\",\n",
    "    \"notable_works\": \"P800\",\n",
    "    \"education\": \"P69\",\n",
    "    \"positions\":\"P39\",\n",
    "    \"awards\": \"P166\",\n",
    "    \"spouse\": \"P26\",\n",
    "    \"nationality\": \"P27\",\n",
    "}\n",
    "\n",
    "translation = {\n",
    "    \"name\":\"नाम\",\n",
    "    \"description\":\"विवरण\",\n",
    "    \"image\": \"चित्र\",\n",
    "    \"gender\":\"लिंग\",\n",
    "    \"residence\":\"निवास\",\n",
    "    \"birth_place\":\"जन्म स्थान\",\n",
    "    \"birth_date\":\"जन्मतारीख\",\n",
    "    \"profession\": \"व्यवसाय\",\n",
    "    \"notable_works\": \"उल्लेखनीय कार्य\",\n",
    "    \"education\": \"शिक्षा\",\n",
    "    \"positions\": \"पद\",\n",
    "    \"awards\": \"पुरस्कार\",\n",
    "    \"spouse\": \"पति या पत्नी\",\n",
    "    \"other_available_information\":\"अन्य उपलब्ध जानकारी\",\n",
    "    \"main_info\": \"मुख्य जानकारी\",\n",
    "    \"nationality\": \"राष्ट्रीयता\"\n",
    "}\n",
    "\n",
    "to_transliteration = ['name','birth_place','spouse','notable_works']"
   ]
  },
  {
   "cell_type": "code",
   "execution_count": 17,
   "metadata": {},
   "outputs": [],
   "source": [
    "def get_results(endpoint_url, query):\n",
    "    user_agent = \"WDQS-example Python/%s.%s\" % (sys.version_info[0], sys.version_info[1])\n",
    "    sparql = SPARQLWrapper(endpoint_url, agent=user_agent)\n",
    "    sparql.setQuery(query)\n",
    "    sparql.setReturnFormat(JSON)\n",
    "    return sparql.query().convert()\n",
    "\n",
    "endpoint_url = \"https://query.wikidata.org/sparql\""
   ]
  },
  {
   "cell_type": "code",
   "execution_count": 46,
   "metadata": {},
   "outputs": [],
   "source": [
    "#calls qwikidata get entity function for an entity id\n",
    "def getEntityInfo(eid):\n",
    "    return get_entity_dict_from_api(eid)\n",
    "\n",
    "#extract the name of the entity or the property value in native language\n",
    "def extractName(info):\n",
    "    return info.get('labels', {}).get('en', {}).get('value', \"\")\n",
    "\n",
    "#extract the description of the entity or the property value in native language\n",
    "def extractDescription(info):\n",
    "    return info.get('descriptions', {}).get('en', {}).get('value', \"\")\n",
    "\n",
    "#print the name and the description\n",
    "def printNameAndDescription(info, trans):\n",
    "    name = extractName(info)\n",
    "    if name != \"\":\n",
    "        print(trans['name'] + \":\", translator.get_transliteration(name))\n",
    "    desc = extractDescription(info)\n",
    "    if desc != \"\":\n",
    "        print(trans['description'] + \":\", translator.get_translation(desc))\n",
    "        \n",
    "#print the information present in the entity itself\n",
    "def printOtherInfo(entity, bio):\n",
    "    #get the claims subdict\n",
    "#     print(entity['claims'])\n",
    "    for p in entity['claims'].keys():\n",
    "        if p not in bio.values():\n",
    "            #get information on the property in bengali\n",
    "            ent_info = getEntityInfo(p)\n",
    "            name, desc = extractName(ent_info), extractDescription(ent_info)\n",
    "            if name == \"\":\n",
    "                continue\n",
    "            value = \"\"\n",
    "            #for every property in the claims subdict get inforamtion on the correspoding values\n",
    "            for data in entity.get('claims', {}).get(p, []):\n",
    "                res = data.get('mainsnak',{}).get('datavalue', {}).get('value', {})\n",
    "                if type(res) == dict:\n",
    "                    info_id = res.get('id', \"\")\n",
    "                    if info_id == \"\":\n",
    "                        continue\n",
    "                    info = getEntityInfo(info_id)\n",
    "                    pname, pdesc = extractName(info), extractDescription(info)\n",
    "                    if pname == \"\":\n",
    "                        continue\n",
    "                    if pdesc != \"\":\n",
    "                        pname += str(f'({pdesc})')\n",
    "                    value += pname \n",
    "            #only print property name and value if the value is present in native language\n",
    "            if value != \"\":\n",
    "                print(name + \": \" + value)\n",
    "    \n",
    "def method1_infobox(wd, bio, trans):\n",
    "    result = {}\n",
    "    #get entity from api\n",
    "    entity_info = getEntityInfo(wd)\n",
    "    result['name'] = translator.get_transliteration(extractName(entity_info))\n",
    "    result['description'] = translator.get_translation(extractDescription(entity_info))\n",
    "    #print name and description\n",
    "#     printNameAndDescription(entity_info, trans)\n",
    "    #explicitly query using sparql to get main biography data\n",
    "#     print(\"----------------------\",trans['main_info'],\"----------------------\")\n",
    "    for entity, wdt in bio.items():\n",
    "        spqrqlq = f\"SELECT ?entity ?entityLabel ?entityDescription WHERE {{ wd:{wd} wdt:{wdt} ?entity; SERVICE wikibase:label {{ bd:serviceParam wikibase:language \\\"en\\\". }} }}\"\n",
    "        s, v = trans[entity] + \": \", \"\"\n",
    "        res = get_results(endpoint_url, str(spqrqlq))\n",
    "        for entities in res['results']['bindings']:\n",
    "            value = entities.get('entityLabel').get('value', \"\")\n",
    "            if value != '' and 'Q' not in value:\n",
    "                v += value + ','\n",
    "        if v != \"\":\n",
    "            if entity in to_transliteration:\n",
    "                result[entity] = translator.get_transliteration(v)\n",
    "            else:\n",
    "                result[entity] = translator.get_translation(v)\n",
    "#             print(s + v)\n",
    "    return result"
   ]
  },
  {
   "cell_type": "markdown",
   "metadata": {},
   "source": [
    "### Method2"
   ]
  },
  {
   "cell_type": "code",
   "execution_count": 6,
   "metadata": {},
   "outputs": [],
   "source": [
    "import wptools\n",
    "import json\n",
    "from tqdm import tqdm\n",
    "import re\n",
    "import requests as r\n",
    "from collections import defaultdict"
   ]
  },
  {
   "cell_type": "code",
   "execution_count": 7,
   "metadata": {},
   "outputs": [],
   "source": [
    "def update(infobox , translator):\n",
    "    infobox = defaultdict(str , infobox)\n",
    "    updated_infobox = {}\n",
    "    updated_infobox['name'] = translator.get_transliteration(infobox['name'])\n",
    "    \n",
    "    updated_infobox['image'] = infobox['image']\n",
    "    \n",
    "    updated_infobox['caption'] = translator.get_translation(infobox['caption'])\n",
    "    \n",
    "    updated_infobox['fullname'] = translator.get_transliteration(infobox['fullname'])\n",
    "    updated_infobox['nickname'] = translator.get_transliteration(infobox['nickname'])\n",
    "    \n",
    "    infobox['birth_date'] = infobox['birth_date'].replace(\"df|\",\"df\").replace(\"|yes\",\"yes\")\n",
    "    updated_infobox['residence'] = translator.get_transliteration(infobox['residence'])\n",
    "    updated_infobox['birth_date'] = translator.get_translation(infobox['birth_date'])\n",
    "    updated_infobox['birth_place'] = translator.get_transliteration(infobox['birth_place'])\n",
    "    \n",
    "    updated_infobox['death_date'] = translator.get_translation(infobox['death_date'])\n",
    "    updated_infobox['death_place'] = translator.get_transliteration(infobox['death_place'])\n",
    "    \n",
    "    updated_infobox['country'] = translator.get_transliteration(infobox['country'])\n",
    "    updated_infobox['nationality'] = translator.get_translation(infobox['nationality'])\n",
    "    updated_infobox['occupation'] = translator.get_translation(infobox['occupation'])\n",
    "    updated_infobox['profession'] = translator.get_translation(infobox['profession'])\n",
    "    updated_infobox['positions'] = translator.get_translation(infobox['positions'])\n",
    "    updated_infobox['heightm'] = infobox['heightm']\n",
    "    updated_infobox['gender'] = translator.get_translation(infobox['gender'])\n",
    "    \n",
    "    updated_infobox['spouse'] = translator.get_transliteration(infobox['spouse'])\n",
    "    updated_infobox['children'] = translator.get_transliteration(infobox['children'])\n",
    "    updated_infobox['parents'] = translator.get_transliteration(infobox['parents'])\n",
    "    updated_infobox['father'] = translator.get_transliteration(infobox['father'])\n",
    "    updated_infobox['mother'] = translator.get_transliteration(infobox['mother'])\n",
    "    \n",
    "    updated_infobox['party'] = translator.get_translation(infobox['party'])\n",
    "    updated_infobox['awards'] = translator.get_transliteration(infobox['awards'])\n",
    "    updated_infobox['relations'] = translator.get_translation(infobox['relations'])\n",
    "    updated_infobox['known_for'] = translator.get_translation(infobox['known_for'])\n",
    "    updated_infobox['notable_works'] = translator.get_transliteration(infobox['notable_works'])\n",
    "    \n",
    "    updated_infobox['alma_mater'] = translator.get_translation(infobox['alma_mater'])\n",
    "    updated_infobox['education'] = translator.get_translation(infobox['education'])\n",
    "    updated_infobox = { key : val for key , val in updated_infobox.items() if val!=''}\n",
    "    cur_len = len(updated_infobox)\n",
    "    if len(updated_infobox) < 15:\n",
    "        for key , val in infobox.items():\n",
    "            if key in updated_infobox : continue\n",
    "            updated_infobox[key] = translator.get_transliteration(val)\n",
    "            if len(updated_infobox) == 15: break\n",
    "    updated_infobox = { key : val for key , val in updated_infobox.items() if val!=''}\n",
    "    return updated_infobox"
   ]
  },
  {
   "cell_type": "code",
   "execution_count": 40,
   "metadata": {},
   "outputs": [],
   "source": [
    "def method2_infobox(name):\n",
    "    page = wptools.page(name).get_parse()\n",
    "    result = update(page.data['infobox'] , translator)\n",
    "    return result"
   ]
  },
  {
   "cell_type": "markdown",
   "metadata": {},
   "source": [
    "### Baseline"
   ]
  },
  {
   "cell_type": "code",
   "execution_count": 73,
   "metadata": {},
   "outputs": [],
   "source": [
    "def getEntityInfo(eid):\n",
    "    return get_entity_dict_from_api(eid)\n",
    "\n",
    "#extract the name of the entity or the property value in native language\n",
    "def extractNameBaseline(info):\n",
    "    return info.get('labels', {}).get('hi', {}).get('value', \"\")\n",
    "\n",
    "#extract the description of the entity or the property value in native language\n",
    "def extractDescriptionBaseline(info):\n",
    "    return info.get('descriptions', {}).get('hi', {}).get('value', \"\")\n",
    "\n",
    "#print the name and the description\n",
    "def printNameAndDescriptionBaseline(info, trans):\n",
    "    name = extractName(info)\n",
    "    if name != \"\":\n",
    "        print(trans['name'] + \":\", name)\n",
    "    desc = extractDescription(info)\n",
    "    if desc != \"\":\n",
    "        print(trans['description'] + \":\", desc)\n",
    "    \n",
    "def baseline_infobox(wd, bio, trans):\n",
    "    result = {}\n",
    "    #get entity from api\n",
    "    entity_info = getEntityInfo(wd)\n",
    "    #print name and description\n",
    "#     printNameAndDescription(entity_info, trans)\n",
    "    result['name'] = extractNameBaseline(entity_info)\n",
    "    result['description'] = extractDescriptionBaseline(entity_info)\n",
    "    #explicitly query using sparql to get main biography data\n",
    "#     print(\"----------------------\",trans['main_info'],\"----------------------\")\n",
    "    for entity, wdt in bio.items():\n",
    "        spqrqlq = f\"SELECT ?entity ?entityLabel ?entityDescription WHERE {{ wd:{wd} wdt:{wdt} ?entity; SERVICE wikibase:label {{ bd:serviceParam wikibase:language \\\"hi\\\". }} }}\"\n",
    "        s, v = trans[entity] + \": \", \"\"\n",
    "        res = get_results(endpoint_url, str(spqrqlq))\n",
    "        for entities in res['results']['bindings']:\n",
    "            value = entities.get('entityLabel').get('value', \"\")\n",
    "            if value != '' and 'Q' not in value:\n",
    "                v += value + ','\n",
    "        if v != \"\":\n",
    "            result[entity] = v\n",
    "    return result\n",
    "#             print(s + v)\n",
    "            "
   ]
  },
  {
   "cell_type": "code",
   "execution_count": 69,
   "metadata": {},
   "outputs": [],
   "source": [
    "def change_format(infobox):\n",
    "    infobox = [ (\"|\" + key + \" = \" +  val) for key , val in infobox.items()]\n",
    "    result = \"{{Infobox person\\n\"\n",
    "    result += \"\\n\".join(infobox)\n",
    "    result += \"\\n}}\"\n",
    "    return result"
   ]
  },
  {
   "cell_type": "code",
   "execution_count": 32,
   "metadata": {},
   "outputs": [],
   "source": [
    "from libindic import inexactsearch\n",
    "# from People_translator import Translation_Api"
   ]
  },
  {
   "cell_type": "code",
   "execution_count": 50,
   "metadata": {},
   "outputs": [],
   "source": [
    "# translator = Translation_Api()\n",
    "# translated_infobox = translator.get_infobox(page_name=\"Virat Kohli\")\n",
    "# actual_infobox = translator.get_page(page_name=\"विराट कोहली\" ,language=\"hi\").data['infobox']\n",
    "# print(actual_infobox)"
   ]
  },
  {
   "cell_type": "markdown",
   "metadata": {},
   "source": [
    "### Method1 Vs Method2"
   ]
  },
  {
   "cell_type": "code",
   "execution_count": 33,
   "metadata": {},
   "outputs": [],
   "source": [
    "inst = inexactsearch.InexactSearch()"
   ]
  },
  {
   "cell_type": "code",
   "execution_count": 43,
   "metadata": {},
   "outputs": [],
   "source": [
    "markings_m1 = {\n",
    "    'C' : [],\n",
    "    'S' : [],\n",
    "    'D' : []\n",
    "}\n",
    "markings_m2 = {\n",
    "    'C' : [],\n",
    "    'S' : [],\n",
    "    'D' : []\n",
    "}"
   ]
  },
  {
   "cell_type": "code",
   "execution_count": 44,
   "metadata": {},
   "outputs": [],
   "source": [
    "wiki_people = [['Q1058','Narendra Modi'],['Q213854','Virat Kohli']] #Example"
   ]
  },
  {
   "cell_type": "code",
   "execution_count": 78,
   "metadata": {},
   "outputs": [
    {
     "name": "stderr",
     "output_type": "stream",
     "text": [
      "en.wikipedia.org (parse) Narendra Modi\n",
      "en.wikipedia.org (imageinfo) File:Prime Minister, Shri Narendra M...\n",
      "Narendra Modi (en) data\n",
      "{\n",
      "  image: <list(1)> {'kind': 'parse-image', 'file': 'File:Prime Min...\n",
      "  infobox: <dict(46)> image, image_size, order, office, president,...\n",
      "  iwlinks: <list(3)> https://commons.wikimedia.org/wiki/Category:N...\n",
      "  pageid: 444222\n",
      "  parsetree: <str(272284)> <root><template><title>short descriptio...\n",
      "  requests: <list(2)> parse, imageinfo\n",
      "  title: Narendra Modi\n",
      "  wikibase: Q1058\n",
      "  wikidata_url: https://www.wikidata.org/wiki/Q1058\n",
      "  wikitext: <str(217521)> {{short description|14th and current Pri...\n",
      "}\n",
      "en.wikipedia.org (parse) Virat Kohli\n",
      "en.wikipedia.org (imageinfo) File:The President, Shri Pranab Mukh...\n",
      "Virat Kohli (en) data\n",
      "{\n",
      "  image: <list(1)> {'kind': 'parse-image', 'file': 'File:The Presi...\n",
      "  infobox: <dict(97)> name, image, caption, birth_date, birth_plac...\n",
      "  iwlinks: <list(2)> https://commons.wikimedia.org/wiki/Category:V...\n",
      "  pageid: 16017429\n",
      "  parsetree: <str(264268)> <root><template><title>short descriptio...\n",
      "  requests: <list(2)> parse, imageinfo\n",
      "  title: Virat Kohli\n",
      "  wikibase: Q213854\n",
      "  wikidata_url: https://www.wikidata.org/wiki/Q213854\n",
      "  wikitext: <str(222278)> {{short description|Indian international...\n",
      "}\n"
     ]
    }
   ],
   "source": [
    "import csv\n",
    "with open('Baseline_results.csv', 'w', newline='') as file:\n",
    "    writer_baseline = csv.writer(file)\n",
    "    writer_baseline.writerow([\"QId\", \"Name\", \"InfoBox\"])\n",
    "with open('Method1_results.csv', 'w', newline='') as file:\n",
    "    writer_m1 = csv.writer(file)\n",
    "    writer_m1.writerow([\"QId\", \"Name\", \"InfoBox\"])\n",
    "with open('Method2_results.csv', 'w', newline='') as file:\n",
    "    writer_m2 = csv.writer(file)\n",
    "    writer_m2.writerow([\"QId\", \"Name\", \"InfoBox\"])\n",
    "    \n",
    "for qid,name in wiki_people:\n",
    "    method1 = method1_infobox(qid, biography,translation)\n",
    "    baseline = baseline_infobox(qid,biography,translation)\n",
    "    for key in method1.keys():\n",
    "        if key in baseline.keys():\n",
    "    #         print(translated_infobox[key] , actual_infobox[key]) \n",
    "            val = inst.compare(method1[key] , baseline[key])\n",
    "            if val > 0.70 :\n",
    "                markings_m1['C'].append(key)\n",
    "            else : markings_m1['S'].append(key)\n",
    "    for key in baseline.keys():\n",
    "        if key not in method1.keys():\n",
    "            markings_m1['D'].append(key)\n",
    "    \n",
    "    method2 = method2_infobox(name)\n",
    "    for key in method2.keys():\n",
    "        if key in baseline.keys():\n",
    "    #         print(translated_infobox[key] , actual_infobox[key]) \n",
    "            val = inst.compare(method2[key] , baseline[key])\n",
    "            if val > 0.70 :\n",
    "                markings_m2['C'].append(key)\n",
    "            else : markings_m2['S'].append(key)\n",
    "    for key in baseline.keys():\n",
    "        if key not in method2.keys():\n",
    "            markings_m2['D'].append(key)\n",
    "    \n",
    "    with open('Baseline_results.csv','a') as file:\n",
    "        writer_baseline = csv.writer(file)\n",
    "        writer_baseline.writerow([qid,name,change_format(baseline)])\n",
    "    with open('Method1_results.csv','a') as file:\n",
    "        writer_m1 = csv.writer(file)\n",
    "        writer_m1.writerow([qid,name,change_format(method1)])\n",
    "    with open('Method2_results.csv','a') as file:\n",
    "        writer_m2 = csv.writer(file)\n",
    "        writer_m2.writerow([qid,name,change_format(method1)])"
   ]
  },
  {
   "cell_type": "code",
   "execution_count": 48,
   "metadata": {},
   "outputs": [],
   "source": [
    "def print_results(markings):\n",
    "    precision = len(markings['C']) / (len(markings['C']) + len(markings['S']))\n",
    "    recall = len(markings['C']) / (len(markings['C']) + len(markings['S']) + len(markings['D']))\n",
    "    print('Precisions :',precision)\n",
    "    print('Recall :',recall)"
   ]
  },
  {
   "cell_type": "code",
   "execution_count": 49,
   "metadata": {},
   "outputs": [
    {
     "name": "stdout",
     "output_type": "stream",
     "text": [
      "Method 1\n",
      "Precisions : 0.6944444444444444\n",
      "Recall : 0.6944444444444444\n",
      "Method 2\n",
      "Precisions : 0.1\n",
      "Recall : 0.043478260869565216\n"
     ]
    }
   ],
   "source": [
    "print('Method 1')\n",
    "print_results(markings_m1)\n",
    "print('Method 2')\n",
    "print_results(markings_m2)"
   ]
  },
  {
   "cell_type": "code",
   "execution_count": 84,
   "metadata": {},
   "outputs": [
    {
     "data": {
      "text/html": [
       "<div>\n",
       "<style scoped>\n",
       "    .dataframe tbody tr th:only-of-type {\n",
       "        vertical-align: middle;\n",
       "    }\n",
       "\n",
       "    .dataframe tbody tr th {\n",
       "        vertical-align: top;\n",
       "    }\n",
       "\n",
       "    .dataframe thead th {\n",
       "        text-align: right;\n",
       "    }\n",
       "</style>\n",
       "<table border=\"1\" class=\"dataframe\">\n",
       "  <thead>\n",
       "    <tr style=\"text-align: right;\">\n",
       "      <th></th>\n",
       "      <th>QId</th>\n",
       "      <th>Name</th>\n",
       "      <th>InfoBox</th>\n",
       "    </tr>\n",
       "  </thead>\n",
       "  <tbody>\n",
       "    <tr>\n",
       "      <th>0</th>\n",
       "      <td>Q1058</td>\n",
       "      <td>Narendra Modi</td>\n",
       "      <td>{{Infobox person\\n|name = नरेन्द्र मोदी\\n|desc...</td>\n",
       "    </tr>\n",
       "    <tr>\n",
       "      <th>1</th>\n",
       "      <td>Q213854</td>\n",
       "      <td>Virat Kohli</td>\n",
       "      <td>{{Infobox person\\n|name = विराट कोहली\\n|descri...</td>\n",
       "    </tr>\n",
       "  </tbody>\n",
       "</table>\n",
       "</div>"
      ],
      "text/plain": [
       "       QId           Name                                            InfoBox\n",
       "0    Q1058  Narendra Modi  {{Infobox person\\n|name = नरेन्द्र मोदी\\n|desc...\n",
       "1  Q213854    Virat Kohli  {{Infobox person\\n|name = विराट कोहली\\n|descri..."
      ]
     },
     "execution_count": 84,
     "metadata": {},
     "output_type": "execute_result"
    }
   ],
   "source": [
    "df=pd.read_csv('Baseline_results.csv')\n",
    "df"
   ]
  },
  {
   "cell_type": "markdown",
   "metadata": {},
   "source": [
    "### Ine"
   ]
  },
  {
   "cell_type": "code",
   "execution_count": 22,
   "metadata": {},
   "outputs": [
    {
     "data": {
      "text/plain": [
       "{'रिसुभ': 0.9,\n",
       " 'रीसुबह': 0.6666666666666666,\n",
       " 'रीसुभ': 1.0,\n",
       " 'रईसुभ': 0.9,\n",
       " 'रिसुब': 0.9}"
      ]
     },
     "execution_count": 22,
     "metadata": {},
     "output_type": "execute_result"
    }
   ],
   "source": [
    "inst.search(\"रिसुभ रीसुबह रीसुभ रईसुभ रिसुब\" , \"रीसुभ\")"
   ]
  },
  {
   "cell_type": "code",
   "execution_count": 26,
   "metadata": {},
   "outputs": [
    {
     "data": {
      "text/plain": [
       "{'ज्ञानसन्दूक': 0.7146814404432132}"
      ]
     },
     "execution_count": 26,
     "metadata": {},
     "output_type": "execute_result"
    }
   ],
   "source": [
    "inst.search(\"ज्ञानसन्दूक\",\"ज्ञानसंदूक\")"
   ]
  },
  {
   "cell_type": "code",
   "execution_count": 51,
   "metadata": {},
   "outputs": [
    {
     "data": {
      "text/plain": [
       "0.1983471074380165"
      ]
     },
     "execution_count": 51,
     "metadata": {},
     "output_type": "execute_result"
    }
   ],
   "source": [
    "inst.compare(\"रिसुभ रीसुबह रीसुभ रईसुभ रिसुब\" , \"रीसुभ\")"
   ]
  },
  {
   "cell_type": "code",
   "execution_count": 52,
   "metadata": {},
   "outputs": [
    {
     "data": {
      "text/plain": [
       "0.9"
      ]
     },
     "execution_count": 52,
     "metadata": {},
     "output_type": "execute_result"
    }
   ],
   "source": [
    "inst.compare(\"रिसुभ\" , \"रीसुभ\")"
   ]
  },
  {
   "cell_type": "code",
   "execution_count": null,
   "metadata": {},
   "outputs": [],
   "source": []
  }
 ],
 "metadata": {
  "kernelspec": {
   "display_name": "Python 3",
   "language": "python",
   "name": "python3"
  },
  "language_info": {
   "codemirror_mode": {
    "name": "ipython",
    "version": 3
   },
   "file_extension": ".py",
   "mimetype": "text/x-python",
   "name": "python",
   "nbconvert_exporter": "python",
   "pygments_lexer": "ipython3",
   "version": "3.7.3"
  }
 },
 "nbformat": 4,
 "nbformat_minor": 4
}
