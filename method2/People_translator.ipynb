{
 "cells": [
  {
   "cell_type": "code",
   "execution_count": 1,
   "metadata": {},
   "outputs": [],
   "source": [
    "import wptools\n",
    "import json\n",
    "from tqdm import tqdm\n",
    "import re\n",
    "import requests as r\n",
    "from collections import defaultdict"
   ]
  },
  {
   "cell_type": "code",
   "execution_count": 249,
   "metadata": {},
   "outputs": [],
   "source": [
    "class Translation_Api():\n",
    "    # https://docs.microsoft.com/en-us/azure/cognitive-services/translator/reference/v3-0-reference\n",
    "    def __init__(self):\n",
    "        self.headers = {\n",
    "                \"Ocp-Apim-Subscription-Key\":\"e669322a133044489e6dc4e9cde3edee\",\n",
    "                \"Content-Type\":\"application/json\",\n",
    "                \"Ocp-Apim-Subscription-Region\":\"centralus\"\n",
    "            }\n",
    "        self.transliterate_url = \"https://api.cognitive.microsofttranslator.com/transliterate?api-version=3.0&language=hi&fromScript=Latn&toScript=Deva\"\n",
    "        self.translate_url = \"https://api.cognitive.microsofttranslator.com/translate?api-version=3.0&to=hi&from=en&toScript=Deva\"\n",
    "    \n",
    "     def get_translation(self,data):\n",
    "        if \"{{\" in data : return data\n",
    "        data = data.split(\"<ref>\")[0]\n",
    "        if data == \"\" : return data\n",
    "        data = [{\"Text\":data}]\n",
    "        res = r.post( self.translate_url , json = data , headers = self.headers).text\n",
    "        res = json.loads(res)\n",
    "        res = [ ret['translations'][0]['text'] for ret in res ]\n",
    "        return res[0].replace(\"[[\",\"[\").replace(\"]]\",\"]\").replace(\"[\",\"[[\").replace(\"]\",\"]]\")\n",
    "        \n",
    "    def get_transliteration(self,data):\n",
    "        if \"{{\" in data : return data\n",
    "        data = data.split(\"<ref>\")[0]\n",
    "        if data == \"\" : return data\n",
    "        data = [{\"Text\":data}]\n",
    "        res = r.post( self.transliterate_url , json = data , headers = self.headers).text\n",
    "        res = json.loads(res)\n",
    "        res = [ret['text'] for ret in res]\n",
    "        return res[0].replace(\"[[\",\"[\").replace(\"]]\",\"]\").replace(\"[\",\"[[\").replace(\"]\",\"]]\")"
   ]
  },
  {
   "cell_type": "code",
   "execution_count": 250,
   "metadata": {},
   "outputs": [],
   "source": [
    "translator = Translation_Api()"
   ]
  },
  {
   "cell_type": "code",
   "execution_count": 251,
   "metadata": {},
   "outputs": [
    {
     "data": {
      "text/plain": [
       "'नमूना पाठ'"
      ]
     },
     "execution_count": 251,
     "metadata": {},
     "output_type": "execute_result"
    }
   ],
   "source": [
    "data = \"Sample Text\"\n",
    "translator.get_translation(data)"
   ]
  },
  {
   "cell_type": "code",
   "execution_count": 252,
   "metadata": {},
   "outputs": [
    {
     "data": {
      "text/plain": [
       "'सैंपल टेक्ट'"
      ]
     },
     "execution_count": 252,
     "metadata": {},
     "output_type": "execute_result"
    }
   ],
   "source": [
    "data = \"Sample Text\"\n",
    "translator.get_transliteration(data)"
   ]
  },
  {
   "cell_type": "code",
   "execution_count": 253,
   "metadata": {},
   "outputs": [
    {
     "name": "stderr",
     "output_type": "stream",
     "text": [
      "en.wikipedia.org (parse) Surdas\n",
      "Surdas (en) data\n",
      "{\n",
      "  infobox: <dict(12)> religion, name, alt, caption, birth_date, bi...\n",
      "  pageid: 519086\n",
      "  parsetree: <str(8485)> <root><template><title>EngvarB</title><pa...\n",
      "  requests: <list(1)> parse\n",
      "  title: Surdas\n",
      "  wikibase: Q1325652\n",
      "  wikidata_url: https://www.wikidata.org/wiki/Q1325652\n",
      "  wikitext: <str(6567)> {{EngvarB|date=May 2015}} {{Use dmy dates|...\n",
      "}\n"
     ]
    }
   ],
   "source": [
    "page = wptools.page('Surdas').get_parse()"
   ]
  },
  {
   "cell_type": "code",
   "execution_count": 259,
   "metadata": {},
   "outputs": [],
   "source": [
    "def update(infobox , translator):\n",
    "    infobox = defaultdict(str , infobox)\n",
    "    updated_infobox = {}\n",
    "    updated_infobox['name'] = translator.get_transliteration(infobox['name'])\n",
    "    \n",
    "    updated_infobox['image'] = infobox['image']\n",
    "    \n",
    "    updated_infobox['caption'] = translator.get_translation(infobox['caption'])\n",
    "    \n",
    "    updated_infobox['fullname'] = translator.get_transliteration(infobox['fullname'])\n",
    "    updated_infobox['nickname'] = translator.get_transliteration(infobox['nickname'])\n",
    "    \n",
    "    infobox['birth_date'] = infobox['birth_date'].replace(\"df|\",\"df\").replace(\"|yes\",\"yes\")\n",
    "    updated_infobox['residence'] = translator.get_transliteration(infobox['residence'])\n",
    "    updated_infobox['birth_date'] = translator.get_translation(infobox['birth_date'])\n",
    "    updated_infobox['birth_place'] = translator.get_transliteration(infobox['birth_place'])\n",
    "    \n",
    "    updated_infobox['death_date'] = translator.get_translation(infobox['death_date'])\n",
    "    updated_infobox['death_place'] = translator.get_transliteration(infobox['death_place'])\n",
    "    \n",
    "    updated_infobox['country'] = translator.get_transliteration(infobox['country'])\n",
    "    updated_infobox['nationality'] = translator.get_translation(infobox['nationality'])\n",
    "    updated_infobox['occupation'] = translator.get_translation(infobox['occupation'])\n",
    "    updated_infobox['profession'] = translator.get_translation(infobox['profession'])\n",
    "    updated_infobox['positions'] = translator.get_translation(infobox['positions'])\n",
    "    updated_infobox['heightm'] = infobox['heightm']\n",
    "    updated_infobox['gender'] = translator.get_translation(infobox['gender'])\n",
    "    \n",
    "    updated_infobox['spouse'] = translator.get_transliteration(infobox['spouse'])\n",
    "    updated_infobox['children'] = translator.get_transliteration(infobox['children'])\n",
    "    updated_infobox['parents'] = translator.get_transliteration(infobox['parents'])\n",
    "    updated_infobox['father'] = translator.get_transliteration(infobox['father'])\n",
    "    updated_infobox['mother'] = translator.get_transliteration(infobox['mother'])\n",
    "    \n",
    "    updated_infobox['party'] = translator.get_translation(infobox['party'])\n",
    "    updated_infobox['awards'] = translator.get_transliteration(infobox['awards'])\n",
    "    updated_infobox['relations'] = translator.get_translation(infobox['relations'])\n",
    "    updated_infobox['known_for'] = translator.get_translation(infobox['known_for'])\n",
    "    updated_infobox['notable_works'] = translator.get_transliteration(infobox['notable_works'])\n",
    "    \n",
    "    updated_infobox['alma_mater'] = translator.get_translation(infobox['alma_mater'])\n",
    "    updated_infobox['education'] = translator.get_translation(infobox['education'])\n",
    "    updated_infobox = { key : val for key , val in updated_infobox.items() if val!=''}\n",
    "    cur_len = len(updated_infobox)\n",
    "    if len(updated_infobox) < 15:\n",
    "        for key , val in infobox.items():\n",
    "            if key in updated_infobox : continue\n",
    "            updated_infobox[key] = translator.get_transliteration(val)\n",
    "            if len(updated_infobox) == 15: break\n",
    "    updated_infobox = { key : val for key , val in updated_infobox.items() if val!=''}\n",
    "    return updated_infobox"
   ]
  },
  {
   "cell_type": "code",
   "execution_count": 260,
   "metadata": {},
   "outputs": [
    {
     "name": "stdout",
     "output_type": "stream",
     "text": [
      "CPU times: user 88.4 ms, sys: 0 ns, total: 88.4 ms\n",
      "Wall time: 7.33 s\n"
     ]
    }
   ],
   "source": [
    "new_infobox = update(page.data['infobox'] , translator)"
   ]
  },
  {
   "cell_type": "code",
   "execution_count": 262,
   "metadata": {},
   "outputs": [],
   "source": [
    "def change_format(infobox):\n",
    "    infobox = [ (\"|\" + key + \" = \" +  val) for key , val in infobox.items()]\n",
    "    print(\"{{Infobox person\")\n",
    "    print(\"\\n\".join(infobox))\n",
    "    print(\"}}\")"
   ]
  },
  {
   "cell_type": "code",
   "execution_count": 263,
   "metadata": {},
   "outputs": [
    {
     "name": "stdout",
     "output_type": "stream",
     "text": [
      "{{Infobox person\n",
      "|name = सूरदास\n",
      "|caption = सुर गायन, हाथ में एक [[एकतारा]] पकड़े\n",
      "|birth_date = अनिश्चित, कहीं 1478 और 1483 के बीच\n",
      "|birth_place = ग्राम सिही, [[फरीदाबाद]], [[हरयाणा]]\n",
      "|death_date = अनिश्चित, कहीं 1561 और 1584 के बीच\n",
      "|death_place = ब्रज, [[मुगल एम्पायर]]\n",
      "|father = रामदास सार्स्वत\n",
      "|known_for = [[भक्ति आंदोलन]], [[संत मत]], [[गुरु ग्रंथ साहिब]] में भजन\n",
      "|religion = [[हिंदूइज़्म]]\n",
      "|alt = सुर\n",
      "}}\n"
     ]
    }
   ],
   "source": [
    "new_infobox_string = change_format(new_infobox)"
   ]
  }
 ],
 "metadata": {
  "kernelspec": {
   "display_name": "Python 3",
   "language": "python",
   "name": "python3"
  },
  "language_info": {
   "codemirror_mode": {
    "name": "ipython",
    "version": 3
   },
   "file_extension": ".py",
   "mimetype": "text/x-python",
   "name": "python",
   "nbconvert_exporter": "python",
   "pygments_lexer": "ipython3",
   "version": "3.8.2"
  }
 },
 "nbformat": 4,
 "nbformat_minor": 4
}
