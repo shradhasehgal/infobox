{
 "cells": [
  {
   "cell_type": "code",
   "execution_count": 2,
   "metadata": {},
   "outputs": [],
   "source": [
    "import json"
   ]
  },
  {
   "cell_type": "code",
   "execution_count": 3,
   "metadata": {},
   "outputs": [
    {
     "ename": "FileNotFoundError",
     "evalue": "[Errno 2] No such file or directory: 'primary_dataset_new.json'",
     "output_type": "error",
     "traceback": [
      "\u001b[0;31m---------------------------------------------------------------------------\u001b[0m",
      "\u001b[0;31mFileNotFoundError\u001b[0m                         Traceback (most recent call last)",
      "\u001b[0;32m<ipython-input-3-8b83c19a4c73>\u001b[0m in \u001b[0;36m<module>\u001b[0;34m\u001b[0m\n\u001b[0;32m----> 1\u001b[0;31m \u001b[0;32mwith\u001b[0m \u001b[0mopen\u001b[0m\u001b[0;34m(\u001b[0m\u001b[0;34m'primary_dataset_new.json'\u001b[0m\u001b[0;34m)\u001b[0m \u001b[0;32mas\u001b[0m \u001b[0mf\u001b[0m\u001b[0;34m:\u001b[0m\u001b[0;34m\u001b[0m\u001b[0;34m\u001b[0m\u001b[0m\n\u001b[0m\u001b[1;32m      2\u001b[0m     \u001b[0mdata\u001b[0m \u001b[0;34m=\u001b[0m \u001b[0mjson\u001b[0m\u001b[0;34m.\u001b[0m\u001b[0mloads\u001b[0m\u001b[0;34m(\u001b[0m\u001b[0mf\u001b[0m\u001b[0;34m.\u001b[0m\u001b[0mread\u001b[0m\u001b[0;34m(\u001b[0m\u001b[0;34m)\u001b[0m\u001b[0;34m)\u001b[0m\u001b[0;34m\u001b[0m\u001b[0;34m\u001b[0m\u001b[0m\n",
      "\u001b[0;31mFileNotFoundError\u001b[0m: [Errno 2] No such file or directory: 'primary_dataset_new.json'"
     ]
    }
   ],
   "source": [
    "with open('primary_dataset_new.json') as f:\n",
    "    data = json.loads(f.read())"
   ]
  },
  {
   "cell_type": "code",
   "execution_count": 4,
   "metadata": {},
   "outputs": [
    {
     "ename": "NameError",
     "evalue": "name 'data' is not defined",
     "output_type": "error",
     "traceback": [
      "\u001b[0;31m---------------------------------------------------------------------------\u001b[0m",
      "\u001b[0;31mNameError\u001b[0m                                 Traceback (most recent call last)",
      "\u001b[0;32m<ipython-input-4-8254ddba6a3c>\u001b[0m in \u001b[0;36m<module>\u001b[0;34m\u001b[0m\n\u001b[0;32m----> 1\u001b[0;31m \u001b[0mdata\u001b[0m \u001b[0;34m=\u001b[0m \u001b[0mdata\u001b[0m\u001b[0;34m[\u001b[0m\u001b[0;34m'data'\u001b[0m\u001b[0;34m]\u001b[0m\u001b[0;34m\u001b[0m\u001b[0;34m\u001b[0m\u001b[0m\n\u001b[0m",
      "\u001b[0;31mNameError\u001b[0m: name 'data' is not defined"
     ]
    }
   ],
   "source": [
    "data = data['data']"
   ]
  },
  {
   "cell_type": "code",
   "execution_count": 9,
   "metadata": {},
   "outputs": [],
   "source": [
    "def get_wikipedia_url_from_wikidata_id(wikidata_id, lang='en', debug=False):\n",
    "    import requests\n",
    "    from requests import utils\n",
    "\n",
    "    url = (\n",
    "        'https://www.wikidata.org/w/api.php'\n",
    "        '?action=wbgetentities'\n",
    "        '&props=sitelinks/urls'\n",
    "        f'&ids={wikidata_id}'\n",
    "        '&format=json')\n",
    "    json_response = requests.get(url).json()\n",
    "    if debug: print(wikidata_id, url, json_response) \n",
    "\n",
    "    entities = json_response.get('entities')    \n",
    "    if entities:\n",
    "        entity = entities.get(wikidata_id)\n",
    "        if entity:\n",
    "            sitelinks = entity.get('sitelinks')\n",
    "            if sitelinks:\n",
    "                if lang:\n",
    "                    # filter only the specified language\n",
    "                    sitelink = sitelinks.get(f'{lang}wiki')\n",
    "                    if sitelink:\n",
    "                        wiki_url = sitelink.get('url')\n",
    "                        if wiki_url:\n",
    "                            return requests.utils.unquote(wiki_url)\n",
    "                else:\n",
    "                    # return all of the urls\n",
    "                    wiki_urls = {}\n",
    "                    for key, sitelink in sitelinks.items():\n",
    "                        wiki_url = sitelink.get('url')\n",
    "                        if wiki_url:\n",
    "                            wiki_urls[key] = requests.utils.unquote(wiki_url)\n",
    "                    return wiki_urls\n",
    "    return None  "
   ]
  },
  {
   "cell_type": "code",
   "execution_count": 19,
   "metadata": {},
   "outputs": [
    {
     "name": "stderr",
     "output_type": "stream",
     "text": [
      "100%|██████████| 6527/6527 [1:00:41<00:00,  1.79it/s]\n"
     ]
    }
   ],
   "source": [
    "data_new = []\n",
    "done = 0\n",
    "for ent in tqdm(data):\n",
    "    ent['en_link'] = get_wikipedia_url_from_wikidata_id(ent['wd_id'])\n",
    "    data_new.append(ent)\n",
    "    done+=1"
   ]
  },
  {
   "cell_type": "code",
   "execution_count": 20,
   "metadata": {},
   "outputs": [
    {
     "name": "stdout",
     "output_type": "stream",
     "text": [
      "6527\n",
      "[{'en_wikipedia_title': 'Shane Warne', 'hi_wikipedia_title': 'शेन वॉर्न', 'wd_id': 'Q555240', 'en_link': 'https://en.wikipedia.org/wiki/Shane_Warne'}, {'en_wikipedia_title': 'Herodotus', 'hi_wikipedia_title': 'हिरोडोटस', 'wd_id': 'Q26825', 'en_link': 'https://en.wikipedia.org/wiki/Herodotus'}, {'en_wikipedia_title': 'Shibu Soren', 'hi_wikipedia_title': 'शिबू सोरेन', 'wd_id': 'Q3630358', 'en_link': 'https://en.wikipedia.org/wiki/Shibu_Soren'}, {'en_wikipedia_title': 'D. K. Pattammal', 'hi_wikipedia_title': 'दमाल कृष्णास्वामी पट्टम्माल', 'wd_id': 'Q464887', 'en_link': 'https://en.wikipedia.org/wiki/D._K._Pattammal'}, {'en_wikipedia_title': 'Do-Aklin', 'hi_wikipedia_title': 'गेंगनीहेस्सू', 'wd_id': 'Q104548', 'en_link': 'https://en.wikipedia.org/wiki/Do-Aklin'}]\n"
     ]
    }
   ],
   "source": [
    "print(done)\n",
    "print(data_new[:5])"
   ]
  },
  {
   "cell_type": "code",
   "execution_count": 22,
   "metadata": {},
   "outputs": [],
   "source": [
    "with open('primary_dataset_new_withlinks.json',\"w+\") as f:\n",
    "    json.dump(data_new , f)"
   ]
  },
  {
   "cell_type": "code",
   "execution_count": null,
   "metadata": {},
   "outputs": [],
   "source": []
  }
 ],
 "metadata": {
  "kernelspec": {
   "display_name": "Python 3",
   "language": "python",
   "name": "python3"
  },
  "language_info": {
   "codemirror_mode": {
    "name": "ipython",
    "version": 3
   },
   "file_extension": ".py",
   "mimetype": "text/x-python",
   "name": "python",
   "nbconvert_exporter": "python",
   "pygments_lexer": "ipython3",
   "version": "3.8.5"
  }
 },
 "nbformat": 4,
 "nbformat_minor": 4
}
