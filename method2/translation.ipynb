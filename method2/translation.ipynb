{
 "cells": [
  {
   "cell_type": "code",
   "execution_count": 1,
   "metadata": {},
   "outputs": [
    {
     "name": "stdout",
     "output_type": "stream",
     "text": [
      "Collecting indic-nlp-library\n",
      "  Downloading indic_nlp_library-0.71-py3-none-any.whl (38 kB)\n",
      "Requirement already satisfied: numpy in /home/risubaba/.local/lib/python3.8/site-packages (from indic-nlp-library) (1.19.0)\n",
      "Collecting morfessor\n",
      "  Downloading Morfessor-2.0.6-py3-none-any.whl (35 kB)\n",
      "Requirement already satisfied: pandas in /home/risubaba/.local/lib/python3.8/site-packages (from indic-nlp-library) (1.1.0)\n",
      "Requirement already satisfied: python-dateutil>=2.7.3 in /home/risubaba/.local/lib/python3.8/site-packages (from pandas->indic-nlp-library) (2.8.1)\n",
      "Requirement already satisfied: pytz>=2017.2 in /home/risubaba/.local/lib/python3.8/site-packages (from pandas->indic-nlp-library) (2020.1)\n",
      "Requirement already satisfied: six>=1.5 in /usr/lib/python3/dist-packages (from python-dateutil>=2.7.3->pandas->indic-nlp-library) (1.14.0)\n",
      "Installing collected packages: morfessor, indic-nlp-library\n",
      "Successfully installed indic-nlp-library-0.71 morfessor-2.0.6\n"
     ]
    }
   ],
   "source": [
    "!pip3 install indic-nlp-library"
   ]
  },
  {
   "cell_type": "code",
   "execution_count": 2,
   "metadata": {},
   "outputs": [
    {
     "name": "stdout",
     "output_type": "stream",
     "text": [
      "Collecting sparqlwrapper\n",
      "  Downloading SPARQLWrapper-1.8.5-py3-none-any.whl (26 kB)\n",
      "Collecting rdflib>=4.0\n",
      "  Downloading rdflib-5.0.0-py3-none-any.whl (231 kB)\n",
      "\u001b[K     |████████████████████████████████| 231 kB 3.9 MB/s eta 0:00:01\n",
      "\u001b[?25hRequirement already satisfied: pyparsing in /home/risubaba/.local/lib/python3.8/site-packages (from rdflib>=4.0->sparqlwrapper) (2.4.7)\n",
      "Requirement already satisfied: six in /usr/lib/python3/dist-packages (from rdflib>=4.0->sparqlwrapper) (1.14.0)\n",
      "Collecting isodate\n",
      "  Downloading isodate-0.6.0-py2.py3-none-any.whl (45 kB)\n",
      "\u001b[K     |████████████████████████████████| 45 kB 1.6 MB/s eta 0:00:01\n",
      "\u001b[?25hInstalling collected packages: isodate, rdflib, sparqlwrapper\n",
      "Successfully installed isodate-0.6.0 rdflib-5.0.0 sparqlwrapper-1.8.5\n"
     ]
    }
   ],
   "source": [
    "!pip3 install sparqlwrapper"
   ]
  },
  {
   "cell_type": "code",
   "execution_count": 8,
   "metadata": {
    "collapsed": true,
    "jupyter": {
     "outputs_hidden": true
    }
   },
   "outputs": [
    {
     "name": "stdout",
     "output_type": "stream",
     "text": [
      "Try 1 started at 2020-10-25 22:49:58.555112\n",
      "भारत\n",
      "Try 2 started at 2020-10-25 22:49:58.555229\n",
      "भारत\n",
      "Try 3 started at 2020-10-25 22:49:58.555479\n",
      "भारत\n",
      "Try 4 started at 2020-10-25 22:49:58.555505\n",
      "भारत\n",
      "Try 5 started at 2020-10-25 22:49:58.555567\n",
      "भारत\n",
      "Try 6 started at 2020-10-25 22:49:58.555615\n",
      "भारत\n",
      "Try 7 started at 2020-10-25 22:49:58.555635\n",
      "भारत\n",
      "Try 8 started at 2020-10-25 22:49:58.555651\n",
      "भारत\n",
      "Try 9 started at 2020-10-25 22:49:58.555713\n",
      "भारत\n",
      "Try 10 started at 2020-10-25 22:49:58.555757\n",
      "भारत\n",
      "Try 11 started at 2020-10-25 22:49:58.555777\n",
      "भारत\n",
      "Try 12 started at 2020-10-25 22:49:58.555819\n",
      "भारत\n",
      "Try 13 started at 2020-10-25 22:49:58.555863\n",
      "भारत\n",
      "Try 14 started at 2020-10-25 22:49:58.555883\n",
      "भारत\n",
      "Try 15 started at 2020-10-25 22:49:58.555902\n",
      "भारत\n",
      "Try 16 started at 2020-10-25 22:49:58.555964\n",
      "भारत\n",
      "Try 17 started at 2020-10-25 22:49:58.556008\n",
      "भारत\n",
      "Try 18 started at 2020-10-25 22:49:58.556028\n",
      "भारत\n",
      "Try 19 started at 2020-10-25 22:49:58.556132\n",
      "भारत\n",
      "Try 20 started at 2020-10-25 22:49:58.556154\n",
      "भारत\n",
      "Try 21 started at 2020-10-25 22:49:58.556171\n",
      "भारत\n",
      "Try 22 started at 2020-10-25 22:49:58.556187\n",
      "भारत\n",
      "Try 23 started at 2020-10-25 22:49:58.556233\n",
      "भारत\n",
      "Try 24 started at 2020-10-25 22:49:58.556281\n",
      "भारत\n",
      "Try 25 started at 2020-10-25 22:49:58.556301\n",
      "भारत\n",
      "Try 26 started at 2020-10-25 22:49:58.556316\n",
      "भारत\n",
      "Try 27 started at 2020-10-25 22:49:58.556352\n",
      "भारत\n",
      "Try 28 started at 2020-10-25 22:49:58.556399\n",
      "भारत\n",
      "Try 29 started at 2020-10-25 22:49:58.556420\n",
      "भारत\n",
      "Try 30 started at 2020-10-25 22:49:58.556438\n",
      "भारत\n",
      "Try 31 started at 2020-10-25 22:49:58.556478\n",
      "भारत\n",
      "Try 32 started at 2020-10-25 22:49:58.556498\n",
      "भारत\n",
      "Try 33 started at 2020-10-25 22:49:58.556897\n",
      "भारत\n",
      "Try 34 started at 2020-10-25 22:49:58.556927\n",
      "भारत\n",
      "Try 35 started at 2020-10-25 22:49:58.556967\n",
      "भारत\n",
      "Try 36 started at 2020-10-25 22:49:58.557015\n",
      "भारत\n",
      "Try 37 started at 2020-10-25 22:49:58.557035\n",
      "भारत\n",
      "Try 38 started at 2020-10-25 22:49:58.557051\n",
      "भारत\n",
      "Try 39 started at 2020-10-25 22:49:58.557600\n",
      "भारत\n",
      "Try 40 started at 2020-10-25 22:49:58.561880\n",
      "भारत\n",
      "Try 41 started at 2020-10-25 22:49:58.561948\n",
      "भारत\n",
      "Try 42 started at 2020-10-25 22:49:58.561969\n",
      "भारत\n",
      "Try 43 started at 2020-10-25 22:49:58.562011\n",
      "भारत\n",
      "Try 44 started at 2020-10-25 22:49:58.562031\n",
      "भारत\n",
      "Try 45 started at 2020-10-25 22:49:58.562094\n",
      "भारत\n",
      "Try 46 started at 2020-10-25 22:49:58.562139\n",
      "भारत\n",
      "Try 47 started at 2020-10-25 22:49:58.562159\n",
      "भारत\n",
      "Try 48 started at 2020-10-25 22:49:58.562175\n",
      "भारत\n",
      "Try 49 started at 2020-10-25 22:49:58.562220\n",
      "भारत\n",
      "Try 50 started at 2020-10-25 22:49:58.562240\n",
      "भारत\n",
      "Try 51 started at 2020-10-25 22:49:58.569470\n",
      "भारत\n",
      "Try 52 started at 2020-10-25 22:49:58.569497\n",
      "भारत\n",
      "Try 53 started at 2020-10-25 22:49:58.570127\n",
      "भारत\n",
      "Try 54 started at 2020-10-25 22:49:58.570151\n",
      "भारत\n",
      "Try 55 started at 2020-10-25 22:49:58.570193\n",
      "भारत\n",
      "Try 56 started at 2020-10-25 22:49:58.570254\n",
      "भारत\n",
      "Try 57 started at 2020-10-25 22:49:58.570278\n",
      "भारत\n",
      "Try 58 started at 2020-10-25 22:49:58.570340\n",
      "भारत\n",
      "Try 59 started at 2020-10-25 22:49:58.570363\n",
      "भारत\n",
      "Try 60 started at 2020-10-25 22:49:58.570384\n",
      "भारत\n",
      "Try 61 started at 2020-10-25 22:49:58.570447\n",
      "भारत\n",
      "Try 62 started at 2020-10-25 22:49:58.570470\n",
      "भारत\n",
      "Try 63 started at 2020-10-25 22:49:58.570487\n",
      "भारत\n",
      "Try 64 started at 2020-10-25 22:49:58.571116\n",
      "भारत\n",
      "Try 65 started at 2020-10-25 22:49:58.571140\n",
      "भारत\n",
      "Try 66 started at 2020-10-25 22:49:58.571179\n",
      "भारत\n",
      "Try 67 started at 2020-10-25 22:49:58.574457\n",
      "भारत\n",
      "Try 68 started at 2020-10-25 22:49:58.574481\n",
      "भारत\n",
      "Try 69 started at 2020-10-25 22:49:58.574499\n",
      "भारत\n",
      "Try 70 started at 2020-10-25 22:49:58.574562\n",
      "भारत\n",
      "Try 71 started at 2020-10-25 22:49:58.574608\n",
      "भारत\n",
      "Try 72 started at 2020-10-25 22:49:58.574628\n",
      "भारत\n",
      "Try 73 started at 2020-10-25 22:49:58.574648\n",
      "भारत\n",
      "Try 74 started at 2020-10-25 22:49:58.574689\n",
      "भारत\n",
      "Try 75 started at 2020-10-25 22:49:58.574710\n",
      "भारत\n",
      "Try 76 started at 2020-10-25 22:49:58.576760\n",
      "भारत\n",
      "Try 77 started at 2020-10-25 22:49:58.576785\n",
      "भारत\n",
      "Try 78 started at 2020-10-25 22:49:58.577376\n",
      "भारत\n",
      "Try 79 started at 2020-10-25 22:49:58.577402\n",
      "भारत\n",
      "Try 80 started at 2020-10-25 22:49:58.577468\n",
      "भारत\n",
      "Try 81 started at 2020-10-25 22:49:58.577514\n",
      "भारत\n",
      "Try 82 started at 2020-10-25 22:49:58.577537\n",
      "भारत\n",
      "Try 83 started at 2020-10-25 22:49:58.577579\n",
      "भारत\n",
      "Try 84 started at 2020-10-25 22:49:58.577599\n",
      "भारत\n",
      "Try 85 started at 2020-10-25 22:49:58.577651\n",
      "भारत\n",
      "Try 86 started at 2020-10-25 22:49:58.577697\n",
      "भारत\n",
      "Try 87 started at 2020-10-25 22:49:58.579224\n",
      "भारत\n",
      "Try 88 started at 2020-10-25 22:49:58.579316\n",
      "भारत\n",
      "Try 89 started at 2020-10-25 22:49:58.579337\n",
      "भारत\n",
      "Try 90 started at 2020-10-25 22:49:58.579379\n",
      "भारत\n",
      "Try 91 started at 2020-10-25 22:49:58.579400\n",
      "भारत\n",
      "Try 92 started at 2020-10-25 22:49:58.581282\n",
      "भारत\n",
      "Try 93 started at 2020-10-25 22:49:58.581306\n",
      "भारत\n",
      "Try 94 started at 2020-10-25 22:49:58.581845\n",
      "भारत\n",
      "Try 95 started at 2020-10-25 22:49:58.581871\n",
      "भारत\n",
      "Try 96 started at 2020-10-25 22:49:58.582311\n",
      "भारत\n",
      "Try 97 started at 2020-10-25 22:49:58.582428\n",
      "भारत\n",
      "Try 98 started at 2020-10-25 22:49:58.582480\n",
      "भारत\n",
      "Try 99 started at 2020-10-25 22:49:58.582501\n",
      "भारत\n",
      "Try 100 started at 2020-10-25 22:49:58.583413\n",
      "भारत\n"
     ]
    }
   ],
   "source": [
    "import sys\n",
    "from SPARQLWrapper import SPARQLWrapper, JSON\n",
    "\n",
    "endpoint_url = \"https://query.wikidata.org/sparql\"\n",
    "\n",
    "query = \"\"\"SELECT ?entity ?entityLabel ?entityDescription WHERE { wd:Q1058 wdt:P27 ?entity; SERVICE wikibase:label { bd:serviceParam wikibase:language \"hi\". } }\n",
    "\"\"\"\n",
    "\n",
    "\n",
    "def get_results(endpoint_url, query):\n",
    "    user_agent = \"WDQS-example Python/%s.%s\" % (sys.version_info[0], sys.version_info[1])\n",
    "    # TODO adjust user agent; see https://w.wiki/CX6\n",
    "    sparql = SPARQLWrapper(endpoint_url, agent=user_agent)\n",
    "    sparql.setQuery(query)\n",
    "    sparql.setReturnFormat(JSON)\n",
    "    return sparql.query().convert()\n",
    "\n",
    "\n",
    "results = get_results(endpoint_url, query)\n",
    "\n",
    "from datetime import datetime\n",
    "cnt = 1\n",
    "while True:\n",
    "    print(\"Try {} started at {}\".format(cnt , datetime.now()))\n",
    "    for entity in results['results']['bindings']:\n",
    "        value = entity.get('entityLabel').get('value', \"\")\n",
    "        if value != '' and 'Q' not in value:\n",
    "            print(value)\n",
    "    cnt+=1\n",
    "    if cnt > 100 : break"
   ]
  },
  {
   "cell_type": "code",
   "execution_count": 17,
   "metadata": {},
   "outputs": [
    {
     "name": "stdout",
     "output_type": "stream",
     "text": [
      "Risubh\n"
     ]
    }
   ],
   "source": [
    "from indicnlp.transliterate.unicode_transliterate import UnicodeIndicTransliterator\n",
    "input_text=\"Risubh\"\n",
    "print(UnicodeIndicTransliterator.transliterate(input_text,\"en\",\"hi\"))"
   ]
  },
  {
   "cell_type": "code",
   "execution_count": 21,
   "metadata": {},
   "outputs": [
    {
     "data": {
      "text/plain": [
       "'Risubh'"
      ]
     },
     "execution_count": 21,
     "metadata": {},
     "output_type": "execute_result"
    }
   ],
   "source": [
    "UnicodeIndicTransliterator.transliterate(input_text , \"en\" , \"te\")"
   ]
  },
  {
   "cell_type": "code",
   "execution_count": 23,
   "metadata": {},
   "outputs": [
    {
     "name": "stdout",
     "output_type": "stream",
     "text": [
      "Collecting indic-transliteration\n",
      "  Downloading indic_transliteration-2.1.0-py3-none-any.whl (98 kB)\n",
      "\u001b[K     |████████████████████████████████| 98 kB 816 kB/s eta 0:00:01\n",
      "\u001b[?25hCollecting backports.functools-lru-cache==1.6.1\n",
      "  Downloading backports.functools_lru_cache-1.6.1-py2.py3-none-any.whl (5.7 kB)\n",
      "Collecting selenium==3.141.0\n",
      "  Downloading selenium-3.141.0-py2.py3-none-any.whl (904 kB)\n",
      "\u001b[K     |████████████████████████████████| 904 kB 1.9 MB/s eta 0:00:01\n",
      "\u001b[?25hCollecting regex==2020.9.27\n",
      "  Downloading regex-2020.9.27-cp38-cp38-manylinux2010_x86_64.whl (675 kB)\n",
      "\u001b[K     |████████████████████████████████| 675 kB 4.7 MB/s eta 0:00:01\n",
      "\u001b[?25hRequirement already satisfied: urllib3 in /usr/lib/python3/dist-packages (from selenium==3.141.0->indic-transliteration) (1.25.8)\n",
      "Installing collected packages: backports.functools-lru-cache, selenium, regex, indic-transliteration\n",
      "  Attempting uninstall: regex\n",
      "    Found existing installation: regex 2020.7.14\n",
      "    Uninstalling regex-2020.7.14:\n",
      "      Successfully uninstalled regex-2020.7.14\n",
      "Successfully installed backports.functools-lru-cache-1.6.1 indic-transliteration-2.1.0 regex-2020.9.27 selenium-3.141.0\n"
     ]
    }
   ],
   "source": [
    "!pip3 install indic-transliteration\n"
   ]
  },
  {
   "cell_type": "code",
   "execution_count": 34,
   "metadata": {},
   "outputs": [
    {
     "name": "stdout",
     "output_type": "stream",
     "text": [
      "कलिफ़ोर्निअ इन्स्तितुते ओफ़् तेच्नोलोग्य्\n"
     ]
    }
   ],
   "source": [
    "from indic_transliteration import sanscript \n",
    "from indic_transliteration.sanscript import transliterate \n",
    "  \n",
    "# the text to be transliterated \n",
    "# text = \"mera naam risubh jain hai. Ye le shradhaa ho gaya kaam ez klaps\".lower()\n",
    "text = \"california institute of technology\".lower()\n",
    "  \n",
    "# printing the transliterated text \n",
    "print(transliterate(text, sanscript.ITRANS, sanscript.DEVANAGARI)) "
   ]
  },
  {
   "cell_type": "code",
   "execution_count": 35,
   "metadata": {},
   "outputs": [
    {
     "name": "stdout",
     "output_type": "stream",
     "text": [
      "Collecting googletrans\n",
      "  Downloading googletrans-3.0.0.tar.gz (17 kB)\n",
      "Collecting httpx==0.13.3\n",
      "  Downloading httpx-0.13.3-py3-none-any.whl (55 kB)\n",
      "\u001b[K     |████████████████████████████████| 55 kB 1.0 MB/s eta 0:00:01\n",
      "\u001b[?25hCollecting httpcore==0.9.*\n",
      "  Downloading httpcore-0.9.1-py3-none-any.whl (42 kB)\n",
      "\u001b[K     |████████████████████████████████| 42 kB 684 kB/s eta 0:00:011\n",
      "\u001b[?25hCollecting rfc3986<2,>=1.3\n",
      "  Downloading rfc3986-1.4.0-py2.py3-none-any.whl (31 kB)\n",
      "Collecting hstspreload\n",
      "  Downloading hstspreload-2020.10.20-py3-none-any.whl (972 kB)\n",
      "\u001b[K     |████████████████████████████████| 972 kB 6.4 MB/s eta 0:00:01\n",
      "\u001b[?25hRequirement already satisfied: chardet==3.* in /usr/lib/python3/dist-packages (from httpx==0.13.3->googletrans) (3.0.4)\n",
      "Collecting sniffio\n",
      "  Downloading sniffio-1.2.0-py3-none-any.whl (10 kB)\n",
      "Requirement already satisfied: idna==2.* in /usr/lib/python3/dist-packages (from httpx==0.13.3->googletrans) (2.8)\n",
      "Requirement already satisfied: certifi in /home/risubaba/.local/lib/python3.8/site-packages (from httpx==0.13.3->googletrans) (2020.6.20)\n",
      "Collecting h2==3.*\n",
      "  Downloading h2-3.2.0-py2.py3-none-any.whl (65 kB)\n",
      "\u001b[K     |████████████████████████████████| 65 kB 1.9 MB/s eta 0:00:01\n",
      "\u001b[?25hCollecting h11<0.10,>=0.8\n",
      "  Downloading h11-0.9.0-py2.py3-none-any.whl (53 kB)\n",
      "\u001b[K     |████████████████████████████████| 53 kB 1.0 MB/s eta 0:00:01\n",
      "\u001b[?25hCollecting hyperframe<6,>=5.2.0\n",
      "  Downloading hyperframe-5.2.0-py2.py3-none-any.whl (12 kB)\n",
      "Collecting hpack<4,>=3.0\n",
      "  Downloading hpack-3.0.0-py2.py3-none-any.whl (38 kB)\n",
      "Building wheels for collected packages: googletrans\n",
      "  Building wheel for googletrans (setup.py) ... \u001b[?25ldone\n",
      "\u001b[?25h  Created wheel for googletrans: filename=googletrans-3.0.0-py3-none-any.whl size=15734 sha256=700f0a566abf29f229457a74906c4aaedd7be2fcf7a9550e5102f5c6864c233c\n",
      "  Stored in directory: /home/risubaba/.cache/pip/wheels/0e/ce/9b/d51de1064911d42480ab6b57fc943ee36572441f27546354e2\n",
      "Successfully built googletrans\n",
      "Installing collected packages: sniffio, hyperframe, hpack, h2, h11, httpcore, rfc3986, hstspreload, httpx, googletrans\n",
      "Successfully installed googletrans-3.0.0 h11-0.9.0 h2-3.2.0 hpack-3.0.0 hstspreload-2020.10.20 httpcore-0.9.1 httpx-0.13.3 hyperframe-5.2.0 rfc3986-1.4.0 sniffio-1.2.0\n"
     ]
    }
   ],
   "source": [
    "!pip3 install googletrans"
   ]
  },
  {
   "cell_type": "code",
   "execution_count": 43,
   "metadata": {},
   "outputs": [],
   "source": [
    "import requests as r\n",
    "import json"
   ]
  },
  {
   "cell_type": "code",
   "execution_count": 49,
   "metadata": {},
   "outputs": [
    {
     "name": "stdout",
     "output_type": "stream",
     "text": [
      "[{\"ew\":\"risubh\",\"hws\":[\"रीसुभ\",\"रिसुभ\",\"रीसुबह\",\"रिसभ\",\"रईसुभ\"]}]\n",
      "['रीसुभ', 'रिसुभ', 'रीसुबह', 'रिसभ', 'रईसुभ']\n"
     ]
    }
   ],
   "source": [
    "# https://groups.google.com/g/google-translate-api/c/QhawqXgtsoI/m/H_TkEpvEAAAJ\n",
    "res = r.get(\"http://www.google.com/transliterate/indic?tlqt=1&langpair=en%7Chi&text=risubh\").text\n",
    "print(res)\n",
    "opt = json.loads(res)[0]['hws']\n",
    "print(opt)"
   ]
  },
  {
   "cell_type": "code",
   "execution_count": 5,
   "metadata": {},
   "outputs": [
    {
     "data": {
      "text/plain": [
       "{'name': 'English', 'nativeName': 'English', 'dir': 'ltr'}"
      ]
     },
     "execution_count": 5,
     "metadata": {},
     "output_type": "execute_result"
    }
   ],
   "source": [
    "res = r.get(\"https://api.cognitive.microsofttranslator.com/languages?api-version=3.0\").text\n",
    "res = json.loads(res)\n",
    "res['translation']['en']"
   ]
  },
  {
   "cell_type": "code",
   "execution_count": 10,
   "metadata": {},
   "outputs": [
    {
     "name": "stdout",
     "output_type": "stream",
     "text": [
      "[{'text': 'कैलिफोर्निया इंस्टीट्यूट ऑफ टेक्नोलॉजी का शो आउटपुट', 'script': 'Deva'}, {'text': 'ई थिंक थीस स्कैम इस गुड इनोघ :प', 'script': 'Deva'}, {'text': 'हुह , ये लोग डम्ब कैसे हो सकते है', 'script': 'Deva'}, {'text': 'श्रद्धा सहगल', 'script': 'Deva'}, {'text': 'हैप्पी सिंह', 'script': 'Deva'}]\n",
      "CPU times: user 10.7 ms, sys: 534 µs, total: 11.2 ms\n",
      "Wall time: 1.24 s\n"
     ]
    }
   ],
   "source": [
    "%%time\n",
    "import requests as r\n",
    "import json\n",
    "# https://docs.microsoft.com/en-us/azure/cognitive-services/translator/reference/v3-0-transliterate\n",
    "data = [\n",
    "    {\"Text\":\"california institute of technology ka show output\"} ,\n",
    "    {\"Text\":\"I think this scam is good enough :p\"} ,\n",
    "    {\"Text\":\"Huh , ye log dumb kaise ho sakte hai\"},\n",
    "    {\"Text\":\"Shradha Sehgal\"},\n",
    "    {\"Text\":\"Happy Singh\"}\n",
    "]\n",
    "headers = {\n",
    "    \"Ocp-Apim-Subscription-Key\":\"e669322a133044489e6dc4e9cde3edee\",\n",
    "    \"Content-Type\":\"application/json\",\n",
    "    \"Ocp-Apim-Subscription-Region\":\"centralus\"\n",
    "}\n",
    "res = r.post(\"https://api.cognitive.microsofttranslator.com/transliterate?api-version=3.0&language=hi&fromScript=Latn&toScript=Deva\" , json = data , headers = headers   ).text\n",
    "res = json.loads(res)\n",
    "print(res)"
   ]
  },
  {
   "cell_type": "code",
   "execution_count": 11,
   "metadata": {},
   "outputs": [
    {
     "name": "stdout",
     "output_type": "stream",
     "text": [
      "[{'translations': [{'text': 'हैप्पी सिंह', 'to': 'hi'}]}, {'translations': [{'text': 'मुझे लगता है कि यह घोटाला काफी अच्छा है', 'to': 'hi'}]}]\n",
      "CPU times: user 6.36 ms, sys: 5 ms, total: 11.4 ms\n",
      "Wall time: 386 ms\n"
     ]
    }
   ],
   "source": [
    "%%time\n",
    "import requests as r\n",
    "import json\n",
    "# https://docs.microsoft.com/en-us/azure/cognitive-services/translator/reference/v3-0-transliterate\n",
    "data = [\n",
    "    {\"Text\":\"Happy Singh\"} ,\n",
    "    {\"Text\":\"I think this scam is good enough\"}\n",
    "]\n",
    "headers = {\n",
    "    \"Ocp-Apim-Subscription-Key\":\"e669322a133044489e6dc4e9cde3edee\",\n",
    "    \"Content-Type\":\"application/json\",\n",
    "    \"Ocp-Apim-Subscription-Region\":\"centralus\"\n",
    "}\n",
    "res = r.post(\"https://api.cognitive.microsofttranslator.com/translate?api-version=3.0&to=hi&from=en&toScript=Deva\" , json = data , headers = headers).text\n",
    "res = json.loads(res)\n",
    "print(res)"
   ]
  },
  {
   "cell_type": "code",
   "execution_count": null,
   "metadata": {},
   "outputs": [],
   "source": []
  }
 ],
 "metadata": {
  "kernelspec": {
   "display_name": "Python 3",
   "language": "python",
   "name": "python3"
  },
  "language_info": {
   "codemirror_mode": {
    "name": "ipython",
    "version": 3
   },
   "file_extension": ".py",
   "mimetype": "text/x-python",
   "name": "python",
   "nbconvert_exporter": "python",
   "pygments_lexer": "ipython3",
   "version": "3.8.2"
  }
 },
 "nbformat": 4,
 "nbformat_minor": 4
}
