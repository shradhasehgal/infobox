{
 "cells": [
  {
   "cell_type": "code",
   "execution_count": 1,
   "metadata": {},
   "outputs": [],
   "source": [
    "from libindic import inexactsearch\n",
    "from People_translator import Translation_Api"
   ]
  },
  {
   "cell_type": "code",
   "execution_count": 2,
   "metadata": {},
   "outputs": [],
   "source": [
    "translator = Translation_Api()"
   ]
  },
  {
   "cell_type": "code",
   "execution_count": null,
   "metadata": {},
   "outputs": [],
   "source": [
    "translator.get_infobox"
   ]
  },
  {
   "cell_type": "code",
   "execution_count": 3,
   "metadata": {},
   "outputs": [
    {
     "name": "stdout",
     "output_type": "stream",
     "text": [
      "<People_translator.Translation_Api object at 0x7f37086db040> Virat Kohli\n"
     ]
    },
    {
     "name": "stderr",
     "output_type": "stream",
     "text": [
      "en.wikipedia.org (parse) Virat Kohli\n",
      "en.wikipedia.org (imageinfo) File:The President, Shri Pranab Mukh...\n",
      "Virat Kohli (en) data\n",
      "{\n",
      "  image: <list(1)> {'kind': 'parse-image', 'file': 'File:The Presi...\n",
      "  infobox: <dict(97)> name, image, caption, birth_date, birth_plac...\n",
      "  iwlinks: <list(2)> https://commons.wikimedia.org/wiki/Category:V...\n",
      "  pageid: 16017429\n",
      "  parsetree: <str(264280)> <root><template><title>short descriptio...\n",
      "  requests: <list(2)> parse, imageinfo\n",
      "  title: Virat Kohli\n",
      "  wikibase: Q213854\n",
      "  wikidata_url: https://www.wikidata.org/wiki/Q213854\n",
      "  wikitext: <str(222290)> {{short description|Indian international...\n",
      "}\n"
     ]
    },
    {
     "name": "stdout",
     "output_type": "stream",
     "text": [
      "{{Infobox person\n",
      "|name = विराट कोहली\n",
      "|image = The President, Shri Pranab Mukherjee presenting the Padma Shri Award to Shri Virat Kohli, at a Civil Investiture Ceremony, at Rashtrapati Bhavan, in New Delhi on March 30, 2017 (cropped).jpg\n",
      "|caption = 2017 में कोहली\n",
      "|nickname = चीकू ऑर चीकू\n",
      "|birth_date = {{birth date and age|1988|11|5|df=|y}}\n",
      "|birth_place = [[नई दिल्ली]], भारत\n",
      "|country = भारत\n",
      "|family = {{marriage|[[Anushka Sharma]] (wife)|2017}}\n",
      "|height = 1.75 म\n",
      "|batting = राइट-हैंडेड\n",
      "|bowling = राइट-अर्म [[फास्ट बॉलिंग|मीडियम]]\n",
      "|role = [[बैटिंग ऑडर (क्रिकेट)#टॉप ऑडर|टॉप-ऑडर बैटसमैन]]\n",
      "|international = ट्रू\n",
      "|internationalspan = 2008–प्रेज़ेंट\n",
      "|testdebutdate = 20 जून\n",
      "}}\n"
     ]
    }
   ],
   "source": [
    "translated_infobox = translator.get_infobox(page_name=\"Virat Kohli\")"
   ]
  },
  {
   "cell_type": "code",
   "execution_count": 4,
   "metadata": {},
   "outputs": [
    {
     "name": "stderr",
     "output_type": "stream",
     "text": [
      "hi.wikipedia.org (parse) विराट कोहली\n",
      "hi.wikipedia.org (imageinfo) File:The President, Shri Pranab Mukh...\n",
      "विराट कोहली (hi) data\n",
      "{\n",
      "  image: <list(1)> {'kind': 'parse-image', 'file': 'File:The Presi...\n",
      "  infobox: <dict(99)> name, image, image_size, caption, birth_date...\n",
      "  pageid: 163049\n",
      "  parsetree: <str(65020)> <root><template><title>Infobox cricketer...\n",
      "  requests: <list(2)> parse, imageinfo\n",
      "  title: विराट कोहली\n",
      "  wikibase: Q213854\n",
      "  wikidata_url: https://www.wikidata.org/wiki/Q213854\n",
      "  wikitext: <str(51905)> {{Infobox cricketer| name = विराट कोहली| ...\n",
      "}\n"
     ]
    }
   ],
   "source": [
    "actual_infobox = translator.get_page(page_name=\"विराट कोहली\" ,language=\"hi\").data['infobox']"
   ]
  },
  {
   "cell_type": "code",
   "execution_count": 5,
   "metadata": {},
   "outputs": [
    {
     "name": "stdout",
     "output_type": "stream",
     "text": [
      "{'name': 'विराट कोहली', 'image': 'The President, Shri Pranab Mukherjee presenting the Padma Shri Award to Shri Virat Kohli, at a Civil Investiture Ceremony, at Rashtrapati Bhavan, in New Delhi on March 30, 2017 (cropped).jpg', 'image_size': '220px', 'caption': '२०१७ में कोहली', 'birth_date': '{{birth date and age|1988|11|5|df|=|y}}', 'birth_place': '[[दिल्ली]], भारत', 'nickname': 'चीकू', 'family': '{{marriage|[[अनुष्का शर्मा]] (पत्नी)|2017}}', 'height': '1.75 m', 'batting': 'दाहिने हाथ के बल्लेबाज', 'bowling': 'दाहिने हाथ से मध्यम तेज', 'role': 'शीर्ष क्रम के बल्लेबाज', 'website': '{{url|http://www.viratkohli.club}}', 'international': 'true', 'internationalspan': '2008–वर्तमान', 'country': 'भारत', 'testdebutdate': '20 जून', 'testdebutyear': '2011', 'testdebutagainst': 'वेस्टइंडीज', 'testcap': '269', 'lasttestdate': '29 फ़रवरी', 'lasttestyear': '2020', 'lasttestagainst': 'न्यूज़ीलैण्ड', 'odidebutdate': '18 अगस्त', 'odidebutyear': '2008', 'odidebutagainst': 'श्रीलंका', 'odicap': '175', 'lastodidate': '11 फ़रवरी', 'lastodiyear': '2020', 'lastodiagainst': 'न्यूज़ीलैण्ड', 'odishirt': '18', 'T20Idebutdate': '12 जून', 'T20Idebutyear': '2010', 'T20Idebutagainst': 'ज़िम्बाब्वे', 'T20Icap': '31', 'lastT20Iagainst': 'न्यूज़ीलैण्ड', 'lastT20Idate': '31 जनवरी', 'lastT20Iyear': '2020', 'T20Ishirt': '18', 'club1': 'दिल्ली', 'year1': '{{nowrap|2006–वर्तमान}}', 'club2': '[[रॉयल चैलेंजर्स बैंगलौर|रॉयल चैलेंजर्स बैंगलोर]]', 'year2': '{{nowrap|2008–वर्तमान}}', 'clubnumber2': '18', 'columns': '4', 'column1': '[[टेस्ट क्रिकेट|टेस्ट]]', 'column2': '[[एक दिवसीय अंतर्राष्ट्रीय|वनडे]]', 'column3': '[[ट्वेन्टी-२० अंतरराष्ट्रीय|टी२०I]]', 'column4': '[[प्रथम श्रेणी क्रिकेट|प्रथम श्रेणी]]', 'matches1': '86', 'matches2': '248', 'matches3': '81', 'matches4': '109', 'runs1': '7,240', 'runs2': '11,867', 'runs3': '2,794', 'runs4': '8,862', 'bat avg1': '53.63', 'bat avg2': '59.34', 'bat avg3': '50.08', 'bat avg4': '54.03', '100s/50s1': '27/22', '100s/50s2': '43/58', '100s/50s3': '0/24', '100s/50s4': '32/28', 'top score1': '254[[नाबाद|*]]', 'top score2': '183', 'top score3': '94[[नाबाद|*]]', 'top score4': '254[[नाबाद|*]]', 'deliveries1': '163', 'deliveries2': '641', 'deliveries3': '146', 'deliveries4': '631', 'wickets1': '0', 'wickets2': '4', 'wickets3': '4', 'wickets4': '3', 'bowl avg1': '–', 'bowl avg2': '166.25', 'bowl avg3': '49.50', 'bowl avg4': '110.00', 'fivefor1': '–', 'fivefor2': '0', 'fivefor3': '0', 'fivefor4': '0', 'tenfor1': '–', 'tenfor2': '0', 'tenfor3': '0', 'tenfor4': '0', 'best bowling1': '–', 'best bowling2': '1/15', 'best bowling3': '1/13', 'best bowling4': '1/19', 'catches/stumpings1': '80/–', 'catches/stumpings2': '126/–', 'catches/stumpings3': '38/–', 'catches/stumpings4': '103/–', 'source': 'http://www.espncricinfo.com/ci/content/player/253802.html ईएसपीएन क्रिकइन्फो', 'date': '२२ जनवरी २०२०'}\n"
     ]
    }
   ],
   "source": [
    "print(actual_infobox)"
   ]
  },
  {
   "cell_type": "code",
   "execution_count": 36,
   "metadata": {},
   "outputs": [],
   "source": [
    "inst = inexactsearch.InexactSearch()"
   ]
  },
  {
   "cell_type": "code",
   "execution_count": 37,
   "metadata": {},
   "outputs": [],
   "source": [
    "markings = {\n",
    "    'C' : [],\n",
    "    'S' : [],\n",
    "    'D' : []\n",
    "}"
   ]
  },
  {
   "cell_type": "code",
   "execution_count": 38,
   "metadata": {},
   "outputs": [],
   "source": [
    "for key in translated_infobox.keys():\n",
    "    if key in actual_infobox.keys():\n",
    "#         print(translated_infobox[key] , actual_infobox[key]) \n",
    "        val = inst.compare(translated_infobox[key] , actual_infobox[key])\n",
    "        if val > 0.70 :\n",
    "            markings['C'].append(key)\n",
    "        else : markings['S'].append(key)\n",
    "for key in actual_infobox.keys():\n",
    "    if key not in translated_infobox.keys():\n",
    "        markings['D'].append(key)"
   ]
  },
  {
   "cell_type": "code",
   "execution_count": 39,
   "metadata": {},
   "outputs": [],
   "source": [
    "precision = len(markings['C']) / (len(markings['C']) + len(markings['S']))\n",
    "recall = len(markings['C']) / (len(markings['C']) + len(markings['S']) + len(markings['D']))"
   ]
  },
  {
   "cell_type": "code",
   "execution_count": 41,
   "metadata": {},
   "outputs": [
    {
     "name": "stdout",
     "output_type": "stream",
     "text": [
      "8 7\n"
     ]
    },
    {
     "data": {
      "text/plain": [
       "(['name',\n",
       "  'image',\n",
       "  'nickname',\n",
       "  'birth_date',\n",
       "  'birth_place',\n",
       "  'country',\n",
       "  'height',\n",
       "  'testdebutdate'],\n",
       " ['caption',\n",
       "  'family',\n",
       "  'batting',\n",
       "  'bowling',\n",
       "  'role',\n",
       "  'international',\n",
       "  'internationalspan'])"
      ]
     },
     "execution_count": 41,
     "metadata": {},
     "output_type": "execute_result"
    }
   ],
   "source": [
    "print(len(markings['C']) , len(markings['S']))\n",
    "markings['C'] , markings['S']\n",
    "# markings['S']"
   ]
  },
  {
   "cell_type": "code",
   "execution_count": 18,
   "metadata": {},
   "outputs": [
    {
     "name": "stdout",
     "output_type": "stream",
     "text": [
      "0.4666666666666667 0.0707070707070707\n"
     ]
    }
   ],
   "source": [
    "print(precision , recall)"
   ]
  },
  {
   "cell_type": "markdown",
   "metadata": {},
   "source": [
    "### InexactSearch.search(main_text , keyword) assigns a similarity score between the keyword and all the words in the main_text "
   ]
  },
  {
   "cell_type": "code",
   "execution_count": 30,
   "metadata": {},
   "outputs": [
    {
     "data": {
      "text/plain": [
       "{'रिसुभ': 0.9,\n",
       " 'रीसुबह': 0.6666666666666666,\n",
       " 'रीसुभ': 1.0,\n",
       " 'रईसुभ': 0.9,\n",
       " 'रिसुब': 0.9}"
      ]
     },
     "execution_count": 30,
     "metadata": {},
     "output_type": "execute_result"
    }
   ],
   "source": [
    "inst.search(\"रिसुभ रीसुबह रीसुभ रईसुभ रिसुब\" , \"रीसुभ\")"
   ]
  },
  {
   "cell_type": "code",
   "execution_count": 31,
   "metadata": {},
   "outputs": [
    {
     "data": {
      "text/plain": [
       "{'ज्ञानसन्दूक': 0.7146814404432132}"
      ]
     },
     "execution_count": 31,
     "metadata": {},
     "output_type": "execute_result"
    }
   ],
   "source": [
    "inst.search(\"ज्ञानसन्दूक\",\"ज्ञानसंदूक\")"
   ]
  }
 ],
 "metadata": {
  "kernelspec": {
   "display_name": "Python 3",
   "language": "python",
   "name": "python3"
  },
  "language_info": {
   "codemirror_mode": {
    "name": "ipython",
    "version": 3
   },
   "file_extension": ".py",
   "mimetype": "text/x-python",
   "name": "python",
   "nbconvert_exporter": "python",
   "pygments_lexer": "ipython3",
   "version": "3.8.2"
  }
 },
 "nbformat": 4,
 "nbformat_minor": 4
}
