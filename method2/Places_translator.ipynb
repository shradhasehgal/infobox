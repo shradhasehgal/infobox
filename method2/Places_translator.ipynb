{
 "cells": [
  {
   "cell_type": "code",
   "execution_count": 1,
   "metadata": {},
   "outputs": [],
   "source": [
    "import wptools\n",
    "import json\n",
    "from tqdm import tqdm\n",
    "import re\n",
    "import requests as r\n",
    "from collections import defaultdict\n",
    "from Translator_Api import Translator_Api"
   ]
  },
  {
   "cell_type": "code",
   "execution_count": 2,
   "metadata": {},
   "outputs": [],
   "source": [
    "translator = Translator_Api()"
   ]
  },
  {
   "cell_type": "code",
   "execution_count": 11,
   "metadata": {},
   "outputs": [
    {
     "name": "stderr",
     "output_type": "stream",
     "text": [
      "en.wikipedia.org (parse) Amman\n",
      "Amman (en) data\n",
      "{\n",
      "  infobox: <dict(38)> name, native_name, native_name_lang, settlem...\n",
      "  iwlinks: <list(2)> https://commons.wikimedia.org/wiki/Category:A...\n",
      "  pageid: 45007\n",
      "  parsetree: <str(155315)> <root><template><title>short descriptio...\n",
      "  requests: <list(1)> parse\n",
      "  title: Amman\n",
      "  wikibase: Q3805\n",
      "  wikidata_url: https://www.wikidata.org/wiki/Q3805\n",
      "  wikitext: <str(111168)> {{short description|Capital of Jordan}}{...\n",
      "}\n"
     ]
    }
   ],
   "source": [
    "page = wptools.page('Amman').get_parse()"
   ]
  },
  {
   "cell_type": "code",
   "execution_count": 12,
   "metadata": {},
   "outputs": [],
   "source": [
    "def update(infobox , translator):\n",
    "    infobox = defaultdict(str , infobox)\n",
    "    updated_infobox = {}\n",
    "    updated_infobox['name'] = translator.get_transliteration(infobox['name'])\n",
    "    updated_infobox['native_name'] = infobox['native_name']\n",
    "    updated_infobox['category'] = translator.get_translation(infobox['settlement_type'])\n",
    "    \n",
    "    updated_infobox['image'] = infobox['image_skyline']\n",
    "    if updated_infobox['image'] == '' : \n",
    "        updated_infobox['image'] = infobox['image']\n",
    "    updated_infobox['image_caption'] = translator.get_translation(infobox['image_caption'])\n",
    "    updated_infobox['flag'] = infobox['flag']\n",
    "    updated_infobox['map'] = infobox['map']\n",
    "    updated_infobox['map_caption'] = translator.get_translation(infobox['map_caption'])\n",
    "    updated_infobox['motto'] = translator.get_transliteration(infobox['motto'])\n",
    "    updated_infobox['timezone'] = infobox['timezone']\n",
    "    \n",
    "    updated_infobox['country'] = translator.get_translation(infobox['country'])\n",
    "    updated_infobox['state'] = translator.get_translation(infobox['state'])\n",
    "    updated_infobox['region'] = translator.get_translation(infobox['region'])\n",
    "    updated_infobox['district'] = translator.get_translation(infobox['district'])\n",
    "    updated_infobox['municipality'] = translator.get_translation(infobox['municipality'])\n",
    "    updated_infobox['location'] = translator.get_translation(infobox['location'])\n",
    "    updated_infobox['area'] = infobox['area_km2']\n",
    "    updated_infobox['length'] = infobox['length_km']\n",
    "    updated_infobox['width'] = infobox['width_km']\n",
    "    \n",
    "    \n",
    "    updated_infobox['population'] = translator.get_translation(infobox['population'])\n",
    "    updated_infobox['elevation'] = infobox['elevation_m']\n",
    "    \n",
    "    updated_infobox['animal'] = translator.get_translation(infobox['animal'])\n",
    "    updated_infobox['plant'] = translator.get_translation(infobox['plant'])\n",
    "    updated_infobox['geology'] = translator.get_translation(infobox['geology'])\n",
    "\n",
    "    updated_infobox = { key : val for key , val in updated_infobox.items() if val!=''}\n",
    "    cur_len = len(updated_infobox)\n",
    "    if len(updated_infobox) < 15:\n",
    "        for key , val in infobox.items():\n",
    "            if key in updated_infobox : continue\n",
    "            updated_infobox[key] = translator.get_transliteration(val)\n",
    "            if len(updated_infobox) == 15: break\n",
    "    updated_infobox = { key : val for key , val in updated_infobox.items() if val!=''}\n",
    "    return updated_infobox"
   ]
  },
  {
   "cell_type": "code",
   "execution_count": 13,
   "metadata": {},
   "outputs": [],
   "source": [
    "new_infobox = update(page.data['infobox'] , translator)"
   ]
  },
  {
   "cell_type": "code",
   "execution_count": 14,
   "metadata": {},
   "outputs": [],
   "source": [
    "def change_format(infobox):\n",
    "    infobox = [ (\"|\" + key + \" = \" +  val) for key , val in infobox.items()]\n",
    "    print(\"{{Geobox\")\n",
    "    print(\"\\n\".join(infobox))\n",
    "    print(\"}}\")"
   ]
  },
  {
   "cell_type": "code",
   "execution_count": 15,
   "metadata": {},
   "outputs": [
    {
     "name": "stdout",
     "output_type": "stream",
     "text": [
      "{{Geobox\n",
      "|name = अम्मान\n",
      "|native_name = {{nobold|عَمّان}}\n",
      "|category = शहर\n",
      "|image = AMMAN 2.jpg\n",
      "|image_caption = अम्मान शहर, दाएं से बाएं और ऊपर से नीचे तक: [[अब्दाली परियोजना]] अम्मान के क्षितिज पर हावी है, [[हरक्यूलिस का मंदिर (अम्मान)। हरक्यूलिस का मंदिर]] [[अम्मान गढ़]], [[किंग अब्दुल्ला आई मस्जिद]] और [[̈डन फ्लैगपोल]], [[अब्दोन ब्रिज]], [[उमयद पैलेस]], तुर्क [[हेजाज रेलवे]] स्टेशन और [[रोमन थियेटर (अम्मान)। रोमन रंगमंच]] ।\n",
      "|timezone = [[Eastern European Time|EET]]\n",
      "|native_name_lang = अर\n",
      "|settlement_type = सिटी\n",
      "|image_skyline = अम्मान 2.जपग\n",
      "|image_size = 275पक्स\n",
      "|image_seal = अमनलोगो.पन\n",
      "|nicknames = {{unbulleted list|The White Pigeon|The City of Stairs}}\n",
      "|image_map = خريطة مدينة عمان.पन\n",
      "|pushpin_map = जॉर्डन#अरब वर्ल्ड#एशिया\n",
      "|coordinates = {{coord|31|56|59|N|35|55|58|E|region:JO|display|=|inline,title}}\n",
      "}}\n"
     ]
    }
   ],
   "source": [
    "new_infobox_string = change_format(new_infobox)"
   ]
  }
 ],
 "metadata": {
  "kernelspec": {
   "display_name": "Python 3",
   "language": "python",
   "name": "python3"
  },
  "language_info": {
   "codemirror_mode": {
    "name": "ipython",
    "version": 3
   },
   "file_extension": ".py",
   "mimetype": "text/x-python",
   "name": "python",
   "nbconvert_exporter": "python",
   "pygments_lexer": "ipython3",
   "version": "3.8.2"
  }
 },
 "nbformat": 4,
 "nbformat_minor": 4
}
