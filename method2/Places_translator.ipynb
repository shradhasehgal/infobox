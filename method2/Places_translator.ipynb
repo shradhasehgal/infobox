{
 "cells": [
  {
   "cell_type": "code",
   "execution_count": 2,
   "metadata": {},
   "outputs": [],
   "source": [
    "import wptools\n",
    "import json\n",
    "from tqdm import tqdm\n",
    "import re\n",
    "import requests as r\n",
    "from collections import defaultdict"
   ]
  },
  {
   "cell_type": "code",
   "execution_count": 3,
   "metadata": {},
   "outputs": [],
   "source": [
    "class Translation_Api():\n",
    "    # https://docs.microsoft.com/en-us/azure/cognitive-services/translator/reference/v3-0-reference\n",
    "    def __init__(self):\n",
    "        self.headers = {\n",
    "                \"Ocp-Apim-Subscription-Key\":\"e669322a133044489e6dc4e9cde3edee\",\n",
    "                \"Content-Type\":\"application/json\",\n",
    "                \"Ocp-Apim-Subscription-Region\":\"centralus\"\n",
    "            }\n",
    "        self.transliterate_url = \"https://api.cognitive.microsofttranslator.com/transliterate?api-version=3.0&language=hi&fromScript=Latn&toScript=Deva\"\n",
    "        self.translate_url = \"https://api.cognitive.microsofttranslator.com/translate?api-version=3.0&to=hi&from=en&toScript=Deva\"\n",
    "    \n",
    "    def get_translation(self,data):\n",
    "        if \"{{\" in data : return data\n",
    "        data = data.split(\"<ref>\")[0]\n",
    "        if data == \"\" : return data\n",
    "        data = [{\"Text\":data}]\n",
    "        res = r.post( self.translate_url , json = data , headers = self.headers).text\n",
    "        res = json.loads(res)\n",
    "        res = [ ret['translations'][0]['text'] for ret in res ]\n",
    "        return res[0].replace(\"[[\",\"[\").replace(\"]]\",\"]\").replace(\"[\",\"[[\").replace(\"]\",\"]]\")\n",
    "        \n",
    "    def get_transliteration(self,data):\n",
    "        if \"{{\" in data : return data\n",
    "        data = data.split(\"<ref>\")[0]\n",
    "        if data == \"\" : return data\n",
    "        data = [{\"Text\":data}]\n",
    "        res = r.post( self.transliterate_url , json = data , headers = self.headers).text\n",
    "        res = json.loads(res)\n",
    "        res = [ret['text'] for ret in res]\n",
    "        return res[0].replace(\"[[\",\"[\").replace(\"]]\",\"]\").replace(\"[\",\"[[\").replace(\"]\",\"]]\")"
   ]
  },
  {
   "cell_type": "code",
   "execution_count": 4,
   "metadata": {},
   "outputs": [],
   "source": [
    "translator = Translation_Api()"
   ]
  },
  {
   "cell_type": "code",
   "execution_count": 5,
   "metadata": {},
   "outputs": [
    {
     "data": {
      "text/plain": [
       "'नमूना पाठ'"
      ]
     },
     "execution_count": 5,
     "metadata": {},
     "output_type": "execute_result"
    }
   ],
   "source": [
    "data = \"Sample Text\"\n",
    "translator.get_translation(data)"
   ]
  },
  {
   "cell_type": "code",
   "execution_count": 6,
   "metadata": {},
   "outputs": [
    {
     "data": {
      "text/plain": [
       "'सैंपल टेक्ट'"
      ]
     },
     "execution_count": 6,
     "metadata": {},
     "output_type": "execute_result"
    }
   ],
   "source": [
    "data = \"Sample Text\"\n",
    "translator.get_transliteration(data)"
   ]
  },
  {
   "cell_type": "code",
   "execution_count": 37,
   "metadata": {},
   "outputs": [
    {
     "name": "stderr",
     "output_type": "stream",
     "text": [
      "en.wikipedia.org (parse) Navassa Island\n",
      "Navassa Island (en) data\n",
      "{\n",
      "  infobox: <dict(11)> name, image_name, image_caption, pushpin_map...\n",
      "  iwlinks: <list(5)> https://commons.wikimedia.org/wiki/Special:Se...\n",
      "  pageid: 21312\n",
      "  parsetree: <str(38808)> <root><template><title>Short description...\n",
      "  requests: <list(1)> parse\n",
      "  title: Navassa Island\n",
      "  wikibase: Q25359\n",
      "  wikidata_url: https://www.wikidata.org/wiki/Q25359\n",
      "  wikitext: <str(27085)> {{Short description|Island in the Caribbe...\n",
      "}\n"
     ]
    }
   ],
   "source": [
    "page = wptools.page('Navassa Island').get_parse()"
   ]
  },
  {
   "cell_type": "code",
   "execution_count": 52,
   "metadata": {},
   "outputs": [],
   "source": [
    "def update(infobox , translator):\n",
    "    infobox = defaultdict(str , infobox)\n",
    "    updated_infobox = {}\n",
    "    updated_infobox['name'] = translator.get_transliteration(infobox['name'])\n",
    "    updated_infobox['native_name'] = infobox['native_name']\n",
    "    updated_infobox['category'] = translator.get_translation(infobox['settlement_type'])\n",
    "    \n",
    "    updated_infobox['image'] = infobox['image_skyline']\n",
    "    if updated_infobox['image'] == '' : \n",
    "        updated_infobox['image'] = infobox['image']\n",
    "    updated_infobox['image_caption'] = translator.get_translation(infobox['image_caption'])\n",
    "    updated_infobox['flag'] = infobox['flag']\n",
    "    updated_infobox['map'] = infobox['map']\n",
    "    updated_infobox['map_caption'] = translator.get_translation(infobox['map_caption'])\n",
    "    updated_infobox['motto'] = translator.get_transliteration(infobox['motto'])\n",
    "    updated_infobox['timezone'] = infobox['timezone']\n",
    "    \n",
    "    updated_infobox['country'] = translator.get_translation(infobox['country'])\n",
    "    updated_infobox['state'] = translator.get_translation(infobox['state'])\n",
    "    updated_infobox['region'] = translator.get_translation(infobox['region'])\n",
    "    updated_infobox['district'] = translator.get_translation(infobox['district'])\n",
    "    updated_infobox['municipality'] = translator.get_translation(infobox['municipality'])\n",
    "    updated_infobox['location'] = translator.get_translation(infobox['location'])\n",
    "    updated_infobox['area'] = infobox['area_km2']\n",
    "    updated_infobox['length'] = infobox['length_km']\n",
    "    updated_infobox['width'] = infobox['width_km']\n",
    "    \n",
    "    \n",
    "    updated_infobox['population'] = translator.get_translation(infobox['population'])\n",
    "    updated_infobox['parent'] = translator.get_translation(infobox['parent'])\n",
    "    updated_infobox['range'] = translator.get_translation(infobox['range'])\n",
    "    updated_infobox['population'] = translator.get_translation(infobox['population'])\n",
    "    updated_infobox['elevation'] = infobox['elevation_m']\n",
    "    \n",
    "    updated_infobox['animal'] = translator.get_translation(infobox['animal'])\n",
    "    updated_infobox['plant'] = translator.get_translation(infobox['plant'])\n",
    "    updated_infobox['geology'] = translator.get_translation(infobox['geology'])\n",
    "\n",
    "    updated_infobox = { key : val for key , val in updated_infobox.items() if val!=''}\n",
    "    cur_len = len(updated_infobox)\n",
    "    if len(updated_infobox) < 15:\n",
    "        for key , val in infobox.items():\n",
    "            if key in updated_infobox : continue\n",
    "            updated_infobox[key] = translator.get_transliteration(val)\n",
    "            if len(updated_infobox) == 15: break\n",
    "    updated_infobox = { key : val for key , val in updated_infobox.items() if val!=''}\n",
    "    return updated_infobox"
   ]
  },
  {
   "cell_type": "code",
   "execution_count": 53,
   "metadata": {},
   "outputs": [],
   "source": [
    "new_infobox = update(page.data['infobox'] , translator)"
   ]
  },
  {
   "cell_type": "code",
   "execution_count": 54,
   "metadata": {},
   "outputs": [],
   "source": [
    "def change_format(infobox):\n",
    "    infobox = [ (\"|\" + key + \" = \" +  val) for key , val in infobox.items()]\n",
    "    print(\"{{Geobox\")\n",
    "    print(\"\\n\".join(infobox))\n",
    "    print(\"}}\")"
   ]
  },
  {
   "cell_type": "code",
   "execution_count": 55,
   "metadata": {},
   "outputs": [
    {
     "name": "stdout",
     "output_type": "stream",
     "text": [
      "{{Geobox\n",
      "|name = नावासा आइलैंड\n",
      "|image_caption = नवसा द्वीप [[अंतर्राष्ट्रीय अंतरिक्ष स्टेशन]] से देखा गया ]]\n",
      "|country = {{झंडा। संयुक्त राज्य अमेरिका . आकार । =.. 23px}}\n",
      "|location = [[कैरेबियन सागर]]\n",
      "|area = 5.4\n",
      "|length = 4.7\n",
      "|width = 2.1\n",
      "|image_name = नवासाइस14क्रॉपड.जपग\n",
      "|pushpin_map = कैरिबियन\n",
      "|pushpin_map_caption = लोकेशन इन दी कैरिबियन\n",
      "|coordinates = {{कूर्ड|18|24|10|न|75|0|45|व|टाइप:आइसल_रीजिओन:उम|डिस्प्ले|=|इनलाइन,टाइटल}}\n",
      "|area_km2 = 5.4\n",
      "|length_km = 4.7\n",
      "|width_km = 2.1\n",
      "|native_name = \n",
      "}}\n"
     ]
    }
   ],
   "source": [
    "new_infobox_string = change_format(new_infobox)"
   ]
  },
  {
   "cell_type": "code",
   "execution_count": null,
   "metadata": {},
   "outputs": [],
   "source": []
  }
 ],
 "metadata": {
  "kernelspec": {
   "display_name": "Python 3",
   "language": "python",
   "name": "python3"
  },
  "language_info": {
   "codemirror_mode": {
    "name": "ipython",
    "version": 3
   },
   "file_extension": ".py",
   "mimetype": "text/x-python",
   "name": "python",
   "nbconvert_exporter": "python",
   "pygments_lexer": "ipython3",
   "version": "3.8.2"
  }
 },
 "nbformat": 4,
 "nbformat_minor": 4
}
