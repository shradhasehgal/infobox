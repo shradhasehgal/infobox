{
 "cells": [
  {
   "cell_type": "code",
   "execution_count": 9,
   "metadata": {},
   "outputs": [],
   "source": [
    "import sys\n",
    "from qwikidata.sparql import return_sparql_query_results\n",
    "from qwikidata.entity import WikidataItem, WikidataLexeme, WikidataProperty\n",
    "from qwikidata.linked_data_interface import get_entity_dict_from_api\n",
    "from SPARQLWrapper import SPARQLWrapper, JSON\n",
    "import json\n",
    "from tqdm import tqdm\n",
    "import re\n",
    "import requests as r\n",
    "from collections import defaultdict\n",
    "sys.path.append(\"..\")\n",
    "from method2.Translator_Api import Translator_Api\n",
    "translator = Translator_Api()\n",
    "from method1.utils import *"
   ]
  },
  {
   "cell_type": "markdown",
   "metadata": {},
   "source": [
    "### Program"
   ]
  },
  {
   "cell_type": "code",
   "execution_count": 10,
   "metadata": {},
   "outputs": [],
   "source": [
    "biography = {\n",
    "    \"image\": \"P18\",\n",
    "    \"gender\":\"P21\",\n",
    "    \"residence\":\"P551\",\n",
    "    \"birth_place\":\"P19\",\n",
    "    \"birth_date\":\"P569\",\n",
    "    \"profession\": \"P106\",\n",
    "    \"notable_works\": \"P800\",\n",
    "    \"education\": \"P69\",\n",
    "    \"positions\":\"P39\",\n",
    "    \"awards\": \"P166\",\n",
    "    \"spouse\": \"P26\",\n",
    "    \"nationality\": \"P27\",\n",
    "}\n",
    "\n",
    "properties = {\n",
    "    \"name\": \"P2561\",\n",
    "    \"native_name\": \"P1559\",\n",
    "    \"image\": \"P18\",\n",
    "    \"flag\": \"P163\",\n",
    "    \"map\": \"P242\",\n",
    "    \"motto\":\"P1546\",\n",
    "    \"timezone\": \"P2907\",\n",
    "    \"country\": \"P17\",\n",
    "    \"location\": \"P276\",\n",
    "    \"area / area_km2\": \"P2046\",\n",
    "    \"length / length_km\": \"P2043\",\n",
    "    \"width / width_km\": \"P2049\",\n",
    "    \"population\": \"P1082\",\n",
    "    \"elevation / elevation_m\":\"P2044\" ,\n",
    "    \"geology\" : \"P2695\",\n",
    "    \n",
    "}\n",
    "\n",
    "people_to_transliteration = ['name','birth_place','spouse','notable_works']\n",
    "places_to_transliteration = ['name','motto']"
   ]
  },
  {
   "cell_type": "code",
   "execution_count": 13,
   "metadata": {},
   "outputs": [],
   "source": [
    "def baseline_infobox(wd, category = 'people' , bio = biography, fields = people_to_transliteration):\n",
    "    if category == 'places' :\n",
    "        fields = places_to_transliteration\n",
    "        bio = properties\n",
    "    result = {}\n",
    "    #get entity from api\n",
    "    entity_info = getEntityInfo(wd)\n",
    "    result['name'] = translator.get_transliteration(extractName(entity_info))\n",
    "    result['description'] = translator.get_translation(extractDescription(entity_info))\n",
    "    #explicitly query using sparql to get main biography data\n",
    "    for entity, wdt in bio.items():\n",
    "        spqrqlq = f\"SELECT ?entity ?entityLabel ?entityDescription WHERE {{ wd:{wd} wdt:{wdt} ?entity; SERVICE wikibase:label {{ bd:serviceParam wikibase:language \\\"en\\\". }} }}\"\n",
    "        v = \"\"\n",
    "        res = get_results(endpoint_url, str(spqrqlq))\n",
    "        for entities in res['results']['bindings']:\n",
    "            value = entities.get('entityLabel').get('value', \"\")\n",
    "            if value != '' and 'Q' not in value:\n",
    "                v += value + ','\n",
    "        if v != \"\":\n",
    "            if entity in fields:\n",
    "                result[entity] = translator.get_transliteration(v)\n",
    "            else:\n",
    "                result[entity] = translator.get_translation(v)\n",
    "    return result"
   ]
  },
  {
   "cell_type": "code",
   "execution_count": 14,
   "metadata": {},
   "outputs": [
    {
     "data": {
      "text/plain": [
       "{'name': 'शेन वॉर्न',\n",
       " 'description': 'ऑस्ट्रेलियाई क्रिकेट खिलाड़ी',\n",
       " 'image': 'http://commons.wikimedia.org/wiki/Special:FilePath/Shane%20Warne%202011%20cropped.jpg,',\n",
       " 'gender': 'पुरुष',\n",
       " 'birth_place': 'उपर फेर्न्ट्री गुल्ली,',\n",
       " 'birth_date': '1969-09-13T00:00:00Z,',\n",
       " 'profession': 'क्रिकेटर, पोकर खिलाड़ी,',\n",
       " 'education': 'हैम्पटन हाई स्कूल, मेलबोर्न, मेंटोन व्याकरण स्कूल,',\n",
       " 'awards': 'विस्डेन क्रिकेटर ऑफ द ईयर,',\n",
       " 'nationality': 'ऑस्ट्रेलिया'}"
      ]
     },
     "execution_count": 14,
     "metadata": {},
     "output_type": "execute_result"
    }
   ],
   "source": [
    "# Information about Shane Warne\n",
    "baseline_infobox('Q555240', biography)"
   ]
  },
  {
   "cell_type": "code",
   "execution_count": 15,
   "metadata": {},
   "outputs": [
    {
     "data": {
      "text/plain": [
       "{'name': 'नई दिल्ली',\n",
       " 'description': 'दिल्ली का जिला और भारत की राजधानी',\n",
       " 'image': 'http://commons.wikimedia.org/wiki/Special:FilePath/Delhi%20Montage.jpg,',\n",
       " 'country': 'भारत',\n",
       " 'area / area_km2': '42700000,',\n",
       " 'population': '142004,',\n",
       " 'elevation / elevation_m': '216,'}"
      ]
     },
     "execution_count": 15,
     "metadata": {},
     "output_type": "execute_result"
    }
   ],
   "source": [
    "# Information about New Delhi\n",
    "baseline_infobox(\"Q987\", category='places')"
   ]
  }
 ],
 "metadata": {
  "kernelspec": {
   "display_name": "Python 3",
   "language": "python",
   "name": "python3"
  },
  "language_info": {
   "codemirror_mode": {
    "name": "ipython",
    "version": 3
   },
   "file_extension": ".py",
   "mimetype": "text/x-python",
   "name": "python",
   "nbconvert_exporter": "python",
   "pygments_lexer": "ipython3",
   "version": "3.8.2"
  }
 },
 "nbformat": 4,
 "nbformat_minor": 4
}
