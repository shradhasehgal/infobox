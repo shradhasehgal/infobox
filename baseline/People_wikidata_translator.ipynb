{
 "cells": [
  {
   "cell_type": "code",
   "execution_count": 10,
   "metadata": {},
   "outputs": [],
   "source": [
    "import sys\n",
    "from qwikidata.sparql import return_sparql_query_results\n",
    "from qwikidata.entity import WikidataItem, WikidataLexeme, WikidataProperty\n",
    "from qwikidata.linked_data_interface import get_entity_dict_from_api\n",
    "from SPARQLWrapper import SPARQLWrapper, JSON\n",
    "import json\n",
    "from tqdm import tqdm\n",
    "import re\n",
    "import requests as r\n",
    "from collections import defaultdict"
   ]
  },
  {
   "cell_type": "code",
   "execution_count": 13,
   "metadata": {},
   "outputs": [],
   "source": [
    "class Translation_Api():\n",
    "    # https://docs.microsoft.com/en-us/azure/cognitive-services/translator/reference/v3-0-reference\n",
    "    def __init__(self):\n",
    "        self.headers = {\n",
    "                \"Ocp-Apim-Subscription-Key\":\"e669322a133044489e6dc4e9cde3edee\",\n",
    "                \"Content-Type\":\"application/json\",\n",
    "                \"Ocp-Apim-Subscription-Region\":\"centralus\"\n",
    "            }\n",
    "        self.transliterate_url = \"https://api.cognitive.microsofttranslator.com/transliterate?api-version=3.0&language=hi&fromScript=Latn&toScript=Deva\"\n",
    "        self.translate_url = \"https://api.cognitive.microsofttranslator.com/translate?api-version=3.0&to=hi&from=en&toScript=Deva\"\n",
    "    \n",
    "    def get_translation(self,data):\n",
    "        if \"{{\" in data : return data\n",
    "        data = data.split(\"<ref>\")[0]\n",
    "        if data == \"\" : return data\n",
    "        data = [{\"Text\":data}]\n",
    "        res = r.post( self.translate_url , json = data , headers = self.headers).text\n",
    "        res = json.loads(res)\n",
    "        res = [ ret['translations'][0]['text'] for ret in res ]\n",
    "        return res[0].replace(\"[[\",\"[\").replace(\"]]\",\"]\").replace(\"[\",\"[[\").replace(\"]\",\"]]\")\n",
    "        \n",
    "    def get_transliteration(self,data):\n",
    "        if \"{{\" in data : return data\n",
    "        data = data.split(\"<ref>\")[0]\n",
    "        if data == \"\" : return data\n",
    "        data = [{\"Text\":data}]\n",
    "        res = r.post( self.transliterate_url , json = data , headers = self.headers).text\n",
    "        res = json.loads(res)\n",
    "        res = [ret['text'] for ret in res]\n",
    "        return res[0].replace(\"[[\",\"[\").replace(\"]]\",\"]\").replace(\"[\",\"[[\").replace(\"]\",\"]]\")\n",
    "translator = Translation_Api()"
   ]
  },
  {
   "cell_type": "markdown",
   "metadata": {},
   "source": [
    "### Program"
   ]
  },
  {
   "cell_type": "code",
   "execution_count": 18,
   "metadata": {},
   "outputs": [],
   "source": [
    "biography = {\n",
    "    \"image\": \"P18\",\n",
    "    \"gender\":\"P21\",\n",
    "    \"residence\":\"P551\",\n",
    "    \"birth_place\":\"P19\",\n",
    "    \"birth_date\":\"P569\",\n",
    "    \"profession\": \"P106\",\n",
    "    \"notable_works\": \"P800\",\n",
    "    \"education\": \"P69\",\n",
    "    \"positions\":\"P39\",\n",
    "    \"awards\": \"P166\",\n",
    "    \"spouse\": \"P26\",\n",
    "    \"nationality\": \"P27\",\n",
    "}\n",
    "\n",
    "translation = {\n",
    "    \"name\":\"नाम\",\n",
    "    \"description\":\"विवरण\",\n",
    "    \"image\": \"चित्र\",\n",
    "    \"gender\":\"लिंग\",\n",
    "    \"residence\":\"निवास\",\n",
    "    \"birth_place\":\"जन्म स्थान\",\n",
    "    \"birth_date\":\"जन्मतारीख\",\n",
    "    \"profession\": \"व्यवसाय\",\n",
    "    \"notable_works\": \"उल्लेखनीय कार्य\",\n",
    "    \"education\": \"शिक्षा\",\n",
    "    \"positions\": \"पद\",\n",
    "    \"awards\": \"पुरस्कार\",\n",
    "    \"spouse\": \"पति या पत्नी\",\n",
    "    \"other_available_information\":\"अन्य उपलब्ध जानकारी\",\n",
    "    \"main_info\": \"मुख्य जानकारी\",\n",
    "    \"nationality\": \"राष्ट्रीयता\"\n",
    "}\n",
    "\n",
    "to_transliteration = ['name','birth_place','spouse','notable_works']"
   ]
  },
  {
   "cell_type": "code",
   "execution_count": 19,
   "metadata": {},
   "outputs": [],
   "source": [
    "def get_results(endpoint_url, query):\n",
    "    user_agent = \"WDQS-example Python/%s.%s\" % (sys.version_info[0], sys.version_info[1])\n",
    "    sparql = SPARQLWrapper(endpoint_url, agent=user_agent)\n",
    "    sparql.setQuery(query)\n",
    "    sparql.setReturnFormat(JSON)\n",
    "    return sparql.query().convert()\n",
    "\n",
    "endpoint_url = \"https://query.wikidata.org/sparql\""
   ]
  },
  {
   "cell_type": "code",
   "execution_count": 30,
   "metadata": {},
   "outputs": [],
   "source": [
    "#calls qwikidata get entity function for an entity id\n",
    "def getEntityInfo(eid):\n",
    "    return get_entity_dict_from_api(eid)\n",
    "\n",
    "#extract the name of the entity or the property value in native language\n",
    "def extractName(info):\n",
    "    return info.get('labels', {}).get('en', {}).get('value', \"\")\n",
    "\n",
    "#extract the description of the entity or the property value in native language\n",
    "def extractDescription(info):\n",
    "    return info.get('descriptions', {}).get('en', {}).get('value', \"\")\n",
    "\n",
    "#print the name and the description\n",
    "def printNameAndDescription(info, trans):\n",
    "    name = extractName(info)\n",
    "    if name != \"\":\n",
    "        print(trans['name'] + \":\", translator.get_transliteration(name))\n",
    "    desc = extractDescription(info)\n",
    "    if desc != \"\":\n",
    "        print(trans['description'] + \":\", translator.get_translation(desc))\n",
    "        \n",
    "#print the information present in the entity itself\n",
    "def printOtherInfo(entity, bio):\n",
    "    #get the claims subdict\n",
    "#     print(entity['claims'])\n",
    "    for p in entity['claims'].keys():\n",
    "        if p not in bio.values():\n",
    "            #get information on the property in bengali\n",
    "            ent_info = getEntityInfo(p)\n",
    "            name, desc = extractName(ent_info), extractDescription(ent_info)\n",
    "            if name == \"\":\n",
    "                continue\n",
    "            value = \"\"\n",
    "            #for every property in the claims subdict get inforamtion on the correspoding values\n",
    "            for data in entity.get('claims', {}).get(p, []):\n",
    "                res = data.get('mainsnak',{}).get('datavalue', {}).get('value', {})\n",
    "                if type(res) == dict:\n",
    "                    info_id = res.get('id', \"\")\n",
    "                    if info_id == \"\":\n",
    "                        continue\n",
    "                    info = getEntityInfo(info_id)\n",
    "                    pname, pdesc = extractName(info), extractDescription(info)\n",
    "                    if pname == \"\":\n",
    "                        continue\n",
    "                    if pdesc != \"\":\n",
    "                        pname += str(f'({pdesc})')\n",
    "                    value += pname \n",
    "            #only print property name and value if the value is present in native language\n",
    "            if value != \"\":\n",
    "                print(name + \": \" + value)\n",
    "    \n",
    "def getInfobox(wd, bio, trans):\n",
    "    #get entity from api\n",
    "    entity_info = getEntityInfo(wd)\n",
    "    #print name and description\n",
    "    printNameAndDescription(entity_info, trans)\n",
    "    #explicitly query using sparql to get main biography data\n",
    "    print(\"----------------------\",trans['main_info'],\"----------------------\")\n",
    "    for entity, wdt in bio.items():\n",
    "        spqrqlq = f\"SELECT ?entity ?entityLabel ?entityDescription WHERE {{ wd:{wd} wdt:{wdt} ?entity; SERVICE wikibase:label {{ bd:serviceParam wikibase:language \\\"en\\\". }} }}\"\n",
    "        s, v = trans[entity] + \": \", \"\"\n",
    "        res = get_results(endpoint_url, str(spqrqlq))\n",
    "        for entity in res['results']['bindings']:\n",
    "            value = entity.get('entityLabel').get('value', \"\")\n",
    "            if value != '' and 'Q' not in value:\n",
    "                v += value + ','\n",
    "        if v != \"\":\n",
    "            if entity in to_transliteration:\n",
    "                v = translator.get_transliteration(v)\n",
    "            else:\n",
    "                v = translator.get_translation(v)\n",
    "            print(s + v)\n",
    "    #Query and print the rest of the data already present in the entity \n",
    "#     print(\"----------------------\",trans['other_available_information'],\"----------------------\")\n",
    "#     printOtherInfo(entity_info, bio)"
   ]
  },
  {
   "cell_type": "code",
   "execution_count": 32,
   "metadata": {},
   "outputs": [
    {
     "name": "stdout",
     "output_type": "stream",
     "text": [
      "नाम: शेन वार्न\n",
      "विवरण: ऑस्ट्रेलियाई पूर्व अंतरराष्ट्रीय क्रिकेटर\n",
      "---------------------- मुख्य जानकारी ----------------------\n",
      "चित्र: http://commons.wikimedia.org/wiki/Special:FilePath/Shane%20Warne%202011%20cropped.jpg,\n",
      "लिंग: पुरुष\n",
      "जन्म स्थान: ऊपरी फर्नट्री गली,\n",
      "जन्मतारीख: 1969-09-13T00:00:00Z,\n",
      "व्यवसाय: क्रिकेटर, पोकर खिलाड़ी,\n",
      "शिक्षा: हैम्पटन हाई स्कूल, मेलबोर्न, मेंटोन व्याकरण स्कूल,\n",
      "पुरस्कार: विस्डेन क्रिकेटर ऑफ द ईयर,\n",
      "राष्ट्रीयता: ऑस्ट्रेलिया\n"
     ]
    }
   ],
   "source": [
    "# Information about Shane Warne\n",
    "getInfobox('Q555240', biography, translation)"
   ]
  },
  {
   "cell_type": "code",
   "execution_count": 31,
   "metadata": {},
   "outputs": [
    {
     "name": "stdout",
     "output_type": "stream",
     "text": [
      "नाम: नरेन्द्र मोदी\n",
      "विवरण: भारत के प्रधानमंत्री\n",
      "---------------------- मुख्य जानकारी ----------------------\n",
      "चित्र: http://commons.wikimedia.org/wiki/Special:FilePath/PM%20Modi%202015.jpg,\n",
      "लिंग: पुरुष\n",
      "निवास: 7, लोक कल्याण मार्ग,\n",
      "जन्म स्थान: वडनगर,\n",
      "जन्मतारीख: 1950-09-17T00:00:00Z,\n",
      "व्यवसाय: नेता\n",
      "शिक्षा: गुजरात विश्वविद्यालय, दिल्ली विश्वविद्यालय,\n",
      "पद: भारत की एक विधान सभा के सदस्य, कार्मिक, लोक शिकायत और पेंशन मंत्रालय, गुजरात विधानसभा के सदस्य, गुजरात के मुख्यमंत्री, 16वीं लोकसभा के सदस्य, 17वीं लोकसभा के सदस्य,\n",
      "पुरस्कार: अब्दुलअजीज अल सऊद का आदेश, सेंट एंड्रयू का आदेश, जायद का आदेश, सीएनएन-न्यूज18 इंडियन ऑफ द ईयर, अमीर अमानुल्लाह खान पुरस्कार, फिलिस्तीन राज्य के ग्रैंड कॉलर, निशन इज्जुद्दीन के प्रतिष्ठित शासन का आदेश,\n",
      "पति या पत्नी: जशोदाबेन नरेंद्रभाई मोदी,\n",
      "राष्ट्रीयता: भारत\n"
     ]
    }
   ],
   "source": [
    "# Information about Narendra Modi\n",
    "getInfobox('Q1058', biography, translation)"
   ]
  },
  {
   "cell_type": "code",
   "execution_count": null,
   "metadata": {},
   "outputs": [],
   "source": []
  }
 ],
 "metadata": {
  "kernelspec": {
   "display_name": "Python 3",
   "language": "python",
   "name": "python3"
  },
  "language_info": {
   "codemirror_mode": {
    "name": "ipython",
    "version": 3
   },
   "file_extension": ".py",
   "mimetype": "text/x-python",
   "name": "python",
   "nbconvert_exporter": "python",
   "pygments_lexer": "ipython3",
   "version": "3.8.2"
  }
 },
 "nbformat": 4,
 "nbformat_minor": 4
}
