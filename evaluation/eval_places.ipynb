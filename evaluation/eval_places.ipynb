{
 "cells": [
  {
   "cell_type": "code",
   "execution_count": 3,
   "metadata": {},
   "outputs": [],
   "source": [
    "import sys\n",
    "from qwikidata.sparql import return_sparql_query_results\n",
    "from qwikidata.entity import WikidataItem, WikidataLexeme, WikidataProperty\n",
    "from qwikidata.linked_data_interface import get_entity_dict_from_api\n",
    "from SPARQLWrapper import SPARQLWrapper, JSON\n",
    "import json\n",
    "from tqdm import tqdm\n",
    "import re\n",
    "import requests as r\n",
    "import pandas as pd\n",
    "from collections import defaultdict\n",
    "from libindic import inexactsearch\n",
    "import pandas as pd\n",
    "import pickle as pkl\n",
    "import wptools\n",
    "sys.path.append('..')\n",
    "from method2.Places_translator import Places_translator\n",
    "translator = Places_translator()\n",
    "from method1.utils import *\n",
    "from baseline.baseline import baseline_infobox\n",
    "from method1.get_infobox import method1_infobox"
   ]
  },
  {
   "cell_type": "code",
   "execution_count": 10,
   "metadata": {},
   "outputs": [],
   "source": [
    "def get_score(translated_infobox , actual_infobox):\n",
    "    inst = inexactsearch.InexactSearch()\n",
    "    markings = defaultdict(list)\n",
    "    for key in translated_infobox.keys():\n",
    "        if key in actual_infobox.keys() and key!='image':\n",
    "#             print(key)\n",
    "#             print(translated_infobox[key] , actual_infobox[key]) \n",
    "            val = inst.compare(translated_infobox[key] , actual_infobox[key])\n",
    "            if val > 0.70 :\n",
    "                markings['C'].append(key)\n",
    "            else : markings['S'].append(key)\n",
    "    for key in actual_infobox.keys():\n",
    "        if key not in translated_infobox.keys():\n",
    "            markings['D'].append(key)\n",
    "    if len(markings['C']) + len(markings['S']) != 0:\n",
    "        precision = len(markings['C']) / (len(markings['C']) + len(markings['S']))\n",
    "    else : precision = 0\n",
    "    recall = len(markings['C']) / (len(markings['C']) + len(markings['S']) + len(markings['D']))\n",
    "    print('Precisions :',precision)\n",
    "    print('Recall :',recall)\n",
    "    return precision , recall"
   ]
  },
  {
   "cell_type": "code",
   "execution_count": 15,
   "metadata": {},
   "outputs": [],
   "source": [
    "with open('../data-collection/places/eval_places.json') as f:\n",
    "    data = json.loads(f.read())['data']\n",
    "wiki_places = []\n",
    "for entry in data:\n",
    "    try :\n",
    "        wiki_places.append([entry['en_wikipedia_title'] , entry['hi_wikipedia_title'] , entry['wd_id']])\n",
    "    except :\n",
    "        pass"
   ]
  },
  {
   "cell_type": "code",
   "execution_count": 19,
   "metadata": {},
   "outputs": [],
   "source": [
    "def parse_infobox(text):\n",
    "    for key in  [\"{{Infobox\",\"{{ज्ञानसन्दूक\",\"{{Geobox\",\"{{ज्ञानसंदूक\"]:\n",
    "        if key in text :\n",
    "            text =  text.split(key)[1]\n",
    "            break\n",
    "    else: \n",
    "        return None\n",
    "    text = text.split(\"\\n\")[1:]\n",
    "    ret = {}\n",
    "    for line in text:\n",
    "        if line == \"}}\" : break\n",
    "        if line[0] != '|' : continue\n",
    "        line = line[2:].split(\" = \")\n",
    "        if len(line) == 1:\n",
    "            x , y = line[0] , \"\"\n",
    "        else:\n",
    "            x , y = line[0] , line[1]\n",
    "        ret[x] = y\n",
    "    else :\n",
    "        print(\"Parsing Error\")\n",
    "        assert(False)\n",
    "    return ret"
   ]
  },
  {
   "cell_type": "code",
   "execution_count": 23,
   "metadata": {},
   "outputs": [
    {
     "name": "stdout",
     "output_type": "stream",
     "text": [
      "India भारत Q668\n"
     ]
    },
    {
     "name": "stderr",
     "output_type": "stream",
     "text": [
      "hi.wikipedia.org (parse) भारत\n",
      "भारत (hi) data\n",
      "{\n",
      "  infobox: <dict(6)> title, titlebar, left1, right1, float, bars\n",
      "  iwlinks: <list(11)> https://en.wikipedia.org/wiki/Cambridge_Univ...\n",
      "  pageid: 59\n",
      "  parsetree: <str(121706)> <root><template><title>ज्ञानसन्दूक देश<...\n",
      "  requests: <list(1)> parse\n",
      "  title: भारत\n",
      "  wikibase: Q668\n",
      "  wikidata_url: https://www.wikidata.org/wiki/Q668\n",
      "  wikitext: <str(97408)> {{ज्ञानसन्दूक देश| native_name = भारत गणर...\n",
      "}\n",
      "en.wikipedia.org (parse) India\n",
      "India (en) data\n",
      "{\n",
      "  infobox: <dict(93)> conventional_long_name, common_name, native_...\n",
      "  iwlinks: <list(9)> https://commons.wikimedia.org/wiki/Atlas_of_I...\n",
      "  pageid: 14533\n",
      "  parsetree: <str(498981)> <root><template><title>about</title><pa...\n",
      "  requests: <list(1)> parse\n",
      "  title: India\n",
      "  wikibase: Q668\n",
      "  wikidata_url: https://www.wikidata.org/wiki/Q668\n",
      "  wikitext: <str(280342)> {{about|the Republic of India}}{{redirec...\n",
      "}\n"
     ]
    },
    {
     "name": "stdout",
     "output_type": "stream",
     "text": [
      "\n"
     ]
    }
   ],
   "source": [
    "final_score = []\n",
    "# 6 for example\n",
    "for en_name , hi_name , qid in wiki_places:\n",
    "    try:\n",
    "        print(en_name , hi_name , qid)\n",
    "        actual_infobox = parse_infobox(translator.get_page(hi_name , language = 'hi').data['wikitext'])\n",
    "        if actual_infobox == None: continue\n",
    "        baseline = baseline_infobox(qid , category= 'places')\n",
    "        method2 = translator.get_infobox(en_name , test=True)\n",
    "        method1 = method1_infobox(qid,'places')\n",
    "        final_score.append({en_name : [method1 , method2 , baseline , actual_infobox]})\n",
    "        with open('people_eval.jsonl' , 'a+') as f:\n",
    "            f.write(json.dumps(final_score[-1] , ensure_ascii = False))\n",
    "            f.write(\"\\n\")\n",
    "    except Exception as e:\n",
    "        print(e)\n",
    "        print(en_name)\n",
    "print()"
   ]
  },
  {
   "cell_type": "code",
   "execution_count": 29,
   "metadata": {},
   "outputs": [],
   "source": [
    "import pickle as pkl\n",
    "with open(\"final_places.pkl\" , \"wb\") as f:\n",
    "    pkl.dump(final_score , f)"
   ]
  }
 ],
 "metadata": {
  "kernelspec": {
   "display_name": "Python 3",
   "language": "python",
   "name": "python3"
  },
  "language_info": {
   "codemirror_mode": {
    "name": "ipython",
    "version": 3
   },
   "file_extension": ".py",
   "mimetype": "text/x-python",
   "name": "python",
   "nbconvert_exporter": "python",
   "pygments_lexer": "ipython3",
   "version": "3.8.2"
  }
 },
 "nbformat": 4,
 "nbformat_minor": 4
}
