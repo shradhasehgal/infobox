{
 "cells": [
  {
   "cell_type": "markdown",
   "metadata": {},
   "source": [
    "### Method 1"
   ]
  },
  {
   "cell_type": "code",
   "execution_count": 2,
   "metadata": {},
   "outputs": [],
   "source": [
    "import sys\n",
    "from qwikidata.sparql import return_sparql_query_results\n",
    "from qwikidata.entity import WikidataItem, WikidataLexeme, WikidataProperty\n",
    "from qwikidata.linked_data_interface import get_entity_dict_from_api\n",
    "from SPARQLWrapper import SPARQLWrapper, JSON\n",
    "import json\n",
    "from tqdm import tqdm\n",
    "import re\n",
    "import requests as r\n",
    "import pandas as pd\n",
    "from collections import defaultdict\n",
    "from libindic import inexactsearch\n",
    "sys.path.append('../method2')\n",
    "from People_translator import Translation_Api\n",
    "translator = Translation_Api()"
   ]
  },
  {
   "cell_type": "code",
   "execution_count": 3,
   "metadata": {},
   "outputs": [],
   "source": [
    "properties = {\n",
    "    \"name\": \"P2561\",\n",
    "    \"native_name\": \"P1559\",\n",
    "    \"image\": \"P18\",\n",
    "    \"flag\": \"P163\",\n",
    "    \"map\": \"P242\",\n",
    "    \"motto\":\"P1546\",\n",
    "    \"timezone\": \"P2907\",\n",
    "    \"country\": \"P17\",\n",
    "    \"location\": \"P276\",\n",
    "    \"area / area_km2\": \"P2046\",\n",
    "    \"length / length_km\": \"P2043\",\n",
    "    \"width / width_km\": \"P2049\",\n",
    "    \"population\": \"P1082\",\n",
    "    \"elevation / elevation_m\":\"P2044\" ,\n",
    "    \"geology\" : \"P2695\",\n",
    "}\n",
    "\n",
    "to_transliteration = ['motto']"
   ]
  },
  {
   "cell_type": "code",
   "execution_count": 4,
   "metadata": {},
   "outputs": [],
   "source": [
    "def get_results(endpoint_url, query):\n",
    "    user_agent = \"WDQS-example Python/%s.%s\" % (sys.version_info[0], sys.version_info[1])\n",
    "    sparql = SPARQLWrapper(endpoint_url, agent=user_agent)\n",
    "    sparql.setQuery(query)\n",
    "    sparql.setReturnFormat(JSON)\n",
    "    return sparql.query().convert()\n",
    "\n",
    "endpoint_url = \"https://query.wikidata.org/sparql\""
   ]
  },
  {
   "cell_type": "code",
   "execution_count": 5,
   "metadata": {},
   "outputs": [],
   "source": [
    "#calls qwikidata get entity function for an entity id\n",
    "def getEntityInfo(eid):\n",
    "    return get_entity_dict_from_api(eid)\n",
    "\n",
    "#extract the name of the entity or the property value in native language\n",
    "def extractName(info):\n",
    "    return info.get('labels', {}).get('en', {}).get('value', \"\")\n",
    "\n",
    "#extract the description of the entity or the property value in native language\n",
    "def extractDescription(info):\n",
    "    return info.get('descriptions', {}).get('en', {}).get('value', \"\")\n",
    "    \n",
    "def method1_infobox(wd, bio):\n",
    "    result = {}\n",
    "    #get entity from api\n",
    "    entity_info = getEntityInfo(wd)\n",
    "    result['name'] = translator.get_transliteration(extractName(entity_info))\n",
    "    result['description'] = translator.get_translation(extractDescription(entity_info))\n",
    "    #explicitly query using sparql to get main biography data\n",
    "    for entity, wdt in bio.items():\n",
    "        spqrqlq = f\"SELECT ?entity ?entityLabel ?entityDescription WHERE {{ wd:{wd} wdt:{wdt} ?entity; SERVICE wikibase:label {{ bd:serviceParam wikibase:language \\\"en\\\". }} }}\"\n",
    "        v =  \"\"\n",
    "        res = get_results(endpoint_url, str(spqrqlq))\n",
    "        for entities in res['results']['bindings']:\n",
    "            value = entities.get('entityLabel').get('value', \"\")\n",
    "            if value != '' and 'Q' not in value:\n",
    "                v += value + ','\n",
    "        if v != \"\":\n",
    "            if entity in to_transliteration:\n",
    "                result[entity] = translator.get_transliteration(v)\n",
    "            else:\n",
    "                result[entity] = translator.get_translation(v)\n",
    "    return result"
   ]
  },
  {
   "cell_type": "markdown",
   "metadata": {},
   "source": [
    "### Method2"
   ]
  },
  {
   "cell_type": "code",
   "execution_count": 6,
   "metadata": {},
   "outputs": [],
   "source": [
    "import wptools\n",
    "import json\n",
    "from tqdm import tqdm\n",
    "import re\n",
    "import requests as r\n",
    "from collections import defaultdict"
   ]
  },
  {
   "cell_type": "code",
   "execution_count": 7,
   "metadata": {},
   "outputs": [],
   "source": [
    "def update(infobox , translator):\n",
    "    infobox = defaultdict(str , infobox)\n",
    "    updated_infobox = {}\n",
    "    updated_infobox['name'] = translator.get_transliteration(infobox['name'])\n",
    "    updated_infobox['native_name'] = infobox['native_name']\n",
    "    updated_infobox['category'] = translator.get_translation(infobox['settlement_type'])\n",
    "    \n",
    "    updated_infobox['image'] = infobox['image_skyline']\n",
    "    if updated_infobox['image'] == '' : \n",
    "        updated_infobox['image'] = infobox['image']\n",
    "    updated_infobox['image_caption'] = translator.get_translation(infobox['image_caption'])\n",
    "    updated_infobox['flag'] = infobox['flag']\n",
    "    updated_infobox['map'] = infobox['map']\n",
    "    updated_infobox['map_caption'] = translator.get_translation(infobox['map_caption'])\n",
    "    updated_infobox['motto'] = translator.get_transliteration(infobox['motto'])\n",
    "    updated_infobox['timezone'] = infobox['timezone']\n",
    "    \n",
    "    updated_infobox['country'] = translator.get_translation(infobox['country'])\n",
    "    updated_infobox['state'] = translator.get_translation(infobox['state'])\n",
    "    updated_infobox['region'] = translator.get_translation(infobox['region'])\n",
    "    updated_infobox['district'] = translator.get_translation(infobox['district'])\n",
    "    updated_infobox['municipality'] = translator.get_translation(infobox['municipality'])\n",
    "    updated_infobox['location'] = translator.get_translation(infobox['location'])\n",
    "    updated_infobox['area'] = infobox['area_km2']\n",
    "    updated_infobox['length'] = infobox['length_km']\n",
    "    updated_infobox['width'] = infobox['width_km']\n",
    "    \n",
    "    updated_infobox['population'] = translator.get_translation(infobox['population'])\n",
    "    updated_infobox['elevation'] = infobox['elevation_m']\n",
    "    \n",
    "    updated_infobox['animal'] = translator.get_translation(infobox['animal'])\n",
    "    updated_infobox['plant'] = translator.get_translation(infobox['plant'])\n",
    "    updated_infobox['geology'] = translator.get_translation(infobox['geology'])\n",
    "    updated_infobox = { key : val for key , val in updated_infobox.items() if val!=''}\n",
    "    cur_len = len(updated_infobox)\n",
    "    if len(updated_infobox) < 15:\n",
    "        for key , val in infobox.items():\n",
    "            if key in updated_infobox : continue\n",
    "            updated_infobox[key] = translator.get_transliteration(val)\n",
    "            if len(updated_infobox) == 15: break\n",
    "    updated_infobox = { key : val for key , val in updated_infobox.items() if val!=''}\n",
    "    return updated_infobox"
   ]
  },
  {
   "cell_type": "code",
   "execution_count": 8,
   "metadata": {},
   "outputs": [],
   "source": [
    "def method2_infobox(name):\n",
    "    page = wptools.page(name).get_parse()\n",
    "    result = update(page.data['infobox'] , translator)\n",
    "    return result"
   ]
  },
  {
   "cell_type": "markdown",
   "metadata": {},
   "source": [
    "### Baseline"
   ]
  },
  {
   "cell_type": "code",
   "execution_count": 9,
   "metadata": {},
   "outputs": [],
   "source": [
    "def getEntityInfo(eid):\n",
    "    return get_entity_dict_from_api(eid)\n",
    "\n",
    "#extract the name of the entity or the property value in native language\n",
    "def extractNameBaseline(info):\n",
    "    return info.get('labels', {}).get('hi', {}).get('value', \"\")\n",
    "\n",
    "#extract the description of the entity or the property value in native language\n",
    "def extractDescriptionBaseline(info):\n",
    "    return info.get('descriptions', {}).get('hi', {}).get('value', \"\")\n",
    "\n",
    "#print the name and the description\n",
    "def printNameAndDescriptionBaseline(info, trans):\n",
    "    name = extractName(info)\n",
    "    if name != \"\":\n",
    "        print(trans['name'] + \":\", name)\n",
    "    desc = extractDescription(info)\n",
    "    if desc != \"\":\n",
    "        print(trans['description'] + \":\", desc)\n",
    "    \n",
    "def baseline_infobox(wd, bio):\n",
    "    result = {}\n",
    "    #get entity from api\n",
    "    entity_info = getEntityInfo(wd)\n",
    "    #print name and description\n",
    "#     printNameAndDescription(entity_info, trans)\n",
    "    result['name'] = extractNameBaseline(entity_info)\n",
    "    result['description'] = extractDescriptionBaseline(entity_info)\n",
    "    #explicitly query using sparql to get main biography data\n",
    "#     print(\"----------------------\",trans['main_info'],\"----------------------\")\n",
    "    for entity, wdt in bio.items():\n",
    "        spqrqlq = f\"SELECT ?entity ?entityLabel ?entityDescription WHERE {{ wd:{wd} wdt:{wdt} ?entity; SERVICE wikibase:label {{ bd:serviceParam wikibase:language \\\"hi\\\". }} }}\"\n",
    "        v = \"\"\n",
    "        res = get_results(endpoint_url, str(spqrqlq))\n",
    "        for entities in res['results']['bindings']:\n",
    "            value = entities.get('entityLabel').get('value', \"\")\n",
    "            if value != '' and 'Q' not in value:\n",
    "                v += value + ','\n",
    "        if v != \"\":\n",
    "            result[entity] = v\n",
    "    return result\n",
    "            "
   ]
  },
  {
   "cell_type": "code",
   "execution_count": 10,
   "metadata": {},
   "outputs": [],
   "source": [
    "def get_score(translated_infobox , actual_infobox):\n",
    "    inst = inexactsearch.InexactSearch()\n",
    "    markings = defaultdict(list)\n",
    "    for key in translated_infobox.keys():\n",
    "        if key in actual_infobox.keys() and key!='image':\n",
    "#             print(key)\n",
    "#             print(translated_infobox[key] , actual_infobox[key]) \n",
    "            val = inst.compare(translated_infobox[key] , actual_infobox[key])\n",
    "            if val > 0.70 :\n",
    "                markings['C'].append(key)\n",
    "            else : markings['S'].append(key)\n",
    "    for key in actual_infobox.keys():\n",
    "        if key not in translated_infobox.keys():\n",
    "            markings['D'].append(key)\n",
    "    if len(markings['C']) + len(markings['S']) != 0:\n",
    "        precision = len(markings['C']) / (len(markings['C']) + len(markings['S']))\n",
    "    else : precision = 0\n",
    "    recall = len(markings['C']) / (len(markings['C']) + len(markings['S']) + len(markings['D']))\n",
    "    print('Precisions :',precision)\n",
    "    print('Recall :',recall)\n",
    "    return precision , recall"
   ]
  },
  {
   "cell_type": "code",
   "execution_count": 15,
   "metadata": {},
   "outputs": [],
   "source": [
    "with open('../data-collection/places/eval_places.json') as f:\n",
    "    data = json.loads(f.read())['data']\n",
    "wiki_places = []\n",
    "for entry in data:\n",
    "    try :\n",
    "        wiki_places.append([entry['en_wikipedia_title'] , entry['hi_wikipedia_title'] , entry['wd_id']])\n",
    "    except :\n",
    "        pass"
   ]
  },
  {
   "cell_type": "code",
   "execution_count": 19,
   "metadata": {},
   "outputs": [],
   "source": [
    "def parse_infobox(text):\n",
    "    for key in  [\"{{Infobox\",\"{{ज्ञानसन्दूक\",\"{{Geobox\",\"{{ज्ञानसंदूक\"]:\n",
    "        if key in text :\n",
    "            text =  text.split(key)[1]\n",
    "            break\n",
    "    else: \n",
    "        return None\n",
    "    text = text.split(\"\\n\")[1:]\n",
    "    ret = {}\n",
    "    for line in text:\n",
    "        if line == \"}}\" : break\n",
    "        if line[0] != '|' : continue\n",
    "        line = line[2:].split(\" = \")\n",
    "        if len(line) == 1:\n",
    "            x , y = line[0] , \"\"\n",
    "        else:\n",
    "            x , y = line[0] , line[1]\n",
    "        ret[x] = y\n",
    "    else :\n",
    "        print(\"Parsing Error\")\n",
    "        assert(False)\n",
    "    return ret"
   ]
  },
  {
   "cell_type": "code",
   "execution_count": 23,
   "metadata": {},
   "outputs": [
    {
     "name": "stdout",
     "output_type": "stream",
     "text": [
      "India भारत Q668\n"
     ]
    },
    {
     "name": "stderr",
     "output_type": "stream",
     "text": [
      "hi.wikipedia.org (parse) भारत\n",
      "भारत (hi) data\n",
      "{\n",
      "  infobox: <dict(6)> title, titlebar, left1, right1, float, bars\n",
      "  iwlinks: <list(11)> https://en.wikipedia.org/wiki/Cambridge_Univ...\n",
      "  pageid: 59\n",
      "  parsetree: <str(121706)> <root><template><title>ज्ञानसन्दूक देश<...\n",
      "  requests: <list(1)> parse\n",
      "  title: भारत\n",
      "  wikibase: Q668\n",
      "  wikidata_url: https://www.wikidata.org/wiki/Q668\n",
      "  wikitext: <str(97408)> {{ज्ञानसन्दूक देश| native_name = भारत गणर...\n",
      "}\n",
      "en.wikipedia.org (parse) India\n",
      "India (en) data\n",
      "{\n",
      "  infobox: <dict(93)> conventional_long_name, common_name, native_...\n",
      "  iwlinks: <list(9)> https://commons.wikimedia.org/wiki/Atlas_of_I...\n",
      "  pageid: 14533\n",
      "  parsetree: <str(498981)> <root><template><title>about</title><pa...\n",
      "  requests: <list(1)> parse\n",
      "  title: India\n",
      "  wikibase: Q668\n",
      "  wikidata_url: https://www.wikidata.org/wiki/Q668\n",
      "  wikitext: <str(280342)> {{about|the Republic of India}}{{redirec...\n",
      "}\n"
     ]
    },
    {
     "name": "stdout",
     "output_type": "stream",
     "text": [
      "\n"
     ]
    }
   ],
   "source": [
    "final_score = []\n",
    "for en_name , hi_name , qid in wiki_places[:1]:\n",
    "    try:\n",
    "        print(en_name , hi_name , qid)\n",
    "        actual_infobox = parse_infobox(translator.get_page(hi_name , language = 'hi').data['wikitext'])\n",
    "        if actual_infobox == None: continue\n",
    "        method1 = method1_infobox(qid, properties)\n",
    "        method2 = method2_infobox(en_name)\n",
    "        baseline = baseline_infobox(qid,properties)\n",
    "        final_score.append({en_name : [method1 , method2 , baseline , actual_infobox]})\n",
    "        with open('places_eval.jsonl' , 'a+') as f:\n",
    "            f.write(json.dumps(final_score[-1] , ensure_ascii = False))\n",
    "            f.write(\"\\n\")\n",
    "    except Exception as e:\n",
    "        print(e)\n",
    "        print(en_name)\n",
    "print()"
   ]
  },
  {
   "cell_type": "code",
   "execution_count": 29,
   "metadata": {},
   "outputs": [],
   "source": [
    "import pickle as pkl\n",
    "with open(\"final_places.pkl\" , \"wb\") as f:\n",
    "    pkl.dump(final_score , f)"
   ]
  }
 ],
 "metadata": {
  "kernelspec": {
   "display_name": "Python 3",
   "language": "python",
   "name": "python3"
  },
  "language_info": {
   "codemirror_mode": {
    "name": "ipython",
    "version": 3
   },
   "file_extension": ".py",
   "mimetype": "text/x-python",
   "name": "python",
   "nbconvert_exporter": "python",
   "pygments_lexer": "ipython3",
   "version": "3.8.2"
  }
 },
 "nbformat": 4,
 "nbformat_minor": 4
}
