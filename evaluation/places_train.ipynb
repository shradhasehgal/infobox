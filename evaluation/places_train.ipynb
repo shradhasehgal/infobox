{
 "cells": [
  {
   "cell_type": "markdown",
   "metadata": {},
   "source": [
    "### Method 1"
   ]
  },
  {
   "cell_type": "code",
   "execution_count": null,
   "metadata": {},
   "outputs": [],
   "source": [
    "import sys\n",
    "from qwikidata.sparql import return_sparql_query_results\n",
    "from qwikidata.entity import WikidataItem, WikidataLexeme, WikidataProperty\n",
    "from qwikidata.linked_data_interface import get_entity_dict_from_api\n",
    "from SPARQLWrapper import SPARQLWrapper, JSON\n",
    "import json\n",
    "from tqdm import tqdm\n",
    "import re\n",
    "import requests as r\n",
    "import pandas as pd\n",
    "from collections import defaultdict\n",
    "from libindic import inexactsearch\n",
    "import pandas as pd\n",
    "sys.path.append('../method2')\n",
    "from People_translator import Translation_Api\n",
    "translator = Translation_Api()"
   ]
  },
  {
   "cell_type": "code",
   "execution_count": null,
   "metadata": {},
   "outputs": [],
   "source": [
    "properties = {\n",
    "    \"name\": \"P2561\",\n",
    "    \"native_name\": \"P1559\",\n",
    "    \"image\": \"P18\",\n",
    "    \"flag\": \"P163\",\n",
    "    \"map\": \"P242\",\n",
    "    \"motto\":\"P1546\",\n",
    "    \"timezone\": \"P2907\",\n",
    "    \"country\": \"P17\",\n",
    "    \"location\": \"P276\",\n",
    "    \"area / area_km2\": \"P2046\",\n",
    "    \"length / length_km\": \"P2043\",\n",
    "    \"width / width_km\": \"P2049\",\n",
    "    \"population\": \"P1082\",\n",
    "    \"elevation / elevation_m\":\"P2044\" ,\n",
    "    \"geology\" : \"P2695\",\n",
    "}\n",
    "\n",
    "to_transliteration = ['motto']"
   ]
  },
  {
   "cell_type": "code",
   "execution_count": null,
   "metadata": {},
   "outputs": [],
   "source": [
    "def get_results(endpoint_url, query):\n",
    "    user_agent = \"WDQS-example Python/%s.%s\" % (sys.version_info[0], sys.version_info[1])\n",
    "    sparql = SPARQLWrapper(endpoint_url, agent=user_agent)\n",
    "    sparql.setQuery(query)\n",
    "    sparql.setReturnFormat(JSON)\n",
    "    return sparql.query().convert()\n",
    "\n",
    "endpoint_url = \"https://query.wikidata.org/sparql\""
   ]
  },
  {
   "cell_type": "code",
   "execution_count": null,
   "metadata": {},
   "outputs": [],
   "source": [
    "#calls qwikidata get entity function for an entity id\n",
    "def getEntityInfo(eid):\n",
    "    return get_entity_dict_from_api(eid)\n",
    "\n",
    "#extract the name of the entity or the property value in native language\n",
    "def extractName(info):\n",
    "    return info.get('labels', {}).get('en', {}).get('value', \"\")\n",
    "\n",
    "#extract the description of the entity or the property value in native language\n",
    "def extractDescription(info):\n",
    "    return info.get('descriptions', {}).get('en', {}).get('value', \"\")\n",
    "    \n",
    "def method1_infobox(wd, bio):\n",
    "    result = {}\n",
    "    #get entity from api\n",
    "    entity_info = getEntityInfo(wd)\n",
    "    result['name'] = translator.get_transliteration(extractName(entity_info))\n",
    "    result['description'] = translator.get_translation(extractDescription(entity_info))\n",
    "    #explicitly query using sparql to get main biography data\n",
    "    for entity, wdt in bio.items():\n",
    "        spqrqlq = f\"SELECT ?entity ?entityLabel ?entityDescription WHERE {{ wd:{wd} wdt:{wdt} ?entity; SERVICE wikibase:label {{ bd:serviceParam wikibase:language \\\"en\\\". }} }}\"\n",
    "        v = \"\"\n",
    "        res = get_results(endpoint_url, str(spqrqlq))\n",
    "        for entities in res['results']['bindings']:\n",
    "            value = entities.get('entityLabel').get('value', \"\")\n",
    "            if value != '' and 'Q' not in value:\n",
    "                v += value + ','\n",
    "        if v != \"\":\n",
    "            if entity in to_transliteration:\n",
    "                result[entity] = translator.get_transliteration(v)\n",
    "            else:\n",
    "                result[entity] = translator.get_translation(v)\n",
    "    return result"
   ]
  },
  {
   "cell_type": "markdown",
   "metadata": {},
   "source": [
    "### Method2"
   ]
  },
  {
   "cell_type": "code",
   "execution_count": null,
   "metadata": {},
   "outputs": [],
   "source": [
    "import wptools\n",
    "import json\n",
    "from tqdm import tqdm\n",
    "import re\n",
    "import requests as r\n",
    "from collections import defaultdict"
   ]
  },
  {
   "cell_type": "code",
   "execution_count": null,
   "metadata": {},
   "outputs": [],
   "source": [
    "def update(infobox , translator):\n",
    "    infobox = defaultdict(str , infobox)\n",
    "    updated_infobox = {}\n",
    "    updated_infobox['name'] = translator.get_transliteration(infobox['name'])\n",
    "    updated_infobox['native_name'] = infobox['native_name']\n",
    "    updated_infobox['category'] = translator.get_translation(infobox['settlement_type'])\n",
    "    \n",
    "    updated_infobox['image'] = infobox['image_skyline']\n",
    "    if updated_infobox['image'] == '' : \n",
    "        updated_infobox['image'] = infobox['image']\n",
    "    updated_infobox['image_caption'] = translator.get_translation(infobox['image_caption'])\n",
    "    updated_infobox['flag'] = infobox['flag']\n",
    "    updated_infobox['map'] = infobox['map']\n",
    "    updated_infobox['map_caption'] = translator.get_translation(infobox['map_caption'])\n",
    "    updated_infobox['motto'] = translator.get_transliteration(infobox['motto'])\n",
    "    updated_infobox['timezone'] = infobox['timezone']\n",
    "    \n",
    "    updated_infobox['country'] = translator.get_translation(infobox['country'])\n",
    "    updated_infobox['state'] = translator.get_translation(infobox['state'])\n",
    "    updated_infobox['region'] = translator.get_translation(infobox['region'])\n",
    "    updated_infobox['district'] = translator.get_translation(infobox['district'])\n",
    "    updated_infobox['municipality'] = translator.get_translation(infobox['municipality'])\n",
    "    updated_infobox['location'] = translator.get_translation(infobox['location'])\n",
    "    updated_infobox['area'] = infobox['area_km2']\n",
    "    updated_infobox['length'] = infobox['length_km']\n",
    "    updated_infobox['width'] = infobox['width_km']\n",
    "    \n",
    "    updated_infobox['population'] = translator.get_translation(infobox['population'])\n",
    "    updated_infobox['elevation'] = infobox['elevation_m']\n",
    "    \n",
    "    updated_infobox['animal'] = translator.get_translation(infobox['animal'])\n",
    "    updated_infobox['plant'] = translator.get_translation(infobox['plant'])\n",
    "    updated_infobox['geology'] = translator.get_translation(infobox['geology'])\n",
    "    updated_infobox = { key : val for key , val in updated_infobox.items() if val!=''}\n",
    "    cur_len = len(updated_infobox)\n",
    "    if len(updated_infobox) < 15:\n",
    "        for key , val in infobox.items():\n",
    "            if key in updated_infobox : continue\n",
    "            updated_infobox[key] = translator.get_transliteration(val)\n",
    "            if len(updated_infobox) == 15: break\n",
    "    updated_infobox = { key : val for key , val in updated_infobox.items() if val!=''}\n",
    "    return updated_infobox"
   ]
  },
  {
   "cell_type": "code",
   "execution_count": null,
   "metadata": {},
   "outputs": [],
   "source": [
    "def method2_infobox(name):\n",
    "    page = wptools.page(name).get_parse()\n",
    "    result = update(page.data['infobox'] , translator)\n",
    "    return result"
   ]
  },
  {
   "cell_type": "markdown",
   "metadata": {},
   "source": [
    "### Baseline"
   ]
  },
  {
   "cell_type": "code",
   "execution_count": null,
   "metadata": {},
   "outputs": [],
   "source": [
    "def getEntityInfo(eid):\n",
    "    return get_entity_dict_from_api(eid)\n",
    "\n",
    "#extract the name of the entity or the property value in native language\n",
    "def extractNameBaseline(info):\n",
    "    return info.get('labels', {}).get('hi', {}).get('value', \"\")\n",
    "\n",
    "#extract the description of the entity or the property value in native language\n",
    "def extractDescriptionBaseline(info):\n",
    "    return info.get('descriptions', {}).get('hi', {}).get('value', \"\")\n",
    "    \n",
    "def baseline_infobox(wd, bio):\n",
    "    result = {}\n",
    "    #get entity from api\n",
    "    entity_info = getEntityInfo(wd)\n",
    "    #print name and description\n",
    "    result['name'] = extractNameBaseline(entity_info)\n",
    "    result['description'] = extractDescriptionBaseline(entity_info)\n",
    "    #explicitly query using sparql to get main biography data\n",
    "    for entity, wdt in bio.items():\n",
    "        spqrqlq = f\"SELECT ?entity ?entityLabel ?entityDescription WHERE {{ wd:{wd} wdt:{wdt} ?entity; SERVICE wikibase:label {{ bd:serviceParam wikibase:language \\\"hi\\\". }} }}\"\n",
    "        v = \"\"\n",
    "        res = get_results(endpoint_url, str(spqrqlq))\n",
    "        for entities in res['results']['bindings']:\n",
    "            value = entities.get('entityLabel').get('value', \"\")\n",
    "            if value != '' and 'Q' not in value:\n",
    "                v += value + ','\n",
    "        if v != \"\":\n",
    "            result[entity] = v\n",
    "    return result"
   ]
  },
  {
   "cell_type": "code",
   "execution_count": null,
   "metadata": {},
   "outputs": [],
   "source": [
    "with open('../data-collection/places/final_places.json') as f:\n",
    "    data = json.loads(f.read())['data']\n",
    "for ind , val in enumerate(data):\n",
    "    val['index'] = ind"
   ]
  },
  {
   "cell_type": "code",
   "execution_count": null,
   "metadata": {},
   "outputs": [],
   "source": [
    "%timeit\n",
    "for entry in data[:1800]:\n",
    "    try :\n",
    "        print(entry['wd_id'] , entry['en_wikipedia_title'])\n",
    "        method1 = method1_infobox(entry['wd_id'], properties)\n",
    "        method2 = method2_infobox(entry['en_wikipedia_title'])\n",
    "        baseline = baseline_infobox(entry['wd_id'],properties)\n",
    "        output = {\n",
    "            \"method_1\" : method1,\n",
    "            \"method_2\" : method2,\n",
    "            \"baseline\" : baseline\n",
    "        }\n",
    "        with open('places_till_1800.jsonl' , 'a+') as f:\n",
    "            f.write(json.dumps({entry['index'] : output} , ensure_ascii = False))\n",
    "            f.write(\"\\n\")\n",
    "    except Exception as e:\n",
    "        print(e)        "
   ]
  }
 ],
 "metadata": {
  "kernelspec": {
   "display_name": "Python 3",
   "language": "python",
   "name": "python3"
  },
  "language_info": {
   "codemirror_mode": {
    "name": "ipython",
    "version": 3
   },
   "file_extension": ".py",
   "mimetype": "text/x-python",
   "name": "python",
   "nbconvert_exporter": "python",
   "pygments_lexer": "ipython3",
   "version": "3.8.2"
  }
 },
 "nbformat": 4,
 "nbformat_minor": 4
}
