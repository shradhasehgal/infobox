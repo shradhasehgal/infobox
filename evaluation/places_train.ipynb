{
 "cells": [
  {
   "cell_type": "code",
   "execution_count": null,
   "metadata": {},
   "outputs": [],
   "source": [
    "import sys\n",
    "from qwikidata.sparql import return_sparql_query_results\n",
    "from qwikidata.entity import WikidataItem, WikidataLexeme, WikidataProperty\n",
    "from qwikidata.linked_data_interface import get_entity_dict_from_api\n",
    "from SPARQLWrapper import SPARQLWrapper, JSON\n",
    "import json\n",
    "from tqdm import tqdm\n",
    "import re\n",
    "import requests as r\n",
    "import pandas as pd\n",
    "from collections import defaultdict\n",
    "from libindic import inexactsearch\n",
    "import pandas as pd\n",
    "import pickle as pkl\n",
    "import wptools\n",
    "sys.path.append('..')\n",
    "from method2.Places_translator import Places_translator\n",
    "translator = Places_translator()\n",
    "from method1.utils import *\n",
    "from baseline.baseline import baseline_infobox\n",
    "from method1.get_infobox import method1_infobox"
   ]
  },
  {
   "cell_type": "code",
   "execution_count": null,
   "metadata": {},
   "outputs": [],
   "source": [
    "with open('../data-collection/places/final_places.json') as f:\n",
    "    data = json.loads(f.read())['data']\n",
    "for ind , val in enumerate(data):\n",
    "    val['index'] = ind"
   ]
  },
  {
   "cell_type": "code",
   "execution_count": null,
   "metadata": {},
   "outputs": [],
   "source": [
    "%timeit\n",
    "for entry in data[:1800]:\n",
    "    try :\n",
    "        print(entry['wd_id'] , entry['en_wikipedia_title'])\n",
    "        baseline = baseline_infobox(entry['wd_id'] ,category='places')\n",
    "        method2 = translator.get_infobox(entry['en_wikipedia_title'] , test=True)\n",
    "        method1 = method1_infobox(entry['wd_id'],'people')\n",
    "        output = {\n",
    "            \"method_1\" : method1,\n",
    "            \"method_2\" : method2,\n",
    "            \"baseline\" : baseline\n",
    "        }\n",
    "        with open('places_till_1800.jsonl' , 'a+') as f:\n",
    "            f.write(json.dumps({entry['index'] : output} , ensure_ascii = False))\n",
    "            f.write(\"\\n\")\n",
    "    except Exception as e:\n",
    "        print(e)        "
   ]
  }
 ],
 "metadata": {
  "kernelspec": {
   "display_name": "Python 3",
   "language": "python",
   "name": "python3"
  },
  "language_info": {
   "codemirror_mode": {
    "name": "ipython",
    "version": 3
   },
   "file_extension": ".py",
   "mimetype": "text/x-python",
   "name": "python",
   "nbconvert_exporter": "python",
   "pygments_lexer": "ipython3",
   "version": "3.8.2"
  }
 },
 "nbformat": 4,
 "nbformat_minor": 4
}
