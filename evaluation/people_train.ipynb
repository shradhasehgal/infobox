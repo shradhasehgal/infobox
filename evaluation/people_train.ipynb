{
 "cells": [
  {
   "cell_type": "code",
   "execution_count": 1,
   "metadata": {},
   "outputs": [],
   "source": [
    "import sys\n",
    "from qwikidata.sparql import return_sparql_query_results\n",
    "from qwikidata.entity import WikidataItem, WikidataLexeme, WikidataProperty\n",
    "from qwikidata.linked_data_interface import get_entity_dict_from_api\n",
    "from SPARQLWrapper import SPARQLWrapper, JSON\n",
    "import json\n",
    "from tqdm import tqdm\n",
    "import re\n",
    "import requests as r\n",
    "import pandas as pd\n",
    "from collections import defaultdict\n",
    "from libindic import inexactsearch\n",
    "import pandas as pd\n",
    "import pickle as pkl\n",
    "import wptools\n",
    "sys.path.append('..')\n",
    "from method2.People_translator import People_translator\n",
    "translator = People_translator()\n",
    "from method1.utils import *\n",
    "from baseline.baseline import baseline_infobox\n",
    "from method1.get_infobox import method1_infobox"
   ]
  },
  {
   "cell_type": "code",
   "execution_count": 2,
   "metadata": {},
   "outputs": [],
   "source": [
    "with open('../data-collection/persons/primary_dataset_new_withlinks.json') as f:\n",
    "    data = json.loads(f.read())\n",
    "for ind , val in enumerate(data):\n",
    "    val['index'] = ind"
   ]
  },
  {
   "cell_type": "code",
   "execution_count": 4,
   "metadata": {},
   "outputs": [
    {
     "name": "stdout",
     "output_type": "stream",
     "text": [
      "Q555240 Shane Warne\n"
     ]
    },
    {
     "name": "stderr",
     "output_type": "stream",
     "text": [
      "en.wikipedia.org (parse) Shane Warne\n",
      "en.wikipedia.org (imageinfo) File:Shane Warne February 2015.jpg\n",
      "Shane Warne (en) data\n",
      "{\n",
      "  image: <list(1)> {'kind': 'parse-image', 'file': 'File:Shane War...\n",
      "  infobox: <dict(97)> name, image, caption, country, fullname, nic...\n",
      "  iwlinks: <list(2)> https://commons.wikimedia.org/wiki/Category:S...\n",
      "  pageid: 22590160\n",
      "  parsetree: <str(118605)> <root><template><title>pp-pc1</title></...\n",
      "  requests: <list(2)> parse, imageinfo\n",
      "  title: Shane Warne\n",
      "  wikibase: Q555240\n",
      "  wikidata_url: https://www.wikidata.org/wiki/Q555240\n",
      "  wikitext: <str(94508)> {{pp-pc1}}{{Short description|Australian ...\n",
      "}\n"
     ]
    }
   ],
   "source": [
    "%timeit\n",
    "for entry in data:\n",
    "    try :\n",
    "        print(entry['wd_id'] , entry['en_wikipedia_title'])\n",
    "        baseline = baseline_infobox(entry['wd_id'] ,category='people')\n",
    "        method2 = translator.get_infobox(entry['en_wikipedia_title'] , test=True)\n",
    "        method1 = method1_infobox(entry['wd_id'],'people')\n",
    "        output = {\n",
    "            \"method_1\" : method1,\n",
    "            \"method_2\" : method2,\n",
    "            \"baseline\" : baseline\n",
    "        }\n",
    "        with open('people_output.jsonl' , 'a+') as f:\n",
    "            f.write(json.dumps({entry['index'] : output} , ensure_ascii = False))\n",
    "            f.write(\"\\n\")\n",
    "    except Exception as e:\n",
    "        print(e)\n",
    "        "
   ]
  }
 ],
 "metadata": {
  "kernelspec": {
   "display_name": "Python 3",
   "language": "python",
   "name": "python3"
  },
  "language_info": {
   "codemirror_mode": {
    "name": "ipython",
    "version": 3
   },
   "file_extension": ".py",
   "mimetype": "text/x-python",
   "name": "python",
   "nbconvert_exporter": "python",
   "pygments_lexer": "ipython3",
   "version": "3.8.2"
  }
 },
 "nbformat": 4,
 "nbformat_minor": 4
}
