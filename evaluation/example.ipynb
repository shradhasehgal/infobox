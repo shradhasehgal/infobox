{
 "cells": [
  {
   "cell_type": "code",
   "execution_count": 13,
   "metadata": {},
   "outputs": [],
   "source": [
    "import sys\n",
    "from qwikidata.sparql import return_sparql_query_results\n",
    "from qwikidata.entity import WikidataItem, WikidataLexeme, WikidataProperty\n",
    "from qwikidata.linked_data_interface import get_entity_dict_from_api\n",
    "from SPARQLWrapper import SPARQLWrapper, JSON\n",
    "import json\n",
    "from tqdm import tqdm\n",
    "import re\n",
    "import requests as r\n",
    "import wptools\n",
    "import pandas as pd\n",
    "from collections import defaultdict\n",
    "from libindic import inexactsearch\n",
    "sys.path.append('../method2')\n",
    "from People_translator import Translation_Api\n",
    "translator = Translation_Api()"
   ]
  },
  {
   "cell_type": "markdown",
   "metadata": {},
   "source": [
    "## Method 1 / Baseline"
   ]
  },
  {
   "cell_type": "code",
   "execution_count": 19,
   "metadata": {},
   "outputs": [],
   "source": [
    "biography = {\n",
    "    \n",
    "    \"name\": \"P251\",\n",
    "    \"image\": \"P18\",\n",
    "    \"gender\":\"P21\",\n",
    "    \"residence\":\"P551\",\n",
    "    \"place_of_birth\":\"P19\",\n",
    "    \"date_of_birth\":\"P569\",\n",
    "    \"profession\": \"P106\",\n",
    "    \"notable_works\": \"P800\",\n",
    "    \"education\": \"P69\",\n",
    "    \"positions\":\"P39\",\n",
    "    \"awards\": \"P166\",\n",
    "    \"spouse\": \"P26\",\n",
    "    \"nationality\": \"P27\",\n",
    "}\n",
    "\n",
    "to_transliteration = ['motto']\n",
    "\n",
    "def get_results(endpoint_url, query):\n",
    "    user_agent = \"WDQS-example Python/%s.%s\" % (sys.version_info[0], sys.version_info[1])\n",
    "    sparql = SPARQLWrapper(endpoint_url, agent=user_agent)\n",
    "    sparql.setQuery(query)\n",
    "    sparql.setReturnFormat(JSON)\n",
    "    return sparql.query().convert()\n",
    "\n",
    "endpoint_url = \"https://query.wikidata.org/sparql\"\n",
    "\n",
    "def getEntityInfo(eid):\n",
    "    return get_entity_dict_from_api(eid)\n",
    "\n",
    "#extract the name of the entity or the property value in native language\n",
    "def extractName(info):\n",
    "    return info.get('labels', {}).get('en', {}).get('value', \"\")\n",
    "\n",
    "#extract the description of the entity or the property value in native language\n",
    "def extractDescription(info):\n",
    "    return info.get('descriptions', {}).get('en', {}).get('value', \"\")\n",
    "    \n",
    "def baseline_infobox(wd, bio):\n",
    "    result = {}\n",
    "    #get entity from api\n",
    "    entity_info = getEntityInfo(wd)\n",
    "    result['name'] = translator.get_transliteration(extractName(entity_info))\n",
    "    result['description'] = translator.get_translation(extractDescription(entity_info))\n",
    "    #explicitly query using sparql to get main biography data\n",
    "    for entity, wdt in bio.items():\n",
    "        spqrqlq = f\"SELECT ?entity ?entityLabel ?entityDescription WHERE {{ wd:{wd} wdt:{wdt} ?entity; SERVICE wikibase:label {{ bd:serviceParam wikibase:language \\\"en\\\". }} }}\"\n",
    "        v =  \"\"\n",
    "        res = get_results(endpoint_url, str(spqrqlq))\n",
    "        for entities in res['results']['bindings']:\n",
    "            value = entities.get('entityLabel').get('value', \"\")\n",
    "            if value != '' and 'Q' not in value:\n",
    "                v += value + ','\n",
    "        if v != \"\":\n",
    "            if entity in to_transliteration:\n",
    "                result[entity] = translator.get_transliteration(v)\n",
    "            else:\n",
    "                result[entity] = translator.get_translation(v)\n",
    "    return result\n",
    "\n",
    "def getEntityInfo(eid):\n",
    "    return get_entity_dict_from_api(eid)\n",
    "\n",
    "#extract the name of the entity or the property value in native language\n",
    "def extractNameBaseline(info):\n",
    "    return info.get('labels', {}).get('hi', {}).get('value', \"\")\n",
    "\n",
    "#extract the description of the entity or the property value in native language\n",
    "def extractDescriptionBaseline(info):\n",
    "    return info.get('descriptions', {}).get('hi', {}).get('value', \"\")\n",
    "\n",
    "#print the name and the description\n",
    "def printNameAndDescriptionBaseline(info, trans):\n",
    "    name = extractName(info)\n",
    "    if name != \"\":\n",
    "        print(trans['name'] + \":\", name)\n",
    "    desc = extractDescription(info)\n",
    "    if desc != \"\":\n",
    "        print(trans['description'] + \":\", desc)\n",
    "    \n",
    "def method1_infobox(wd, bio):\n",
    "    result = {}\n",
    "    #get entity from api\n",
    "    entity_info = getEntityInfo(wd)\n",
    "    #print name and description\n",
    "#     printNameAndDescription(entity_info, trans)\n",
    "    result['name'] = extractNameBaseline(entity_info)\n",
    "    result['description'] = extractDescriptionBaseline(entity_info)\n",
    "    #explicitly query using sparql to get main biography data\n",
    "#     print(\"----------------------\",trans['main_info'],\"----------------------\")\n",
    "    for entity, wdt in bio.items():\n",
    "        spqrqlq = f\"SELECT ?entity ?entityLabel ?entityDescription WHERE {{ wd:{wd} wdt:{wdt} ?entity; SERVICE wikibase:label {{ bd:serviceParam wikibase:language \\\"hi\\\". }} }}\"\n",
    "        v = \"\"\n",
    "        res = get_results(endpoint_url, str(spqrqlq))\n",
    "        for entities in res['results']['bindings']:\n",
    "            value = entities.get('entityLabel').get('value', \"\")\n",
    "            if value != '' and 'Q' not in value:\n",
    "                v += value + ','\n",
    "        if v != \"\":\n",
    "            result[entity] = v\n",
    "        \n",
    "    return result"
   ]
  },
  {
   "cell_type": "markdown",
   "metadata": {},
   "source": [
    "## Method 2"
   ]
  },
  {
   "cell_type": "code",
   "execution_count": 20,
   "metadata": {},
   "outputs": [],
   "source": [
    "def update(infobox , translator):\n",
    "    infobox = defaultdict(str , infobox)\n",
    "    updated_infobox = {}\n",
    "    updated_infobox['name'] = translator.get_transliteration(infobox['name'])\n",
    "    updated_infobox['native_name'] = infobox['native_name']\n",
    "    updated_infobox['category'] = translator.get_translation(infobox['settlement_type'])\n",
    "    \n",
    "    updated_infobox['image'] = infobox['image_skyline']\n",
    "    if updated_infobox['image'] == '' : \n",
    "        updated_infobox['image'] = infobox['image']\n",
    "    updated_infobox['image_caption'] = translator.get_translation(infobox['image_caption'])\n",
    "    updated_infobox['flag'] = infobox['flag']\n",
    "    updated_infobox['map'] = infobox['map']\n",
    "    updated_infobox['map_caption'] = translator.get_translation(infobox['map_caption'])\n",
    "    updated_infobox['motto'] = translator.get_transliteration(infobox['motto'])\n",
    "    updated_infobox['timezone'] = infobox['timezone']\n",
    "    \n",
    "    updated_infobox['country'] = translator.get_translation(infobox['country'])\n",
    "    updated_infobox['state'] = translator.get_translation(infobox['state'])\n",
    "    updated_infobox['region'] = translator.get_translation(infobox['region'])\n",
    "    updated_infobox['district'] = translator.get_translation(infobox['district'])\n",
    "    updated_infobox['municipality'] = translator.get_translation(infobox['municipality'])\n",
    "    updated_infobox['location'] = translator.get_translation(infobox['location'])\n",
    "    updated_infobox['area'] = infobox['area_km2']\n",
    "    updated_infobox['length'] = infobox['length_km']\n",
    "    updated_infobox['width'] = infobox['width_km']\n",
    "    \n",
    "    updated_infobox['population'] = translator.get_translation(infobox['population'])\n",
    "    updated_infobox['elevation'] = infobox['elevation_m']\n",
    "    \n",
    "    updated_infobox['animal'] = translator.get_translation(infobox['animal'])\n",
    "    updated_infobox['plant'] = translator.get_translation(infobox['plant'])\n",
    "    updated_infobox['geology'] = translator.get_translation(infobox['geology'])\n",
    "    updated_infobox = { key : val for key , val in updated_infobox.items() if val!=''}\n",
    "    cur_len = len(updated_infobox)\n",
    "    if len(updated_infobox) < 15:\n",
    "        for key , val in infobox.items():\n",
    "            if key in updated_infobox : continue\n",
    "            updated_infobox[key] = translator.get_transliteration(val)\n",
    "            if len(updated_infobox) == 15: break\n",
    "    updated_infobox = { key : val for key , val in updated_infobox.items() if val!=''}\n",
    "    return updated_infobox\n",
    "\n",
    "def method2_infobox(name):\n",
    "    page = wptools.page(name).get_parse()\n",
    "    result = update(page.data['infobox'] , translator)\n",
    "    return result"
   ]
  },
  {
   "cell_type": "code",
   "execution_count": 21,
   "metadata": {},
   "outputs": [],
   "source": [
    "def change_format(infobox):\n",
    "    infobox = [ (\"|\" + key + \" = \" +  val) for key , val in infobox.items()]\n",
    "    print(\"{{Infobox person\")\n",
    "    print(\"\\n\".join(infobox))\n",
    "    print(\"}}\")"
   ]
  },
  {
   "cell_type": "code",
   "execution_count": 11,
   "metadata": {},
   "outputs": [],
   "source": [
    "m1_infobox = method1_infobox(\"Q213854\" , biography)"
   ]
  },
  {
   "cell_type": "code",
   "execution_count": 14,
   "metadata": {},
   "outputs": [
    {
     "name": "stderr",
     "output_type": "stream",
     "text": [
      "en.wikipedia.org (parse) Virat Kohli\n",
      "en.wikipedia.org (imageinfo) File:The President, Shri Pranab Mukh...\n",
      "Virat Kohli (en) data\n",
      "{\n",
      "  image: <list(1)> {'kind': 'parse-image', 'file': 'File:The Presi...\n",
      "  infobox: <dict(97)> name, image, caption, birth_date, birth_plac...\n",
      "  iwlinks: <list(2)> https://commons.wikimedia.org/wiki/Category:V...\n",
      "  pageid: 16017429\n",
      "  parsetree: <str(264279)> <root><template><title>short descriptio...\n",
      "  requests: <list(2)> parse, imageinfo\n",
      "  title: Virat Kohli\n",
      "  wikibase: Q213854\n",
      "  wikidata_url: https://www.wikidata.org/wiki/Q213854\n",
      "  wikitext: <str(222289)> {{short description|Indian international...\n",
      "}\n"
     ]
    }
   ],
   "source": [
    "m2_infobox = method2_infobox(\"Virat Kohli\")"
   ]
  },
  {
   "cell_type": "code",
   "execution_count": 15,
   "metadata": {},
   "outputs": [],
   "source": [
    "baseline_infobox = baseline_infobox(\"Q213854\" , biography)"
   ]
  },
  {
   "cell_type": "markdown",
   "metadata": {},
   "source": [
    "### Method 1 Infobox"
   ]
  },
  {
   "cell_type": "code",
   "execution_count": 16,
   "metadata": {},
   "outputs": [
    {
     "name": "stdout",
     "output_type": "stream",
     "text": [
      "{{Infobox person\n",
      "|name = विराट कोहली\n",
      "|description = भारतीय क्रिकेट कप्तान\n",
      "|image = http://commons.wikimedia.org/wiki/Special:FilePath/Virat%20Kohli%20in%20New%20Delhi%20on%20December%202018.jpg,http://commons.wikimedia.org/wiki/Special:FilePath/Virat%20Kohli%20portrait.jpg,http://commons.wikimedia.org/wiki/Special:FilePath/The%20President%2C%20Shri%20Pranab%20Mukherjee%20presenting%20the%20Padma%20Shri%20Award%20to%20Shri%20Virat%20Kohli%2C%20at%20a%20Civil%20Investiture%20Ceremony%2C%20at%20Rashtrapati%20Bhavan%2C%20in%20New%20Delhi%20on%20March%2030%2C%202017%20%28cropped%29.jpg,\n",
      "|gender = पुरुष,\n",
      "|place_of_birth = दिल्ली,\n",
      "|date_of_birth = 1988-11-05T00:00:00Z,\n",
      "|profession = क्रिकेटर,\n",
      "|awards = अर्जुन पुरस्कार,राजीव गांधी खेल रत्न,\n",
      "|spouse = अनुष्का शर्मा,\n",
      "|nationality = भारत,\n",
      "}}\n"
     ]
    }
   ],
   "source": [
    "change_format(m1_infobox)"
   ]
  },
  {
   "cell_type": "markdown",
   "metadata": {},
   "source": [
    "### Method 2 Infobox"
   ]
  },
  {
   "cell_type": "code",
   "execution_count": 17,
   "metadata": {},
   "outputs": [
    {
     "name": "stdout",
     "output_type": "stream",
     "text": [
      "{{Infobox person\n",
      "|name = विराट कोहली\n",
      "|image = The President, Shri Pranab Mukherjee presenting the Padma Shri Award to Shri Virat Kohli, at a Civil Investiture Ceremony, at Rashtrapati Bhavan, in New Delhi on March 30, 2017 (cropped).jpg\n",
      "|country = भारत\n",
      "|caption = कोहली इन 2017\n",
      "|birth_date = {{birth date and age|1988|11|5|df|=|y}}\n",
      "|birth_place = [[न्यू डेल्ही]], इंडिया\n",
      "|nickname = चीकू ऑर चीकू\n",
      "|family = {{marriage|[[Anushka Sharma]] (wife)|2017}}\n",
      "|height = 1.75 म\n",
      "|batting = राइट-हैंडेड\n",
      "|bowling = राइट-अर्म [[फास्ट बॉलिंग|मीडियम]]\n",
      "|role = [[बैटिंग ऑडर (क्रिकेट)#टॉप ऑडर|टॉप-ऑडर बैटसमैन]]\n",
      "|international = ट्रू\n",
      "|internationalspan = 2008–प्रेज़ेंट\n",
      "|testdebutdate = 20 जून\n",
      "}}\n"
     ]
    }
   ],
   "source": [
    "change_format(m2_infobox)"
   ]
  },
  {
   "cell_type": "markdown",
   "metadata": {},
   "source": [
    "### Baseline Infobox"
   ]
  },
  {
   "cell_type": "code",
   "execution_count": 18,
   "metadata": {},
   "outputs": [
    {
     "name": "stdout",
     "output_type": "stream",
     "text": [
      "{{Infobox person\n",
      "|name = विराट कोहली\n",
      "|description = भारतीय क्रिकेट खिलाड़ी\n",
      "|image = http://commons.wikimedia.org/wiki/Special:FilePath/Virat%20Kohli%20in%20New%20Delhi%20on%20December%202018.jpg,http://commons.wikimedia.org/wiki/Special:FilePath/Virat%20Kohli%20portrait.jpg,http://commons.wikimedia.org/wiki/Special:FilePath/The%20President%2C%20Shri%20Pranab%20Mukherjee%20presenting%20the%20Padma%20Shri%20Award%20to%20Shri%20Virat%20Kohli%2C%20at%20a%20Civil%20Investiture%20Ceremony%2C%20at%20Rashtrapati%20Bhavan%2C%20in%20New%20Delhi%20on%20March%2030%2C%202017%20%28cropped%29.jpg,\n",
      "|gender = पुरुष\n",
      "|place_of_birth = दिल्ली\n",
      "|date_of_birth = 1988-11-05T00:00:00Z,\n",
      "|profession = क्रिकेट खिलाड़ी\n",
      "|awards = अर्जुन पुरस्कार,राजीव गांधी खेल रत्न, खेल में पद्मश्री\n",
      "|spouse = अनुष्का शर्मा,\n",
      "|nationality = भारत\n",
      "}}\n"
     ]
    }
   ],
   "source": [
    "change_format(baseline_infobox)"
   ]
  }
 ],
 "metadata": {
  "kernelspec": {
   "display_name": "Python 3",
   "language": "python",
   "name": "python3"
  },
  "language_info": {
   "codemirror_mode": {
    "name": "ipython",
    "version": 3
   },
   "file_extension": ".py",
   "mimetype": "text/x-python",
   "name": "python",
   "nbconvert_exporter": "python",
   "pygments_lexer": "ipython3",
   "version": "3.8.2"
  }
 },
 "nbformat": 4,
 "nbformat_minor": 4
}
