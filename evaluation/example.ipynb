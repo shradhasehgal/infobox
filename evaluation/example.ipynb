{
 "cells": [
  {
   "cell_type": "code",
   "execution_count": 1,
   "metadata": {},
   "outputs": [],
   "source": [
    "import sys\n",
    "from qwikidata.sparql import return_sparql_query_results\n",
    "from qwikidata.entity import WikidataItem, WikidataLexeme, WikidataProperty\n",
    "from qwikidata.linked_data_interface import get_entity_dict_from_api\n",
    "from SPARQLWrapper import SPARQLWrapper, JSON\n",
    "import json\n",
    "from tqdm import tqdm\n",
    "import re\n",
    "import requests as r\n",
    "import pandas as pd\n",
    "from collections import defaultdict\n",
    "# from libindic import inexactsearch\n",
    "import pandas as pd\n",
    "import pickle as pkl\n",
    "import wptools\n",
    "sys.path.append('..')\n",
    "from method2.People_translator import People_translator\n",
    "translator = People_translator()\n",
    "from method1.utils import *\n",
    "from baseline.baseline import baseline_infobox\n",
    "from method1.get_infobox import method1_infobox"
   ]
  },
  {
   "cell_type": "markdown",
   "metadata": {},
   "source": [
    "Syntax\n",
    "For method1 -> method1_infobox(qid , category)\n",
    "    qid - Qid of the wikidata item\n",
    "    category - 'people'/'places'\n",
    "\n",
    "For method2 -> translator.get_infobox(Name , test)\n",
    "    translator - instancse of People_Translator / Places_Translator\n",
    "    Name       - Name of the page in the English Wikipedia\n",
    "    test       - True / False ( default = False ) to not pretty print the generated infobox\n",
    "    \n",
    "For baseline -> baseline_infobox(qid , category)\n",
    "    qid - Qid of the wikidata item\n",
    "    category - 'people'/'places'"
   ]
  },
  {
   "cell_type": "code",
   "execution_count": 2,
   "metadata": {},
   "outputs": [],
   "source": [
    "def people_format(infobox):\n",
    "    infobox = [ (\"|\" + key + \" = \" +  val) for key , val in infobox.items()]\n",
    "    print(\"{{Infobox person\")\n",
    "    print(\"\\n\".join(infobox))\n",
    "    print(\"}}\")\n",
    "    \n",
    "def place_format(infobox):\n",
    "    infobox = [ (\"|\" + key + \" = \" +  val) for key , val in infobox.items()]\n",
    "    print(\"{{Infobox place\")\n",
    "    print(\"\\n\".join(infobox))\n",
    "    print(\"}}\")"
   ]
  },
  {
   "cell_type": "code",
   "execution_count": 3,
   "metadata": {},
   "outputs": [],
   "source": [
    "m1_infobox = method1_infobox(\"Q213854\" , 'people')"
   ]
  },
  {
   "cell_type": "code",
   "execution_count": 4,
   "metadata": {},
   "outputs": [
    {
     "name": "stderr",
     "output_type": "stream",
     "text": [
      "en.wikipedia.org (parse) Virat Kohli\n",
      "en.wikipedia.org (imageinfo) File:The President, Shri Pranab Mukh...\n",
      "Virat Kohli (en) data\n",
      "{\n",
      "  image: <list(1)> {'kind': 'parse-image', 'file': 'File:The Presi...\n",
      "  infobox: <dict(97)> name, image, caption, birth_date, birth_plac...\n",
      "  iwlinks: <list(2)> https://commons.wikimedia.org/wiki/Category:V...\n",
      "  pageid: 16017429\n",
      "  parsetree: <str(264279)> <root><template><title>short descriptio...\n",
      "  requests: <list(2)> parse, imageinfo\n",
      "  title: Virat Kohli\n",
      "  wikibase: Q213854\n",
      "  wikidata_url: https://www.wikidata.org/wiki/Q213854\n",
      "  wikitext: <str(222289)> {{short description|Indian international...\n",
      "}\n"
     ]
    }
   ],
   "source": [
    "m2_infobox = translator.get_infobox(\"Virat Kohli\" , test=True)"
   ]
  },
  {
   "cell_type": "code",
   "execution_count": 5,
   "metadata": {},
   "outputs": [],
   "source": [
    "b_infobox = baseline_infobox(\"Q213854\",category='people')"
   ]
  },
  {
   "cell_type": "markdown",
   "metadata": {},
   "source": [
    "### Method 1 Infobox"
   ]
  },
  {
   "cell_type": "code",
   "execution_count": 6,
   "metadata": {},
   "outputs": [
    {
     "name": "stdout",
     "output_type": "stream",
     "text": [
      "{{Infobox person\n",
      "|name = विराट कोहली\n",
      "|image = http://commons.wikimedia.org/wiki/Special:FilePath/Virat%20Kohli%20in%20New%20Delhi%20on%20December%202018.jpghttp://commons.wikimedia.org/wiki/Special:FilePath/Virat%20Kohli%20portrait.jpghttp://commons.wikimedia.org/wiki/Special:FilePath/The%20President%2C%20Shri%20Pranab%20Mukherjee%20presenting%20the%20Padma%20Shri%20Award%20to%20Shri%20Virat%20Kohli%2C%20at%20a%20Civil%20Investiture%20Ceremony%2C%20at%20Rashtrapati%20Bhavan%2C%20in%20New%20Delhi%20on%20March%2030%2C%202017%20%28cropped%29.jpg\n",
      "|gender = पुरुष\n",
      "|place_of_birth = दिल्ली\n",
      "|date_of_birth = 1988-11-05T00:00:00Z\n",
      "|profession = क्रिकेटर\n",
      "|awards = अर्जुन पुरस्कारराजीव गांधी खेल रत्न\n",
      "|spouse = अनुष्का शर्मा\n",
      "|nationality = भारत\n",
      "}}\n"
     ]
    }
   ],
   "source": [
    "people_format(m1_infobox)"
   ]
  },
  {
   "cell_type": "markdown",
   "metadata": {},
   "source": [
    "### Method 2 Infobox"
   ]
  },
  {
   "cell_type": "code",
   "execution_count": 7,
   "metadata": {},
   "outputs": [
    {
     "name": "stdout",
     "output_type": "stream",
     "text": [
      "{{Infobox person\n",
      "|name = विराट कोहली\n",
      "|image = The President, Shri Pranab Mukherjee presenting the Padma Shri Award to Shri Virat Kohli, at a Civil Investiture Ceremony, at Rashtrapati Bhavan, in New Delhi on March 30, 2017 (cropped).jpg\n",
      "|caption = 2017 में कोहली\n",
      "|nickname = चीकू ऑर चीकू\n",
      "|birth_date = {{birth date and age|1988|11|5|df=|y}}\n",
      "|birth_place = [[नई दिल्ली]], भारत\n",
      "|country = भारत\n",
      "|family = {{marriage|[[Anushka Sharma]] (wife)|2017}}\n",
      "|height = 1.75 म\n",
      "|batting = राइट-हैंडेड\n",
      "|bowling = राइट-अर्म [[फास्ट बॉलिंग|मीडियम]]\n",
      "|role = [[बैटिंग ऑडर (क्रिकेट)#टॉप ऑडर|टॉप-ऑडर बैटसमैन]]\n",
      "|international = ट्रू\n",
      "|internationalspan = 2008–प्रेज़ेंट\n",
      "|testdebutdate = 20 जून\n",
      "}}\n"
     ]
    }
   ],
   "source": [
    "people_format(m2_infobox)"
   ]
  },
  {
   "cell_type": "markdown",
   "metadata": {},
   "source": [
    "### Baseline Infobox"
   ]
  },
  {
   "cell_type": "code",
   "execution_count": 8,
   "metadata": {},
   "outputs": [
    {
     "name": "stdout",
     "output_type": "stream",
     "text": [
      "{{Infobox person\n",
      "|name = विराट कोहली\n",
      "|description = भारतीय क्रिकेट कप्तान\n",
      "|image = http://commons.wikimedia.org/wiki/Special:FilePath/Virat%20Kohli%20in%20New%20Delhi%20on%20December%202018.jpg,http://commons.wikimedia.org/wiki/Special:FilePath/Virat%20Kohli%20portrait.jpg,http://commons.wikimedia.org/wiki/Special:FilePath/The%20President%2C%20Shri%20Pranab%20Mukherjee%20presenting%20the%20Padma%20Shri%20Award%20to%20Shri%20Virat%20Kohli%2C%20at%20a%20Civil%20Investiture%20Ceremony%2C%20at%20Rashtrapati%20Bhavan%2C%20in%20New%20Delhi%20on%20March%2030%2C%202017%20%28cropped%29.jpg,\n",
      "|gender = पुरुष\n",
      "|birth_place = डेल्ही,\n",
      "|birth_date = 1988-11-05T00:00:00Z,\n",
      "|profession = क्रिकेट खिलाड़ी\n",
      "|awards = अर्जुन पुरस्कार,राजीव गांधी खेल रत्न, खेल में पद्मश्री\n",
      "|spouse = अनुष्का शर्मा,\n",
      "|nationality = भारत\n",
      "}}\n"
     ]
    }
   ],
   "source": [
    "people_format(b_infobox)"
   ]
  },
  {
   "cell_type": "code",
   "execution_count": 9,
   "metadata": {},
   "outputs": [],
   "source": [
    "from method2.Places_translator import Places_translator\n",
    "translator = Places_translator()"
   ]
  },
  {
   "cell_type": "code",
   "execution_count": 10,
   "metadata": {},
   "outputs": [
    {
     "name": "stderr",
     "output_type": "stream",
     "text": [
      "en.wikipedia.org (parse) Delhi\n",
      "Delhi (en) data\n",
      "{\n",
      "  infobox: <dict(81)> name, official_name, image_blank_emblem, bla...\n",
      "  iwlinks: <list(9)> https://commons.wikimedia.org/wiki/Delhi_-_%E...\n",
      "  pageid: 37756\n",
      "  parsetree: <str(263292)> <root><template><title>short descriptio...\n",
      "  requests: <list(1)> parse\n",
      "  title: Delhi\n",
      "  wikibase: Q1353\n",
      "  wikidata_url: https://www.wikidata.org/wiki/Q1353\n",
      "  wikitext: <str(201851)> {{short description|Megacity and union t...\n",
      "}\n"
     ]
    }
   ],
   "source": [
    "m1_infobox = method1_infobox(\"Q1353\" , category='places')\n",
    "m2_infobox = translator.get_infobox(\"Delhi\" , test=True)\n",
    "b_infobox = baseline_infobox(\"Q1353\" , category = 'places')"
   ]
  },
  {
   "cell_type": "code",
   "execution_count": 11,
   "metadata": {},
   "outputs": [
    {
     "name": "stdout",
     "output_type": "stream",
     "text": [
      "{{Infobox place\n",
      "|name = दिल्ली\n",
      "|image = http://commons.wikimedia.org/wiki/Special:FilePath/Edificios%20ministeriales%20Delhi.JPG\n",
      "|map = http://commons.wikimedia.org/wiki/Special:FilePath/National%20Capital%20Territory%20of%20Delhi%20in%20India%20%28special%20marker%29%20%28claimed%20and%20disputed%20hatched%29.svg\n",
      "|country = भारत\n",
      "|area / area_km2 = 1484\n",
      "|population = 26495000\n",
      "|elevation / elevation_m = 200\n",
      "}}\n"
     ]
    }
   ],
   "source": [
    "place_format(m1_infobox)"
   ]
  },
  {
   "cell_type": "code",
   "execution_count": 12,
   "metadata": {},
   "outputs": [
    {
     "name": "stdout",
     "output_type": "stream",
     "text": [
      "{{Infobox place\n",
      "|name = डेल्ही\n",
      "|category = [[केंद्र शासित प्रदेश]] और [[मेगासिटी]]\n",
      "|image = Delhi Montage.jpg\n",
      "|image_caption = ऊपर से दक्षिणावर्त: [[कमल मंदिर]], [[हुमायूं का मकबरा]], [[कनॉट प्लेस, नई दिल्ली। कनॉट प्लेस]], [[अक्षरधाम (दिल्ली)। अक्षरधाम मंदिर]] और [[इंडिया गेट]]\n",
      "|map_caption = भारत में दिल्ली का स्थान\n",
      "|timezone = [[Indian Standard Time|IST]]\n",
      "|elevation = 200–250\n",
      "|official_name = नेशनल कैपिटल टेरिटरी ऑफ डेल्ही\n",
      "|image_blank_emblem = सील_ऑफ_दी_नेशनल_कैपिटल_टेरिटरी_ऑफ_डेल्ही.सवग\n",
      "|blank_emblem_type = एम्ब्लेम\n",
      "|settlement_type = [[यूनियन टेरिटरी]] अंड [[मेगासिटी]]\n",
      "|image_skyline = डेल्ही मोंटेज.जपग\n",
      "|image_size = 250\n",
      "|image_map = इन-डल.सवग\n",
      "|coordinates = {{coord|28|36|36|N|77|13|48|E|display|=|inline, title}}\n",
      "}}\n"
     ]
    }
   ],
   "source": [
    "place_format(m2_infobox)"
   ]
  },
  {
   "cell_type": "code",
   "execution_count": 13,
   "metadata": {},
   "outputs": [
    {
     "name": "stdout",
     "output_type": "stream",
     "text": [
      "{{Infobox place\n",
      "|name = दिल्ली\n",
      "|description = दिल्ली की राजधानी क्या है\n",
      "|image = http://commons.wikimedia.org/wiki/Special:FilePath/Edificios%20ministeriales%20Delhi.JPG,\n",
      "|map = http://commons.wikimedia.org/wiki/Special:FilePath/National%20Capital%20Territory%20of%20Delhi%20in%20India%20%28special%20marker%29%20%28claimed%20and%20disputed%20hatched%29.svg,\n",
      "|country = भारत\n",
      "|area / area_km2 = 1484,\n",
      "|population = 26495000,\n",
      "|elevation / elevation_m = 200,\n",
      "}}\n"
     ]
    }
   ],
   "source": [
    "place_format(b_infobox)"
   ]
  }
 ],
 "metadata": {
  "kernelspec": {
   "display_name": "Python 3",
   "language": "python",
   "name": "python3"
  },
  "language_info": {
   "codemirror_mode": {
    "name": "ipython",
    "version": 3
   },
   "file_extension": ".py",
   "mimetype": "text/x-python",
   "name": "python",
   "nbconvert_exporter": "python",
   "pygments_lexer": "ipython3",
   "version": "3.8.5"
  }
 },
 "nbformat": 4,
 "nbformat_minor": 4
}
