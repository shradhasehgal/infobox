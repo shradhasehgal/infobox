{
 "cells": [
  {
   "cell_type": "code",
   "execution_count": 1,
   "metadata": {},
   "outputs": [],
   "source": [
    "import sys\n",
    "from qwikidata.sparql import return_sparql_query_results\n",
    "from qwikidata.entity import WikidataItem, WikidataLexeme, WikidataProperty\n",
    "from qwikidata.linked_data_interface import get_entity_dict_from_api\n",
    "from SPARQLWrapper import SPARQLWrapper, JSON\n",
    "import json\n",
    "from tqdm import tqdm\n",
    "import re\n",
    "import requests as r\n",
    "import pandas as pd\n",
    "from collections import defaultdict\n",
    "from libindic import inexactsearch\n",
    "import pandas as pd\n",
    "import pickle as pkl\n",
    "import wptools\n",
    "sys.path.append('..')\n",
    "from method2.People_translator import People_translator\n",
    "translator = People_translator()\n",
    "from method1.utils import *\n",
    "from baseline.baseline import baseline_infobox\n",
    "from method1.get_infobox import method1_infobox"
   ]
  },
  {
   "cell_type": "code",
   "execution_count": 5,
   "metadata": {},
   "outputs": [],
   "source": [
    "with open('done.pkl' , 'rb') as f:\n",
    "    done_data = pkl.load(f)\n",
    "\n",
    "with open('../data-collection/hindi_person_data.jsonl') as f:\n",
    "    data = f.readlines()\n",
    "    data = [ json.loads(ent) for ent in data]\n",
    "wiki_people = []\n",
    "for entry in data:\n",
    "    try :\n",
    "        if entry['en_wikipedia_title'] in done_data: continue\n",
    "        wiki_people.append([entry['en_wikipedia_title'] , entry['hi_wikipedia_title'] , entry['wd_id']])\n",
    "    except :\n",
    "        pass"
   ]
  },
  {
   "cell_type": "code",
   "execution_count": 6,
   "metadata": {},
   "outputs": [],
   "source": [
    "def get_score(translated_infobox , actual_infobox):\n",
    "    inst = inexactsearch.InexactSearch()\n",
    "    markings = defaultdict(list)\n",
    "    for key in translated_infobox.keys():\n",
    "        if key in actual_infobox.keys() and key!='image':\n",
    "            val = inst.compare(translated_infobox[key] , actual_infobox[key])\n",
    "            if val > 0.70 :\n",
    "                markings['C'].append(key)\n",
    "            else : markings['S'].append(key)\n",
    "    for key in actual_infobox.keys():\n",
    "        if key not in translated_infobox.keys():\n",
    "            markings['D'].append(key)\n",
    "    if len(markings['C']) + len(markings['S']) != 0:\n",
    "        precision = len(markings['C']) / (len(markings['C']) + len(markings['S']))\n",
    "    else : precision = 0\n",
    "    recall = len(markings['C']) / (len(markings['C']) + len(markings['S']) + len(markings['D']))\n",
    "    print('Precisions :',precision)\n",
    "    print('Recall :',recall)\n",
    "    return precision , recall"
   ]
  },
  {
   "cell_type": "code",
   "execution_count": 7,
   "metadata": {},
   "outputs": [],
   "source": [
    "def parse_infobox(text):\n",
    "    for key in  [\"{{Infobox\",\"{{ज्ञानसन्दूक\",\"{{Geobox\",\"{{ज्ञानसंदूक\"]:\n",
    "        if key in text :\n",
    "            text =  text.split(key)[1]\n",
    "            break\n",
    "    else: \n",
    "        return None\n",
    "    text = text.split(\"\\n\")[1:]\n",
    "    ret = {}\n",
    "    for line in text:\n",
    "        if line[:2] == \"}}\" : break\n",
    "        if line[0] != '|' : continue\n",
    "        line = line[1:].split(\" = \")\n",
    "        if len(line) == 1:\n",
    "            x , y = line[0] , \"\"\n",
    "        else:\n",
    "            x , y = line[0] , line[1]\n",
    "        ret[x] = y\n",
    "    else :\n",
    "        print(\"Parsing Error\")\n",
    "        assert(False)\n",
    "    return ret"
   ]
  },
  {
   "cell_type": "code",
   "execution_count": 15,
   "metadata": {},
   "outputs": [
    {
     "name": "stdout",
     "output_type": "stream",
     "text": [
      "Abu Nuwas अबू नुवास Q5670\n"
     ]
    },
    {
     "name": "stderr",
     "output_type": "stream",
     "text": [
      "hi.wikipedia.org (parse) अबू नुवास\n",
      "hi.wikipedia.org (imageinfo) File:Abu Nuwas.jpg\n",
      "अबू नुवास (hi) data\n",
      "{\n",
      "  image: <list(1)> {'kind': 'parse-image', 'file': 'File:Abu Nuwas...\n",
      "  infobox: <dict(12)> name, image, image_size, caption, birth_name...\n",
      "  pageid: 466584\n",
      "  parsetree: <str(8902)> <root><template><title>स्रोतहीन</title><p...\n",
      "  requests: <list(2)> parse, imageinfo\n",
      "  title: अबू नुवास\n",
      "  wikibase: Q5670\n",
      "  wikidata_url: https://www.wikidata.org/wiki/Q5670\n",
      "  wikitext: <str(6378)> {{स्रोतहीन|date=जून 2015}}{{Infobox writer...\n",
      "}\n",
      "en.wikipedia.org (parse) Abu Nuwas\n",
      "en.wikipedia.org (imageinfo) File:Abu Nuwas.jpg\n",
      "Abu Nuwas (en) data\n",
      "{\n",
      "  image: <list(1)> {'kind': 'parse-image', 'file': 'File:Abu Nuwas...\n",
      "  infobox: <dict(10)> name, image, image_size, caption, birth_name...\n",
      "  iwlinks: <list(3)> https://commons.wikimedia.org/wiki/Category:A...\n",
      "  pageid: 654507\n",
      "  parsetree: <str(36670)> <root><template><title>Use dmy dates</ti...\n",
      "  requests: <list(2)> parse, imageinfo\n",
      "  title: Abu Nuwas\n",
      "  wikibase: Q5670\n",
      "  wikidata_url: https://www.wikidata.org/wiki/Q5670\n",
      "  wikitext: <str(19451)> {{Use dmy dates|date=May 2020}}{{Short de...\n",
      "}\n"
     ]
    },
    {
     "name": "stdout",
     "output_type": "stream",
     "text": [
      "name: अबू नुवास\n",
      "\n"
     ]
    }
   ],
   "source": [
    "final_score = []\n",
    "# 6 for example\n",
    "for en_name , hi_name , qid in wiki_people:\n",
    "    try:\n",
    "        print(en_name , hi_name , qid)\n",
    "        actual_infobox = parse_infobox(translator.get_page(hi_name , language = 'hi').data['wikitext'])\n",
    "        if actual_infobox == None: continue\n",
    "        baseline = baseline_infobox(qid , category='people')\n",
    "        method2 = translator.get_infobox(en_name , test=True)\n",
    "        method1 = method1_infobox(qid,'people')\n",
    "        final_score.append({en_name : [method1 , method2 , baseline , actual_infobox]})\n",
    "        with open('people_eval.jsonl' , 'a+') as f:\n",
    "            f.write(json.dumps(final_score[-1] , ensure_ascii = False))\n",
    "            f.write(\"\\n\")\n",
    "    except Exception as e:\n",
    "        print(e)\n",
    "        print(en_name)\n",
    "print()"
   ]
  },
  {
   "cell_type": "code",
   "execution_count": null,
   "metadata": {},
   "outputs": [],
   "source": [
    "with open(\"final_people.pkl\" , \"wb\") as f:\n",
    "    pkl.dump(final_score , f)"
   ]
  }
 ],
 "metadata": {
  "kernelspec": {
   "display_name": "Python 3",
   "language": "python",
   "name": "python3"
  },
  "language_info": {
   "codemirror_mode": {
    "name": "ipython",
    "version": 3
   },
   "file_extension": ".py",
   "mimetype": "text/x-python",
   "name": "python",
   "nbconvert_exporter": "python",
   "pygments_lexer": "ipython3",
   "version": "3.8.2"
  }
 },
 "nbformat": 4,
 "nbformat_minor": 4
}
